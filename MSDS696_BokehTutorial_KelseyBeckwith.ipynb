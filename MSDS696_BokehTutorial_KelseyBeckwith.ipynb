{
 "cells": [
  {
   "cell_type": "markdown",
   "id": "086532b9",
   "metadata": {},
   "source": [
    "# Learning Bokeh"
   ]
  },
  {
   "cell_type": "code",
   "execution_count": 296,
   "id": "c4f17863",
   "metadata": {},
   "outputs": [
    {
     "name": "stdout",
     "output_type": "stream",
     "text": [
      "Using data directory: /Users/kelsey/.bokeh/data\n",
      "Skipping 'CGM.csv' (checksum match)\n",
      "Skipping 'US_Counties.zip' (checksum match)\n",
      "Skipping 'us_cities.json' (checksum match)\n",
      "Skipping 'unemployment09.csv' (checksum match)\n",
      "Skipping 'AAPL.csv' (checksum match)\n",
      "Skipping 'FB.csv' (checksum match)\n",
      "Skipping 'GOOG.csv' (checksum match)\n",
      "Skipping 'IBM.csv' (checksum match)\n",
      "Skipping 'MSFT.csv' (checksum match)\n",
      "Skipping 'WPP2012_SA_DB03_POPULATION_QUINQUENNIAL.zip' (checksum match)\n",
      "Skipping 'gapminder_fertility.csv' (checksum match)\n",
      "Skipping 'gapminder_population.csv' (checksum match)\n",
      "Skipping 'gapminder_life_expectancy.csv' (checksum match)\n",
      "Skipping 'gapminder_regions.csv' (checksum match)\n",
      "Skipping 'world_cities.zip' (checksum match)\n",
      "Skipping 'airports.json' (checksum match)\n",
      "Skipping 'movies.db.zip' (checksum match)\n",
      "Skipping 'airports.csv' (checksum match)\n",
      "Skipping 'routes.csv' (checksum match)\n",
      "Skipping 'haarcascade_frontalface_default.xml' (checksum match)\n"
     ]
    }
   ],
   "source": [
    "import bokeh.sampledata\n",
    "bokeh.sampledata.download()"
   ]
  },
  {
   "cell_type": "code",
   "execution_count": 297,
   "id": "b7ec043d",
   "metadata": {},
   "outputs": [],
   "source": [
    "from bokeh.plotting import figure, show"
   ]
  },
  {
   "cell_type": "markdown",
   "id": "11a49527",
   "metadata": {},
   "source": [
    "## Creating a Line Chart"
   ]
  },
  {
   "cell_type": "code",
   "execution_count": 298,
   "id": "0f0ea693",
   "metadata": {},
   "outputs": [],
   "source": [
    "# prepare some data\n",
    "x = [1, 2, 3, 4, 5]\n",
    "y = [6, 7, 2, 4, 5]"
   ]
  },
  {
   "cell_type": "code",
   "execution_count": 299,
   "id": "37addea6",
   "metadata": {},
   "outputs": [],
   "source": [
    "# create a new plot with a title and axis labels\n",
    "p = figure(title=\"Simple line example\", x_axis_label='x', y_axis_label='y')"
   ]
  },
  {
   "cell_type": "code",
   "execution_count": 300,
   "id": "2d7351bd",
   "metadata": {},
   "outputs": [
    {
     "data": {
      "text/html": [
       "<div style=\"display: table;\"><div style=\"display: table-row;\"><div style=\"display: table-cell;\"><b title=\"bokeh.models.renderers.GlyphRenderer\">GlyphRenderer</b>(</div><div style=\"display: table-cell;\">id&nbsp;=&nbsp;'77569', <span id=\"77584\" style=\"cursor: pointer;\">&hellip;)</span></div></div><div class=\"77583\" style=\"display: none;\"><div style=\"display: table-cell;\"></div><div style=\"display: table-cell;\">data_source&nbsp;=&nbsp;ColumnDataSource(id='77566', ...),</div></div><div class=\"77583\" style=\"display: none;\"><div style=\"display: table-cell;\"></div><div style=\"display: table-cell;\">glyph&nbsp;=&nbsp;Line(id='77567', ...),</div></div><div class=\"77583\" style=\"display: none;\"><div style=\"display: table-cell;\"></div><div style=\"display: table-cell;\">hover_glyph&nbsp;=&nbsp;None,</div></div><div class=\"77583\" style=\"display: none;\"><div style=\"display: table-cell;\"></div><div style=\"display: table-cell;\">js_event_callbacks&nbsp;=&nbsp;{},</div></div><div class=\"77583\" style=\"display: none;\"><div style=\"display: table-cell;\"></div><div style=\"display: table-cell;\">js_property_callbacks&nbsp;=&nbsp;{},</div></div><div class=\"77583\" style=\"display: none;\"><div style=\"display: table-cell;\"></div><div style=\"display: table-cell;\">level&nbsp;=&nbsp;'glyph',</div></div><div class=\"77583\" style=\"display: none;\"><div style=\"display: table-cell;\"></div><div style=\"display: table-cell;\">muted&nbsp;=&nbsp;False,</div></div><div class=\"77583\" style=\"display: none;\"><div style=\"display: table-cell;\"></div><div style=\"display: table-cell;\">muted_glyph&nbsp;=&nbsp;None,</div></div><div class=\"77583\" style=\"display: none;\"><div style=\"display: table-cell;\"></div><div style=\"display: table-cell;\">name&nbsp;=&nbsp;None,</div></div><div class=\"77583\" style=\"display: none;\"><div style=\"display: table-cell;\"></div><div style=\"display: table-cell;\">nonselection_glyph&nbsp;=&nbsp;Line(id='77568', ...),</div></div><div class=\"77583\" style=\"display: none;\"><div style=\"display: table-cell;\"></div><div style=\"display: table-cell;\">selection_glyph&nbsp;=&nbsp;'auto',</div></div><div class=\"77583\" style=\"display: none;\"><div style=\"display: table-cell;\"></div><div style=\"display: table-cell;\">subscribed_events&nbsp;=&nbsp;[],</div></div><div class=\"77583\" style=\"display: none;\"><div style=\"display: table-cell;\"></div><div style=\"display: table-cell;\">syncable&nbsp;=&nbsp;True,</div></div><div class=\"77583\" style=\"display: none;\"><div style=\"display: table-cell;\"></div><div style=\"display: table-cell;\">tags&nbsp;=&nbsp;[],</div></div><div class=\"77583\" style=\"display: none;\"><div style=\"display: table-cell;\"></div><div style=\"display: table-cell;\">view&nbsp;=&nbsp;CDSView(id='77570', ...),</div></div><div class=\"77583\" style=\"display: none;\"><div style=\"display: table-cell;\"></div><div style=\"display: table-cell;\">visible&nbsp;=&nbsp;True,</div></div><div class=\"77583\" style=\"display: none;\"><div style=\"display: table-cell;\"></div><div style=\"display: table-cell;\">x_range_name&nbsp;=&nbsp;'default',</div></div><div class=\"77583\" style=\"display: none;\"><div style=\"display: table-cell;\"></div><div style=\"display: table-cell;\">y_range_name&nbsp;=&nbsp;'default')</div></div></div>\n",
       "<script>\n",
       "(function() {\n",
       "  var expanded = false;\n",
       "  var ellipsis = document.getElementById(\"77584\");\n",
       "  ellipsis.addEventListener(\"click\", function() {\n",
       "    var rows = document.getElementsByClassName(\"77583\");\n",
       "    for (var i = 0; i < rows.length; i++) {\n",
       "      var el = rows[i];\n",
       "      el.style.display = expanded ? \"none\" : \"table-row\";\n",
       "    }\n",
       "    ellipsis.innerHTML = expanded ? \"&hellip;)\" : \"&lsaquo;&lsaquo;&lsaquo;\";\n",
       "    expanded = !expanded;\n",
       "  });\n",
       "})();\n",
       "</script>\n"
      ],
      "text/plain": [
       "GlyphRenderer(id='77569', ...)"
      ]
     },
     "execution_count": 300,
     "metadata": {},
     "output_type": "execute_result"
    }
   ],
   "source": [
    "# add a line renderer with legend and line thickness to the plot\n",
    "p.line(x, y, legend_label=\"Temp.\", line_width=2)"
   ]
  },
  {
   "cell_type": "code",
   "execution_count": 301,
   "id": "3dd20194",
   "metadata": {},
   "outputs": [
    {
     "data": {
      "text/html": [
       "\n",
       "\n",
       "\n",
       "\n",
       "\n",
       "\n",
       "  <div class=\"bk-root\" id=\"d879243b-4cbb-4138-b257-3efd069ace34\" data-root-id=\"77533\"></div>\n"
      ]
     },
     "metadata": {},
     "output_type": "display_data"
    },
    {
     "data": {
      "application/javascript": [
       "(function(root) {\n",
       "  function embed_document(root) {\n",
       "    \n",
       "  var docs_json = {\"df76f769-51c4-4a2b-a179-ce14456abc42\":{\"defs\":[],\"roots\":{\"references\":[{\"attributes\":{\"background_fill_color\":\"#20262B\",\"below\":[{\"id\":\"77544\"}],\"border_fill_color\":\"#15191C\",\"center\":[{\"id\":\"77547\"},{\"id\":\"77551\"},{\"id\":\"77581\"}],\"left\":[{\"id\":\"77548\"}],\"outline_line_alpha\":0.25,\"outline_line_color\":\"#E0E0E0\",\"renderers\":[{\"id\":\"77569\"}],\"title\":{\"id\":\"77534\"},\"toolbar\":{\"id\":\"77559\"},\"x_range\":{\"id\":\"77536\"},\"x_scale\":{\"id\":\"77540\"},\"y_range\":{\"id\":\"77538\"},\"y_scale\":{\"id\":\"77542\"}},\"id\":\"77533\",\"subtype\":\"Figure\",\"type\":\"Plot\"},{\"attributes\":{},\"id\":\"77552\",\"type\":\"PanTool\"},{\"attributes\":{},\"id\":\"77549\",\"type\":\"BasicTicker\"},{\"attributes\":{\"active_multi\":null,\"tools\":[{\"id\":\"77552\"},{\"id\":\"77553\"},{\"id\":\"77554\"},{\"id\":\"77555\"},{\"id\":\"77556\"},{\"id\":\"77557\"}]},\"id\":\"77559\",\"type\":\"Toolbar\"},{\"attributes\":{},\"id\":\"77557\",\"type\":\"HelpTool\"},{\"attributes\":{},\"id\":\"77538\",\"type\":\"DataRange1d\"},{\"attributes\":{\"source\":{\"id\":\"77566\"}},\"id\":\"77570\",\"type\":\"CDSView\"},{\"attributes\":{\"data_source\":{\"id\":\"77566\"},\"glyph\":{\"id\":\"77567\"},\"hover_glyph\":null,\"muted_glyph\":null,\"nonselection_glyph\":{\"id\":\"77568\"},\"view\":{\"id\":\"77570\"}},\"id\":\"77569\",\"type\":\"GlyphRenderer\"},{\"attributes\":{},\"id\":\"77572\",\"type\":\"BasicTickFormatter\"},{\"attributes\":{},\"id\":\"77577\",\"type\":\"AllLabels\"},{\"attributes\":{},\"id\":\"77556\",\"type\":\"ResetTool\"},{\"attributes\":{},\"id\":\"77540\",\"type\":\"LinearScale\"},{\"attributes\":{},\"id\":\"77575\",\"type\":\"BasicTickFormatter\"},{\"attributes\":{\"axis_label\":\"x\",\"axis_label_standoff\":10,\"axis_label_text_color\":\"#E0E0E0\",\"axis_label_text_font\":\"Helvetica\",\"axis_label_text_font_size\":\"1.25em\",\"axis_label_text_font_style\":\"normal\",\"axis_line_alpha\":0,\"axis_line_color\":\"#E0E0E0\",\"formatter\":{\"id\":\"77575\"},\"major_label_policy\":{\"id\":\"77577\"},\"major_label_text_color\":\"#E0E0E0\",\"major_label_text_font\":\"Helvetica\",\"major_label_text_font_size\":\"1.025em\",\"major_tick_line_alpha\":0,\"major_tick_line_color\":\"#E0E0E0\",\"minor_tick_line_alpha\":0,\"minor_tick_line_color\":\"#E0E0E0\",\"ticker\":{\"id\":\"77545\"}},\"id\":\"77544\",\"type\":\"LinearAxis\"},{\"attributes\":{\"data\":{\"x\":[1,2,3,4,5],\"y\":[6,7,2,4,5]},\"selected\":{\"id\":\"77579\"},\"selection_policy\":{\"id\":\"77578\"}},\"id\":\"77566\",\"type\":\"ColumnDataSource\"},{\"attributes\":{\"line_color\":\"#1f77b4\",\"line_width\":2,\"x\":{\"field\":\"x\"},\"y\":{\"field\":\"y\"}},\"id\":\"77567\",\"type\":\"Line\"},{\"attributes\":{},\"id\":\"77578\",\"type\":\"UnionRenderers\"},{\"attributes\":{\"axis\":{\"id\":\"77544\"},\"grid_line_alpha\":0.25,\"grid_line_color\":\"#E0E0E0\",\"ticker\":null},\"id\":\"77547\",\"type\":\"Grid\"},{\"attributes\":{\"text\":\"Simple line example\",\"text_color\":\"#E0E0E0\",\"text_font\":\"Helvetica\",\"text_font_size\":\"1.15em\"},\"id\":\"77534\",\"type\":\"Title\"},{\"attributes\":{},\"id\":\"77574\",\"type\":\"AllLabels\"},{\"attributes\":{\"background_fill_alpha\":0.25,\"background_fill_color\":\"#20262B\",\"border_line_alpha\":0,\"glyph_width\":15,\"items\":[{\"id\":\"77582\"}],\"label_standoff\":8,\"label_text_color\":\"#E0E0E0\",\"label_text_font\":\"Helvetica\",\"label_text_font_size\":\"1.025em\",\"spacing\":8},\"id\":\"77581\",\"type\":\"Legend\"},{\"attributes\":{},\"id\":\"77536\",\"type\":\"DataRange1d\"},{\"attributes\":{},\"id\":\"77545\",\"type\":\"BasicTicker\"},{\"attributes\":{\"overlay\":{\"id\":\"77558\"}},\"id\":\"77554\",\"type\":\"BoxZoomTool\"},{\"attributes\":{},\"id\":\"77542\",\"type\":\"LinearScale\"},{\"attributes\":{\"axis_label\":\"y\",\"axis_label_standoff\":10,\"axis_label_text_color\":\"#E0E0E0\",\"axis_label_text_font\":\"Helvetica\",\"axis_label_text_font_size\":\"1.25em\",\"axis_label_text_font_style\":\"normal\",\"axis_line_alpha\":0,\"axis_line_color\":\"#E0E0E0\",\"formatter\":{\"id\":\"77572\"},\"major_label_policy\":{\"id\":\"77574\"},\"major_label_text_color\":\"#E0E0E0\",\"major_label_text_font\":\"Helvetica\",\"major_label_text_font_size\":\"1.025em\",\"major_tick_line_alpha\":0,\"major_tick_line_color\":\"#E0E0E0\",\"minor_tick_line_alpha\":0,\"minor_tick_line_color\":\"#E0E0E0\",\"ticker\":{\"id\":\"77549\"}},\"id\":\"77548\",\"type\":\"LinearAxis\"},{\"attributes\":{},\"id\":\"77555\",\"type\":\"SaveTool\"},{\"attributes\":{},\"id\":\"77553\",\"type\":\"WheelZoomTool\"},{\"attributes\":{\"bottom_units\":\"screen\",\"fill_alpha\":0.5,\"fill_color\":\"lightgrey\",\"left_units\":\"screen\",\"level\":\"overlay\",\"line_alpha\":1.0,\"line_color\":\"black\",\"line_dash\":[4,4],\"line_width\":2,\"right_units\":\"screen\",\"syncable\":false,\"top_units\":\"screen\"},\"id\":\"77558\",\"type\":\"BoxAnnotation\"},{\"attributes\":{\"label\":{\"value\":\"Temp.\"},\"renderers\":[{\"id\":\"77569\"}]},\"id\":\"77582\",\"type\":\"LegendItem\"},{\"attributes\":{\"line_alpha\":0.1,\"line_color\":\"#1f77b4\",\"line_width\":2,\"x\":{\"field\":\"x\"},\"y\":{\"field\":\"y\"}},\"id\":\"77568\",\"type\":\"Line\"},{\"attributes\":{\"axis\":{\"id\":\"77548\"},\"dimension\":1,\"grid_line_alpha\":0.25,\"grid_line_color\":\"#E0E0E0\",\"ticker\":null},\"id\":\"77551\",\"type\":\"Grid\"},{\"attributes\":{},\"id\":\"77579\",\"type\":\"Selection\"}],\"root_ids\":[\"77533\"]},\"title\":\"Bokeh Application\",\"version\":\"2.3.2\"}};\n",
       "  var render_items = [{\"docid\":\"df76f769-51c4-4a2b-a179-ce14456abc42\",\"root_ids\":[\"77533\"],\"roots\":{\"77533\":\"d879243b-4cbb-4138-b257-3efd069ace34\"}}];\n",
       "  root.Bokeh.embed.embed_items_notebook(docs_json, render_items);\n",
       "\n",
       "  }\n",
       "  if (root.Bokeh !== undefined) {\n",
       "    embed_document(root);\n",
       "  } else {\n",
       "    var attempts = 0;\n",
       "    var timer = setInterval(function(root) {\n",
       "      if (root.Bokeh !== undefined) {\n",
       "        clearInterval(timer);\n",
       "        embed_document(root);\n",
       "      } else {\n",
       "        attempts++;\n",
       "        if (attempts > 100) {\n",
       "          clearInterval(timer);\n",
       "          console.log(\"Bokeh: ERROR: Unable to run BokehJS code because BokehJS library is missing\");\n",
       "        }\n",
       "      }\n",
       "    }, 10, root)\n",
       "  }\n",
       "})(window);"
      ],
      "application/vnd.bokehjs_exec.v0+json": ""
     },
     "metadata": {
      "application/vnd.bokehjs_exec.v0+json": {
       "id": "77533"
      }
     },
     "output_type": "display_data"
    }
   ],
   "source": [
    "# show the results\n",
    "show(p)"
   ]
  },
  {
   "cell_type": "markdown",
   "id": "db1fd718",
   "metadata": {},
   "source": [
    "## Combining multiple graphs"
   ]
  },
  {
   "cell_type": "code",
   "execution_count": 302,
   "id": "bd8241dc",
   "metadata": {},
   "outputs": [],
   "source": [
    "# prepare some data\n",
    "x = [1, 2, 3, 4, 5]\n",
    "y1 = [6, 7, 2, 4, 5]\n",
    "y2 = [2, 3, 4, 5, 6]\n",
    "y3 = [4, 5, 5, 7, 2]"
   ]
  },
  {
   "cell_type": "code",
   "execution_count": 303,
   "id": "e99e732d",
   "metadata": {},
   "outputs": [],
   "source": [
    "# create a new plot with a title and axis labels\n",
    "p = figure(title=\"Multiple line example\", x_axis_label='x', y_axis_label='y')"
   ]
  },
  {
   "cell_type": "code",
   "execution_count": 304,
   "id": "93dbc018",
   "metadata": {},
   "outputs": [
    {
     "data": {
      "text/html": [
       "<div style=\"display: table;\"><div style=\"display: table-row;\"><div style=\"display: table-cell;\"><b title=\"bokeh.models.renderers.GlyphRenderer\">GlyphRenderer</b>(</div><div style=\"display: table-cell;\">id&nbsp;=&nbsp;'78830', <span id=\"78848\" style=\"cursor: pointer;\">&hellip;)</span></div></div><div class=\"78847\" style=\"display: none;\"><div style=\"display: table-cell;\"></div><div style=\"display: table-cell;\">data_source&nbsp;=&nbsp;ColumnDataSource(id='78827', ...),</div></div><div class=\"78847\" style=\"display: none;\"><div style=\"display: table-cell;\"></div><div style=\"display: table-cell;\">glyph&nbsp;=&nbsp;Circle(id='78828', ...),</div></div><div class=\"78847\" style=\"display: none;\"><div style=\"display: table-cell;\"></div><div style=\"display: table-cell;\">hover_glyph&nbsp;=&nbsp;None,</div></div><div class=\"78847\" style=\"display: none;\"><div style=\"display: table-cell;\"></div><div style=\"display: table-cell;\">js_event_callbacks&nbsp;=&nbsp;{},</div></div><div class=\"78847\" style=\"display: none;\"><div style=\"display: table-cell;\"></div><div style=\"display: table-cell;\">js_property_callbacks&nbsp;=&nbsp;{},</div></div><div class=\"78847\" style=\"display: none;\"><div style=\"display: table-cell;\"></div><div style=\"display: table-cell;\">level&nbsp;=&nbsp;'glyph',</div></div><div class=\"78847\" style=\"display: none;\"><div style=\"display: table-cell;\"></div><div style=\"display: table-cell;\">muted&nbsp;=&nbsp;False,</div></div><div class=\"78847\" style=\"display: none;\"><div style=\"display: table-cell;\"></div><div style=\"display: table-cell;\">muted_glyph&nbsp;=&nbsp;None,</div></div><div class=\"78847\" style=\"display: none;\"><div style=\"display: table-cell;\"></div><div style=\"display: table-cell;\">name&nbsp;=&nbsp;None,</div></div><div class=\"78847\" style=\"display: none;\"><div style=\"display: table-cell;\"></div><div style=\"display: table-cell;\">nonselection_glyph&nbsp;=&nbsp;Circle(id='78829', ...),</div></div><div class=\"78847\" style=\"display: none;\"><div style=\"display: table-cell;\"></div><div style=\"display: table-cell;\">selection_glyph&nbsp;=&nbsp;'auto',</div></div><div class=\"78847\" style=\"display: none;\"><div style=\"display: table-cell;\"></div><div style=\"display: table-cell;\">subscribed_events&nbsp;=&nbsp;[],</div></div><div class=\"78847\" style=\"display: none;\"><div style=\"display: table-cell;\"></div><div style=\"display: table-cell;\">syncable&nbsp;=&nbsp;True,</div></div><div class=\"78847\" style=\"display: none;\"><div style=\"display: table-cell;\"></div><div style=\"display: table-cell;\">tags&nbsp;=&nbsp;[],</div></div><div class=\"78847\" style=\"display: none;\"><div style=\"display: table-cell;\"></div><div style=\"display: table-cell;\">view&nbsp;=&nbsp;CDSView(id='78831', ...),</div></div><div class=\"78847\" style=\"display: none;\"><div style=\"display: table-cell;\"></div><div style=\"display: table-cell;\">visible&nbsp;=&nbsp;True,</div></div><div class=\"78847\" style=\"display: none;\"><div style=\"display: table-cell;\"></div><div style=\"display: table-cell;\">x_range_name&nbsp;=&nbsp;'default',</div></div><div class=\"78847\" style=\"display: none;\"><div style=\"display: table-cell;\"></div><div style=\"display: table-cell;\">y_range_name&nbsp;=&nbsp;'default')</div></div></div>\n",
       "<script>\n",
       "(function() {\n",
       "  var expanded = false;\n",
       "  var ellipsis = document.getElementById(\"78848\");\n",
       "  ellipsis.addEventListener(\"click\", function() {\n",
       "    var rows = document.getElementsByClassName(\"78847\");\n",
       "    for (var i = 0; i < rows.length; i++) {\n",
       "      var el = rows[i];\n",
       "      el.style.display = expanded ? \"none\" : \"table-row\";\n",
       "    }\n",
       "    ellipsis.innerHTML = expanded ? \"&hellip;)\" : \"&lsaquo;&lsaquo;&lsaquo;\";\n",
       "    expanded = !expanded;\n",
       "  });\n",
       "})();\n",
       "</script>\n"
      ],
      "text/plain": [
       "GlyphRenderer(id='78830', ...)"
      ]
     },
     "execution_count": 304,
     "metadata": {},
     "output_type": "execute_result"
    }
   ],
   "source": [
    "# add multiple renderers\n",
    "p.line(x, y1, legend_label=\"Temp.\", color=\"blue\", line_width=2)\n",
    "p.vbar(x=x, top=y2, legend_label=\"Rate\", width=0.5, bottom=0, color=\"red\")\n",
    "p.circle(x, y3, legend_label=\"Objects\", color=\"yellow\", size=12)"
   ]
  },
  {
   "cell_type": "code",
   "execution_count": 305,
   "id": "ff85a92e",
   "metadata": {},
   "outputs": [
    {
     "data": {
      "text/html": [
       "\n",
       "\n",
       "\n",
       "\n",
       "\n",
       "\n",
       "  <div class=\"bk-root\" id=\"79baaa2f-666b-4771-972b-13f6b578db03\" data-root-id=\"78759\"></div>\n"
      ]
     },
     "metadata": {},
     "output_type": "display_data"
    },
    {
     "data": {
      "application/javascript": [
       "(function(root) {\n",
       "  function embed_document(root) {\n",
       "    \n",
       "  var docs_json = {\"55ab9bfb-95a4-4a09-9547-2c4e19d00c60\":{\"defs\":[],\"roots\":{\"references\":[{\"attributes\":{\"background_fill_color\":\"#20262B\",\"below\":[{\"id\":\"78770\"}],\"border_fill_color\":\"#15191C\",\"center\":[{\"id\":\"78773\"},{\"id\":\"78777\"},{\"id\":\"78807\"}],\"left\":[{\"id\":\"78774\"}],\"outline_line_alpha\":0.25,\"outline_line_color\":\"#E0E0E0\",\"renderers\":[{\"id\":\"78795\"},{\"id\":\"78812\"},{\"id\":\"78830\"}],\"title\":{\"id\":\"78760\"},\"toolbar\":{\"id\":\"78785\"},\"x_range\":{\"id\":\"78762\"},\"x_scale\":{\"id\":\"78766\"},\"y_range\":{\"id\":\"78764\"},\"y_scale\":{\"id\":\"78768\"}},\"id\":\"78759\",\"subtype\":\"Figure\",\"type\":\"Plot\"},{\"attributes\":{\"overlay\":{\"id\":\"78784\"}},\"id\":\"78780\",\"type\":\"BoxZoomTool\"},{\"attributes\":{},\"id\":\"78781\",\"type\":\"SaveTool\"},{\"attributes\":{},\"id\":\"78782\",\"type\":\"ResetTool\"},{\"attributes\":{\"background_fill_alpha\":0.25,\"background_fill_color\":\"#20262B\",\"border_line_alpha\":0,\"glyph_width\":15,\"items\":[{\"id\":\"78808\"},{\"id\":\"78826\"},{\"id\":\"78846\"}],\"label_standoff\":8,\"label_text_color\":\"#E0E0E0\",\"label_text_font\":\"Helvetica\",\"label_text_font_size\":\"1.025em\",\"spacing\":8},\"id\":\"78807\",\"type\":\"Legend\"},{\"attributes\":{\"data_source\":{\"id\":\"78792\"},\"glyph\":{\"id\":\"78793\"},\"hover_glyph\":null,\"muted_glyph\":null,\"nonselection_glyph\":{\"id\":\"78794\"},\"view\":{\"id\":\"78796\"}},\"id\":\"78795\",\"type\":\"GlyphRenderer\"},{\"attributes\":{},\"id\":\"78766\",\"type\":\"LinearScale\"},{\"attributes\":{\"data\":{\"x\":[1,2,3,4,5],\"y\":[6,7,2,4,5]},\"selected\":{\"id\":\"78805\"},\"selection_policy\":{\"id\":\"78804\"}},\"id\":\"78792\",\"type\":\"ColumnDataSource\"},{\"attributes\":{\"line_color\":\"blue\",\"line_width\":2,\"x\":{\"field\":\"x\"},\"y\":{\"field\":\"y\"}},\"id\":\"78793\",\"type\":\"Line\"},{\"attributes\":{\"label\":{\"value\":\"Temp.\"},\"renderers\":[{\"id\":\"78795\"}]},\"id\":\"78808\",\"type\":\"LegendItem\"},{\"attributes\":{},\"id\":\"78824\",\"type\":\"Selection\"},{\"attributes\":{\"source\":{\"id\":\"78792\"}},\"id\":\"78796\",\"type\":\"CDSView\"},{\"attributes\":{},\"id\":\"78798\",\"type\":\"BasicTickFormatter\"},{\"attributes\":{\"bottom_units\":\"screen\",\"fill_alpha\":0.5,\"fill_color\":\"lightgrey\",\"left_units\":\"screen\",\"level\":\"overlay\",\"line_alpha\":1.0,\"line_color\":\"black\",\"line_dash\":[4,4],\"line_width\":2,\"right_units\":\"screen\",\"syncable\":false,\"top_units\":\"screen\"},\"id\":\"78784\",\"type\":\"BoxAnnotation\"},{\"attributes\":{\"fill_color\":{\"value\":\"yellow\"},\"line_color\":{\"value\":\"yellow\"},\"size\":{\"value\":12},\"x\":{\"field\":\"x\"},\"y\":{\"field\":\"y\"}},\"id\":\"78828\",\"type\":\"Circle\"},{\"attributes\":{},\"id\":\"78803\",\"type\":\"AllLabels\"},{\"attributes\":{\"line_alpha\":0.1,\"line_color\":\"blue\",\"line_width\":2,\"x\":{\"field\":\"x\"},\"y\":{\"field\":\"y\"}},\"id\":\"78794\",\"type\":\"Line\"},{\"attributes\":{\"label\":{\"value\":\"Rate\"},\"renderers\":[{\"id\":\"78812\"}]},\"id\":\"78826\",\"type\":\"LegendItem\"},{\"attributes\":{\"fill_alpha\":{\"value\":0.1},\"fill_color\":{\"value\":\"yellow\"},\"line_alpha\":{\"value\":0.1},\"line_color\":{\"value\":\"yellow\"},\"size\":{\"value\":12},\"x\":{\"field\":\"x\"},\"y\":{\"field\":\"y\"}},\"id\":\"78829\",\"type\":\"Circle\"},{\"attributes\":{},\"id\":\"78801\",\"type\":\"BasicTickFormatter\"},{\"attributes\":{},\"id\":\"78823\",\"type\":\"UnionRenderers\"},{\"attributes\":{\"label\":{\"value\":\"Objects\"},\"renderers\":[{\"id\":\"78830\"}]},\"id\":\"78846\",\"type\":\"LegendItem\"},{\"attributes\":{\"text\":\"Multiple line example\",\"text_color\":\"#E0E0E0\",\"text_font\":\"Helvetica\",\"text_font_size\":\"1.15em\"},\"id\":\"78760\",\"type\":\"Title\"},{\"attributes\":{},\"id\":\"78843\",\"type\":\"UnionRenderers\"},{\"attributes\":{},\"id\":\"78762\",\"type\":\"DataRange1d\"},{\"attributes\":{\"active_multi\":null,\"tools\":[{\"id\":\"78778\"},{\"id\":\"78779\"},{\"id\":\"78780\"},{\"id\":\"78781\"},{\"id\":\"78782\"},{\"id\":\"78783\"}]},\"id\":\"78785\",\"type\":\"Toolbar\"},{\"attributes\":{\"fill_color\":{\"value\":\"red\"},\"line_color\":{\"value\":\"red\"},\"top\":{\"field\":\"top\"},\"width\":{\"value\":0.5},\"x\":{\"field\":\"x\"}},\"id\":\"78810\",\"type\":\"VBar\"},{\"attributes\":{},\"id\":\"78804\",\"type\":\"UnionRenderers\"},{\"attributes\":{\"data_source\":{\"id\":\"78809\"},\"glyph\":{\"id\":\"78810\"},\"hover_glyph\":null,\"muted_glyph\":null,\"nonselection_glyph\":{\"id\":\"78811\"},\"view\":{\"id\":\"78813\"}},\"id\":\"78812\",\"type\":\"GlyphRenderer\"},{\"attributes\":{},\"id\":\"78764\",\"type\":\"DataRange1d\"},{\"attributes\":{\"fill_alpha\":{\"value\":0.1},\"fill_color\":{\"value\":\"red\"},\"line_alpha\":{\"value\":0.1},\"line_color\":{\"value\":\"red\"},\"top\":{\"field\":\"top\"},\"width\":{\"value\":0.5},\"x\":{\"field\":\"x\"}},\"id\":\"78811\",\"type\":\"VBar\"},{\"attributes\":{\"data\":{\"x\":[1,2,3,4,5],\"y\":[4,5,5,7,2]},\"selected\":{\"id\":\"78844\"},\"selection_policy\":{\"id\":\"78843\"}},\"id\":\"78827\",\"type\":\"ColumnDataSource\"},{\"attributes\":{\"data\":{\"top\":[2,3,4,5,6],\"x\":[1,2,3,4,5]},\"selected\":{\"id\":\"78824\"},\"selection_policy\":{\"id\":\"78823\"}},\"id\":\"78809\",\"type\":\"ColumnDataSource\"},{\"attributes\":{},\"id\":\"78844\",\"type\":\"Selection\"},{\"attributes\":{},\"id\":\"78768\",\"type\":\"LinearScale\"},{\"attributes\":{\"source\":{\"id\":\"78809\"}},\"id\":\"78813\",\"type\":\"CDSView\"},{\"attributes\":{\"axis_label\":\"x\",\"axis_label_standoff\":10,\"axis_label_text_color\":\"#E0E0E0\",\"axis_label_text_font\":\"Helvetica\",\"axis_label_text_font_size\":\"1.25em\",\"axis_label_text_font_style\":\"normal\",\"axis_line_alpha\":0,\"axis_line_color\":\"#E0E0E0\",\"formatter\":{\"id\":\"78801\"},\"major_label_policy\":{\"id\":\"78803\"},\"major_label_text_color\":\"#E0E0E0\",\"major_label_text_font\":\"Helvetica\",\"major_label_text_font_size\":\"1.025em\",\"major_tick_line_alpha\":0,\"major_tick_line_color\":\"#E0E0E0\",\"minor_tick_line_alpha\":0,\"minor_tick_line_color\":\"#E0E0E0\",\"ticker\":{\"id\":\"78771\"}},\"id\":\"78770\",\"type\":\"LinearAxis\"},{\"attributes\":{},\"id\":\"78800\",\"type\":\"AllLabels\"},{\"attributes\":{},\"id\":\"78771\",\"type\":\"BasicTicker\"},{\"attributes\":{\"axis\":{\"id\":\"78770\"},\"grid_line_alpha\":0.25,\"grid_line_color\":\"#E0E0E0\",\"ticker\":null},\"id\":\"78773\",\"type\":\"Grid\"},{\"attributes\":{},\"id\":\"78805\",\"type\":\"Selection\"},{\"attributes\":{},\"id\":\"78779\",\"type\":\"WheelZoomTool\"},{\"attributes\":{\"axis_label\":\"y\",\"axis_label_standoff\":10,\"axis_label_text_color\":\"#E0E0E0\",\"axis_label_text_font\":\"Helvetica\",\"axis_label_text_font_size\":\"1.25em\",\"axis_label_text_font_style\":\"normal\",\"axis_line_alpha\":0,\"axis_line_color\":\"#E0E0E0\",\"formatter\":{\"id\":\"78798\"},\"major_label_policy\":{\"id\":\"78800\"},\"major_label_text_color\":\"#E0E0E0\",\"major_label_text_font\":\"Helvetica\",\"major_label_text_font_size\":\"1.025em\",\"major_tick_line_alpha\":0,\"major_tick_line_color\":\"#E0E0E0\",\"minor_tick_line_alpha\":0,\"minor_tick_line_color\":\"#E0E0E0\",\"ticker\":{\"id\":\"78775\"}},\"id\":\"78774\",\"type\":\"LinearAxis\"},{\"attributes\":{\"data_source\":{\"id\":\"78827\"},\"glyph\":{\"id\":\"78828\"},\"hover_glyph\":null,\"muted_glyph\":null,\"nonselection_glyph\":{\"id\":\"78829\"},\"view\":{\"id\":\"78831\"}},\"id\":\"78830\",\"type\":\"GlyphRenderer\"},{\"attributes\":{\"axis\":{\"id\":\"78774\"},\"dimension\":1,\"grid_line_alpha\":0.25,\"grid_line_color\":\"#E0E0E0\",\"ticker\":null},\"id\":\"78777\",\"type\":\"Grid\"},{\"attributes\":{},\"id\":\"78775\",\"type\":\"BasicTicker\"},{\"attributes\":{\"source\":{\"id\":\"78827\"}},\"id\":\"78831\",\"type\":\"CDSView\"},{\"attributes\":{},\"id\":\"78783\",\"type\":\"HelpTool\"},{\"attributes\":{},\"id\":\"78778\",\"type\":\"PanTool\"}],\"root_ids\":[\"78759\"]},\"title\":\"Bokeh Application\",\"version\":\"2.3.2\"}};\n",
       "  var render_items = [{\"docid\":\"55ab9bfb-95a4-4a09-9547-2c4e19d00c60\",\"root_ids\":[\"78759\"],\"roots\":{\"78759\":\"79baaa2f-666b-4771-972b-13f6b578db03\"}}];\n",
       "  root.Bokeh.embed.embed_items_notebook(docs_json, render_items);\n",
       "\n",
       "  }\n",
       "  if (root.Bokeh !== undefined) {\n",
       "    embed_document(root);\n",
       "  } else {\n",
       "    var attempts = 0;\n",
       "    var timer = setInterval(function(root) {\n",
       "      if (root.Bokeh !== undefined) {\n",
       "        clearInterval(timer);\n",
       "        embed_document(root);\n",
       "      } else {\n",
       "        attempts++;\n",
       "        if (attempts > 100) {\n",
       "          clearInterval(timer);\n",
       "          console.log(\"Bokeh: ERROR: Unable to run BokehJS code because BokehJS library is missing\");\n",
       "        }\n",
       "      }\n",
       "    }, 10, root)\n",
       "  }\n",
       "})(window);"
      ],
      "application/vnd.bokehjs_exec.v0+json": ""
     },
     "metadata": {
      "application/vnd.bokehjs_exec.v0+json": {
       "id": "78759"
      }
     },
     "output_type": "display_data"
    }
   ],
   "source": [
    "show(p)"
   ]
  },
  {
   "cell_type": "code",
   "execution_count": 306,
   "id": "46e871e9",
   "metadata": {},
   "outputs": [
    {
     "data": {
      "text/plain": [
       "'/Users/kelsey/custom_filename.html'"
      ]
     },
     "execution_count": 306,
     "metadata": {},
     "output_type": "execute_result"
    }
   ],
   "source": [
    "save(p)"
   ]
  },
  {
   "cell_type": "markdown",
   "id": "4d1b6abd",
   "metadata": {},
   "source": [
    "## Defining properties of new glyphs"
   ]
  },
  {
   "cell_type": "code",
   "execution_count": 307,
   "id": "fad02ed1",
   "metadata": {},
   "outputs": [
    {
     "data": {
      "text/html": [
       "\n",
       "\n",
       "\n",
       "\n",
       "\n",
       "\n",
       "  <div class=\"bk-root\" id=\"5858586a-d16f-4d04-955d-19bd965d1964\" data-root-id=\"80256\"></div>\n"
      ]
     },
     "metadata": {},
     "output_type": "display_data"
    },
    {
     "data": {
      "application/javascript": [
       "(function(root) {\n",
       "  function embed_document(root) {\n",
       "    \n",
       "  var docs_json = {\"8c11cb8d-6910-455c-a82f-87445ea9dc95\":{\"defs\":[],\"roots\":{\"references\":[{\"attributes\":{\"background_fill_color\":\"#20262B\",\"below\":[{\"id\":\"80267\"}],\"border_fill_color\":\"#15191C\",\"center\":[{\"id\":\"80270\"},{\"id\":\"80274\"},{\"id\":\"80304\"}],\"left\":[{\"id\":\"80271\"}],\"outline_line_alpha\":0.25,\"outline_line_color\":\"#E0E0E0\",\"renderers\":[{\"id\":\"80292\"}],\"title\":{\"id\":\"80257\"},\"toolbar\":{\"id\":\"80282\"},\"x_range\":{\"id\":\"80259\"},\"x_scale\":{\"id\":\"80263\"},\"y_range\":{\"id\":\"80261\"},\"y_scale\":{\"id\":\"80265\"}},\"id\":\"80256\",\"subtype\":\"Figure\",\"type\":\"Plot\"},{\"attributes\":{},\"id\":\"80297\",\"type\":\"AllLabels\"},{\"attributes\":{},\"id\":\"80278\",\"type\":\"SaveTool\"},{\"attributes\":{},\"id\":\"80301\",\"type\":\"UnionRenderers\"},{\"attributes\":{},\"id\":\"80302\",\"type\":\"Selection\"},{\"attributes\":{\"bottom_units\":\"screen\",\"fill_alpha\":0.5,\"fill_color\":\"lightgrey\",\"left_units\":\"screen\",\"level\":\"overlay\",\"line_alpha\":1.0,\"line_color\":\"black\",\"line_dash\":[4,4],\"line_width\":2,\"right_units\":\"screen\",\"syncable\":false,\"top_units\":\"screen\"},\"id\":\"80281\",\"type\":\"BoxAnnotation\"},{\"attributes\":{\"axis\":{\"id\":\"80271\"},\"dimension\":1,\"grid_line_alpha\":0.25,\"grid_line_color\":\"#E0E0E0\",\"ticker\":null},\"id\":\"80274\",\"type\":\"Grid\"},{\"attributes\":{},\"id\":\"80272\",\"type\":\"BasicTicker\"},{\"attributes\":{},\"id\":\"80276\",\"type\":\"WheelZoomTool\"},{\"attributes\":{\"background_fill_alpha\":0.25,\"background_fill_color\":\"#20262B\",\"border_line_alpha\":0,\"glyph_width\":15,\"items\":[{\"id\":\"80305\"}],\"label_standoff\":8,\"label_text_color\":\"#E0E0E0\",\"label_text_font\":\"Helvetica\",\"label_text_font_size\":\"1.025em\",\"spacing\":8},\"id\":\"80304\",\"type\":\"Legend\"},{\"attributes\":{\"fill_alpha\":{\"value\":0.1},\"fill_color\":{\"value\":\"red\"},\"line_alpha\":{\"value\":0.1},\"line_color\":{\"value\":\"blue\"},\"size\":{\"value\":80},\"x\":{\"field\":\"x\"},\"y\":{\"field\":\"y\"}},\"id\":\"80291\",\"type\":\"Circle\"},{\"attributes\":{\"overlay\":{\"id\":\"80281\"}},\"id\":\"80277\",\"type\":\"BoxZoomTool\"},{\"attributes\":{\"axis_label\":\"y\",\"axis_label_standoff\":10,\"axis_label_text_color\":\"#E0E0E0\",\"axis_label_text_font\":\"Helvetica\",\"axis_label_text_font_size\":\"1.25em\",\"axis_label_text_font_style\":\"normal\",\"axis_line_alpha\":0,\"axis_line_color\":\"#E0E0E0\",\"formatter\":{\"id\":\"80295\"},\"major_label_policy\":{\"id\":\"80297\"},\"major_label_text_color\":\"#E0E0E0\",\"major_label_text_font\":\"Helvetica\",\"major_label_text_font_size\":\"1.025em\",\"major_tick_line_alpha\":0,\"major_tick_line_color\":\"#E0E0E0\",\"minor_tick_line_alpha\":0,\"minor_tick_line_color\":\"#E0E0E0\",\"ticker\":{\"id\":\"80272\"}},\"id\":\"80271\",\"type\":\"LinearAxis\"},{\"attributes\":{\"data_source\":{\"id\":\"80289\"},\"glyph\":{\"id\":\"80290\"},\"hover_glyph\":null,\"muted_glyph\":null,\"nonselection_glyph\":{\"id\":\"80291\"},\"view\":{\"id\":\"80293\"}},\"id\":\"80292\",\"type\":\"GlyphRenderer\"},{\"attributes\":{\"axis\":{\"id\":\"80267\"},\"grid_line_alpha\":0.25,\"grid_line_color\":\"#E0E0E0\",\"ticker\":null},\"id\":\"80270\",\"type\":\"Grid\"},{\"attributes\":{\"source\":{\"id\":\"80289\"}},\"id\":\"80293\",\"type\":\"CDSView\"},{\"attributes\":{\"active_multi\":null,\"tools\":[{\"id\":\"80275\"},{\"id\":\"80276\"},{\"id\":\"80277\"},{\"id\":\"80278\"},{\"id\":\"80279\"},{\"id\":\"80280\"}]},\"id\":\"80282\",\"type\":\"Toolbar\"},{\"attributes\":{},\"id\":\"80300\",\"type\":\"AllLabels\"},{\"attributes\":{\"label\":{\"value\":\"Objects\"},\"renderers\":[{\"id\":\"80292\"}]},\"id\":\"80305\",\"type\":\"LegendItem\"},{\"attributes\":{},\"id\":\"80279\",\"type\":\"ResetTool\"},{\"attributes\":{},\"id\":\"80261\",\"type\":\"DataRange1d\"},{\"attributes\":{},\"id\":\"80263\",\"type\":\"LinearScale\"},{\"attributes\":{},\"id\":\"80298\",\"type\":\"BasicTickFormatter\"},{\"attributes\":{\"fill_alpha\":{\"value\":0.5},\"fill_color\":{\"value\":\"red\"},\"line_color\":{\"value\":\"blue\"},\"size\":{\"value\":80},\"x\":{\"field\":\"x\"},\"y\":{\"field\":\"y\"}},\"id\":\"80290\",\"type\":\"Circle\"},{\"attributes\":{},\"id\":\"80268\",\"type\":\"BasicTicker\"},{\"attributes\":{},\"id\":\"80280\",\"type\":\"HelpTool\"},{\"attributes\":{\"data\":{\"x\":[1,2,3,4,5],\"y\":[4,5,5,7,2]},\"selected\":{\"id\":\"80302\"},\"selection_policy\":{\"id\":\"80301\"}},\"id\":\"80289\",\"type\":\"ColumnDataSource\"},{\"attributes\":{\"text\":\"Glyphs properties example\",\"text_color\":\"#E0E0E0\",\"text_font\":\"Helvetica\",\"text_font_size\":\"1.15em\"},\"id\":\"80257\",\"type\":\"Title\"},{\"attributes\":{},\"id\":\"80259\",\"type\":\"DataRange1d\"},{\"attributes\":{},\"id\":\"80295\",\"type\":\"BasicTickFormatter\"},{\"attributes\":{},\"id\":\"80275\",\"type\":\"PanTool\"},{\"attributes\":{},\"id\":\"80265\",\"type\":\"LinearScale\"},{\"attributes\":{\"axis_label\":\"x\",\"axis_label_standoff\":10,\"axis_label_text_color\":\"#E0E0E0\",\"axis_label_text_font\":\"Helvetica\",\"axis_label_text_font_size\":\"1.25em\",\"axis_label_text_font_style\":\"normal\",\"axis_line_alpha\":0,\"axis_line_color\":\"#E0E0E0\",\"formatter\":{\"id\":\"80298\"},\"major_label_policy\":{\"id\":\"80300\"},\"major_label_text_color\":\"#E0E0E0\",\"major_label_text_font\":\"Helvetica\",\"major_label_text_font_size\":\"1.025em\",\"major_tick_line_alpha\":0,\"major_tick_line_color\":\"#E0E0E0\",\"minor_tick_line_alpha\":0,\"minor_tick_line_color\":\"#E0E0E0\",\"ticker\":{\"id\":\"80268\"}},\"id\":\"80267\",\"type\":\"LinearAxis\"}],\"root_ids\":[\"80256\"]},\"title\":\"Bokeh Application\",\"version\":\"2.3.2\"}};\n",
       "  var render_items = [{\"docid\":\"8c11cb8d-6910-455c-a82f-87445ea9dc95\",\"root_ids\":[\"80256\"],\"roots\":{\"80256\":\"5858586a-d16f-4d04-955d-19bd965d1964\"}}];\n",
       "  root.Bokeh.embed.embed_items_notebook(docs_json, render_items);\n",
       "\n",
       "  }\n",
       "  if (root.Bokeh !== undefined) {\n",
       "    embed_document(root);\n",
       "  } else {\n",
       "    var attempts = 0;\n",
       "    var timer = setInterval(function(root) {\n",
       "      if (root.Bokeh !== undefined) {\n",
       "        clearInterval(timer);\n",
       "        embed_document(root);\n",
       "      } else {\n",
       "        attempts++;\n",
       "        if (attempts > 100) {\n",
       "          clearInterval(timer);\n",
       "          console.log(\"Bokeh: ERROR: Unable to run BokehJS code because BokehJS library is missing\");\n",
       "        }\n",
       "      }\n",
       "    }, 10, root)\n",
       "  }\n",
       "})(window);"
      ],
      "application/vnd.bokehjs_exec.v0+json": ""
     },
     "metadata": {
      "application/vnd.bokehjs_exec.v0+json": {
       "id": "80256"
      }
     },
     "output_type": "display_data"
    }
   ],
   "source": [
    "# prepare some data\n",
    "x = [1, 2, 3, 4, 5]\n",
    "y = [4, 5, 5, 7, 2]\n",
    "\n",
    "# create a new plot with a title and axis labels\n",
    "p = figure(title=\"Glyphs properties example\", x_axis_label=\"x\", y_axis_label=\"y\")\n",
    "\n",
    "# add circle renderer with additional arguments\n",
    "p.circle(\n",
    "    x,\n",
    "    y,\n",
    "    legend_label=\"Objects\",\n",
    "    fill_color=\"red\",\n",
    "    fill_alpha=0.5,\n",
    "    line_color=\"blue\",\n",
    "    size=80,\n",
    ")\n",
    "\n",
    "# show the results\n",
    "show(p)"
   ]
  },
  {
   "cell_type": "markdown",
   "id": "be80e6c0",
   "metadata": {},
   "source": [
    "## Altering properties of existing glyphs"
   ]
  },
  {
   "cell_type": "code",
   "execution_count": 308,
   "id": "48f7b16c",
   "metadata": {},
   "outputs": [],
   "source": [
    "circle = p.circle(\n",
    "    x,\n",
    "    y,\n",
    "    legend_label=\"Objects\",\n",
    "    fill_color=\"red\",\n",
    "    fill_alpha=0.5,\n",
    "    line_color=\"blue\",\n",
    "    size=80,\n",
    "    )"
   ]
  },
  {
   "cell_type": "code",
   "execution_count": 309,
   "id": "b32c86e4",
   "metadata": {},
   "outputs": [],
   "source": [
    "glyph = circle.glyph\n",
    "glyph.fill_color = \"blue\""
   ]
  },
  {
   "cell_type": "code",
   "execution_count": 310,
   "id": "bd7b7dfb",
   "metadata": {},
   "outputs": [
    {
     "data": {
      "text/html": [
       "\n",
       "\n",
       "\n",
       "\n",
       "\n",
       "\n",
       "  <div class=\"bk-root\" id=\"3046a8c2-54bc-456f-bba1-e92750a19557\" data-root-id=\"80256\"></div>\n"
      ]
     },
     "metadata": {},
     "output_type": "display_data"
    },
    {
     "data": {
      "application/javascript": [
       "(function(root) {\n",
       "  function embed_document(root) {\n",
       "    \n",
       "  var docs_json = {\"eea5aa7f-508a-4f05-ab3d-f082114be6eb\":{\"defs\":[],\"roots\":{\"references\":[{\"attributes\":{\"background_fill_color\":\"#20262B\",\"below\":[{\"id\":\"80267\"}],\"border_fill_color\":\"#15191C\",\"center\":[{\"id\":\"80270\"},{\"id\":\"80274\"},{\"id\":\"80304\"}],\"left\":[{\"id\":\"80271\"}],\"outline_line_alpha\":0.25,\"outline_line_color\":\"#E0E0E0\",\"renderers\":[{\"id\":\"80292\"},{\"id\":\"81507\"}],\"title\":{\"id\":\"80257\"},\"toolbar\":{\"id\":\"80282\"},\"x_range\":{\"id\":\"80259\"},\"x_scale\":{\"id\":\"80263\"},\"y_range\":{\"id\":\"80261\"},\"y_scale\":{\"id\":\"80265\"}},\"id\":\"80256\",\"subtype\":\"Figure\",\"type\":\"Plot\"},{\"attributes\":{},\"id\":\"80297\",\"type\":\"AllLabels\"},{\"attributes\":{},\"id\":\"80278\",\"type\":\"SaveTool\"},{\"attributes\":{},\"id\":\"80275\",\"type\":\"PanTool\"},{\"attributes\":{\"fill_alpha\":{\"value\":0.5},\"fill_color\":{\"value\":\"blue\"},\"line_color\":{\"value\":\"blue\"},\"size\":{\"value\":80},\"x\":{\"field\":\"x\"},\"y\":{\"field\":\"y\"}},\"id\":\"81505\",\"type\":\"Circle\"},{\"attributes\":{\"data\":{\"x\":[1,2,3,4,5],\"y\":[4,5,5,7,2]},\"selected\":{\"id\":\"82546\"},\"selection_policy\":{\"id\":\"82545\"}},\"id\":\"81504\",\"type\":\"ColumnDataSource\"},{\"attributes\":{},\"id\":\"80301\",\"type\":\"UnionRenderers\"},{\"attributes\":{\"fill_alpha\":{\"value\":0.1},\"fill_color\":{\"value\":\"red\"},\"line_alpha\":{\"value\":0.1},\"line_color\":{\"value\":\"blue\"},\"size\":{\"value\":80},\"x\":{\"field\":\"x\"},\"y\":{\"field\":\"y\"}},\"id\":\"81506\",\"type\":\"Circle\"},{\"attributes\":{},\"id\":\"80302\",\"type\":\"Selection\"},{\"attributes\":{\"data_source\":{\"id\":\"81504\"},\"glyph\":{\"id\":\"81505\"},\"hover_glyph\":null,\"muted_glyph\":null,\"nonselection_glyph\":{\"id\":\"81506\"},\"view\":{\"id\":\"81508\"}},\"id\":\"81507\",\"type\":\"GlyphRenderer\"},{\"attributes\":{\"bottom_units\":\"screen\",\"fill_alpha\":0.5,\"fill_color\":\"lightgrey\",\"left_units\":\"screen\",\"level\":\"overlay\",\"line_alpha\":1.0,\"line_color\":\"black\",\"line_dash\":[4,4],\"line_width\":2,\"right_units\":\"screen\",\"syncable\":false,\"top_units\":\"screen\"},\"id\":\"80281\",\"type\":\"BoxAnnotation\"},{\"attributes\":{\"axis\":{\"id\":\"80271\"},\"dimension\":1,\"grid_line_alpha\":0.25,\"grid_line_color\":\"#E0E0E0\",\"ticker\":null},\"id\":\"80274\",\"type\":\"Grid\"},{\"attributes\":{},\"id\":\"80272\",\"type\":\"BasicTicker\"},{\"attributes\":{\"source\":{\"id\":\"81504\"}},\"id\":\"81508\",\"type\":\"CDSView\"},{\"attributes\":{},\"id\":\"80276\",\"type\":\"WheelZoomTool\"},{\"attributes\":{\"background_fill_alpha\":0.25,\"background_fill_color\":\"#20262B\",\"border_line_alpha\":0,\"glyph_width\":15,\"items\":[{\"id\":\"80305\"}],\"label_standoff\":8,\"label_text_color\":\"#E0E0E0\",\"label_text_font\":\"Helvetica\",\"label_text_font_size\":\"1.025em\",\"spacing\":8},\"id\":\"80304\",\"type\":\"Legend\"},{\"attributes\":{},\"id\":\"82545\",\"type\":\"UnionRenderers\"},{\"attributes\":{\"fill_alpha\":{\"value\":0.1},\"fill_color\":{\"value\":\"red\"},\"line_alpha\":{\"value\":0.1},\"line_color\":{\"value\":\"blue\"},\"size\":{\"value\":80},\"x\":{\"field\":\"x\"},\"y\":{\"field\":\"y\"}},\"id\":\"80291\",\"type\":\"Circle\"},{\"attributes\":{\"overlay\":{\"id\":\"80281\"}},\"id\":\"80277\",\"type\":\"BoxZoomTool\"},{\"attributes\":{\"axis_label\":\"y\",\"axis_label_standoff\":10,\"axis_label_text_color\":\"#E0E0E0\",\"axis_label_text_font\":\"Helvetica\",\"axis_label_text_font_size\":\"1.25em\",\"axis_label_text_font_style\":\"normal\",\"axis_line_alpha\":0,\"axis_line_color\":\"#E0E0E0\",\"formatter\":{\"id\":\"80295\"},\"major_label_policy\":{\"id\":\"80297\"},\"major_label_text_color\":\"#E0E0E0\",\"major_label_text_font\":\"Helvetica\",\"major_label_text_font_size\":\"1.025em\",\"major_tick_line_alpha\":0,\"major_tick_line_color\":\"#E0E0E0\",\"minor_tick_line_alpha\":0,\"minor_tick_line_color\":\"#E0E0E0\",\"ticker\":{\"id\":\"80272\"}},\"id\":\"80271\",\"type\":\"LinearAxis\"},{\"attributes\":{\"data_source\":{\"id\":\"80289\"},\"glyph\":{\"id\":\"80290\"},\"hover_glyph\":null,\"muted_glyph\":null,\"nonselection_glyph\":{\"id\":\"80291\"},\"view\":{\"id\":\"80293\"}},\"id\":\"80292\",\"type\":\"GlyphRenderer\"},{\"attributes\":{\"axis\":{\"id\":\"80267\"},\"grid_line_alpha\":0.25,\"grid_line_color\":\"#E0E0E0\",\"ticker\":null},\"id\":\"80270\",\"type\":\"Grid\"},{\"attributes\":{\"source\":{\"id\":\"80289\"}},\"id\":\"80293\",\"type\":\"CDSView\"},{\"attributes\":{\"active_multi\":null,\"tools\":[{\"id\":\"80275\"},{\"id\":\"80276\"},{\"id\":\"80277\"},{\"id\":\"80278\"},{\"id\":\"80279\"},{\"id\":\"80280\"}]},\"id\":\"80282\",\"type\":\"Toolbar\"},{\"attributes\":{},\"id\":\"80300\",\"type\":\"AllLabels\"},{\"attributes\":{\"label\":{\"value\":\"Objects\"},\"renderers\":[{\"id\":\"80292\"},{\"id\":\"81507\"}]},\"id\":\"80305\",\"type\":\"LegendItem\"},{\"attributes\":{},\"id\":\"80279\",\"type\":\"ResetTool\"},{\"attributes\":{},\"id\":\"80298\",\"type\":\"BasicTickFormatter\"},{\"attributes\":{},\"id\":\"80263\",\"type\":\"LinearScale\"},{\"attributes\":{\"fill_alpha\":{\"value\":0.5},\"fill_color\":{\"value\":\"red\"},\"line_color\":{\"value\":\"blue\"},\"size\":{\"value\":80},\"x\":{\"field\":\"x\"},\"y\":{\"field\":\"y\"}},\"id\":\"80290\",\"type\":\"Circle\"},{\"attributes\":{},\"id\":\"80268\",\"type\":\"BasicTicker\"},{\"attributes\":{},\"id\":\"80280\",\"type\":\"HelpTool\"},{\"attributes\":{\"data\":{\"x\":[1,2,3,4,5],\"y\":[4,5,5,7,2]},\"selected\":{\"id\":\"80302\"},\"selection_policy\":{\"id\":\"80301\"}},\"id\":\"80289\",\"type\":\"ColumnDataSource\"},{\"attributes\":{\"text\":\"Glyphs properties example\",\"text_color\":\"#E0E0E0\",\"text_font\":\"Helvetica\",\"text_font_size\":\"1.15em\"},\"id\":\"80257\",\"type\":\"Title\"},{\"attributes\":{},\"id\":\"80259\",\"type\":\"DataRange1d\"},{\"attributes\":{},\"id\":\"80295\",\"type\":\"BasicTickFormatter\"},{\"attributes\":{},\"id\":\"80261\",\"type\":\"DataRange1d\"},{\"attributes\":{},\"id\":\"80265\",\"type\":\"LinearScale\"},{\"attributes\":{\"axis_label\":\"x\",\"axis_label_standoff\":10,\"axis_label_text_color\":\"#E0E0E0\",\"axis_label_text_font\":\"Helvetica\",\"axis_label_text_font_size\":\"1.25em\",\"axis_label_text_font_style\":\"normal\",\"axis_line_alpha\":0,\"axis_line_color\":\"#E0E0E0\",\"formatter\":{\"id\":\"80298\"},\"major_label_policy\":{\"id\":\"80300\"},\"major_label_text_color\":\"#E0E0E0\",\"major_label_text_font\":\"Helvetica\",\"major_label_text_font_size\":\"1.025em\",\"major_tick_line_alpha\":0,\"major_tick_line_color\":\"#E0E0E0\",\"minor_tick_line_alpha\":0,\"minor_tick_line_color\":\"#E0E0E0\",\"ticker\":{\"id\":\"80268\"}},\"id\":\"80267\",\"type\":\"LinearAxis\"},{\"attributes\":{},\"id\":\"82546\",\"type\":\"Selection\"}],\"root_ids\":[\"80256\"]},\"title\":\"Bokeh Application\",\"version\":\"2.3.2\"}};\n",
       "  var render_items = [{\"docid\":\"eea5aa7f-508a-4f05-ab3d-f082114be6eb\",\"root_ids\":[\"80256\"],\"roots\":{\"80256\":\"3046a8c2-54bc-456f-bba1-e92750a19557\"}}];\n",
       "  root.Bokeh.embed.embed_items_notebook(docs_json, render_items);\n",
       "\n",
       "  }\n",
       "  if (root.Bokeh !== undefined) {\n",
       "    embed_document(root);\n",
       "  } else {\n",
       "    var attempts = 0;\n",
       "    var timer = setInterval(function(root) {\n",
       "      if (root.Bokeh !== undefined) {\n",
       "        clearInterval(timer);\n",
       "        embed_document(root);\n",
       "      } else {\n",
       "        attempts++;\n",
       "        if (attempts > 100) {\n",
       "          clearInterval(timer);\n",
       "          console.log(\"Bokeh: ERROR: Unable to run BokehJS code because BokehJS library is missing\");\n",
       "        }\n",
       "      }\n",
       "    }, 10, root)\n",
       "  }\n",
       "})(window);"
      ],
      "application/vnd.bokehjs_exec.v0+json": ""
     },
     "metadata": {
      "application/vnd.bokehjs_exec.v0+json": {
       "id": "80256"
      }
     },
     "output_type": "display_data"
    }
   ],
   "source": [
    "show(p)"
   ]
  },
  {
   "cell_type": "code",
   "execution_count": 311,
   "id": "6dffb86b",
   "metadata": {},
   "outputs": [
    {
     "data": {
      "text/html": [
       "<div style=\"display: table;\"><div style=\"display: table-row;\"><div style=\"display: table-cell;\"><b title=\"bokeh.models.renderers.GlyphRenderer\">GlyphRenderer</b>(</div><div style=\"display: table-cell;\">id&nbsp;=&nbsp;'83795', <span id=\"85894\" style=\"cursor: pointer;\">&hellip;)</span></div></div><div class=\"85893\" style=\"display: none;\"><div style=\"display: table-cell;\"></div><div style=\"display: table-cell;\">data_source&nbsp;=&nbsp;ColumnDataSource(id='83792', ...),</div></div><div class=\"85893\" style=\"display: none;\"><div style=\"display: table-cell;\"></div><div style=\"display: table-cell;\">glyph&nbsp;=&nbsp;Circle(id='83793', ...),</div></div><div class=\"85893\" style=\"display: none;\"><div style=\"display: table-cell;\"></div><div style=\"display: table-cell;\">hover_glyph&nbsp;=&nbsp;None,</div></div><div class=\"85893\" style=\"display: none;\"><div style=\"display: table-cell;\"></div><div style=\"display: table-cell;\">js_event_callbacks&nbsp;=&nbsp;{},</div></div><div class=\"85893\" style=\"display: none;\"><div style=\"display: table-cell;\"></div><div style=\"display: table-cell;\">js_property_callbacks&nbsp;=&nbsp;{},</div></div><div class=\"85893\" style=\"display: none;\"><div style=\"display: table-cell;\"></div><div style=\"display: table-cell;\">level&nbsp;=&nbsp;'glyph',</div></div><div class=\"85893\" style=\"display: none;\"><div style=\"display: table-cell;\"></div><div style=\"display: table-cell;\">muted&nbsp;=&nbsp;False,</div></div><div class=\"85893\" style=\"display: none;\"><div style=\"display: table-cell;\"></div><div style=\"display: table-cell;\">muted_glyph&nbsp;=&nbsp;None,</div></div><div class=\"85893\" style=\"display: none;\"><div style=\"display: table-cell;\"></div><div style=\"display: table-cell;\">name&nbsp;=&nbsp;None,</div></div><div class=\"85893\" style=\"display: none;\"><div style=\"display: table-cell;\"></div><div style=\"display: table-cell;\">nonselection_glyph&nbsp;=&nbsp;Circle(id='83794', ...),</div></div><div class=\"85893\" style=\"display: none;\"><div style=\"display: table-cell;\"></div><div style=\"display: table-cell;\">selection_glyph&nbsp;=&nbsp;'auto',</div></div><div class=\"85893\" style=\"display: none;\"><div style=\"display: table-cell;\"></div><div style=\"display: table-cell;\">subscribed_events&nbsp;=&nbsp;[],</div></div><div class=\"85893\" style=\"display: none;\"><div style=\"display: table-cell;\"></div><div style=\"display: table-cell;\">syncable&nbsp;=&nbsp;True,</div></div><div class=\"85893\" style=\"display: none;\"><div style=\"display: table-cell;\"></div><div style=\"display: table-cell;\">tags&nbsp;=&nbsp;[],</div></div><div class=\"85893\" style=\"display: none;\"><div style=\"display: table-cell;\"></div><div style=\"display: table-cell;\">view&nbsp;=&nbsp;CDSView(id='83796', ...),</div></div><div class=\"85893\" style=\"display: none;\"><div style=\"display: table-cell;\"></div><div style=\"display: table-cell;\">visible&nbsp;=&nbsp;True,</div></div><div class=\"85893\" style=\"display: none;\"><div style=\"display: table-cell;\"></div><div style=\"display: table-cell;\">x_range_name&nbsp;=&nbsp;'default',</div></div><div class=\"85893\" style=\"display: none;\"><div style=\"display: table-cell;\"></div><div style=\"display: table-cell;\">y_range_name&nbsp;=&nbsp;'default')</div></div></div>\n",
       "<script>\n",
       "(function() {\n",
       "  var expanded = false;\n",
       "  var ellipsis = document.getElementById(\"85894\");\n",
       "  ellipsis.addEventListener(\"click\", function() {\n",
       "    var rows = document.getElementsByClassName(\"85893\");\n",
       "    for (var i = 0; i < rows.length; i++) {\n",
       "      var el = rows[i];\n",
       "      el.style.display = expanded ? \"none\" : \"table-row\";\n",
       "    }\n",
       "    ellipsis.innerHTML = expanded ? \"&hellip;)\" : \"&lsaquo;&lsaquo;&lsaquo;\";\n",
       "    expanded = !expanded;\n",
       "  });\n",
       "})();\n",
       "</script>\n"
      ],
      "text/plain": [
       "GlyphRenderer(id='83795', ...)"
      ]
     },
     "execution_count": 311,
     "metadata": {},
     "output_type": "execute_result"
    }
   ],
   "source": [
    "p.circle(x, y3, legend_label=\"Objects\")"
   ]
  },
  {
   "cell_type": "code",
   "execution_count": 312,
   "id": "0e153135",
   "metadata": {},
   "outputs": [
    {
     "data": {
      "text/html": [
       "\n",
       "\n",
       "\n",
       "\n",
       "\n",
       "\n",
       "  <div class=\"bk-root\" id=\"d4e0d963-793b-4b97-a675-24d42fb3d635\" data-root-id=\"80256\"></div>\n"
      ]
     },
     "metadata": {},
     "output_type": "display_data"
    },
    {
     "data": {
      "application/javascript": [
       "(function(root) {\n",
       "  function embed_document(root) {\n",
       "    \n",
       "  var docs_json = {\"4eebf66c-83e0-45b5-8358-c605171833fe\":{\"defs\":[],\"roots\":{\"references\":[{\"attributes\":{\"background_fill_color\":\"#20262B\",\"below\":[{\"id\":\"80267\"}],\"border_fill_color\":\"#15191C\",\"center\":[{\"id\":\"80270\"},{\"id\":\"80274\"},{\"id\":\"80304\"}],\"left\":[{\"id\":\"80271\"}],\"outline_line_alpha\":0.25,\"outline_line_color\":\"#E0E0E0\",\"renderers\":[{\"id\":\"80292\"},{\"id\":\"81507\"},{\"id\":\"83795\"}],\"title\":{\"id\":\"80257\"},\"toolbar\":{\"id\":\"80282\"},\"x_range\":{\"id\":\"80259\"},\"x_scale\":{\"id\":\"80263\"},\"y_range\":{\"id\":\"80261\"},\"y_scale\":{\"id\":\"80265\"}},\"id\":\"80256\",\"subtype\":\"Figure\",\"type\":\"Plot\"},{\"attributes\":{},\"id\":\"80297\",\"type\":\"AllLabels\"},{\"attributes\":{\"fill_color\":{\"value\":\"#1f77b4\"},\"line_color\":{\"value\":\"#1f77b4\"},\"x\":{\"field\":\"x\"},\"y\":{\"field\":\"y\"}},\"id\":\"83793\",\"type\":\"Circle\"},{\"attributes\":{},\"id\":\"80278\",\"type\":\"SaveTool\"},{\"attributes\":{},\"id\":\"80275\",\"type\":\"PanTool\"},{\"attributes\":{},\"id\":\"84836\",\"type\":\"Selection\"},{\"attributes\":{\"fill_alpha\":{\"value\":0.5},\"fill_color\":{\"value\":\"blue\"},\"line_color\":{\"value\":\"blue\"},\"size\":{\"value\":80},\"x\":{\"field\":\"x\"},\"y\":{\"field\":\"y\"}},\"id\":\"81505\",\"type\":\"Circle\"},{\"attributes\":{\"data\":{\"x\":[1,2,3,4,5],\"y\":[4,5,5,7,2]},\"selected\":{\"id\":\"82546\"},\"selection_policy\":{\"id\":\"82545\"}},\"id\":\"81504\",\"type\":\"ColumnDataSource\"},{\"attributes\":{\"data\":{\"x\":[1,2,3,4,5],\"y\":[4,5,5,7,2]},\"selected\":{\"id\":\"84836\"},\"selection_policy\":{\"id\":\"84835\"}},\"id\":\"83792\",\"type\":\"ColumnDataSource\"},{\"attributes\":{},\"id\":\"80301\",\"type\":\"UnionRenderers\"},{\"attributes\":{\"fill_alpha\":{\"value\":0.1},\"fill_color\":{\"value\":\"red\"},\"line_alpha\":{\"value\":0.1},\"line_color\":{\"value\":\"blue\"},\"size\":{\"value\":80},\"x\":{\"field\":\"x\"},\"y\":{\"field\":\"y\"}},\"id\":\"81506\",\"type\":\"Circle\"},{\"attributes\":{\"source\":{\"id\":\"83792\"}},\"id\":\"83796\",\"type\":\"CDSView\"},{\"attributes\":{},\"id\":\"80302\",\"type\":\"Selection\"},{\"attributes\":{\"data_source\":{\"id\":\"81504\"},\"glyph\":{\"id\":\"81505\"},\"hover_glyph\":null,\"muted_glyph\":null,\"nonselection_glyph\":{\"id\":\"81506\"},\"view\":{\"id\":\"81508\"}},\"id\":\"81507\",\"type\":\"GlyphRenderer\"},{\"attributes\":{\"bottom_units\":\"screen\",\"fill_alpha\":0.5,\"fill_color\":\"lightgrey\",\"left_units\":\"screen\",\"level\":\"overlay\",\"line_alpha\":1.0,\"line_color\":\"black\",\"line_dash\":[4,4],\"line_width\":2,\"right_units\":\"screen\",\"syncable\":false,\"top_units\":\"screen\"},\"id\":\"80281\",\"type\":\"BoxAnnotation\"},{\"attributes\":{\"axis\":{\"id\":\"80271\"},\"dimension\":1,\"grid_line_alpha\":0.25,\"grid_line_color\":\"#E0E0E0\",\"ticker\":null},\"id\":\"80274\",\"type\":\"Grid\"},{\"attributes\":{},\"id\":\"80272\",\"type\":\"BasicTicker\"},{\"attributes\":{\"source\":{\"id\":\"81504\"}},\"id\":\"81508\",\"type\":\"CDSView\"},{\"attributes\":{},\"id\":\"80276\",\"type\":\"WheelZoomTool\"},{\"attributes\":{\"background_fill_alpha\":0.25,\"background_fill_color\":\"#20262B\",\"border_line_alpha\":0,\"glyph_width\":15,\"items\":[{\"id\":\"80305\"}],\"label_standoff\":8,\"label_text_color\":\"#E0E0E0\",\"label_text_font\":\"Helvetica\",\"label_text_font_size\":\"1.025em\",\"spacing\":8},\"id\":\"80304\",\"type\":\"Legend\"},{\"attributes\":{},\"id\":\"82545\",\"type\":\"UnionRenderers\"},{\"attributes\":{\"fill_alpha\":{\"value\":0.1},\"fill_color\":{\"value\":\"red\"},\"line_alpha\":{\"value\":0.1},\"line_color\":{\"value\":\"blue\"},\"size\":{\"value\":80},\"x\":{\"field\":\"x\"},\"y\":{\"field\":\"y\"}},\"id\":\"80291\",\"type\":\"Circle\"},{\"attributes\":{\"overlay\":{\"id\":\"80281\"}},\"id\":\"80277\",\"type\":\"BoxZoomTool\"},{\"attributes\":{\"axis_label\":\"y\",\"axis_label_standoff\":10,\"axis_label_text_color\":\"#E0E0E0\",\"axis_label_text_font\":\"Helvetica\",\"axis_label_text_font_size\":\"1.25em\",\"axis_label_text_font_style\":\"normal\",\"axis_line_alpha\":0,\"axis_line_color\":\"#E0E0E0\",\"formatter\":{\"id\":\"80295\"},\"major_label_policy\":{\"id\":\"80297\"},\"major_label_text_color\":\"#E0E0E0\",\"major_label_text_font\":\"Helvetica\",\"major_label_text_font_size\":\"1.025em\",\"major_tick_line_alpha\":0,\"major_tick_line_color\":\"#E0E0E0\",\"minor_tick_line_alpha\":0,\"minor_tick_line_color\":\"#E0E0E0\",\"ticker\":{\"id\":\"80272\"}},\"id\":\"80271\",\"type\":\"LinearAxis\"},{\"attributes\":{\"data_source\":{\"id\":\"80289\"},\"glyph\":{\"id\":\"80290\"},\"hover_glyph\":null,\"muted_glyph\":null,\"nonselection_glyph\":{\"id\":\"80291\"},\"view\":{\"id\":\"80293\"}},\"id\":\"80292\",\"type\":\"GlyphRenderer\"},{\"attributes\":{\"axis\":{\"id\":\"80267\"},\"grid_line_alpha\":0.25,\"grid_line_color\":\"#E0E0E0\",\"ticker\":null},\"id\":\"80270\",\"type\":\"Grid\"},{\"attributes\":{\"source\":{\"id\":\"80289\"}},\"id\":\"80293\",\"type\":\"CDSView\"},{\"attributes\":{\"active_multi\":null,\"tools\":[{\"id\":\"80275\"},{\"id\":\"80276\"},{\"id\":\"80277\"},{\"id\":\"80278\"},{\"id\":\"80279\"},{\"id\":\"80280\"}]},\"id\":\"80282\",\"type\":\"Toolbar\"},{\"attributes\":{},\"id\":\"80300\",\"type\":\"AllLabels\"},{\"attributes\":{\"label\":{\"value\":\"Objects\"},\"renderers\":[{\"id\":\"80292\"},{\"id\":\"81507\"},{\"id\":\"83795\"}]},\"id\":\"80305\",\"type\":\"LegendItem\"},{\"attributes\":{},\"id\":\"80279\",\"type\":\"ResetTool\"},{\"attributes\":{},\"id\":\"80298\",\"type\":\"BasicTickFormatter\"},{\"attributes\":{},\"id\":\"80263\",\"type\":\"LinearScale\"},{\"attributes\":{},\"id\":\"84835\",\"type\":\"UnionRenderers\"},{\"attributes\":{\"fill_alpha\":{\"value\":0.5},\"fill_color\":{\"value\":\"red\"},\"line_color\":{\"value\":\"blue\"},\"size\":{\"value\":80},\"x\":{\"field\":\"x\"},\"y\":{\"field\":\"y\"}},\"id\":\"80290\",\"type\":\"Circle\"},{\"attributes\":{},\"id\":\"80268\",\"type\":\"BasicTicker\"},{\"attributes\":{},\"id\":\"80280\",\"type\":\"HelpTool\"},{\"attributes\":{\"data\":{\"x\":[1,2,3,4,5],\"y\":[4,5,5,7,2]},\"selected\":{\"id\":\"80302\"},\"selection_policy\":{\"id\":\"80301\"}},\"id\":\"80289\",\"type\":\"ColumnDataSource\"},{\"attributes\":{\"text\":\"Glyphs properties example\",\"text_color\":\"#E0E0E0\",\"text_font\":\"Helvetica\",\"text_font_size\":\"1.15em\"},\"id\":\"80257\",\"type\":\"Title\"},{\"attributes\":{\"fill_alpha\":{\"value\":0.1},\"fill_color\":{\"value\":\"#1f77b4\"},\"line_alpha\":{\"value\":0.1},\"line_color\":{\"value\":\"#1f77b4\"},\"x\":{\"field\":\"x\"},\"y\":{\"field\":\"y\"}},\"id\":\"83794\",\"type\":\"Circle\"},{\"attributes\":{},\"id\":\"80259\",\"type\":\"DataRange1d\"},{\"attributes\":{},\"id\":\"80295\",\"type\":\"BasicTickFormatter\"},{\"attributes\":{},\"id\":\"80261\",\"type\":\"DataRange1d\"},{\"attributes\":{},\"id\":\"80265\",\"type\":\"LinearScale\"},{\"attributes\":{\"data_source\":{\"id\":\"83792\"},\"glyph\":{\"id\":\"83793\"},\"hover_glyph\":null,\"muted_glyph\":null,\"nonselection_glyph\":{\"id\":\"83794\"},\"view\":{\"id\":\"83796\"}},\"id\":\"83795\",\"type\":\"GlyphRenderer\"},{\"attributes\":{\"axis_label\":\"x\",\"axis_label_standoff\":10,\"axis_label_text_color\":\"#E0E0E0\",\"axis_label_text_font\":\"Helvetica\",\"axis_label_text_font_size\":\"1.25em\",\"axis_label_text_font_style\":\"normal\",\"axis_line_alpha\":0,\"axis_line_color\":\"#E0E0E0\",\"formatter\":{\"id\":\"80298\"},\"major_label_policy\":{\"id\":\"80300\"},\"major_label_text_color\":\"#E0E0E0\",\"major_label_text_font\":\"Helvetica\",\"major_label_text_font_size\":\"1.025em\",\"major_tick_line_alpha\":0,\"major_tick_line_color\":\"#E0E0E0\",\"minor_tick_line_alpha\":0,\"minor_tick_line_color\":\"#E0E0E0\",\"ticker\":{\"id\":\"80268\"}},\"id\":\"80267\",\"type\":\"LinearAxis\"},{\"attributes\":{},\"id\":\"82546\",\"type\":\"Selection\"}],\"root_ids\":[\"80256\"]},\"title\":\"Bokeh Application\",\"version\":\"2.3.2\"}};\n",
       "  var render_items = [{\"docid\":\"4eebf66c-83e0-45b5-8358-c605171833fe\",\"root_ids\":[\"80256\"],\"roots\":{\"80256\":\"d4e0d963-793b-4b97-a675-24d42fb3d635\"}}];\n",
       "  root.Bokeh.embed.embed_items_notebook(docs_json, render_items);\n",
       "\n",
       "  }\n",
       "  if (root.Bokeh !== undefined) {\n",
       "    embed_document(root);\n",
       "  } else {\n",
       "    var attempts = 0;\n",
       "    var timer = setInterval(function(root) {\n",
       "      if (root.Bokeh !== undefined) {\n",
       "        clearInterval(timer);\n",
       "        embed_document(root);\n",
       "      } else {\n",
       "        attempts++;\n",
       "        if (attempts > 100) {\n",
       "          clearInterval(timer);\n",
       "          console.log(\"Bokeh: ERROR: Unable to run BokehJS code because BokehJS library is missing\");\n",
       "        }\n",
       "      }\n",
       "    }, 10, root)\n",
       "  }\n",
       "})(window);"
      ],
      "application/vnd.bokehjs_exec.v0+json": ""
     },
     "metadata": {
      "application/vnd.bokehjs_exec.v0+json": {
       "id": "80256"
      }
     },
     "output_type": "display_data"
    }
   ],
   "source": [
    "show(p)"
   ]
  },
  {
   "cell_type": "markdown",
   "id": "f38613ec",
   "metadata": {},
   "source": [
    "## Adding and styling a legend"
   ]
  },
  {
   "cell_type": "code",
   "execution_count": 313,
   "id": "ebdfe78a",
   "metadata": {},
   "outputs": [
    {
     "data": {
      "text/html": [
       "\n",
       "\n",
       "\n",
       "\n",
       "\n",
       "\n",
       "  <div class=\"bk-root\" id=\"a8fbe109-97ca-4a37-a522-555d39571caf\" data-root-id=\"86120\"></div>\n"
      ]
     },
     "metadata": {},
     "output_type": "display_data"
    },
    {
     "data": {
      "application/javascript": [
       "(function(root) {\n",
       "  function embed_document(root) {\n",
       "    \n",
       "  var docs_json = {\"4596b268-d38b-4a6b-b056-ac6ee7509e91\":{\"defs\":[],\"roots\":{\"references\":[{\"attributes\":{\"background_fill_color\":\"#20262B\",\"below\":[{\"id\":\"86131\"}],\"border_fill_color\":\"#15191C\",\"center\":[{\"id\":\"86134\"},{\"id\":\"86138\"},{\"id\":\"86168\"}],\"left\":[{\"id\":\"86135\"}],\"outline_line_alpha\":0.25,\"outline_line_color\":\"#E0E0E0\",\"renderers\":[{\"id\":\"86156\"},{\"id\":\"86173\"}],\"title\":{\"id\":\"86121\"},\"toolbar\":{\"id\":\"86146\"},\"x_range\":{\"id\":\"86123\"},\"x_scale\":{\"id\":\"86127\"},\"y_range\":{\"id\":\"86125\"},\"y_scale\":{\"id\":\"86129\"}},\"id\":\"86120\",\"subtype\":\"Figure\",\"type\":\"Plot\"},{\"attributes\":{},\"id\":\"86123\",\"type\":\"DataRange1d\"},{\"attributes\":{\"label\":{\"value\":\"Objects\"},\"renderers\":[{\"id\":\"86173\"}]},\"id\":\"86187\",\"type\":\"LegendItem\"},{\"attributes\":{},\"id\":\"86127\",\"type\":\"LinearScale\"},{\"attributes\":{},\"id\":\"86161\",\"type\":\"AllLabels\"},{\"attributes\":{},\"id\":\"86144\",\"type\":\"HelpTool\"},{\"attributes\":{},\"id\":\"86125\",\"type\":\"DataRange1d\"},{\"attributes\":{\"axis_label_standoff\":10,\"axis_label_text_color\":\"#E0E0E0\",\"axis_label_text_font\":\"Helvetica\",\"axis_label_text_font_size\":\"1.25em\",\"axis_label_text_font_style\":\"normal\",\"axis_line_alpha\":0,\"axis_line_color\":\"#E0E0E0\",\"formatter\":{\"id\":\"86159\"},\"major_label_policy\":{\"id\":\"86161\"},\"major_label_text_color\":\"#E0E0E0\",\"major_label_text_font\":\"Helvetica\",\"major_label_text_font_size\":\"1.025em\",\"major_tick_line_alpha\":0,\"major_tick_line_color\":\"#E0E0E0\",\"minor_tick_line_alpha\":0,\"minor_tick_line_color\":\"#E0E0E0\",\"ticker\":{\"id\":\"86136\"}},\"id\":\"86135\",\"type\":\"LinearAxis\"},{\"attributes\":{},\"id\":\"86129\",\"type\":\"LinearScale\"},{\"attributes\":{\"axis_label_standoff\":10,\"axis_label_text_color\":\"#E0E0E0\",\"axis_label_text_font\":\"Helvetica\",\"axis_label_text_font_size\":\"1.25em\",\"axis_label_text_font_style\":\"normal\",\"axis_line_alpha\":0,\"axis_line_color\":\"#E0E0E0\",\"formatter\":{\"id\":\"86162\"},\"major_label_policy\":{\"id\":\"86164\"},\"major_label_text_color\":\"#E0E0E0\",\"major_label_text_font\":\"Helvetica\",\"major_label_text_font_size\":\"1.025em\",\"major_tick_line_alpha\":0,\"major_tick_line_color\":\"#E0E0E0\",\"minor_tick_line_alpha\":0,\"minor_tick_line_color\":\"#E0E0E0\",\"ticker\":{\"id\":\"86132\"}},\"id\":\"86131\",\"type\":\"LinearAxis\"},{\"attributes\":{},\"id\":\"86132\",\"type\":\"BasicTicker\"},{\"attributes\":{\"axis\":{\"id\":\"86131\"},\"grid_line_alpha\":0.25,\"grid_line_color\":\"#E0E0E0\",\"ticker\":null},\"id\":\"86134\",\"type\":\"Grid\"},{\"attributes\":{},\"id\":\"86162\",\"type\":\"BasicTickFormatter\"},{\"attributes\":{\"axis\":{\"id\":\"86135\"},\"dimension\":1,\"grid_line_alpha\":0.25,\"grid_line_color\":\"#E0E0E0\",\"ticker\":null},\"id\":\"86138\",\"type\":\"Grid\"},{\"attributes\":{},\"id\":\"86136\",\"type\":\"BasicTicker\"},{\"attributes\":{\"active_multi\":null,\"tools\":[{\"id\":\"86139\"},{\"id\":\"86140\"},{\"id\":\"86141\"},{\"id\":\"86142\"},{\"id\":\"86143\"},{\"id\":\"86144\"}]},\"id\":\"86146\",\"type\":\"Toolbar\"},{\"attributes\":{},\"id\":\"86164\",\"type\":\"AllLabels\"},{\"attributes\":{},\"id\":\"86140\",\"type\":\"WheelZoomTool\"},{\"attributes\":{},\"id\":\"86139\",\"type\":\"PanTool\"},{\"attributes\":{\"overlay\":{\"id\":\"86145\"}},\"id\":\"86141\",\"type\":\"BoxZoomTool\"},{\"attributes\":{},\"id\":\"86142\",\"type\":\"SaveTool\"},{\"attributes\":{\"line_alpha\":0.1,\"line_color\":\"blue\",\"line_width\":2,\"x\":{\"field\":\"x\"},\"y\":{\"field\":\"y\"}},\"id\":\"86155\",\"type\":\"Line\"},{\"attributes\":{},\"id\":\"86143\",\"type\":\"ResetTool\"},{\"attributes\":{\"label\":{\"value\":\"Temp.\"},\"renderers\":[{\"id\":\"86156\"}]},\"id\":\"86169\",\"type\":\"LegendItem\"},{\"attributes\":{\"source\":{\"id\":\"86153\"}},\"id\":\"86157\",\"type\":\"CDSView\"},{\"attributes\":{},\"id\":\"86184\",\"type\":\"UnionRenderers\"},{\"attributes\":{\"line_color\":\"blue\",\"line_width\":2,\"x\":{\"field\":\"x\"},\"y\":{\"field\":\"y\"}},\"id\":\"86154\",\"type\":\"Line\"},{\"attributes\":{},\"id\":\"86165\",\"type\":\"UnionRenderers\"},{\"attributes\":{\"data_source\":{\"id\":\"86170\"},\"glyph\":{\"id\":\"86171\"},\"hover_glyph\":null,\"muted_glyph\":null,\"nonselection_glyph\":{\"id\":\"86172\"},\"view\":{\"id\":\"86174\"}},\"id\":\"86173\",\"type\":\"GlyphRenderer\"},{\"attributes\":{\"background_fill_alpha\":0.2,\"background_fill_color\":\"navy\",\"border_line_alpha\":0.8,\"border_line_color\":\"navy\",\"border_line_width\":3,\"glyph_width\":15,\"items\":[{\"id\":\"86169\"},{\"id\":\"86187\"}],\"label_standoff\":8,\"label_text_color\":\"navy\",\"label_text_font\":\"times\",\"label_text_font_size\":\"1.025em\",\"label_text_font_style\":\"italic\",\"location\":\"top_left\",\"spacing\":8,\"title\":\"Obervations\"},\"id\":\"86168\",\"type\":\"Legend\"},{\"attributes\":{},\"id\":\"86185\",\"type\":\"Selection\"},{\"attributes\":{},\"id\":\"86166\",\"type\":\"Selection\"},{\"attributes\":{\"fill_alpha\":{\"value\":0.1},\"fill_color\":{\"value\":\"red\"},\"line_alpha\":{\"value\":0.1},\"line_color\":{\"value\":\"blue\"},\"size\":{\"value\":80},\"x\":{\"field\":\"x\"},\"y\":{\"field\":\"y\"}},\"id\":\"86172\",\"type\":\"Circle\"},{\"attributes\":{\"source\":{\"id\":\"86170\"}},\"id\":\"86174\",\"type\":\"CDSView\"},{\"attributes\":{},\"id\":\"86159\",\"type\":\"BasicTickFormatter\"},{\"attributes\":{\"data\":{\"x\":[1,2,3,4,5],\"y\":[4,5,5,7,2]},\"selected\":{\"id\":\"86166\"},\"selection_policy\":{\"id\":\"86165\"}},\"id\":\"86153\",\"type\":\"ColumnDataSource\"},{\"attributes\":{\"fill_alpha\":{\"value\":0.5},\"fill_color\":{\"value\":\"red\"},\"line_color\":{\"value\":\"blue\"},\"size\":{\"value\":80},\"x\":{\"field\":\"x\"},\"y\":{\"field\":\"y\"}},\"id\":\"86171\",\"type\":\"Circle\"},{\"attributes\":{\"text\":\"Legend example\",\"text_color\":\"#E0E0E0\",\"text_font\":\"Helvetica\",\"text_font_size\":\"1.15em\"},\"id\":\"86121\",\"type\":\"Title\"},{\"attributes\":{\"data\":{\"x\":[1,2,3,4,5],\"y\":[2,3,4,5,6]},\"selected\":{\"id\":\"86185\"},\"selection_policy\":{\"id\":\"86184\"}},\"id\":\"86170\",\"type\":\"ColumnDataSource\"},{\"attributes\":{\"bottom_units\":\"screen\",\"fill_alpha\":0.5,\"fill_color\":\"lightgrey\",\"left_units\":\"screen\",\"level\":\"overlay\",\"line_alpha\":1.0,\"line_color\":\"black\",\"line_dash\":[4,4],\"line_width\":2,\"right_units\":\"screen\",\"syncable\":false,\"top_units\":\"screen\"},\"id\":\"86145\",\"type\":\"BoxAnnotation\"},{\"attributes\":{\"data_source\":{\"id\":\"86153\"},\"glyph\":{\"id\":\"86154\"},\"hover_glyph\":null,\"muted_glyph\":null,\"nonselection_glyph\":{\"id\":\"86155\"},\"view\":{\"id\":\"86157\"}},\"id\":\"86156\",\"type\":\"GlyphRenderer\"}],\"root_ids\":[\"86120\"]},\"title\":\"Bokeh Application\",\"version\":\"2.3.2\"}};\n",
       "  var render_items = [{\"docid\":\"4596b268-d38b-4a6b-b056-ac6ee7509e91\",\"root_ids\":[\"86120\"],\"roots\":{\"86120\":\"a8fbe109-97ca-4a37-a522-555d39571caf\"}}];\n",
       "  root.Bokeh.embed.embed_items_notebook(docs_json, render_items);\n",
       "\n",
       "  }\n",
       "  if (root.Bokeh !== undefined) {\n",
       "    embed_document(root);\n",
       "  } else {\n",
       "    var attempts = 0;\n",
       "    var timer = setInterval(function(root) {\n",
       "      if (root.Bokeh !== undefined) {\n",
       "        clearInterval(timer);\n",
       "        embed_document(root);\n",
       "      } else {\n",
       "        attempts++;\n",
       "        if (attempts > 100) {\n",
       "          clearInterval(timer);\n",
       "          console.log(\"Bokeh: ERROR: Unable to run BokehJS code because BokehJS library is missing\");\n",
       "        }\n",
       "      }\n",
       "    }, 10, root)\n",
       "  }\n",
       "})(window);"
      ],
      "application/vnd.bokehjs_exec.v0+json": ""
     },
     "metadata": {
      "application/vnd.bokehjs_exec.v0+json": {
       "id": "86120"
      }
     },
     "output_type": "display_data"
    }
   ],
   "source": [
    "# prepare some data\n",
    "x = [1, 2, 3, 4, 5]\n",
    "y1 = [4, 5, 5, 7, 2]\n",
    "y2 = [2, 3, 4, 5, 6]\n",
    "\n",
    "# create a new plot\n",
    "p = figure(title=\"Legend example\")\n",
    "\n",
    "# add circle renderer with legend_label arguments\n",
    "line = p.line(x, y1, legend_label=\"Temp.\", line_color=\"blue\", line_width=2)\n",
    "circle = p.circle(\n",
    "    x,\n",
    "    y2,\n",
    "    legend_label=\"Objects\",\n",
    "    fill_color=\"red\",\n",
    "    fill_alpha=0.5,\n",
    "    line_color=\"blue\",\n",
    "    size=80,\n",
    ")\n",
    "\n",
    "# display legend in top left corner (default is top right corner)\n",
    "p.legend.location = \"top_left\"\n",
    "\n",
    "# add a title to your legend\n",
    "p.legend.title = \"Obervations\"\n",
    "\n",
    "# change appearance of legend text\n",
    "p.legend.label_text_font = \"times\"\n",
    "p.legend.label_text_font_style = \"italic\"\n",
    "p.legend.label_text_color = \"navy\"\n",
    "\n",
    "# change border and background of legend\n",
    "p.legend.border_line_width = 3\n",
    "p.legend.border_line_color = \"navy\"\n",
    "p.legend.border_line_alpha = 0.8\n",
    "p.legend.background_fill_color = \"navy\"\n",
    "p.legend.background_fill_alpha = 0.2\n",
    "\n",
    "# show the results\n",
    "show(p)"
   ]
  },
  {
   "cell_type": "markdown",
   "id": "62a0af0c",
   "metadata": {},
   "source": [
    "## Customizing headlines"
   ]
  },
  {
   "cell_type": "code",
   "execution_count": 314,
   "id": "7bd944cf",
   "metadata": {},
   "outputs": [],
   "source": [
    "p = figure(title=\"Headline example\")"
   ]
  },
  {
   "cell_type": "code",
   "execution_count": 315,
   "id": "306d3fe5",
   "metadata": {},
   "outputs": [
    {
     "data": {
      "text/html": [
       "\n",
       "\n",
       "\n",
       "\n",
       "\n",
       "\n",
       "  <div class=\"bk-root\" id=\"c8b278f4-970c-4c0a-bd73-2d9907aebba4\" data-root-id=\"87467\"></div>\n"
      ]
     },
     "metadata": {},
     "output_type": "display_data"
    },
    {
     "data": {
      "application/javascript": [
       "(function(root) {\n",
       "  function embed_document(root) {\n",
       "    \n",
       "  var docs_json = {\"b749ec9e-2c33-4fbc-b623-bd3415a639b3\":{\"defs\":[],\"roots\":{\"references\":[{\"attributes\":{\"background_fill_color\":\"#20262B\",\"below\":[{\"id\":\"87478\"}],\"border_fill_color\":\"#15191C\",\"center\":[{\"id\":\"87481\"},{\"id\":\"87485\"},{\"id\":\"87515\"}],\"left\":[{\"id\":\"87482\"}],\"outline_line_alpha\":0.25,\"outline_line_color\":\"#E0E0E0\",\"renderers\":[{\"id\":\"87503\"}],\"title\":{\"id\":\"87468\"},\"title_location\":\"left\",\"toolbar\":{\"id\":\"87493\"},\"x_range\":{\"id\":\"87470\"},\"x_scale\":{\"id\":\"87474\"},\"y_range\":{\"id\":\"87472\"},\"y_scale\":{\"id\":\"87476\"}},\"id\":\"87467\",\"subtype\":\"Figure\",\"type\":\"Plot\"},{\"attributes\":{},\"id\":\"87508\",\"type\":\"AllLabels\"},{\"attributes\":{\"axis\":{\"id\":\"87482\"},\"dimension\":1,\"grid_line_alpha\":0.25,\"grid_line_color\":\"#E0E0E0\",\"ticker\":null},\"id\":\"87485\",\"type\":\"Grid\"},{\"attributes\":{\"label\":{\"value\":\"Temp.\"},\"renderers\":[{\"id\":\"87503\"}]},\"id\":\"87516\",\"type\":\"LegendItem\"},{\"attributes\":{},\"id\":\"87509\",\"type\":\"BasicTickFormatter\"},{\"attributes\":{\"axis\":{\"id\":\"87478\"},\"grid_line_alpha\":0.25,\"grid_line_color\":\"#E0E0E0\",\"ticker\":null},\"id\":\"87481\",\"type\":\"Grid\"},{\"attributes\":{\"data\":{\"x\":[1,2,3,4,5],\"y\":[6,7,2,4,5]},\"selected\":{\"id\":\"87513\"},\"selection_policy\":{\"id\":\"87512\"}},\"id\":\"87500\",\"type\":\"ColumnDataSource\"},{\"attributes\":{\"align\":\"right\",\"background_fill_color\":\"darkgrey\",\"text\":\"Changing headline text example\",\"text_color\":\"white\",\"text_font\":\"Helvetica\",\"text_font_size\":\"25px\"},\"id\":\"87468\",\"type\":\"Title\"},{\"attributes\":{},\"id\":\"87506\",\"type\":\"BasicTickFormatter\"},{\"attributes\":{},\"id\":\"87511\",\"type\":\"AllLabels\"},{\"attributes\":{\"data_source\":{\"id\":\"87500\"},\"glyph\":{\"id\":\"87501\"},\"hover_glyph\":null,\"muted_glyph\":null,\"nonselection_glyph\":{\"id\":\"87502\"},\"view\":{\"id\":\"87504\"}},\"id\":\"87503\",\"type\":\"GlyphRenderer\"},{\"attributes\":{},\"id\":\"87470\",\"type\":\"DataRange1d\"},{\"attributes\":{},\"id\":\"87474\",\"type\":\"LinearScale\"},{\"attributes\":{},\"id\":\"87490\",\"type\":\"ResetTool\"},{\"attributes\":{},\"id\":\"87483\",\"type\":\"BasicTicker\"},{\"attributes\":{},\"id\":\"87472\",\"type\":\"DataRange1d\"},{\"attributes\":{\"bottom_units\":\"screen\",\"fill_alpha\":0.5,\"fill_color\":\"lightgrey\",\"left_units\":\"screen\",\"level\":\"overlay\",\"line_alpha\":1.0,\"line_color\":\"black\",\"line_dash\":[4,4],\"line_width\":2,\"right_units\":\"screen\",\"syncable\":false,\"top_units\":\"screen\"},\"id\":\"87492\",\"type\":\"BoxAnnotation\"},{\"attributes\":{},\"id\":\"87476\",\"type\":\"LinearScale\"},{\"attributes\":{\"axis_label_standoff\":10,\"axis_label_text_color\":\"#E0E0E0\",\"axis_label_text_font\":\"Helvetica\",\"axis_label_text_font_size\":\"1.25em\",\"axis_label_text_font_style\":\"normal\",\"axis_line_alpha\":0,\"axis_line_color\":\"#E0E0E0\",\"formatter\":{\"id\":\"87509\"},\"major_label_policy\":{\"id\":\"87511\"},\"major_label_text_color\":\"#E0E0E0\",\"major_label_text_font\":\"Helvetica\",\"major_label_text_font_size\":\"1.025em\",\"major_tick_line_alpha\":0,\"major_tick_line_color\":\"#E0E0E0\",\"minor_tick_line_alpha\":0,\"minor_tick_line_color\":\"#E0E0E0\",\"ticker\":{\"id\":\"87479\"}},\"id\":\"87478\",\"type\":\"LinearAxis\"},{\"attributes\":{},\"id\":\"87479\",\"type\":\"BasicTicker\"},{\"attributes\":{\"axis_label_standoff\":10,\"axis_label_text_color\":\"#E0E0E0\",\"axis_label_text_font\":\"Helvetica\",\"axis_label_text_font_size\":\"1.25em\",\"axis_label_text_font_style\":\"normal\",\"axis_line_alpha\":0,\"axis_line_color\":\"#E0E0E0\",\"formatter\":{\"id\":\"87506\"},\"major_label_policy\":{\"id\":\"87508\"},\"major_label_text_color\":\"#E0E0E0\",\"major_label_text_font\":\"Helvetica\",\"major_label_text_font_size\":\"1.025em\",\"major_tick_line_alpha\":0,\"major_tick_line_color\":\"#E0E0E0\",\"minor_tick_line_alpha\":0,\"minor_tick_line_color\":\"#E0E0E0\",\"ticker\":{\"id\":\"87483\"}},\"id\":\"87482\",\"type\":\"LinearAxis\"},{\"attributes\":{},\"id\":\"87491\",\"type\":\"HelpTool\"},{\"attributes\":{\"source\":{\"id\":\"87500\"}},\"id\":\"87504\",\"type\":\"CDSView\"},{\"attributes\":{},\"id\":\"87512\",\"type\":\"UnionRenderers\"},{\"attributes\":{\"active_multi\":null,\"tools\":[{\"id\":\"87486\"},{\"id\":\"87487\"},{\"id\":\"87488\"},{\"id\":\"87489\"},{\"id\":\"87490\"},{\"id\":\"87491\"}]},\"id\":\"87493\",\"type\":\"Toolbar\"},{\"attributes\":{},\"id\":\"87487\",\"type\":\"WheelZoomTool\"},{\"attributes\":{\"background_fill_alpha\":0.25,\"background_fill_color\":\"#20262B\",\"border_line_alpha\":0,\"glyph_width\":15,\"items\":[{\"id\":\"87516\"}],\"label_standoff\":8,\"label_text_color\":\"#E0E0E0\",\"label_text_font\":\"Helvetica\",\"label_text_font_size\":\"1.025em\",\"spacing\":8},\"id\":\"87515\",\"type\":\"Legend\"},{\"attributes\":{},\"id\":\"87486\",\"type\":\"PanTool\"},{\"attributes\":{\"line_alpha\":0.1,\"line_color\":\"#1f77b4\",\"line_width\":2,\"x\":{\"field\":\"x\"},\"y\":{\"field\":\"y\"}},\"id\":\"87502\",\"type\":\"Line\"},{\"attributes\":{\"overlay\":{\"id\":\"87492\"}},\"id\":\"87488\",\"type\":\"BoxZoomTool\"},{\"attributes\":{},\"id\":\"87513\",\"type\":\"Selection\"},{\"attributes\":{},\"id\":\"87489\",\"type\":\"SaveTool\"},{\"attributes\":{\"line_color\":\"#1f77b4\",\"line_width\":2,\"x\":{\"field\":\"x\"},\"y\":{\"field\":\"y\"}},\"id\":\"87501\",\"type\":\"Line\"}],\"root_ids\":[\"87467\"]},\"title\":\"Bokeh Application\",\"version\":\"2.3.2\"}};\n",
       "  var render_items = [{\"docid\":\"b749ec9e-2c33-4fbc-b623-bd3415a639b3\",\"root_ids\":[\"87467\"],\"roots\":{\"87467\":\"c8b278f4-970c-4c0a-bd73-2d9907aebba4\"}}];\n",
       "  root.Bokeh.embed.embed_items_notebook(docs_json, render_items);\n",
       "\n",
       "  }\n",
       "  if (root.Bokeh !== undefined) {\n",
       "    embed_document(root);\n",
       "  } else {\n",
       "    var attempts = 0;\n",
       "    var timer = setInterval(function(root) {\n",
       "      if (root.Bokeh !== undefined) {\n",
       "        clearInterval(timer);\n",
       "        embed_document(root);\n",
       "      } else {\n",
       "        attempts++;\n",
       "        if (attempts > 100) {\n",
       "          clearInterval(timer);\n",
       "          console.log(\"Bokeh: ERROR: Unable to run BokehJS code because BokehJS library is missing\");\n",
       "        }\n",
       "      }\n",
       "    }, 10, root)\n",
       "  }\n",
       "})(window);"
      ],
      "application/vnd.bokehjs_exec.v0+json": ""
     },
     "metadata": {
      "application/vnd.bokehjs_exec.v0+json": {
       "id": "87467"
      }
     },
     "output_type": "display_data"
    }
   ],
   "source": [
    "# prepare some data\n",
    "x = [1, 2, 3, 4, 5]\n",
    "y = [6, 7, 2, 4, 5]\n",
    "\n",
    "# create new plot\n",
    "p = figure(title=\"Headline example\")\n",
    "\n",
    "# add line renderer with a legend\n",
    "p.line(x, y, legend_label=\"Temp.\", line_width=2)\n",
    "\n",
    "# change headline location to the left\n",
    "p.title_location = \"left\"\n",
    "\n",
    "# change headline text\n",
    "p.title.text = \"Changing headline text example\"\n",
    "\n",
    "# style the headline\n",
    "p.title.text_font_size = \"25px\"\n",
    "p.title.align = \"right\"\n",
    "p.title.background_fill_color = \"darkgrey\"\n",
    "p.title.text_color = \"white\"\n",
    "\n",
    "# show the results\n",
    "show(p)"
   ]
  },
  {
   "cell_type": "markdown",
   "id": "b406e4cb",
   "metadata": {},
   "source": [
    "## Using annotations "
   ]
  },
  {
   "cell_type": "code",
   "execution_count": 316,
   "id": "237a85de",
   "metadata": {},
   "outputs": [],
   "source": [
    "from bokeh.models import BoxAnnotation"
   ]
  },
  {
   "cell_type": "code",
   "execution_count": 317,
   "id": "8c430069",
   "metadata": {},
   "outputs": [],
   "source": [
    "low_box = BoxAnnotation(top=20, fill_alpha=0.2, fill_color=\"#F0E442\")\n",
    "mid_box = BoxAnnotation(bottom=20, top=80, fill_alpha=0.2, fill_color=\"#009E73\")\n",
    "high_box = BoxAnnotation(bottom=80, fill_alpha=0.2, fill_color=\"#F0E442\")"
   ]
  },
  {
   "cell_type": "code",
   "execution_count": 318,
   "id": "1c321657",
   "metadata": {},
   "outputs": [],
   "source": [
    "p.add_layout(low_box)\n",
    "p.add_layout(mid_box)\n",
    "p.add_layout(high_box)"
   ]
  },
  {
   "cell_type": "code",
   "execution_count": 319,
   "id": "c2856948",
   "metadata": {},
   "outputs": [
    {
     "data": {
      "text/html": [
       "\n",
       "\n",
       "\n",
       "\n",
       "\n",
       "\n",
       "  <div class=\"bk-root\" id=\"35403240-88a4-4cf3-8929-5a50692be746\" data-root-id=\"91933\"></div>\n"
      ]
     },
     "metadata": {},
     "output_type": "display_data"
    },
    {
     "data": {
      "application/javascript": [
       "(function(root) {\n",
       "  function embed_document(root) {\n",
       "    \n",
       "  var docs_json = {\"455e2f0d-c734-4711-84cd-74a11957a590\":{\"defs\":[],\"roots\":{\"references\":[{\"attributes\":{\"background_fill_color\":\"#20262B\",\"below\":[{\"id\":\"91944\"}],\"border_fill_color\":\"#15191C\",\"center\":[{\"id\":\"91947\"},{\"id\":\"91951\"},{\"id\":\"91971\"},{\"id\":\"91972\"},{\"id\":\"91973\"}],\"left\":[{\"id\":\"91948\"}],\"outline_line_alpha\":0.25,\"outline_line_color\":\"#E0E0E0\",\"renderers\":[{\"id\":\"91969\"}],\"title\":{\"id\":\"91934\"},\"toolbar\":{\"id\":\"91959\"},\"x_range\":{\"id\":\"91936\"},\"x_scale\":{\"id\":\"91940\"},\"y_range\":{\"id\":\"91938\"},\"y_scale\":{\"id\":\"91942\"}},\"id\":\"91933\",\"subtype\":\"Figure\",\"type\":\"Plot\"},{\"attributes\":{},\"id\":\"91940\",\"type\":\"LinearScale\"},{\"attributes\":{},\"id\":\"91942\",\"type\":\"LinearScale\"},{\"attributes\":{},\"id\":\"91945\",\"type\":\"BasicTicker\"},{\"attributes\":{},\"id\":\"91957\",\"type\":\"HelpTool\"},{\"attributes\":{\"axis_label_standoff\":10,\"axis_label_text_color\":\"#E0E0E0\",\"axis_label_text_font\":\"Helvetica\",\"axis_label_text_font_size\":\"1.25em\",\"axis_label_text_font_style\":\"normal\",\"axis_line_alpha\":0,\"axis_line_color\":\"#E0E0E0\",\"formatter\":{\"id\":\"93041\"},\"major_label_policy\":{\"id\":\"93043\"},\"major_label_text_color\":\"#E0E0E0\",\"major_label_text_font\":\"Helvetica\",\"major_label_text_font_size\":\"1.025em\",\"major_tick_line_alpha\":0,\"major_tick_line_color\":\"#E0E0E0\",\"minor_tick_line_alpha\":0,\"minor_tick_line_color\":\"#E0E0E0\",\"ticker\":{\"id\":\"91945\"}},\"id\":\"91944\",\"type\":\"LinearAxis\"},{\"attributes\":{\"axis_label_standoff\":10,\"axis_label_text_color\":\"#E0E0E0\",\"axis_label_text_font\":\"Helvetica\",\"axis_label_text_font_size\":\"1.25em\",\"axis_label_text_font_style\":\"normal\",\"axis_line_alpha\":0,\"axis_line_color\":\"#E0E0E0\",\"formatter\":{\"id\":\"93038\"},\"major_label_policy\":{\"id\":\"93040\"},\"major_label_text_color\":\"#E0E0E0\",\"major_label_text_font\":\"Helvetica\",\"major_label_text_font_size\":\"1.025em\",\"major_tick_line_alpha\":0,\"major_tick_line_color\":\"#E0E0E0\",\"minor_tick_line_alpha\":0,\"minor_tick_line_color\":\"#E0E0E0\",\"ticker\":{\"id\":\"91949\"}},\"id\":\"91948\",\"type\":\"LinearAxis\"},{\"attributes\":{},\"id\":\"93041\",\"type\":\"BasicTickFormatter\"},{\"attributes\":{\"axis\":{\"id\":\"91944\"},\"grid_line_alpha\":0.25,\"grid_line_color\":\"#E0E0E0\",\"ticker\":null},\"id\":\"91947\",\"type\":\"Grid\"},{\"attributes\":{\"axis\":{\"id\":\"91948\"},\"dimension\":1,\"grid_line_alpha\":0.25,\"grid_line_color\":\"#E0E0E0\",\"ticker\":null},\"id\":\"91951\",\"type\":\"Grid\"},{\"attributes\":{},\"id\":\"93043\",\"type\":\"AllLabels\"},{\"attributes\":{},\"id\":\"91949\",\"type\":\"BasicTicker\"},{\"attributes\":{\"line_alpha\":0.1,\"line_color\":\"#000000\",\"line_width\":2,\"x\":{\"field\":\"x\"},\"y\":{\"field\":\"y\"}},\"id\":\"91968\",\"type\":\"Line\"},{\"attributes\":{\"source\":{\"id\":\"91966\"}},\"id\":\"91970\",\"type\":\"CDSView\"},{\"attributes\":{},\"id\":\"91953\",\"type\":\"WheelZoomTool\"},{\"attributes\":{},\"id\":\"91952\",\"type\":\"PanTool\"},{\"attributes\":{\"line_color\":\"#000000\",\"line_width\":2,\"x\":{\"field\":\"x\"},\"y\":{\"field\":\"y\"}},\"id\":\"91967\",\"type\":\"Line\"},{\"attributes\":{\"overlay\":{\"id\":\"91958\"}},\"id\":\"91954\",\"type\":\"BoxZoomTool\"},{\"attributes\":{},\"id\":\"91955\",\"type\":\"SaveTool\"},{\"attributes\":{},\"id\":\"91956\",\"type\":\"ResetTool\"},{\"attributes\":{\"bottom\":20,\"fill_alpha\":0.2,\"fill_color\":\"#009E73\",\"top\":80},\"id\":\"91972\",\"type\":\"BoxAnnotation\"},{\"attributes\":{\"data\":{\"x\":[0,1,2,3,4,5,6,7,8,9,10,11,12,13,14,15,16,17,18,19,20,21,22,23,24,25,26,27,28,29,30,31,32,33,34,35,36,37,38,39,40,41,42,43,44,45,46,47,48,49,50],\"y\":[65,11,88,20,84,31,87,0,48,49,98,44,70,94,86,47,69,64,73,15,42,38,62,37,16,80,97,91,34,28,59,61,76,82,90,96,50,75,66,57,29,10,5,1,79,3,40,77,36,63,2]},\"selected\":{\"id\":\"93045\"},\"selection_policy\":{\"id\":\"93044\"}},\"id\":\"91966\",\"type\":\"ColumnDataSource\"},{\"attributes\":{},\"id\":\"93038\",\"type\":\"BasicTickFormatter\"},{\"attributes\":{},\"id\":\"93044\",\"type\":\"UnionRenderers\"},{\"attributes\":{\"text\":\"Box annotation example\",\"text_color\":\"#E0E0E0\",\"text_font\":\"Helvetica\",\"text_font_size\":\"1.15em\"},\"id\":\"91934\",\"type\":\"Title\"},{\"attributes\":{\"active_multi\":null,\"tools\":[{\"id\":\"91952\"},{\"id\":\"91953\"},{\"id\":\"91954\"},{\"id\":\"91955\"},{\"id\":\"91956\"},{\"id\":\"91957\"}]},\"id\":\"91959\",\"type\":\"Toolbar\"},{\"attributes\":{\"bottom\":80,\"fill_alpha\":0.2,\"fill_color\":\"#F0E442\"},\"id\":\"91973\",\"type\":\"BoxAnnotation\"},{\"attributes\":{},\"id\":\"93040\",\"type\":\"AllLabels\"},{\"attributes\":{\"data_source\":{\"id\":\"91966\"},\"glyph\":{\"id\":\"91967\"},\"hover_glyph\":null,\"muted_glyph\":null,\"nonselection_glyph\":{\"id\":\"91968\"},\"view\":{\"id\":\"91970\"}},\"id\":\"91969\",\"type\":\"GlyphRenderer\"},{\"attributes\":{\"fill_alpha\":0.2,\"fill_color\":\"#F0E442\",\"top\":20},\"id\":\"91971\",\"type\":\"BoxAnnotation\"},{\"attributes\":{\"bottom_units\":\"screen\",\"fill_alpha\":0.5,\"fill_color\":\"lightgrey\",\"left_units\":\"screen\",\"level\":\"overlay\",\"line_alpha\":1.0,\"line_color\":\"black\",\"line_dash\":[4,4],\"line_width\":2,\"right_units\":\"screen\",\"syncable\":false,\"top_units\":\"screen\"},\"id\":\"91958\",\"type\":\"BoxAnnotation\"},{\"attributes\":{},\"id\":\"91936\",\"type\":\"DataRange1d\"},{\"attributes\":{},\"id\":\"91938\",\"type\":\"DataRange1d\"},{\"attributes\":{},\"id\":\"93045\",\"type\":\"Selection\"}],\"root_ids\":[\"91933\"]},\"title\":\"Bokeh Application\",\"version\":\"2.3.2\"}};\n",
       "  var render_items = [{\"docid\":\"455e2f0d-c734-4711-84cd-74a11957a590\",\"root_ids\":[\"91933\"],\"roots\":{\"91933\":\"35403240-88a4-4cf3-8929-5a50692be746\"}}];\n",
       "  root.Bokeh.embed.embed_items_notebook(docs_json, render_items);\n",
       "\n",
       "  }\n",
       "  if (root.Bokeh !== undefined) {\n",
       "    embed_document(root);\n",
       "  } else {\n",
       "    var attempts = 0;\n",
       "    var timer = setInterval(function(root) {\n",
       "      if (root.Bokeh !== undefined) {\n",
       "        clearInterval(timer);\n",
       "        embed_document(root);\n",
       "      } else {\n",
       "        attempts++;\n",
       "        if (attempts > 100) {\n",
       "          clearInterval(timer);\n",
       "          console.log(\"Bokeh: ERROR: Unable to run BokehJS code because BokehJS library is missing\");\n",
       "        }\n",
       "      }\n",
       "    }, 10, root)\n",
       "  }\n",
       "})(window);"
      ],
      "application/vnd.bokehjs_exec.v0+json": ""
     },
     "metadata": {
      "application/vnd.bokehjs_exec.v0+json": {
       "id": "91933"
      }
     },
     "output_type": "display_data"
    }
   ],
   "source": [
    "import random\n",
    "\n",
    "# generate some data (1-50 for x, random values for y)\n",
    "x = list(range(0, 51))\n",
    "y = random.sample(range(0, 100), 51)\n",
    "\n",
    "# create new plot\n",
    "p = figure(title=\"Box annotation example\")\n",
    "\n",
    "# add line renderer\n",
    "line = p.line(x, y, line_color=\"#000000\", line_width=2)\n",
    "\n",
    "# add box annotations\n",
    "low_box = BoxAnnotation(top=20, fill_alpha=0.2, fill_color=\"#F0E442\")\n",
    "mid_box = BoxAnnotation(bottom=20, top=80, fill_alpha=0.2, fill_color=\"#009E73\")\n",
    "high_box = BoxAnnotation(bottom=80, fill_alpha=0.2, fill_color=\"#F0E442\")\n",
    "\n",
    "# add boxes to existing figure\n",
    "p.add_layout(low_box)\n",
    "p.add_layout(mid_box)\n",
    "p.add_layout(high_box)\n",
    "\n",
    "# show the results\n",
    "show(p)"
   ]
  },
  {
   "cell_type": "markdown",
   "id": "c42f2691",
   "metadata": {},
   "source": [
    "## Customizing the Theme"
   ]
  },
  {
   "cell_type": "code",
   "execution_count": 320,
   "id": "924da742",
   "metadata": {},
   "outputs": [
    {
     "data": {
      "text/html": [
       "\n",
       "\n",
       "\n",
       "\n",
       "\n",
       "\n",
       "  <div class=\"bk-root\" id=\"ec99aae0-747d-4aa6-853d-499725dcd2d8\" data-root-id=\"93208\"></div>\n"
      ]
     },
     "metadata": {},
     "output_type": "display_data"
    },
    {
     "data": {
      "application/javascript": [
       "(function(root) {\n",
       "  function embed_document(root) {\n",
       "    \n",
       "  var docs_json = {\"5d6a7605-8ab8-4a2c-a54e-3a4ad0551b89\":{\"defs\":[],\"roots\":{\"references\":[{\"attributes\":{\"background_fill_color\":\"#20262B\",\"below\":[{\"id\":\"93217\"}],\"border_fill_color\":\"#15191C\",\"center\":[{\"id\":\"93220\"},{\"id\":\"93224\"}],\"height\":250,\"left\":[{\"id\":\"93221\"}],\"max_width\":500,\"outline_line_alpha\":0.25,\"outline_line_color\":\"#E0E0E0\",\"renderers\":[{\"id\":\"93242\"}],\"sizing_mode\":\"stretch_width\",\"title\":{\"id\":\"94318\"},\"toolbar\":{\"id\":\"93232\"},\"x_range\":{\"id\":\"93209\"},\"x_scale\":{\"id\":\"93213\"},\"y_range\":{\"id\":\"93211\"},\"y_scale\":{\"id\":\"93215\"}},\"id\":\"93208\",\"subtype\":\"Figure\",\"type\":\"Plot\"},{\"attributes\":{},\"id\":\"94322\",\"type\":\"BasicTickFormatter\"},{\"attributes\":{\"axis\":{\"id\":\"93217\"},\"grid_line_alpha\":0.25,\"grid_line_color\":\"#E0E0E0\",\"ticker\":null},\"id\":\"93220\",\"type\":\"Grid\"},{\"attributes\":{\"axis\":{\"id\":\"93221\"},\"dimension\":1,\"grid_line_alpha\":0.25,\"grid_line_color\":\"#E0E0E0\",\"ticker\":null},\"id\":\"93224\",\"type\":\"Grid\"},{\"attributes\":{\"bottom_units\":\"screen\",\"fill_alpha\":0.5,\"fill_color\":\"lightgrey\",\"left_units\":\"screen\",\"level\":\"overlay\",\"line_alpha\":1.0,\"line_color\":\"black\",\"line_dash\":[4,4],\"line_width\":2,\"right_units\":\"screen\",\"syncable\":false,\"top_units\":\"screen\"},\"id\":\"93231\",\"type\":\"BoxAnnotation\"},{\"attributes\":{\"axis_label_standoff\":10,\"axis_label_text_color\":\"#E0E0E0\",\"axis_label_text_font\":\"Helvetica\",\"axis_label_text_font_size\":\"1.25em\",\"axis_label_text_font_style\":\"normal\",\"axis_line_alpha\":0,\"axis_line_color\":\"#E0E0E0\",\"formatter\":{\"id\":\"94319\"},\"major_label_policy\":{\"id\":\"94321\"},\"major_label_text_color\":\"#E0E0E0\",\"major_label_text_font\":\"Helvetica\",\"major_label_text_font_size\":\"1.025em\",\"major_tick_line_alpha\":0,\"major_tick_line_color\":\"#E0E0E0\",\"minor_tick_line_alpha\":0,\"minor_tick_line_color\":\"#E0E0E0\",\"ticker\":{\"id\":\"93222\"}},\"id\":\"93221\",\"type\":\"LinearAxis\"},{\"attributes\":{},\"id\":\"93222\",\"type\":\"BasicTicker\"},{\"attributes\":{},\"id\":\"93226\",\"type\":\"WheelZoomTool\"},{\"attributes\":{},\"id\":\"94324\",\"type\":\"AllLabels\"},{\"attributes\":{\"text_color\":\"#E0E0E0\",\"text_font\":\"Helvetica\",\"text_font_size\":\"1.15em\"},\"id\":\"94318\",\"type\":\"Title\"},{\"attributes\":{},\"id\":\"93225\",\"type\":\"PanTool\"},{\"attributes\":{},\"id\":\"94321\",\"type\":\"AllLabels\"},{\"attributes\":{},\"id\":\"93229\",\"type\":\"ResetTool\"},{\"attributes\":{},\"id\":\"93211\",\"type\":\"DataRange1d\"},{\"attributes\":{\"line_alpha\":0.1,\"line_color\":\"#1f77b4\",\"x\":{\"field\":\"x\"},\"y\":{\"field\":\"y\"}},\"id\":\"93241\",\"type\":\"Line\"},{\"attributes\":{},\"id\":\"94325\",\"type\":\"UnionRenderers\"},{\"attributes\":{\"source\":{\"id\":\"93239\"}},\"id\":\"93243\",\"type\":\"CDSView\"},{\"attributes\":{\"line_color\":\"#1f77b4\",\"x\":{\"field\":\"x\"},\"y\":{\"field\":\"y\"}},\"id\":\"93240\",\"type\":\"Line\"},{\"attributes\":{},\"id\":\"93230\",\"type\":\"HelpTool\"},{\"attributes\":{},\"id\":\"93209\",\"type\":\"DataRange1d\"},{\"attributes\":{},\"id\":\"94326\",\"type\":\"Selection\"},{\"attributes\":{},\"id\":\"93213\",\"type\":\"LinearScale\"},{\"attributes\":{\"active_multi\":null,\"tools\":[{\"id\":\"93225\"},{\"id\":\"93226\"},{\"id\":\"93227\"},{\"id\":\"93228\"},{\"id\":\"93229\"},{\"id\":\"93230\"}]},\"id\":\"93232\",\"type\":\"Toolbar\"},{\"attributes\":{\"axis_label_standoff\":10,\"axis_label_text_color\":\"#E0E0E0\",\"axis_label_text_font\":\"Helvetica\",\"axis_label_text_font_size\":\"1.25em\",\"axis_label_text_font_style\":\"normal\",\"axis_line_alpha\":0,\"axis_line_color\":\"#E0E0E0\",\"formatter\":{\"id\":\"94322\"},\"major_label_policy\":{\"id\":\"94324\"},\"major_label_text_color\":\"#E0E0E0\",\"major_label_text_font\":\"Helvetica\",\"major_label_text_font_size\":\"1.025em\",\"major_tick_line_alpha\":0,\"major_tick_line_color\":\"#E0E0E0\",\"minor_tick_line_alpha\":0,\"minor_tick_line_color\":\"#E0E0E0\",\"ticker\":{\"id\":\"93218\"}},\"id\":\"93217\",\"type\":\"LinearAxis\"},{\"attributes\":{},\"id\":\"93218\",\"type\":\"BasicTicker\"},{\"attributes\":{},\"id\":\"93228\",\"type\":\"SaveTool\"},{\"attributes\":{\"data_source\":{\"id\":\"93239\"},\"glyph\":{\"id\":\"93240\"},\"hover_glyph\":null,\"muted_glyph\":null,\"nonselection_glyph\":{\"id\":\"93241\"},\"view\":{\"id\":\"93243\"}},\"id\":\"93242\",\"type\":\"GlyphRenderer\"},{\"attributes\":{},\"id\":\"93215\",\"type\":\"LinearScale\"},{\"attributes\":{},\"id\":\"94319\",\"type\":\"BasicTickFormatter\"},{\"attributes\":{\"data\":{\"x\":[1,2,3,4,5],\"y\":[4,5,5,7,2]},\"selected\":{\"id\":\"94326\"},\"selection_policy\":{\"id\":\"94325\"}},\"id\":\"93239\",\"type\":\"ColumnDataSource\"},{\"attributes\":{\"overlay\":{\"id\":\"93231\"}},\"id\":\"93227\",\"type\":\"BoxZoomTool\"}],\"root_ids\":[\"93208\"]},\"title\":\"Bokeh Application\",\"version\":\"2.3.2\"}};\n",
       "  var render_items = [{\"docid\":\"5d6a7605-8ab8-4a2c-a54e-3a4ad0551b89\",\"root_ids\":[\"93208\"],\"roots\":{\"93208\":\"ec99aae0-747d-4aa6-853d-499725dcd2d8\"}}];\n",
       "  root.Bokeh.embed.embed_items_notebook(docs_json, render_items);\n",
       "\n",
       "  }\n",
       "  if (root.Bokeh !== undefined) {\n",
       "    embed_document(root);\n",
       "  } else {\n",
       "    var attempts = 0;\n",
       "    var timer = setInterval(function(root) {\n",
       "      if (root.Bokeh !== undefined) {\n",
       "        clearInterval(timer);\n",
       "        embed_document(root);\n",
       "      } else {\n",
       "        attempts++;\n",
       "        if (attempts > 100) {\n",
       "          clearInterval(timer);\n",
       "          console.log(\"Bokeh: ERROR: Unable to run BokehJS code because BokehJS library is missing\");\n",
       "        }\n",
       "      }\n",
       "    }, 10, root)\n",
       "  }\n",
       "})(window);"
      ],
      "application/vnd.bokehjs_exec.v0+json": ""
     },
     "metadata": {
      "application/vnd.bokehjs_exec.v0+json": {
       "id": "93208"
      }
     },
     "output_type": "display_data"
    }
   ],
   "source": [
    "from bokeh.io import curdoc\n",
    "\n",
    "# prepare some data\n",
    "x = [1, 2, 3, 4, 5]\n",
    "y = [4, 5, 5, 7, 2]\n",
    "\n",
    "# apply theme to current document\n",
    "curdoc().theme = \"dark_minimal\"\n",
    "\n",
    "# create a plot\n",
    "p = figure(sizing_mode=\"stretch_width\", max_width=500, height=250)\n",
    "\n",
    "# add a renderer\n",
    "p.line(x, y)\n",
    "\n",
    "# show the results\n",
    "show(p)"
   ]
  },
  {
   "cell_type": "code",
   "execution_count": 321,
   "id": "291e90eb",
   "metadata": {},
   "outputs": [
    {
     "data": {
      "text/html": [
       "\n",
       "\n",
       "\n",
       "\n",
       "\n",
       "\n",
       "  <div class=\"bk-root\" id=\"fbb1ce84-f833-43f2-b729-59dd5ef2eb8a\" data-root-id=\"94505\"></div>\n"
      ]
     },
     "metadata": {},
     "output_type": "display_data"
    },
    {
     "data": {
      "application/javascript": [
       "(function(root) {\n",
       "  function embed_document(root) {\n",
       "    \n",
       "  var docs_json = {\"0374ac82-bcff-4426-99b3-0e44771d7e4b\":{\"defs\":[],\"roots\":{\"references\":[{\"attributes\":{\"background_fill_color\":\"#20262B\",\"below\":[{\"id\":\"94516\"}],\"border_fill_color\":\"#15191C\",\"center\":[{\"id\":\"94519\"},{\"id\":\"94523\"}],\"height\":150,\"left\":[{\"id\":\"94520\"}],\"outline_line_alpha\":0.25,\"outline_line_color\":\"#E0E0E0\",\"renderers\":[{\"id\":\"94541\"}],\"sizing_mode\":\"stretch_width\",\"title\":{\"id\":\"94506\"},\"toolbar\":{\"id\":\"94531\"},\"width\":450,\"x_range\":{\"id\":\"94508\"},\"x_scale\":{\"id\":\"94512\"},\"y_range\":{\"id\":\"94510\"},\"y_scale\":{\"id\":\"94514\"}},\"id\":\"94505\",\"subtype\":\"Figure\",\"type\":\"Plot\"},{\"attributes\":{},\"id\":\"94521\",\"type\":\"BasicTicker\"},{\"attributes\":{\"active_multi\":null,\"tools\":[{\"id\":\"94524\"},{\"id\":\"94525\"},{\"id\":\"94526\"},{\"id\":\"94527\"},{\"id\":\"94528\"},{\"id\":\"94529\"}]},\"id\":\"94531\",\"type\":\"Toolbar\"},{\"attributes\":{},\"id\":\"94529\",\"type\":\"HelpTool\"},{\"attributes\":{\"data_source\":{\"id\":\"94538\"},\"glyph\":{\"id\":\"94539\"},\"hover_glyph\":null,\"muted_glyph\":null,\"nonselection_glyph\":{\"id\":\"94540\"},\"view\":{\"id\":\"94542\"}},\"id\":\"94541\",\"type\":\"GlyphRenderer\"},{\"attributes\":{},\"id\":\"94524\",\"type\":\"PanTool\"},{\"attributes\":{},\"id\":\"95634\",\"type\":\"UnionRenderers\"},{\"attributes\":{\"source\":{\"id\":\"94538\"}},\"id\":\"94542\",\"type\":\"CDSView\"},{\"attributes\":{\"overlay\":{\"id\":\"94530\"}},\"id\":\"94526\",\"type\":\"BoxZoomTool\"},{\"attributes\":{},\"id\":\"95628\",\"type\":\"BasicTickFormatter\"},{\"attributes\":{},\"id\":\"94527\",\"type\":\"SaveTool\"},{\"attributes\":{},\"id\":\"94528\",\"type\":\"ResetTool\"},{\"attributes\":{},\"id\":\"95635\",\"type\":\"Selection\"},{\"attributes\":{\"fill_color\":{\"value\":\"red\"},\"line_color\":{\"value\":\"#1f77b4\"},\"size\":{\"value\":15},\"x\":{\"field\":\"x\"},\"y\":{\"field\":\"y\"}},\"id\":\"94539\",\"type\":\"Circle\"},{\"attributes\":{\"fill_alpha\":{\"value\":0.1},\"fill_color\":{\"value\":\"red\"},\"line_alpha\":{\"value\":0.1},\"line_color\":{\"value\":\"#1f77b4\"},\"size\":{\"value\":15},\"x\":{\"field\":\"x\"},\"y\":{\"field\":\"y\"}},\"id\":\"94540\",\"type\":\"Circle\"},{\"attributes\":{\"text\":\"Plot sizing example\",\"text_color\":\"#E0E0E0\",\"text_font\":\"Helvetica\",\"text_font_size\":\"1.15em\"},\"id\":\"94506\",\"type\":\"Title\"},{\"attributes\":{\"data\":{\"x\":[1,2,3,4,5],\"y\":[4,5,5,7,2]},\"selected\":{\"id\":\"95635\"},\"selection_policy\":{\"id\":\"95634\"}},\"id\":\"94538\",\"type\":\"ColumnDataSource\"},{\"attributes\":{\"axis\":{\"id\":\"94516\"},\"grid_line_alpha\":0.25,\"grid_line_color\":\"#E0E0E0\",\"ticker\":null},\"id\":\"94519\",\"type\":\"Grid\"},{\"attributes\":{},\"id\":\"95630\",\"type\":\"AllLabels\"},{\"attributes\":{},\"id\":\"94512\",\"type\":\"LinearScale\"},{\"attributes\":{},\"id\":\"95631\",\"type\":\"BasicTickFormatter\"},{\"attributes\":{\"bottom_units\":\"screen\",\"fill_alpha\":0.5,\"fill_color\":\"lightgrey\",\"left_units\":\"screen\",\"level\":\"overlay\",\"line_alpha\":1.0,\"line_color\":\"black\",\"line_dash\":[4,4],\"line_width\":2,\"right_units\":\"screen\",\"syncable\":false,\"top_units\":\"screen\"},\"id\":\"94530\",\"type\":\"BoxAnnotation\"},{\"attributes\":{\"axis_label\":\"x\",\"axis_label_standoff\":10,\"axis_label_text_color\":\"#E0E0E0\",\"axis_label_text_font\":\"Helvetica\",\"axis_label_text_font_size\":\"1.25em\",\"axis_label_text_font_style\":\"normal\",\"axis_line_alpha\":0,\"axis_line_color\":\"#E0E0E0\",\"formatter\":{\"id\":\"95631\"},\"major_label_policy\":{\"id\":\"95633\"},\"major_label_text_color\":\"#E0E0E0\",\"major_label_text_font\":\"Helvetica\",\"major_label_text_font_size\":\"1.025em\",\"major_tick_line_alpha\":0,\"major_tick_line_color\":\"#E0E0E0\",\"minor_tick_line_alpha\":0,\"minor_tick_line_color\":\"#E0E0E0\",\"ticker\":{\"id\":\"94517\"}},\"id\":\"94516\",\"type\":\"LinearAxis\"},{\"attributes\":{},\"id\":\"94510\",\"type\":\"DataRange1d\"},{\"attributes\":{},\"id\":\"95633\",\"type\":\"AllLabels\"},{\"attributes\":{},\"id\":\"94508\",\"type\":\"DataRange1d\"},{\"attributes\":{},\"id\":\"94514\",\"type\":\"LinearScale\"},{\"attributes\":{},\"id\":\"94517\",\"type\":\"BasicTicker\"},{\"attributes\":{},\"id\":\"94525\",\"type\":\"WheelZoomTool\"},{\"attributes\":{\"axis_label\":\"y\",\"axis_label_standoff\":10,\"axis_label_text_color\":\"#E0E0E0\",\"axis_label_text_font\":\"Helvetica\",\"axis_label_text_font_size\":\"1.25em\",\"axis_label_text_font_style\":\"normal\",\"axis_line_alpha\":0,\"axis_line_color\":\"#E0E0E0\",\"formatter\":{\"id\":\"95628\"},\"major_label_policy\":{\"id\":\"95630\"},\"major_label_text_color\":\"#E0E0E0\",\"major_label_text_font\":\"Helvetica\",\"major_label_text_font_size\":\"1.025em\",\"major_tick_line_alpha\":0,\"major_tick_line_color\":\"#E0E0E0\",\"minor_tick_line_alpha\":0,\"minor_tick_line_color\":\"#E0E0E0\",\"ticker\":{\"id\":\"94521\"}},\"id\":\"94520\",\"type\":\"LinearAxis\"},{\"attributes\":{\"axis\":{\"id\":\"94520\"},\"dimension\":1,\"grid_line_alpha\":0.25,\"grid_line_color\":\"#E0E0E0\",\"ticker\":null},\"id\":\"94523\",\"type\":\"Grid\"}],\"root_ids\":[\"94505\"]},\"title\":\"Bokeh Application\",\"version\":\"2.3.2\"}};\n",
       "  var render_items = [{\"docid\":\"0374ac82-bcff-4426-99b3-0e44771d7e4b\",\"root_ids\":[\"94505\"],\"roots\":{\"94505\":\"fbb1ce84-f833-43f2-b729-59dd5ef2eb8a\"}}];\n",
       "  root.Bokeh.embed.embed_items_notebook(docs_json, render_items);\n",
       "\n",
       "  }\n",
       "  if (root.Bokeh !== undefined) {\n",
       "    embed_document(root);\n",
       "  } else {\n",
       "    var attempts = 0;\n",
       "    var timer = setInterval(function(root) {\n",
       "      if (root.Bokeh !== undefined) {\n",
       "        clearInterval(timer);\n",
       "        embed_document(root);\n",
       "      } else {\n",
       "        attempts++;\n",
       "        if (attempts > 100) {\n",
       "          clearInterval(timer);\n",
       "          console.log(\"Bokeh: ERROR: Unable to run BokehJS code because BokehJS library is missing\");\n",
       "        }\n",
       "      }\n",
       "    }, 10, root)\n",
       "  }\n",
       "})(window);"
      ],
      "application/vnd.bokehjs_exec.v0+json": ""
     },
     "metadata": {
      "application/vnd.bokehjs_exec.v0+json": {
       "id": "94505"
      }
     },
     "output_type": "display_data"
    }
   ],
   "source": [
    "# create a new plot with a specific size\n",
    "# Enabling responsive plot sizing\n",
    "p = figure(\n",
    "    title=\"Plot sizing example\",\n",
    "    sizing_mode=\"stretch_width\",\n",
    "    height=250,\n",
    "    x_axis_label=\"x\",\n",
    "    y_axis_label=\"y\",\n",
    ")\n",
    "\n",
    "p.width = 450\n",
    "p.height = 150\n",
    "\n",
    "# add circle renderer\n",
    "circle = p.circle(x, y, fill_color=\"red\", size=15)\n",
    "\n",
    "# show the results\n",
    "show(p)"
   ]
  },
  {
   "cell_type": "code",
   "execution_count": 322,
   "id": "31efd9fe",
   "metadata": {},
   "outputs": [
    {
     "data": {
      "text/html": [
       "\n",
       "\n",
       "\n",
       "\n",
       "\n",
       "\n",
       "  <div class=\"bk-root\" id=\"d524ba0a-d856-4dfe-8475-52565f4abf60\" data-root-id=\"95798\"></div>\n"
      ]
     },
     "metadata": {},
     "output_type": "display_data"
    },
    {
     "data": {
      "application/javascript": [
       "(function(root) {\n",
       "  function embed_document(root) {\n",
       "    \n",
       "  var docs_json = {\"792956ff-a5ae-4c9f-821a-1149c400a9d5\":{\"defs\":[],\"roots\":{\"references\":[{\"attributes\":{\"background_fill_color\":\"#20262B\",\"below\":[{\"id\":\"95809\"}],\"border_fill_color\":\"#15191C\",\"center\":[{\"id\":\"95812\"},{\"id\":\"95816\"}],\"height\":350,\"left\":[{\"id\":\"95813\"}],\"max_width\":500,\"outline_line_alpha\":0.25,\"outline_line_color\":\"#E0E0E0\",\"renderers\":[{\"id\":\"95834\"}],\"sizing_mode\":\"stretch_width\",\"title\":{\"id\":\"95799\"},\"toolbar\":{\"id\":\"95824\"},\"x_range\":{\"id\":\"95801\"},\"x_scale\":{\"id\":\"95805\"},\"y_range\":{\"id\":\"95803\"},\"y_scale\":{\"id\":\"95807\"}},\"id\":\"95798\",\"subtype\":\"Figure\",\"type\":\"Plot\"},{\"attributes\":{},\"id\":\"96937\",\"type\":\"UnionRenderers\"},{\"attributes\":{},\"id\":\"96933\",\"type\":\"AllLabels\"},{\"attributes\":{\"axis\":{\"id\":\"95813\"},\"dimension\":1,\"grid_line_alpha\":0.25,\"grid_line_color\":\"#E0E0E0\",\"ticker\":null},\"id\":\"95816\",\"type\":\"Grid\"},{\"attributes\":{},\"id\":\"95814\",\"type\":\"BasicTicker\"},{\"attributes\":{},\"id\":\"95818\",\"type\":\"WheelZoomTool\"},{\"attributes\":{},\"id\":\"96936\",\"type\":\"AllLabels\"},{\"attributes\":{\"overlay\":{\"id\":\"95823\"}},\"id\":\"95819\",\"type\":\"BoxZoomTool\"},{\"attributes\":{\"text\":\"Customized axes example\",\"text_color\":\"#E0E0E0\",\"text_font\":\"Helvetica\",\"text_font_size\":\"1.15em\"},\"id\":\"95799\",\"type\":\"Title\"},{\"attributes\":{},\"id\":\"95822\",\"type\":\"HelpTool\"},{\"attributes\":{},\"id\":\"96938\",\"type\":\"Selection\"},{\"attributes\":{\"data_source\":{\"id\":\"95831\"},\"glyph\":{\"id\":\"95832\"},\"hover_glyph\":null,\"muted_glyph\":null,\"nonselection_glyph\":{\"id\":\"95833\"},\"view\":{\"id\":\"95835\"}},\"id\":\"95834\",\"type\":\"GlyphRenderer\"},{\"attributes\":{\"axis\":{\"id\":\"95809\"},\"grid_line_alpha\":0.25,\"grid_line_color\":\"#E0E0E0\",\"ticker\":null},\"id\":\"95812\",\"type\":\"Grid\"},{\"attributes\":{},\"id\":\"96931\",\"type\":\"BasicTickFormatter\"},{\"attributes\":{},\"id\":\"95810\",\"type\":\"BasicTicker\"},{\"attributes\":{},\"id\":\"95801\",\"type\":\"DataRange1d\"},{\"attributes\":{\"active_multi\":null,\"tools\":[{\"id\":\"95817\"},{\"id\":\"95818\"},{\"id\":\"95819\"},{\"id\":\"95820\"},{\"id\":\"95821\"},{\"id\":\"95822\"}]},\"id\":\"95824\",\"type\":\"Toolbar\"},{\"attributes\":{},\"id\":\"95807\",\"type\":\"LinearScale\"},{\"attributes\":{\"data\":{\"x\":[1,2,3,4,5],\"y\":[4,5,5,7,2]},\"selected\":{\"id\":\"96938\"},\"selection_policy\":{\"id\":\"96937\"}},\"id\":\"95831\",\"type\":\"ColumnDataSource\"},{\"attributes\":{\"fill_alpha\":{\"value\":0.1},\"fill_color\":{\"value\":\"#1f77b4\"},\"line_alpha\":{\"value\":0.1},\"line_color\":{\"value\":\"#1f77b4\"},\"size\":{\"value\":10},\"x\":{\"field\":\"x\"},\"y\":{\"field\":\"y\"}},\"id\":\"95833\",\"type\":\"Circle\"},{\"attributes\":{\"axis_label\":\"Pressure\",\"axis_label_standoff\":10,\"axis_label_text_color\":\"#E0E0E0\",\"axis_label_text_font\":\"Helvetica\",\"axis_label_text_font_size\":\"1.25em\",\"axis_label_text_font_style\":\"normal\",\"axis_line_alpha\":0,\"axis_line_color\":\"#E0E0E0\",\"formatter\":{\"id\":\"96931\"},\"major_label_orientation\":\"vertical\",\"major_label_policy\":{\"id\":\"96933\"},\"major_label_text_color\":\"orange\",\"major_label_text_font\":\"Helvetica\",\"major_label_text_font_size\":\"1.025em\",\"major_tick_line_alpha\":0,\"major_tick_line_color\":\"#E0E0E0\",\"minor_tick_in\":-3,\"minor_tick_line_alpha\":0,\"minor_tick_line_color\":\"#E0E0E0\",\"minor_tick_out\":6,\"ticker\":{\"id\":\"95814\"}},\"id\":\"95813\",\"type\":\"LinearAxis\"},{\"attributes\":{\"source\":{\"id\":\"95831\"}},\"id\":\"95835\",\"type\":\"CDSView\"},{\"attributes\":{},\"id\":\"96934\",\"type\":\"BasicTickFormatter\"},{\"attributes\":{},\"id\":\"95820\",\"type\":\"SaveTool\"},{\"attributes\":{\"bottom_units\":\"screen\",\"fill_alpha\":0.5,\"fill_color\":\"lightgrey\",\"left_units\":\"screen\",\"level\":\"overlay\",\"line_alpha\":1.0,\"line_color\":\"black\",\"line_dash\":[4,4],\"line_width\":2,\"right_units\":\"screen\",\"syncable\":false,\"top_units\":\"screen\"},\"id\":\"95823\",\"type\":\"BoxAnnotation\"},{\"attributes\":{},\"id\":\"95803\",\"type\":\"DataRange1d\"},{\"attributes\":{},\"id\":\"95821\",\"type\":\"ResetTool\"},{\"attributes\":{},\"id\":\"95805\",\"type\":\"LinearScale\"},{\"attributes\":{\"axis_label\":\"Temp\",\"axis_label_standoff\":10,\"axis_label_text_color\":\"#E0E0E0\",\"axis_label_text_font\":\"Helvetica\",\"axis_label_text_font_size\":\"1.25em\",\"axis_label_text_font_style\":\"normal\",\"axis_line_alpha\":0,\"axis_line_color\":\"red\",\"axis_line_width\":3,\"formatter\":{\"id\":\"96934\"},\"major_label_policy\":{\"id\":\"96936\"},\"major_label_text_color\":\"#E0E0E0\",\"major_label_text_font\":\"Helvetica\",\"major_label_text_font_size\":\"1.025em\",\"major_tick_line_alpha\":0,\"major_tick_line_color\":\"#E0E0E0\",\"minor_tick_in\":-3,\"minor_tick_line_alpha\":0,\"minor_tick_line_color\":\"#E0E0E0\",\"minor_tick_out\":6,\"ticker\":{\"id\":\"95810\"}},\"id\":\"95809\",\"type\":\"LinearAxis\"},{\"attributes\":{\"fill_color\":{\"value\":\"#1f77b4\"},\"line_color\":{\"value\":\"#1f77b4\"},\"size\":{\"value\":10},\"x\":{\"field\":\"x\"},\"y\":{\"field\":\"y\"}},\"id\":\"95832\",\"type\":\"Circle\"},{\"attributes\":{},\"id\":\"95817\",\"type\":\"PanTool\"}],\"root_ids\":[\"95798\"]},\"title\":\"Bokeh Application\",\"version\":\"2.3.2\"}};\n",
       "  var render_items = [{\"docid\":\"792956ff-a5ae-4c9f-821a-1149c400a9d5\",\"root_ids\":[\"95798\"],\"roots\":{\"95798\":\"d524ba0a-d856-4dfe-8475-52565f4abf60\"}}];\n",
       "  root.Bokeh.embed.embed_items_notebook(docs_json, render_items);\n",
       "\n",
       "  }\n",
       "  if (root.Bokeh !== undefined) {\n",
       "    embed_document(root);\n",
       "  } else {\n",
       "    var attempts = 0;\n",
       "    var timer = setInterval(function(root) {\n",
       "      if (root.Bokeh !== undefined) {\n",
       "        clearInterval(timer);\n",
       "        embed_document(root);\n",
       "      } else {\n",
       "        attempts++;\n",
       "        if (attempts > 100) {\n",
       "          clearInterval(timer);\n",
       "          console.log(\"Bokeh: ERROR: Unable to run BokehJS code because BokehJS library is missing\");\n",
       "        }\n",
       "      }\n",
       "    }, 10, root)\n",
       "  }\n",
       "})(window);"
      ],
      "application/vnd.bokehjs_exec.v0+json": ""
     },
     "metadata": {
      "application/vnd.bokehjs_exec.v0+json": {
       "id": "95798"
      }
     },
     "output_type": "display_data"
    }
   ],
   "source": [
    "# prepare some data\n",
    "x = [1, 2, 3, 4, 5]\n",
    "y = [4, 5, 5, 7, 2]\n",
    "\n",
    "# create a plot\n",
    "p = figure(\n",
    "    title=\"Customized axes example\",\n",
    "    sizing_mode=\"stretch_width\",\n",
    "    max_width=500,\n",
    "    height=350,\n",
    ")\n",
    "\n",
    "# add a renderer\n",
    "p.circle(x, y, size=10)\n",
    "\n",
    "# change some things about the x-axis\n",
    "p.xaxis.axis_label = \"Temp\"\n",
    "p.xaxis.axis_line_width = 3\n",
    "p.xaxis.axis_line_color = \"red\"\n",
    "\n",
    "# change some things about the y-axis\n",
    "p.yaxis.axis_label = \"Pressure\"\n",
    "p.yaxis.major_label_text_color = \"orange\"\n",
    "p.yaxis.major_label_orientation = \"vertical\"\n",
    "\n",
    "# change things on all axes\n",
    "p.axis.minor_tick_in = -3\n",
    "p.axis.minor_tick_out = 6\n",
    "\n",
    "# show the results\n",
    "show(p)"
   ]
  },
  {
   "cell_type": "code",
   "execution_count": 323,
   "id": "04152b01",
   "metadata": {},
   "outputs": [
    {
     "data": {
      "text/html": [
       "\n",
       "\n",
       "\n",
       "\n",
       "\n",
       "\n",
       "  <div class=\"bk-root\" id=\"020b4d25-9118-416e-a868-43d570f0b8c3\" data-root-id=\"97101\"></div>\n"
      ]
     },
     "metadata": {},
     "output_type": "display_data"
    },
    {
     "data": {
      "application/javascript": [
       "(function(root) {\n",
       "  function embed_document(root) {\n",
       "    \n",
       "  var docs_json = {\"d37bcb6b-1f2f-42d5-85c2-68c6ef3d8e1a\":{\"defs\":[],\"roots\":{\"references\":[{\"attributes\":{\"background_fill_color\":\"#20262B\",\"below\":[{\"id\":\"97112\"}],\"border_fill_color\":\"#15191C\",\"center\":[{\"id\":\"97115\"},{\"id\":\"97119\"}],\"height\":250,\"left\":[{\"id\":\"97116\"}],\"max_width\":500,\"outline_line_alpha\":0.25,\"outline_line_color\":\"#E0E0E0\",\"renderers\":[{\"id\":\"97137\"}],\"sizing_mode\":\"stretch_width\",\"title\":{\"id\":\"97102\"},\"toolbar\":{\"id\":\"97127\"},\"x_range\":{\"id\":\"97104\"},\"x_scale\":{\"id\":\"97108\"},\"y_range\":{\"id\":\"97106\"},\"y_scale\":{\"id\":\"97110\"}},\"id\":\"97101\",\"subtype\":\"Figure\",\"type\":\"Plot\"},{\"attributes\":{\"axis\":{\"id\":\"97116\"},\"dimension\":1,\"grid_line_alpha\":0.25,\"grid_line_color\":\"#E0E0E0\",\"ticker\":null},\"id\":\"97119\",\"type\":\"Grid\"},{\"attributes\":{},\"id\":\"97110\",\"type\":\"LinearScale\"},{\"attributes\":{\"axis_label_standoff\":10,\"axis_label_text_color\":\"#E0E0E0\",\"axis_label_text_font\":\"Helvetica\",\"axis_label_text_font_size\":\"1.25em\",\"axis_label_text_font_style\":\"normal\",\"axis_line_alpha\":0,\"axis_line_color\":\"#E0E0E0\",\"formatter\":{\"id\":\"98247\"},\"major_label_policy\":{\"id\":\"98249\"},\"major_label_text_color\":\"#E0E0E0\",\"major_label_text_font\":\"Helvetica\",\"major_label_text_font_size\":\"1.025em\",\"major_tick_line_alpha\":0,\"major_tick_line_color\":\"#E0E0E0\",\"minor_tick_line_alpha\":0,\"minor_tick_line_color\":\"#E0E0E0\",\"ticker\":{\"id\":\"97113\"}},\"id\":\"97112\",\"type\":\"LinearAxis\"},{\"attributes\":{},\"id\":\"97121\",\"type\":\"WheelZoomTool\"},{\"attributes\":{\"data_source\":{\"id\":\"97134\"},\"glyph\":{\"id\":\"97135\"},\"hover_glyph\":null,\"muted_glyph\":null,\"nonselection_glyph\":{\"id\":\"97136\"},\"view\":{\"id\":\"97138\"}},\"id\":\"97137\",\"type\":\"GlyphRenderer\"},{\"attributes\":{\"end\":25},\"id\":\"97106\",\"type\":\"Range1d\"},{\"attributes\":{\"fill_color\":{\"value\":\"#1f77b4\"},\"line_color\":{\"value\":\"#1f77b4\"},\"size\":{\"value\":8},\"x\":{\"field\":\"x\"},\"y\":{\"field\":\"y\"}},\"id\":\"97135\",\"type\":\"Circle\"},{\"attributes\":{},\"id\":\"98246\",\"type\":\"AllLabels\"},{\"attributes\":{\"bottom_units\":\"screen\",\"fill_alpha\":0.5,\"fill_color\":\"lightgrey\",\"left_units\":\"screen\",\"level\":\"overlay\",\"line_alpha\":1.0,\"line_color\":\"black\",\"line_dash\":[4,4],\"line_width\":2,\"right_units\":\"screen\",\"syncable\":false,\"top_units\":\"screen\"},\"id\":\"97126\",\"type\":\"BoxAnnotation\"},{\"attributes\":{},\"id\":\"98247\",\"type\":\"BasicTickFormatter\"},{\"attributes\":{\"data\":{\"x\":[1,2,3,4,5],\"y\":[4,5,5,7,2]},\"selected\":{\"id\":\"98251\"},\"selection_policy\":{\"id\":\"98250\"}},\"id\":\"97134\",\"type\":\"ColumnDataSource\"},{\"attributes\":{\"text\":\"Axis range example\",\"text_color\":\"#E0E0E0\",\"text_font\":\"Helvetica\",\"text_font_size\":\"1.15em\"},\"id\":\"97102\",\"type\":\"Title\"},{\"attributes\":{\"fill_alpha\":{\"value\":0.1},\"fill_color\":{\"value\":\"#1f77b4\"},\"line_alpha\":{\"value\":0.1},\"line_color\":{\"value\":\"#1f77b4\"},\"size\":{\"value\":8},\"x\":{\"field\":\"x\"},\"y\":{\"field\":\"y\"}},\"id\":\"97136\",\"type\":\"Circle\"},{\"attributes\":{\"active_multi\":null,\"tools\":[{\"id\":\"97120\"},{\"id\":\"97121\"},{\"id\":\"97122\"},{\"id\":\"97123\"},{\"id\":\"97124\"},{\"id\":\"97125\"}]},\"id\":\"97127\",\"type\":\"Toolbar\"},{\"attributes\":{},\"id\":\"97125\",\"type\":\"HelpTool\"},{\"attributes\":{},\"id\":\"98251\",\"type\":\"Selection\"},{\"attributes\":{\"axis\":{\"id\":\"97112\"},\"grid_line_alpha\":0.25,\"grid_line_color\":\"#E0E0E0\",\"ticker\":null},\"id\":\"97115\",\"type\":\"Grid\"},{\"attributes\":{},\"id\":\"97104\",\"type\":\"DataRange1d\"},{\"attributes\":{\"axis_label_standoff\":10,\"axis_label_text_color\":\"#E0E0E0\",\"axis_label_text_font\":\"Helvetica\",\"axis_label_text_font_size\":\"1.25em\",\"axis_label_text_font_style\":\"normal\",\"axis_line_alpha\":0,\"axis_line_color\":\"#E0E0E0\",\"formatter\":{\"id\":\"98244\"},\"major_label_policy\":{\"id\":\"98246\"},\"major_label_text_color\":\"#E0E0E0\",\"major_label_text_font\":\"Helvetica\",\"major_label_text_font_size\":\"1.025em\",\"major_tick_line_alpha\":0,\"major_tick_line_color\":\"#E0E0E0\",\"minor_tick_line_alpha\":0,\"minor_tick_line_color\":\"#E0E0E0\",\"ticker\":{\"id\":\"97117\"}},\"id\":\"97116\",\"type\":\"LinearAxis\"},{\"attributes\":{},\"id\":\"98244\",\"type\":\"BasicTickFormatter\"},{\"attributes\":{},\"id\":\"97113\",\"type\":\"BasicTicker\"},{\"attributes\":{},\"id\":\"97123\",\"type\":\"SaveTool\"},{\"attributes\":{\"source\":{\"id\":\"97134\"}},\"id\":\"97138\",\"type\":\"CDSView\"},{\"attributes\":{\"overlay\":{\"id\":\"97126\"}},\"id\":\"97122\",\"type\":\"BoxZoomTool\"},{\"attributes\":{},\"id\":\"97108\",\"type\":\"LinearScale\"},{\"attributes\":{},\"id\":\"97124\",\"type\":\"ResetTool\"},{\"attributes\":{},\"id\":\"98249\",\"type\":\"AllLabels\"},{\"attributes\":{},\"id\":\"97117\",\"type\":\"BasicTicker\"},{\"attributes\":{},\"id\":\"97120\",\"type\":\"PanTool\"},{\"attributes\":{},\"id\":\"98250\",\"type\":\"UnionRenderers\"}],\"root_ids\":[\"97101\"]},\"title\":\"Bokeh Application\",\"version\":\"2.3.2\"}};\n",
       "  var render_items = [{\"docid\":\"d37bcb6b-1f2f-42d5-85c2-68c6ef3d8e1a\",\"root_ids\":[\"97101\"],\"roots\":{\"97101\":\"020b4d25-9118-416e-a868-43d570f0b8c3\"}}];\n",
       "  root.Bokeh.embed.embed_items_notebook(docs_json, render_items);\n",
       "\n",
       "  }\n",
       "  if (root.Bokeh !== undefined) {\n",
       "    embed_document(root);\n",
       "  } else {\n",
       "    var attempts = 0;\n",
       "    var timer = setInterval(function(root) {\n",
       "      if (root.Bokeh !== undefined) {\n",
       "        clearInterval(timer);\n",
       "        embed_document(root);\n",
       "      } else {\n",
       "        attempts++;\n",
       "        if (attempts > 100) {\n",
       "          clearInterval(timer);\n",
       "          console.log(\"Bokeh: ERROR: Unable to run BokehJS code because BokehJS library is missing\");\n",
       "        }\n",
       "      }\n",
       "    }, 10, root)\n",
       "  }\n",
       "})(window);"
      ],
      "application/vnd.bokehjs_exec.v0+json": ""
     },
     "metadata": {
      "application/vnd.bokehjs_exec.v0+json": {
       "id": "97101"
      }
     },
     "output_type": "display_data"
    }
   ],
   "source": [
    "p = figure(\n",
    "    y_range=(0, 25),\n",
    "    title=\"Axis range example\",\n",
    "    sizing_mode=\"stretch_width\",\n",
    "    max_width=500,\n",
    "    height=250,\n",
    ")\n",
    "\n",
    "# add circle renderer with additional arguments\n",
    "circle = p.circle(x, y, size=8)\n",
    "\n",
    "# show the results\n",
    "show(p)"
   ]
  },
  {
   "cell_type": "markdown",
   "id": "a9f72f75",
   "metadata": {},
   "source": [
    "## Formatting Axis Ticks"
   ]
  },
  {
   "cell_type": "code",
   "execution_count": 324,
   "id": "d289f8bf",
   "metadata": {},
   "outputs": [],
   "source": [
    "from bokeh.models import NumeralTickFormatter"
   ]
  },
  {
   "cell_type": "code",
   "execution_count": 325,
   "id": "a1bf49fa",
   "metadata": {},
   "outputs": [],
   "source": [
    "p.yaxis[0].formatter = NumeralTickFormatter(format=\"$0.00\")"
   ]
  },
  {
   "cell_type": "code",
   "execution_count": 326,
   "id": "cd12bb25",
   "metadata": {},
   "outputs": [
    {
     "data": {
      "text/html": [
       "\n",
       "\n",
       "\n",
       "\n",
       "\n",
       "\n",
       "  <div class=\"bk-root\" id=\"77ea009a-97b8-4c5d-8bc3-57ffa20f589d\" data-root-id=\"99529\"></div>\n"
      ]
     },
     "metadata": {},
     "output_type": "display_data"
    },
    {
     "data": {
      "application/javascript": [
       "(function(root) {\n",
       "  function embed_document(root) {\n",
       "    \n",
       "  var docs_json = {\"e106d54a-deeb-48f0-9706-a5a8839fd49a\":{\"defs\":[],\"roots\":{\"references\":[{\"attributes\":{\"background_fill_color\":\"#20262B\",\"below\":[{\"id\":\"99540\"}],\"border_fill_color\":\"#15191C\",\"center\":[{\"id\":\"99543\"},{\"id\":\"99547\"}],\"height\":250,\"left\":[{\"id\":\"99544\"}],\"max_width\":500,\"outline_line_alpha\":0.25,\"outline_line_color\":\"#E0E0E0\",\"renderers\":[{\"id\":\"99567\"},{\"id\":\"99572\"}],\"sizing_mode\":\"stretch_width\",\"title\":{\"id\":\"99530\"},\"toolbar\":{\"id\":\"99555\"},\"x_range\":{\"id\":\"99532\"},\"x_scale\":{\"id\":\"99536\"},\"y_range\":{\"id\":\"99534\"},\"y_scale\":{\"id\":\"99538\"}},\"id\":\"99529\",\"subtype\":\"Figure\",\"type\":\"Plot\"},{\"attributes\":{},\"id\":\"99548\",\"type\":\"PanTool\"},{\"attributes\":{\"axis_label_standoff\":10,\"axis_label_text_color\":\"#E0E0E0\",\"axis_label_text_font\":\"Helvetica\",\"axis_label_text_font_size\":\"1.25em\",\"axis_label_text_font_style\":\"normal\",\"axis_line_alpha\":0,\"axis_line_color\":\"#E0E0E0\",\"formatter\":{\"id\":\"100690\"},\"major_label_policy\":{\"id\":\"100692\"},\"major_label_text_color\":\"#E0E0E0\",\"major_label_text_font\":\"Helvetica\",\"major_label_text_font_size\":\"1.025em\",\"major_tick_line_alpha\":0,\"major_tick_line_color\":\"#E0E0E0\",\"minor_tick_line_alpha\":0,\"minor_tick_line_color\":\"#E0E0E0\",\"ticker\":{\"id\":\"99541\"}},\"id\":\"99540\",\"type\":\"LinearAxis\"},{\"attributes\":{},\"id\":\"99545\",\"type\":\"BasicTicker\"},{\"attributes\":{\"line_alpha\":0.1,\"line_color\":\"navy\",\"x\":{\"field\":\"x\"},\"y\":{\"field\":\"y\"}},\"id\":\"99571\",\"type\":\"Line\"},{\"attributes\":{\"active_multi\":null,\"tools\":[{\"id\":\"99548\"},{\"id\":\"99549\"},{\"id\":\"99550\"},{\"id\":\"99551\"},{\"id\":\"99552\"},{\"id\":\"99553\"}]},\"id\":\"99555\",\"type\":\"Toolbar\"},{\"attributes\":{},\"id\":\"99551\",\"type\":\"SaveTool\"},{\"attributes\":{},\"id\":\"99552\",\"type\":\"ResetTool\"},{\"attributes\":{},\"id\":\"100689\",\"type\":\"AllLabels\"},{\"attributes\":{},\"id\":\"99536\",\"type\":\"LinearScale\"},{\"attributes\":{},\"id\":\"99541\",\"type\":\"BasicTicker\"},{\"attributes\":{},\"id\":\"100693\",\"type\":\"UnionRenderers\"},{\"attributes\":{\"data_source\":{\"id\":\"99564\"},\"glyph\":{\"id\":\"99565\"},\"hover_glyph\":null,\"muted_glyph\":null,\"nonselection_glyph\":{\"id\":\"99566\"},\"view\":{\"id\":\"99568\"}},\"id\":\"99567\",\"type\":\"GlyphRenderer\"},{\"attributes\":{},\"id\":\"99538\",\"type\":\"LinearScale\"},{\"attributes\":{\"axis\":{\"id\":\"99544\"},\"dimension\":1,\"grid_line_alpha\":0.25,\"grid_line_color\":\"#E0E0E0\",\"ticker\":null},\"id\":\"99547\",\"type\":\"Grid\"},{\"attributes\":{},\"id\":\"100694\",\"type\":\"Selection\"},{\"attributes\":{\"text\":\"Tick formatter example\",\"text_color\":\"#E0E0E0\",\"text_font\":\"Helvetica\",\"text_font_size\":\"1.15em\"},\"id\":\"99530\",\"type\":\"Title\"},{\"attributes\":{},\"id\":\"100690\",\"type\":\"BasicTickFormatter\"},{\"attributes\":{\"fill_alpha\":{\"value\":0.1},\"fill_color\":{\"value\":\"#1f77b4\"},\"line_alpha\":{\"value\":0.1},\"line_color\":{\"value\":\"#1f77b4\"},\"size\":{\"value\":8},\"x\":{\"field\":\"x\"},\"y\":{\"field\":\"y\"}},\"id\":\"99566\",\"type\":\"Circle\"},{\"attributes\":{},\"id\":\"100695\",\"type\":\"UnionRenderers\"},{\"attributes\":{\"data\":{\"x\":[1,2,3,4,5],\"y\":[4,5,5,7,2]},\"selected\":{\"id\":\"100694\"},\"selection_policy\":{\"id\":\"100693\"}},\"id\":\"99564\",\"type\":\"ColumnDataSource\"},{\"attributes\":{\"overlay\":{\"id\":\"99554\"}},\"id\":\"99550\",\"type\":\"BoxZoomTool\"},{\"attributes\":{},\"id\":\"99534\",\"type\":\"DataRange1d\"},{\"attributes\":{},\"id\":\"99532\",\"type\":\"DataRange1d\"},{\"attributes\":{\"source\":{\"id\":\"99564\"}},\"id\":\"99568\",\"type\":\"CDSView\"},{\"attributes\":{},\"id\":\"99549\",\"type\":\"WheelZoomTool\"},{\"attributes\":{\"bottom_units\":\"screen\",\"fill_alpha\":0.5,\"fill_color\":\"lightgrey\",\"left_units\":\"screen\",\"level\":\"overlay\",\"line_alpha\":1.0,\"line_color\":\"black\",\"line_dash\":[4,4],\"line_width\":2,\"right_units\":\"screen\",\"syncable\":false,\"top_units\":\"screen\"},\"id\":\"99554\",\"type\":\"BoxAnnotation\"},{\"attributes\":{},\"id\":\"100692\",\"type\":\"AllLabels\"},{\"attributes\":{\"format\":\"$0.00\"},\"id\":\"99562\",\"type\":\"NumeralTickFormatter\"},{\"attributes\":{},\"id\":\"99553\",\"type\":\"HelpTool\"},{\"attributes\":{\"data_source\":{\"id\":\"99569\"},\"glyph\":{\"id\":\"99570\"},\"hover_glyph\":null,\"muted_glyph\":null,\"nonselection_glyph\":{\"id\":\"99571\"},\"view\":{\"id\":\"99573\"}},\"id\":\"99572\",\"type\":\"GlyphRenderer\"},{\"attributes\":{\"line_color\":\"navy\",\"x\":{\"field\":\"x\"},\"y\":{\"field\":\"y\"}},\"id\":\"99570\",\"type\":\"Line\"},{\"attributes\":{\"axis_label_standoff\":10,\"axis_label_text_color\":\"#E0E0E0\",\"axis_label_text_font\":\"Helvetica\",\"axis_label_text_font_size\":\"1.25em\",\"axis_label_text_font_style\":\"normal\",\"axis_line_alpha\":0,\"axis_line_color\":\"#E0E0E0\",\"formatter\":{\"id\":\"99562\"},\"major_label_policy\":{\"id\":\"100689\"},\"major_label_text_color\":\"#E0E0E0\",\"major_label_text_font\":\"Helvetica\",\"major_label_text_font_size\":\"1.025em\",\"major_tick_line_alpha\":0,\"major_tick_line_color\":\"#E0E0E0\",\"minor_tick_line_alpha\":0,\"minor_tick_line_color\":\"#E0E0E0\",\"ticker\":{\"id\":\"99545\"}},\"id\":\"99544\",\"type\":\"LinearAxis\"},{\"attributes\":{\"axis\":{\"id\":\"99540\"},\"grid_line_alpha\":0.25,\"grid_line_color\":\"#E0E0E0\",\"ticker\":null},\"id\":\"99543\",\"type\":\"Grid\"},{\"attributes\":{},\"id\":\"100696\",\"type\":\"Selection\"},{\"attributes\":{\"data\":{\"x\":[1,2,3,4,5],\"y\":[4,5,5,7,2]},\"selected\":{\"id\":\"100696\"},\"selection_policy\":{\"id\":\"100695\"}},\"id\":\"99569\",\"type\":\"ColumnDataSource\"},{\"attributes\":{\"source\":{\"id\":\"99569\"}},\"id\":\"99573\",\"type\":\"CDSView\"},{\"attributes\":{\"fill_color\":{\"value\":\"#1f77b4\"},\"line_color\":{\"value\":\"#1f77b4\"},\"size\":{\"value\":8},\"x\":{\"field\":\"x\"},\"y\":{\"field\":\"y\"}},\"id\":\"99565\",\"type\":\"Circle\"}],\"root_ids\":[\"99529\"]},\"title\":\"Bokeh Application\",\"version\":\"2.3.2\"}};\n",
       "  var render_items = [{\"docid\":\"e106d54a-deeb-48f0-9706-a5a8839fd49a\",\"root_ids\":[\"99529\"],\"roots\":{\"99529\":\"77ea009a-97b8-4c5d-8bc3-57ffa20f589d\"}}];\n",
       "  root.Bokeh.embed.embed_items_notebook(docs_json, render_items);\n",
       "\n",
       "  }\n",
       "  if (root.Bokeh !== undefined) {\n",
       "    embed_document(root);\n",
       "  } else {\n",
       "    var attempts = 0;\n",
       "    var timer = setInterval(function(root) {\n",
       "      if (root.Bokeh !== undefined) {\n",
       "        clearInterval(timer);\n",
       "        embed_document(root);\n",
       "      } else {\n",
       "        attempts++;\n",
       "        if (attempts > 100) {\n",
       "          clearInterval(timer);\n",
       "          console.log(\"Bokeh: ERROR: Unable to run BokehJS code because BokehJS library is missing\");\n",
       "        }\n",
       "      }\n",
       "    }, 10, root)\n",
       "  }\n",
       "})(window);"
      ],
      "application/vnd.bokehjs_exec.v0+json": ""
     },
     "metadata": {
      "application/vnd.bokehjs_exec.v0+json": {
       "id": "99529"
      }
     },
     "output_type": "display_data"
    }
   ],
   "source": [
    "# create new plot\n",
    "p = figure(\n",
    "    title=\"Tick formatter example\",\n",
    "    sizing_mode=\"stretch_width\",\n",
    "    max_width=500,\n",
    "    height=250,\n",
    ")\n",
    "\n",
    "# format axes ticks\n",
    "p.yaxis[0].formatter = NumeralTickFormatter(format=\"$0.00\")\n",
    "\n",
    "# add renderers\n",
    "p.circle(x, y, size=8)\n",
    "p.line(x, y, color=\"navy\", line_width=1)\n",
    "\n",
    "# show the results\n",
    "show(p)"
   ]
  },
  {
   "cell_type": "markdown",
   "id": "583846dd",
   "metadata": {},
   "source": [
    "## Enabling logarithmic axes"
   ]
  },
  {
   "cell_type": "code",
   "execution_count": 327,
   "id": "a727558e",
   "metadata": {},
   "outputs": [
    {
     "data": {
      "text/html": [
       "\n",
       "\n",
       "\n",
       "\n",
       "\n",
       "\n",
       "  <div class=\"bk-root\" id=\"1aed0eb6-dd44-43f5-a613-1c5d6607784b\" data-root-id=\"100875\"></div>\n"
      ]
     },
     "metadata": {},
     "output_type": "display_data"
    },
    {
     "data": {
      "application/javascript": [
       "(function(root) {\n",
       "  function embed_document(root) {\n",
       "    \n",
       "  var docs_json = {\"5aaad3be-20bf-480c-887f-2b245b8efccd\":{\"defs\":[],\"roots\":{\"references\":[{\"attributes\":{\"background_fill_color\":\"#20262B\",\"below\":[{\"id\":\"100886\"}],\"border_fill_color\":\"#15191C\",\"center\":[{\"id\":\"100889\"},{\"id\":\"100893\"},{\"id\":\"100923\"}],\"height\":300,\"left\":[{\"id\":\"100890\"}],\"max_width\":500,\"outline_line_alpha\":0.25,\"outline_line_color\":\"#E0E0E0\",\"renderers\":[{\"id\":\"100911\"},{\"id\":\"100928\"},{\"id\":\"100945\"},{\"id\":\"100965\"},{\"id\":\"100987\"},{\"id\":\"101010\"}],\"sizing_mode\":\"stretch_width\",\"title\":{\"id\":\"100876\"},\"toolbar\":{\"id\":\"100901\"},\"x_range\":{\"id\":\"100878\"},\"x_scale\":{\"id\":\"100882\"},\"y_range\":{\"id\":\"100880\"},\"y_scale\":{\"id\":\"100884\"}},\"id\":\"100875\",\"subtype\":\"Figure\",\"type\":\"Plot\"},{\"attributes\":{\"line_color\":\"orange\",\"line_dash\":[4,4],\"x\":{\"field\":\"x\"},\"y\":{\"field\":\"y\"}},\"id\":\"101008\",\"type\":\"Line\"},{\"attributes\":{\"text\":\"Logarithmic axis example\",\"text_color\":\"#E0E0E0\",\"text_font\":\"Helvetica\",\"text_font_size\":\"1.15em\"},\"id\":\"100876\",\"type\":\"Title\"},{\"attributes\":{},\"id\":\"100917\",\"type\":\"BasicTickFormatter\"},{\"attributes\":{\"data\":{\"x\":[0.1,0.5,1.0,1.5,2.0,2.5,3.0],\"y\":[0.1,0.5,1.0,1.5,2.0,2.5,3.0]},\"selected\":{\"id\":\"100940\"},\"selection_policy\":{\"id\":\"100939\"}},\"id\":\"100925\",\"type\":\"ColumnDataSource\"},{\"attributes\":{\"line_alpha\":0.1,\"line_color\":\"red\",\"x\":{\"field\":\"x\"},\"y\":{\"field\":\"y\"}},\"id\":\"100964\",\"type\":\"Line\"},{\"attributes\":{\"label\":{\"value\":\"y=10^x^2\"},\"renderers\":[{\"id\":\"101010\"}]},\"id\":\"101032\",\"type\":\"LegendItem\"},{\"attributes\":{\"data\":{\"x\":[0.1,0.5,1.0,1.5,2.0,2.5,3.0],\"y\":[1.2589254117941673,3.1622776601683795,10.0,31.622776601683793,100.0,316.22776601683796,1000.0]},\"selected\":{\"id\":\"100981\"},\"selection_policy\":{\"id\":\"100980\"}},\"id\":\"100962\",\"type\":\"ColumnDataSource\"},{\"attributes\":{},\"id\":\"100894\",\"type\":\"PanTool\"},{\"attributes\":{\"label\":{\"value\":\"y=10^x\"},\"renderers\":[{\"id\":\"100965\"},{\"id\":\"100987\"}]},\"id\":\"100983\",\"type\":\"LegendItem\"},{\"attributes\":{},\"id\":\"100921\",\"type\":\"Selection\"},{\"attributes\":{\"source\":{\"id\":\"100942\"}},\"id\":\"100946\",\"type\":\"CDSView\"},{\"attributes\":{\"active_multi\":null,\"tools\":[{\"id\":\"100894\"},{\"id\":\"100895\"},{\"id\":\"100896\"},{\"id\":\"100897\"},{\"id\":\"100898\"},{\"id\":\"100899\"}]},\"id\":\"100901\",\"type\":\"Toolbar\"},{\"attributes\":{\"data\":{\"x\":[0.1,0.5,1.0,1.5,2.0,2.5,3.0],\"y\":[0.010000000000000002,0.25,1.0,2.25,4.0,6.25,9.0]},\"selected\":{\"id\":\"100959\"},\"selection_policy\":{\"id\":\"100958\"}},\"id\":\"100942\",\"type\":\"ColumnDataSource\"},{\"attributes\":{},\"id\":\"100981\",\"type\":\"Selection\"},{\"attributes\":{},\"id\":\"100916\",\"type\":\"AllLabels\"},{\"attributes\":{\"line_alpha\":0.1,\"line_color\":\"orange\",\"line_dash\":[4,4],\"x\":{\"field\":\"x\"},\"y\":{\"field\":\"y\"}},\"id\":\"101009\",\"type\":\"Line\"},{\"attributes\":{\"data_source\":{\"id\":\"100962\"},\"glyph\":{\"id\":\"100963\"},\"hover_glyph\":null,\"muted_glyph\":null,\"nonselection_glyph\":{\"id\":\"100964\"},\"view\":{\"id\":\"100966\"}},\"id\":\"100965\",\"type\":\"GlyphRenderer\"},{\"attributes\":{\"source\":{\"id\":\"101007\"}},\"id\":\"101011\",\"type\":\"CDSView\"},{\"attributes\":{\"line_color\":\"#1f77b4\",\"x\":{\"field\":\"x\"},\"y\":{\"field\":\"y\"}},\"id\":\"100909\",\"type\":\"Line\"},{\"attributes\":{\"label\":{\"value\":\"y=x^2\"},\"renderers\":[{\"id\":\"100945\"}]},\"id\":\"100961\",\"type\":\"LegendItem\"},{\"attributes\":{\"background_fill_alpha\":0.25,\"background_fill_color\":\"#20262B\",\"border_line_alpha\":0,\"glyph_width\":15,\"items\":[{\"id\":\"100924\"},{\"id\":\"100961\"},{\"id\":\"100983\"},{\"id\":\"101032\"}],\"label_standoff\":8,\"label_text_color\":\"#E0E0E0\",\"label_text_font\":\"Helvetica\",\"label_text_font_size\":\"1.025em\",\"spacing\":8},\"id\":\"100923\",\"type\":\"Legend\"},{\"attributes\":{},\"id\":\"101004\",\"type\":\"UnionRenderers\"},{\"attributes\":{},\"id\":\"101030\",\"type\":\"Selection\"},{\"attributes\":{},\"id\":\"100920\",\"type\":\"UnionRenderers\"},{\"attributes\":{\"bottom_units\":\"screen\",\"fill_alpha\":0.5,\"fill_color\":\"lightgrey\",\"left_units\":\"screen\",\"level\":\"overlay\",\"line_alpha\":1.0,\"line_color\":\"black\",\"line_dash\":[4,4],\"line_width\":2,\"right_units\":\"screen\",\"syncable\":false,\"top_units\":\"screen\"},\"id\":\"100900\",\"type\":\"BoxAnnotation\"},{\"attributes\":{\"data_source\":{\"id\":\"100925\"},\"glyph\":{\"id\":\"100926\"},\"hover_glyph\":null,\"muted_glyph\":null,\"nonselection_glyph\":{\"id\":\"100927\"},\"view\":{\"id\":\"100929\"}},\"id\":\"100928\",\"type\":\"GlyphRenderer\"},{\"attributes\":{\"data_source\":{\"id\":\"100908\"},\"glyph\":{\"id\":\"100909\"},\"hover_glyph\":null,\"muted_glyph\":null,\"nonselection_glyph\":{\"id\":\"100910\"},\"view\":{\"id\":\"100912\"}},\"id\":\"100911\",\"type\":\"GlyphRenderer\"},{\"attributes\":{\"source\":{\"id\":\"100925\"}},\"id\":\"100929\",\"type\":\"CDSView\"},{\"attributes\":{},\"id\":\"100898\",\"type\":\"ResetTool\"},{\"attributes\":{},\"id\":\"100884\",\"type\":\"LogScale\"},{\"attributes\":{},\"id\":\"100882\",\"type\":\"LinearScale\"},{\"attributes\":{},\"id\":\"100939\",\"type\":\"UnionRenderers\"},{\"attributes\":{},\"id\":\"100899\",\"type\":\"HelpTool\"},{\"attributes\":{\"axis_label\":\"sections\",\"axis_label_standoff\":10,\"axis_label_text_color\":\"#E0E0E0\",\"axis_label_text_font\":\"Helvetica\",\"axis_label_text_font_size\":\"1.25em\",\"axis_label_text_font_style\":\"normal\",\"axis_line_alpha\":0,\"axis_line_color\":\"#E0E0E0\",\"formatter\":{\"id\":\"100917\"},\"major_label_policy\":{\"id\":\"100919\"},\"major_label_text_color\":\"#E0E0E0\",\"major_label_text_font\":\"Helvetica\",\"major_label_text_font_size\":\"1.025em\",\"major_tick_line_alpha\":0,\"major_tick_line_color\":\"#E0E0E0\",\"minor_tick_line_alpha\":0,\"minor_tick_line_color\":\"#E0E0E0\",\"ticker\":{\"id\":\"100887\"}},\"id\":\"100886\",\"type\":\"LinearAxis\"},{\"attributes\":{\"line_color\":\"#1f77b4\",\"line_width\":3,\"x\":{\"field\":\"x\"},\"y\":{\"field\":\"y\"}},\"id\":\"100943\",\"type\":\"Line\"},{\"attributes\":{\"data\":{\"x\":[0.1,0.5,1.0,1.5,2.0,2.5,3.0],\"y\":[1.2589254117941673,3.1622776601683795,10.0,31.622776601683793,100.0,316.22776601683796,1000.0]},\"selected\":{\"id\":\"101005\"},\"selection_policy\":{\"id\":\"101004\"}},\"id\":\"100984\",\"type\":\"ColumnDataSource\"},{\"attributes\":{\"fill_color\":{\"value\":\"red\"},\"line_color\":{\"value\":\"red\"},\"size\":{\"value\":6},\"x\":{\"field\":\"x\"},\"y\":{\"field\":\"y\"}},\"id\":\"100985\",\"type\":\"Circle\"},{\"attributes\":{\"data\":{\"x\":[0.1,0.5,1.0,1.5,2.0,2.5,3.0],\"y\":[1.023292992280754,1.7782794100389228,10.0,177.82794100389228,10000.0,1778279.410038923,1000000000.0]},\"selected\":{\"id\":\"101030\"},\"selection_policy\":{\"id\":\"101029\"}},\"id\":\"101007\",\"type\":\"ColumnDataSource\"},{\"attributes\":{\"line_alpha\":0.1,\"line_color\":\"#1f77b4\",\"line_width\":3,\"x\":{\"field\":\"x\"},\"y\":{\"field\":\"y\"}},\"id\":\"100944\",\"type\":\"Line\"},{\"attributes\":{},\"id\":\"100940\",\"type\":\"Selection\"},{\"attributes\":{\"data\":{\"x\":[0.1,0.5,1.0,1.5,2.0,2.5,3.0],\"y\":[0.1,0.5,1.0,1.5,2.0,2.5,3.0]},\"selected\":{\"id\":\"100921\"},\"selection_policy\":{\"id\":\"100920\"}},\"id\":\"100908\",\"type\":\"ColumnDataSource\"},{\"attributes\":{\"source\":{\"id\":\"100962\"}},\"id\":\"100966\",\"type\":\"CDSView\"},{\"attributes\":{\"line_color\":\"red\",\"x\":{\"field\":\"x\"},\"y\":{\"field\":\"y\"}},\"id\":\"100963\",\"type\":\"Line\"},{\"attributes\":{},\"id\":\"100887\",\"type\":\"BasicTicker\"},{\"attributes\":{\"source\":{\"id\":\"100908\"}},\"id\":\"100912\",\"type\":\"CDSView\"},{\"attributes\":{},\"id\":\"100980\",\"type\":\"UnionRenderers\"},{\"attributes\":{},\"id\":\"101005\",\"type\":\"Selection\"},{\"attributes\":{},\"id\":\"100959\",\"type\":\"Selection\"},{\"attributes\":{\"label\":{\"value\":\"y=x\"},\"renderers\":[{\"id\":\"100911\"},{\"id\":\"100928\"}]},\"id\":\"100924\",\"type\":\"LegendItem\"},{\"attributes\":{\"axis\":{\"id\":\"100886\"},\"grid_line_alpha\":0.25,\"grid_line_color\":\"#E0E0E0\",\"ticker\":null},\"id\":\"100889\",\"type\":\"Grid\"},{\"attributes\":{\"data_source\":{\"id\":\"101007\"},\"glyph\":{\"id\":\"101008\"},\"hover_glyph\":null,\"muted_glyph\":null,\"nonselection_glyph\":{\"id\":\"101009\"},\"view\":{\"id\":\"101011\"}},\"id\":\"101010\",\"type\":\"GlyphRenderer\"},{\"attributes\":{\"ticker\":null},\"id\":\"100914\",\"type\":\"LogTickFormatter\"},{\"attributes\":{\"num_minor_ticks\":10},\"id\":\"100891\",\"type\":\"LogTicker\"},{\"attributes\":{\"axis_label\":\"particles\",\"axis_label_standoff\":10,\"axis_label_text_color\":\"#E0E0E0\",\"axis_label_text_font\":\"Helvetica\",\"axis_label_text_font_size\":\"1.25em\",\"axis_label_text_font_style\":\"normal\",\"axis_line_alpha\":0,\"axis_line_color\":\"#E0E0E0\",\"formatter\":{\"id\":\"100914\"},\"major_label_policy\":{\"id\":\"100916\"},\"major_label_text_color\":\"#E0E0E0\",\"major_label_text_font\":\"Helvetica\",\"major_label_text_font_size\":\"1.025em\",\"major_tick_line_alpha\":0,\"major_tick_line_color\":\"#E0E0E0\",\"minor_tick_line_alpha\":0,\"minor_tick_line_color\":\"#E0E0E0\",\"ticker\":{\"id\":\"100891\"}},\"id\":\"100890\",\"type\":\"LogAxis\"},{\"attributes\":{\"fill_color\":{\"value\":\"white\"},\"line_color\":{\"value\":\"#1f77b4\"},\"size\":{\"value\":8},\"x\":{\"field\":\"x\"},\"y\":{\"field\":\"y\"}},\"id\":\"100926\",\"type\":\"Circle\"},{\"attributes\":{},\"id\":\"100958\",\"type\":\"UnionRenderers\"},{\"attributes\":{\"axis\":{\"id\":\"100890\"},\"dimension\":1,\"grid_line_alpha\":0.25,\"grid_line_color\":\"#E0E0E0\",\"ticker\":null},\"id\":\"100893\",\"type\":\"Grid\"},{\"attributes\":{\"overlay\":{\"id\":\"100900\"}},\"id\":\"100896\",\"type\":\"BoxZoomTool\"},{\"attributes\":{},\"id\":\"101029\",\"type\":\"UnionRenderers\"},{\"attributes\":{\"fill_alpha\":{\"value\":0.1},\"fill_color\":{\"value\":\"white\"},\"line_alpha\":{\"value\":0.1},\"line_color\":{\"value\":\"#1f77b4\"},\"size\":{\"value\":8},\"x\":{\"field\":\"x\"},\"y\":{\"field\":\"y\"}},\"id\":\"100927\",\"type\":\"Circle\"},{\"attributes\":{\"data_source\":{\"id\":\"100942\"},\"glyph\":{\"id\":\"100943\"},\"hover_glyph\":null,\"muted_glyph\":null,\"nonselection_glyph\":{\"id\":\"100944\"},\"view\":{\"id\":\"100946\"}},\"id\":\"100945\",\"type\":\"GlyphRenderer\"},{\"attributes\":{},\"id\":\"100878\",\"type\":\"DataRange1d\"},{\"attributes\":{\"end\":100000000000,\"start\":0.001},\"id\":\"100880\",\"type\":\"Range1d\"},{\"attributes\":{\"line_alpha\":0.1,\"line_color\":\"#1f77b4\",\"x\":{\"field\":\"x\"},\"y\":{\"field\":\"y\"}},\"id\":\"100910\",\"type\":\"Line\"},{\"attributes\":{\"fill_alpha\":{\"value\":0.1},\"fill_color\":{\"value\":\"red\"},\"line_alpha\":{\"value\":0.1},\"line_color\":{\"value\":\"red\"},\"size\":{\"value\":6},\"x\":{\"field\":\"x\"},\"y\":{\"field\":\"y\"}},\"id\":\"100986\",\"type\":\"Circle\"},{\"attributes\":{\"data_source\":{\"id\":\"100984\"},\"glyph\":{\"id\":\"100985\"},\"hover_glyph\":null,\"muted_glyph\":null,\"nonselection_glyph\":{\"id\":\"100986\"},\"view\":{\"id\":\"100988\"}},\"id\":\"100987\",\"type\":\"GlyphRenderer\"},{\"attributes\":{},\"id\":\"100919\",\"type\":\"AllLabels\"},{\"attributes\":{},\"id\":\"100895\",\"type\":\"WheelZoomTool\"},{\"attributes\":{\"source\":{\"id\":\"100984\"}},\"id\":\"100988\",\"type\":\"CDSView\"},{\"attributes\":{},\"id\":\"100897\",\"type\":\"SaveTool\"}],\"root_ids\":[\"100875\"]},\"title\":\"Bokeh Application\",\"version\":\"2.3.2\"}};\n",
       "  var render_items = [{\"docid\":\"5aaad3be-20bf-480c-887f-2b245b8efccd\",\"root_ids\":[\"100875\"],\"roots\":{\"100875\":\"1aed0eb6-dd44-43f5-a613-1c5d6607784b\"}}];\n",
       "  root.Bokeh.embed.embed_items_notebook(docs_json, render_items);\n",
       "\n",
       "  }\n",
       "  if (root.Bokeh !== undefined) {\n",
       "    embed_document(root);\n",
       "  } else {\n",
       "    var attempts = 0;\n",
       "    var timer = setInterval(function(root) {\n",
       "      if (root.Bokeh !== undefined) {\n",
       "        clearInterval(timer);\n",
       "        embed_document(root);\n",
       "      } else {\n",
       "        attempts++;\n",
       "        if (attempts > 100) {\n",
       "          clearInterval(timer);\n",
       "          console.log(\"Bokeh: ERROR: Unable to run BokehJS code because BokehJS library is missing\");\n",
       "        }\n",
       "      }\n",
       "    }, 10, root)\n",
       "  }\n",
       "})(window);"
      ],
      "application/vnd.bokehjs_exec.v0+json": ""
     },
     "metadata": {
      "application/vnd.bokehjs_exec.v0+json": {
       "id": "100875"
      }
     },
     "output_type": "display_data"
    }
   ],
   "source": [
    "x = [0.1, 0.5, 1.0, 1.5, 2.0, 2.5, 3.0]\n",
    "y0 = [i**2 for i in x]\n",
    "y1 = [10**i for i in x]\n",
    "y2 = [10**(i**2) for i in x]\n",
    "\n",
    "# create a new plot with a logarithmic axis type\n",
    "p = figure(\n",
    "    title=\"Logarithmic axis example\",\n",
    "    sizing_mode=\"stretch_width\",\n",
    "    height=300,\n",
    "    max_width=500,\n",
    "    y_axis_type=\"log\",\n",
    "    y_range=[0.001, 10 ** 11],\n",
    "    x_axis_label=\"sections\",\n",
    "    y_axis_label=\"particles\",\n",
    ")\n",
    "\n",
    "# add some renderers\n",
    "p.line(x, x, legend_label=\"y=x\")\n",
    "p.circle(x, x, legend_label=\"y=x\", fill_color=\"white\", size=8)\n",
    "p.line(x, y0, legend_label=\"y=x^2\", line_width=3)\n",
    "p.line(x, y1, legend_label=\"y=10^x\", line_color=\"red\")\n",
    "p.circle(x, y1, legend_label=\"y=10^x\", fill_color=\"red\", line_color=\"red\", size=6)\n",
    "p.line(x, y2, legend_label=\"y=10^x^2\", line_color=\"orange\", line_dash=\"4 4\")\n",
    "\n",
    "# show the results\n",
    "show(p)"
   ]
  },
  {
   "cell_type": "markdown",
   "id": "7a968971",
   "metadata": {},
   "source": [
    "## Enabling datetime axes"
   ]
  },
  {
   "cell_type": "code",
   "execution_count": 328,
   "id": "758fdd04",
   "metadata": {},
   "outputs": [
    {
     "data": {
      "text/html": [
       "\n",
       "\n",
       "\n",
       "\n",
       "\n",
       "\n",
       "  <div class=\"bk-root\" id=\"6a9f48fa-a1c6-466a-9888-3cd0333a31bc\" data-root-id=\"102498\"></div>\n"
      ]
     },
     "metadata": {},
     "output_type": "display_data"
    },
    {
     "data": {
      "application/javascript": [
       "(function(root) {\n",
       "  function embed_document(root) {\n",
       "    \n",
       "  var docs_json = {\"fbc97be2-3386-485f-b45b-f85fd3e2148e\":{\"defs\":[],\"roots\":{\"references\":[{\"attributes\":{\"background_fill_color\":\"#20262B\",\"below\":[{\"id\":\"102509\"}],\"border_fill_color\":\"#15191C\",\"center\":[{\"id\":\"102512\"},{\"id\":\"102516\"}],\"height\":250,\"left\":[{\"id\":\"102513\"}],\"max_width\":500,\"outline_line_alpha\":0.25,\"outline_line_color\":\"#E0E0E0\",\"renderers\":[{\"id\":\"102534\"},{\"id\":\"102539\"}],\"sizing_mode\":\"stretch_width\",\"title\":{\"id\":\"102499\"},\"toolbar\":{\"id\":\"102524\"},\"x_range\":{\"id\":\"102501\"},\"x_scale\":{\"id\":\"102505\"},\"y_range\":{\"id\":\"102503\"},\"y_scale\":{\"id\":\"102507\"}},\"id\":\"102498\",\"subtype\":\"Figure\",\"type\":\"Plot\"},{\"attributes\":{},\"id\":\"103695\",\"type\":\"Selection\"},{\"attributes\":{},\"id\":\"102505\",\"type\":\"LinearScale\"},{\"attributes\":{},\"id\":\"102521\",\"type\":\"ResetTool\"},{\"attributes\":{},\"id\":\"102520\",\"type\":\"SaveTool\"},{\"attributes\":{\"format\":\"$0.00\"},\"id\":\"102541\",\"type\":\"NumeralTickFormatter\"},{\"attributes\":{},\"id\":\"103697\",\"type\":\"Selection\"},{\"attributes\":{\"num_minor_ticks\":5,\"tickers\":[{\"id\":\"103699\"},{\"id\":\"103700\"},{\"id\":\"103701\"},{\"id\":\"103702\"},{\"id\":\"103703\"},{\"id\":\"103704\"},{\"id\":\"103705\"},{\"id\":\"103706\"},{\"id\":\"103707\"},{\"id\":\"103708\"},{\"id\":\"103709\"},{\"id\":\"103710\"}]},\"id\":\"102510\",\"type\":\"DatetimeTicker\"},{\"attributes\":{\"active_multi\":null,\"tools\":[{\"id\":\"102517\"},{\"id\":\"102518\"},{\"id\":\"102519\"},{\"id\":\"102520\"},{\"id\":\"102521\"},{\"id\":\"102522\"}]},\"id\":\"102524\",\"type\":\"Toolbar\"},{\"attributes\":{},\"id\":\"102518\",\"type\":\"WheelZoomTool\"},{\"attributes\":{\"days\":[1,15]},\"id\":\"103705\",\"type\":\"DaysTicker\"},{\"attributes\":{\"source\":{\"id\":\"102536\"}},\"id\":\"102540\",\"type\":\"CDSView\"},{\"attributes\":{},\"id\":\"103691\",\"type\":\"AllLabels\"},{\"attributes\":{\"axis\":{\"id\":\"102509\"},\"grid_line_alpha\":0.25,\"grid_line_color\":\"#E0E0E0\",\"ticker\":null},\"id\":\"102512\",\"type\":\"Grid\"},{\"attributes\":{\"data_source\":{\"id\":\"102536\"},\"glyph\":{\"id\":\"102537\"},\"hover_glyph\":null,\"muted_glyph\":null,\"nonselection_glyph\":{\"id\":\"102538\"},\"view\":{\"id\":\"102540\"}},\"id\":\"102539\",\"type\":\"GlyphRenderer\"},{\"attributes\":{\"data_source\":{\"id\":\"102531\"},\"glyph\":{\"id\":\"102532\"},\"hover_glyph\":null,\"muted_glyph\":null,\"nonselection_glyph\":{\"id\":\"102533\"},\"view\":{\"id\":\"102535\"}},\"id\":\"102534\",\"type\":\"GlyphRenderer\"},{\"attributes\":{\"data\":{\"x\":[1681156176305.5461,1681760976305.562,1682365776305.563,1682970576305.564,1683575376305.5652,1684180176305.5662,1684784976305.5671,1685389776305.5671,1685994576305.5679,1686599376305.5688,1687204176305.5698,1687808976305.571,1688413776305.571,1689018576305.572,1689623376305.573,1690228176305.574,1690832976305.574,1691437776305.575,1692042576305.5762,1692647376305.5771,1693252176305.578,1693856976305.5789,1694461776305.5798,1695066576305.5798,1695671376305.581,1696276176305.582],\"y\":[65,74,85,64,3,71,76,69,75,10,77,97,26,13,18,48,32,79,63,44,59,20,50,0,36,46]},\"selected\":{\"id\":\"103695\"},\"selection_policy\":{\"id\":\"103694\"}},\"id\":\"102531\",\"type\":\"ColumnDataSource\"},{\"attributes\":{},\"id\":\"102503\",\"type\":\"DataRange1d\"},{\"attributes\":{\"bottom_units\":\"screen\",\"fill_alpha\":0.5,\"fill_color\":\"lightgrey\",\"left_units\":\"screen\",\"level\":\"overlay\",\"line_alpha\":1.0,\"line_color\":\"black\",\"line_dash\":[4,4],\"line_width\":2,\"right_units\":\"screen\",\"syncable\":false,\"top_units\":\"screen\"},\"id\":\"102523\",\"type\":\"BoxAnnotation\"},{\"attributes\":{\"months\":[0,4,8]},\"id\":\"103708\",\"type\":\"MonthsTicker\"},{\"attributes\":{\"source\":{\"id\":\"102531\"}},\"id\":\"102535\",\"type\":\"CDSView\"},{\"attributes\":{\"overlay\":{\"id\":\"102523\"}},\"id\":\"102519\",\"type\":\"BoxZoomTool\"},{\"attributes\":{},\"id\":\"102514\",\"type\":\"BasicTicker\"},{\"attributes\":{\"fill_alpha\":{\"value\":0.1},\"fill_color\":{\"value\":\"#1f77b4\"},\"line_alpha\":{\"value\":0.1},\"line_color\":{\"value\":\"#1f77b4\"},\"size\":{\"value\":8},\"x\":{\"field\":\"x\"},\"y\":{\"field\":\"y\"}},\"id\":\"102533\",\"type\":\"Circle\"},{\"attributes\":{\"months\":[\"%b %Y\"]},\"id\":\"102543\",\"type\":\"DatetimeTickFormatter\"},{\"attributes\":{},\"id\":\"103710\",\"type\":\"YearsTicker\"},{\"attributes\":{},\"id\":\"102517\",\"type\":\"PanTool\"},{\"attributes\":{},\"id\":\"103694\",\"type\":\"UnionRenderers\"},{\"attributes\":{\"data\":{\"x\":[1681156176305.5461,1681760976305.562,1682365776305.563,1682970576305.564,1683575376305.5652,1684180176305.5662,1684784976305.5671,1685389776305.5671,1685994576305.5679,1686599376305.5688,1687204176305.5698,1687808976305.571,1688413776305.571,1689018576305.572,1689623376305.573,1690228176305.574,1690832976305.574,1691437776305.575,1692042576305.5762,1692647376305.5771,1693252176305.578,1693856976305.5789,1694461776305.5798,1695066576305.5798,1695671376305.581,1696276176305.582],\"y\":[65,74,85,64,3,71,76,69,75,10,77,97,26,13,18,48,32,79,63,44,59,20,50,0,36,46]},\"selected\":{\"id\":\"103697\"},\"selection_policy\":{\"id\":\"103696\"}},\"id\":\"102536\",\"type\":\"ColumnDataSource\"},{\"attributes\":{\"line_color\":\"navy\",\"x\":{\"field\":\"x\"},\"y\":{\"field\":\"y\"}},\"id\":\"102537\",\"type\":\"Line\"},{\"attributes\":{},\"id\":\"103693\",\"type\":\"AllLabels\"},{\"attributes\":{},\"id\":\"103696\",\"type\":\"UnionRenderers\"},{\"attributes\":{\"fill_color\":{\"value\":\"#1f77b4\"},\"line_color\":{\"value\":\"#1f77b4\"},\"size\":{\"value\":8},\"x\":{\"field\":\"x\"},\"y\":{\"field\":\"y\"}},\"id\":\"102532\",\"type\":\"Circle\"},{\"attributes\":{\"days\":[1,8,15,22]},\"id\":\"103704\",\"type\":\"DaysTicker\"},{\"attributes\":{\"days\":[1,2,3,4,5,6,7,8,9,10,11,12,13,14,15,16,17,18,19,20,21,22,23,24,25,26,27,28,29,30,31]},\"id\":\"103702\",\"type\":\"DaysTicker\"},{\"attributes\":{\"months\":[0,1,2,3,4,5,6,7,8,9,10,11]},\"id\":\"103706\",\"type\":\"MonthsTicker\"},{\"attributes\":{\"line_alpha\":0.1,\"line_color\":\"navy\",\"x\":{\"field\":\"x\"},\"y\":{\"field\":\"y\"}},\"id\":\"102538\",\"type\":\"Line\"},{\"attributes\":{},\"id\":\"102507\",\"type\":\"LinearScale\"},{\"attributes\":{\"base\":24,\"mantissas\":[1,2,4,6,8,12],\"max_interval\":43200000.0,\"min_interval\":3600000.0,\"num_minor_ticks\":0},\"id\":\"103701\",\"type\":\"AdaptiveTicker\"},{\"attributes\":{\"base\":60,\"mantissas\":[1,2,5,10,15,20,30],\"max_interval\":1800000.0,\"min_interval\":1000.0,\"num_minor_ticks\":0},\"id\":\"103700\",\"type\":\"AdaptiveTicker\"},{\"attributes\":{\"axis_label_standoff\":10,\"axis_label_text_color\":\"#E0E0E0\",\"axis_label_text_font\":\"Helvetica\",\"axis_label_text_font_size\":\"1.25em\",\"axis_label_text_font_style\":\"normal\",\"axis_line_alpha\":0,\"axis_line_color\":\"#E0E0E0\",\"formatter\":{\"id\":\"102541\"},\"major_label_policy\":{\"id\":\"103691\"},\"major_label_text_color\":\"#E0E0E0\",\"major_label_text_font\":\"Helvetica\",\"major_label_text_font_size\":\"1.025em\",\"major_tick_line_alpha\":0,\"major_tick_line_color\":\"#E0E0E0\",\"minor_tick_line_alpha\":0,\"minor_tick_line_color\":\"#E0E0E0\",\"ticker\":{\"id\":\"102514\"}},\"id\":\"102513\",\"type\":\"LinearAxis\"},{\"attributes\":{\"days\":[1,4,7,10,13,16,19,22,25,28]},\"id\":\"103703\",\"type\":\"DaysTicker\"},{\"attributes\":{\"axis_label_standoff\":10,\"axis_label_text_color\":\"#E0E0E0\",\"axis_label_text_font\":\"Helvetica\",\"axis_label_text_font_size\":\"1.25em\",\"axis_label_text_font_style\":\"normal\",\"axis_line_alpha\":0,\"axis_line_color\":\"#E0E0E0\",\"formatter\":{\"id\":\"102543\"},\"major_label_policy\":{\"id\":\"103693\"},\"major_label_text_color\":\"#E0E0E0\",\"major_label_text_font\":\"Helvetica\",\"major_label_text_font_size\":\"1.025em\",\"major_tick_line_alpha\":0,\"major_tick_line_color\":\"#E0E0E0\",\"minor_tick_line_alpha\":0,\"minor_tick_line_color\":\"#E0E0E0\",\"ticker\":{\"id\":\"102510\"}},\"id\":\"102509\",\"type\":\"DatetimeAxis\"},{\"attributes\":{\"axis\":{\"id\":\"102513\"},\"dimension\":1,\"grid_line_alpha\":0.25,\"grid_line_color\":\"#E0E0E0\",\"ticker\":null},\"id\":\"102516\",\"type\":\"Grid\"},{\"attributes\":{\"months\":[0,6]},\"id\":\"103709\",\"type\":\"MonthsTicker\"},{\"attributes\":{},\"id\":\"102501\",\"type\":\"DataRange1d\"},{\"attributes\":{\"mantissas\":[1,2,5],\"max_interval\":500.0,\"num_minor_ticks\":0},\"id\":\"103699\",\"type\":\"AdaptiveTicker\"},{\"attributes\":{},\"id\":\"102522\",\"type\":\"HelpTool\"},{\"attributes\":{\"text\":\"datetime axis example\",\"text_color\":\"#E0E0E0\",\"text_font\":\"Helvetica\",\"text_font_size\":\"1.15em\"},\"id\":\"102499\",\"type\":\"Title\"},{\"attributes\":{\"months\":[0,2,4,6,8,10]},\"id\":\"103707\",\"type\":\"MonthsTicker\"}],\"root_ids\":[\"102498\"]},\"title\":\"Bokeh Application\",\"version\":\"2.3.2\"}};\n",
       "  var render_items = [{\"docid\":\"fbc97be2-3386-485f-b45b-f85fd3e2148e\",\"root_ids\":[\"102498\"],\"roots\":{\"102498\":\"6a9f48fa-a1c6-466a-9888-3cd0333a31bc\"}}];\n",
       "  root.Bokeh.embed.embed_items_notebook(docs_json, render_items);\n",
       "\n",
       "  }\n",
       "  if (root.Bokeh !== undefined) {\n",
       "    embed_document(root);\n",
       "  } else {\n",
       "    var attempts = 0;\n",
       "    var timer = setInterval(function(root) {\n",
       "      if (root.Bokeh !== undefined) {\n",
       "        clearInterval(timer);\n",
       "        embed_document(root);\n",
       "      } else {\n",
       "        attempts++;\n",
       "        if (attempts > 100) {\n",
       "          clearInterval(timer);\n",
       "          console.log(\"Bokeh: ERROR: Unable to run BokehJS code because BokehJS library is missing\");\n",
       "        }\n",
       "      }\n",
       "    }, 10, root)\n",
       "  }\n",
       "})(window);"
      ],
      "application/vnd.bokehjs_exec.v0+json": ""
     },
     "metadata": {
      "application/vnd.bokehjs_exec.v0+json": {
       "id": "102498"
      }
     },
     "output_type": "display_data"
    }
   ],
   "source": [
    "from datetime import datetime, timedelta\n",
    "\n",
    "from bokeh.models import DatetimeTickFormatter, NumeralTickFormatter\n",
    "\n",
    "# generate list of dates (today's date in subsequent weeks)\n",
    "dates = [(datetime.now() + timedelta(day * 7)) for day in range(0, 26)]\n",
    "\n",
    "# generate 25 random data points\n",
    "y = random.sample(range(0, 100), 26)\n",
    "\n",
    "# create new plot\n",
    "p = figure(\n",
    "    title=\"datetime axis example\",\n",
    "    x_axis_type=\"datetime\",\n",
    "    sizing_mode=\"stretch_width\",\n",
    "    max_width=500,\n",
    "    height=250,\n",
    ")\n",
    "\n",
    "# add renderers\n",
    "p.circle(dates, y, size=8)\n",
    "p.line(dates, y, color=\"navy\", line_width=1)\n",
    "\n",
    "# format axes ticks\n",
    "p.yaxis[0].formatter = NumeralTickFormatter(format=\"$0.00\")\n",
    "p.xaxis[0].formatter = DatetimeTickFormatter(months=\"%b %Y\")\n",
    "\n",
    "# show the results\n",
    "show(p)"
   ]
  },
  {
   "cell_type": "markdown",
   "id": "ccda9eb7",
   "metadata": {},
   "source": [
    "## Styling Lines"
   ]
  },
  {
   "cell_type": "code",
   "execution_count": 329,
   "id": "263a392e",
   "metadata": {},
   "outputs": [
    {
     "data": {
      "text/html": [
       "\n",
       "\n",
       "\n",
       "\n",
       "\n",
       "\n",
       "  <div class=\"bk-root\" id=\"964f7ac6-bac2-4e84-b69f-3f8dca741750\" data-root-id=\"104064\"></div>\n"
      ]
     },
     "metadata": {},
     "output_type": "display_data"
    },
    {
     "data": {
      "application/javascript": [
       "(function(root) {\n",
       "  function embed_document(root) {\n",
       "    \n",
       "  var docs_json = {\"d9721695-e91f-419f-a3d2-5e0d6c30928b\":{\"defs\":[],\"roots\":{\"references\":[{\"attributes\":{\"background_fill_color\":\"#20262B\",\"below\":[{\"id\":\"104075\"}],\"border_fill_color\":\"#15191C\",\"center\":[{\"id\":\"104078\"},{\"id\":\"104082\"}],\"height\":250,\"left\":[{\"id\":\"104079\"}],\"max_width\":500,\"outline_line_alpha\":0.25,\"outline_line_color\":\"#E0E0E0\",\"renderers\":[{\"id\":\"104100\"}],\"sizing_mode\":\"stretch_width\",\"title\":{\"id\":\"104065\"},\"toolbar\":{\"id\":\"104090\"},\"x_range\":{\"id\":\"104067\"},\"x_scale\":{\"id\":\"104071\"},\"y_range\":{\"id\":\"104069\"},\"y_scale\":{\"id\":\"104073\"}},\"id\":\"104064\",\"subtype\":\"Figure\",\"type\":\"Plot\"},{\"attributes\":{},\"id\":\"105269\",\"type\":\"BasicTickFormatter\"},{\"attributes\":{\"text\":\"Customized grid lines example\",\"text_color\":\"#E0E0E0\",\"text_font\":\"Helvetica\",\"text_font_size\":\"1.15em\"},\"id\":\"104065\",\"type\":\"Title\"},{\"attributes\":{},\"id\":\"104083\",\"type\":\"PanTool\"},{\"attributes\":{\"source\":{\"id\":\"104097\"}},\"id\":\"104101\",\"type\":\"CDSView\"},{\"attributes\":{},\"id\":\"105276\",\"type\":\"Selection\"},{\"attributes\":{},\"id\":\"104086\",\"type\":\"SaveTool\"},{\"attributes\":{},\"id\":\"104073\",\"type\":\"LinearScale\"},{\"attributes\":{\"axis\":{\"id\":\"104079\"},\"dimension\":1,\"grid_line_alpha\":0.8,\"grid_line_color\":\"#E0E0E0\",\"grid_line_dash\":[6,4],\"ticker\":null},\"id\":\"104082\",\"type\":\"Grid\"},{\"attributes\":{},\"id\":\"104080\",\"type\":\"BasicTicker\"},{\"attributes\":{\"data\":{\"x\":[1,2,3,4,5],\"y\":[4,5,5,7,2]},\"selected\":{\"id\":\"105276\"},\"selection_policy\":{\"id\":\"105275\"}},\"id\":\"104097\",\"type\":\"ColumnDataSource\"},{\"attributes\":{},\"id\":\"104071\",\"type\":\"LinearScale\"},{\"attributes\":{},\"id\":\"104067\",\"type\":\"DataRange1d\"},{\"attributes\":{\"line_alpha\":0.1,\"line_color\":\"green\",\"line_width\":2,\"x\":{\"field\":\"x\"},\"y\":{\"field\":\"y\"}},\"id\":\"104099\",\"type\":\"Line\"},{\"attributes\":{\"active_multi\":null,\"tools\":[{\"id\":\"104083\"},{\"id\":\"104084\"},{\"id\":\"104085\"},{\"id\":\"104086\"},{\"id\":\"104087\"},{\"id\":\"104088\"}]},\"id\":\"104090\",\"type\":\"Toolbar\"},{\"attributes\":{},\"id\":\"104087\",\"type\":\"ResetTool\"},{\"attributes\":{\"data_source\":{\"id\":\"104097\"},\"glyph\":{\"id\":\"104098\"},\"hover_glyph\":null,\"muted_glyph\":null,\"nonselection_glyph\":{\"id\":\"104099\"},\"view\":{\"id\":\"104101\"}},\"id\":\"104100\",\"type\":\"GlyphRenderer\"},{\"attributes\":{\"axis\":{\"id\":\"104075\"},\"grid_line_alpha\":0.25,\"grid_line_color\":\"red\",\"ticker\":null},\"id\":\"104078\",\"type\":\"Grid\"},{\"attributes\":{\"overlay\":{\"id\":\"104089\"}},\"id\":\"104085\",\"type\":\"BoxZoomTool\"},{\"attributes\":{},\"id\":\"105275\",\"type\":\"UnionRenderers\"},{\"attributes\":{\"bottom_units\":\"screen\",\"fill_alpha\":0.5,\"fill_color\":\"lightgrey\",\"left_units\":\"screen\",\"level\":\"overlay\",\"line_alpha\":1.0,\"line_color\":\"black\",\"line_dash\":[4,4],\"line_width\":2,\"right_units\":\"screen\",\"syncable\":false,\"top_units\":\"screen\"},\"id\":\"104089\",\"type\":\"BoxAnnotation\"},{\"attributes\":{},\"id\":\"104088\",\"type\":\"HelpTool\"},{\"attributes\":{\"line_color\":\"green\",\"line_width\":2,\"x\":{\"field\":\"x\"},\"y\":{\"field\":\"y\"}},\"id\":\"104098\",\"type\":\"Line\"},{\"attributes\":{},\"id\":\"104069\",\"type\":\"DataRange1d\"},{\"attributes\":{},\"id\":\"105274\",\"type\":\"AllLabels\"},{\"attributes\":{},\"id\":\"104084\",\"type\":\"WheelZoomTool\"},{\"attributes\":{},\"id\":\"104076\",\"type\":\"BasicTicker\"},{\"attributes\":{\"axis_label_standoff\":10,\"axis_label_text_color\":\"#E0E0E0\",\"axis_label_text_font\":\"Helvetica\",\"axis_label_text_font_size\":\"1.25em\",\"axis_label_text_font_style\":\"normal\",\"axis_line_alpha\":0,\"axis_line_color\":\"#E0E0E0\",\"formatter\":{\"id\":\"105269\"},\"major_label_policy\":{\"id\":\"105271\"},\"major_label_text_color\":\"#E0E0E0\",\"major_label_text_font\":\"Helvetica\",\"major_label_text_font_size\":\"1.025em\",\"major_tick_line_alpha\":0,\"major_tick_line_color\":\"#E0E0E0\",\"minor_tick_line_alpha\":0,\"minor_tick_line_color\":\"#E0E0E0\",\"ticker\":{\"id\":\"104080\"}},\"id\":\"104079\",\"type\":\"LinearAxis\"},{\"attributes\":{},\"id\":\"105272\",\"type\":\"BasicTickFormatter\"},{\"attributes\":{},\"id\":\"105271\",\"type\":\"AllLabels\"},{\"attributes\":{\"axis_label_standoff\":10,\"axis_label_text_color\":\"#E0E0E0\",\"axis_label_text_font\":\"Helvetica\",\"axis_label_text_font_size\":\"1.25em\",\"axis_label_text_font_style\":\"normal\",\"axis_line_alpha\":0,\"axis_line_color\":\"#E0E0E0\",\"formatter\":{\"id\":\"105272\"},\"major_label_policy\":{\"id\":\"105274\"},\"major_label_text_color\":\"#E0E0E0\",\"major_label_text_font\":\"Helvetica\",\"major_label_text_font_size\":\"1.025em\",\"major_tick_line_alpha\":0,\"major_tick_line_color\":\"#E0E0E0\",\"minor_tick_line_alpha\":0,\"minor_tick_line_color\":\"#E0E0E0\",\"ticker\":{\"id\":\"104076\"}},\"id\":\"104075\",\"type\":\"LinearAxis\"}],\"root_ids\":[\"104064\"]},\"title\":\"Bokeh Application\",\"version\":\"2.3.2\"}};\n",
       "  var render_items = [{\"docid\":\"d9721695-e91f-419f-a3d2-5e0d6c30928b\",\"root_ids\":[\"104064\"],\"roots\":{\"104064\":\"964f7ac6-bac2-4e84-b69f-3f8dca741750\"}}];\n",
       "  root.Bokeh.embed.embed_items_notebook(docs_json, render_items);\n",
       "\n",
       "  }\n",
       "  if (root.Bokeh !== undefined) {\n",
       "    embed_document(root);\n",
       "  } else {\n",
       "    var attempts = 0;\n",
       "    var timer = setInterval(function(root) {\n",
       "      if (root.Bokeh !== undefined) {\n",
       "        clearInterval(timer);\n",
       "        embed_document(root);\n",
       "      } else {\n",
       "        attempts++;\n",
       "        if (attempts > 100) {\n",
       "          clearInterval(timer);\n",
       "          console.log(\"Bokeh: ERROR: Unable to run BokehJS code because BokehJS library is missing\");\n",
       "        }\n",
       "      }\n",
       "    }, 10, root)\n",
       "  }\n",
       "})(window);"
      ],
      "application/vnd.bokehjs_exec.v0+json": ""
     },
     "metadata": {
      "application/vnd.bokehjs_exec.v0+json": {
       "id": "104064"
      }
     },
     "output_type": "display_data"
    }
   ],
   "source": [
    "x = [1, 2, 3, 4, 5]\n",
    "y = [4, 5, 5, 7, 2]\n",
    "\n",
    "p = figure(\n",
    "    title=\"Customized grid lines example\",\n",
    "    sizing_mode=\"stretch_width\",\n",
    "    max_width=500,\n",
    "    height=250,\n",
    ")\n",
    "\n",
    "# add a renderer\n",
    "p.line(x, y, line_color=\"green\", line_width=2)\n",
    "\n",
    "# change things only on the x-grid\n",
    "p.xgrid.grid_line_color = \"red\"\n",
    "\n",
    "# change things only on the y-grid\n",
    "p.ygrid.grid_line_alpha = 0.8\n",
    "p.ygrid.grid_line_dash = [6, 4]\n",
    "\n",
    "# show the results\n",
    "show(p)"
   ]
  },
  {
   "cell_type": "markdown",
   "id": "589159a3",
   "metadata": {},
   "source": [
    "## Using bands and bounds"
   ]
  },
  {
   "cell_type": "code",
   "execution_count": 330,
   "id": "0abd0cb5",
   "metadata": {},
   "outputs": [
    {
     "data": {
      "text/html": [
       "\n",
       "\n",
       "\n",
       "\n",
       "\n",
       "\n",
       "  <div class=\"bk-root\" id=\"05519118-9223-44e1-9407-da5ba192633c\" data-root-id=\"105439\"></div>\n"
      ]
     },
     "metadata": {},
     "output_type": "display_data"
    },
    {
     "data": {
      "application/javascript": [
       "(function(root) {\n",
       "  function embed_document(root) {\n",
       "    \n",
       "  var docs_json = {\"da36f99b-0c3e-4d0c-8802-c1f8b6c22652\":{\"defs\":[],\"roots\":{\"references\":[{\"attributes\":{\"background_fill_color\":\"#20262B\",\"below\":[{\"id\":\"105450\"}],\"border_fill_color\":\"#15191C\",\"center\":[{\"id\":\"105453\"},{\"id\":\"105457\"}],\"height\":250,\"left\":[{\"id\":\"105454\"}],\"max_width\":500,\"outline_line_alpha\":0.25,\"outline_line_color\":\"#E0E0E0\",\"renderers\":[{\"id\":\"105475\"}],\"sizing_mode\":\"stretch_width\",\"title\":{\"id\":\"105440\"},\"toolbar\":{\"id\":\"105465\"},\"x_range\":{\"id\":\"105442\"},\"x_scale\":{\"id\":\"105446\"},\"y_range\":{\"id\":\"105444\"},\"y_scale\":{\"id\":\"105448\"}},\"id\":\"105439\",\"subtype\":\"Figure\",\"type\":\"Plot\"},{\"attributes\":{\"bottom_units\":\"screen\",\"fill_alpha\":0.5,\"fill_color\":\"lightgrey\",\"left_units\":\"screen\",\"level\":\"overlay\",\"line_alpha\":1.0,\"line_color\":\"black\",\"line_dash\":[4,4],\"line_width\":2,\"right_units\":\"screen\",\"syncable\":false,\"top_units\":\"screen\"},\"id\":\"105464\",\"type\":\"BoxAnnotation\"},{\"attributes\":{\"text\":\"Bands and bonds example\",\"text_color\":\"#E0E0E0\",\"text_font\":\"Helvetica\",\"text_font_size\":\"1.15em\"},\"id\":\"105440\",\"type\":\"Title\"},{\"attributes\":{},\"id\":\"106656\",\"type\":\"AllLabels\"},{\"attributes\":{\"line_alpha\":0.1,\"line_color\":\"green\",\"line_width\":2,\"x\":{\"field\":\"x\"},\"y\":{\"field\":\"y\"}},\"id\":\"105474\",\"type\":\"Line\"},{\"attributes\":{\"active_multi\":null,\"tools\":[{\"id\":\"105458\"},{\"id\":\"105459\"},{\"id\":\"105460\"},{\"id\":\"105461\"},{\"id\":\"105462\"},{\"id\":\"105463\"}]},\"id\":\"105465\",\"type\":\"Toolbar\"},{\"attributes\":{},\"id\":\"106654\",\"type\":\"BasicTickFormatter\"},{\"attributes\":{},\"id\":\"105462\",\"type\":\"ResetTool\"},{\"attributes\":{\"axis\":{\"id\":\"105450\"},\"bounds\":[2,4],\"grid_line_alpha\":0.25,\"grid_line_color\":\"#E0E0E0\",\"ticker\":null},\"id\":\"105453\",\"type\":\"Grid\"},{\"attributes\":{},\"id\":\"106659\",\"type\":\"AllLabels\"},{\"attributes\":{},\"id\":\"106660\",\"type\":\"UnionRenderers\"},{\"attributes\":{\"axis_label_standoff\":10,\"axis_label_text_color\":\"#E0E0E0\",\"axis_label_text_font\":\"Helvetica\",\"axis_label_text_font_size\":\"1.25em\",\"axis_label_text_font_style\":\"normal\",\"axis_line_alpha\":0,\"axis_line_color\":\"#E0E0E0\",\"formatter\":{\"id\":\"106654\"},\"major_label_policy\":{\"id\":\"106656\"},\"major_label_text_color\":\"#E0E0E0\",\"major_label_text_font\":\"Helvetica\",\"major_label_text_font_size\":\"1.025em\",\"major_tick_line_alpha\":0,\"major_tick_line_color\":\"#E0E0E0\",\"minor_tick_line_alpha\":0,\"minor_tick_line_color\":\"#E0E0E0\",\"ticker\":{\"id\":\"105455\"}},\"id\":\"105454\",\"type\":\"LinearAxis\"},{\"attributes\":{\"axis\":{\"id\":\"105454\"},\"band_fill_alpha\":0.1,\"band_fill_color\":\"olive\",\"dimension\":1,\"grid_line_alpha\":0.25,\"grid_line_color\":\"#E0E0E0\",\"ticker\":null},\"id\":\"105457\",\"type\":\"Grid\"},{\"attributes\":{},\"id\":\"105459\",\"type\":\"WheelZoomTool\"},{\"attributes\":{},\"id\":\"106657\",\"type\":\"BasicTickFormatter\"},{\"attributes\":{\"line_color\":\"green\",\"line_width\":2,\"x\":{\"field\":\"x\"},\"y\":{\"field\":\"y\"}},\"id\":\"105473\",\"type\":\"Line\"},{\"attributes\":{},\"id\":\"105444\",\"type\":\"DataRange1d\"},{\"attributes\":{},\"id\":\"105458\",\"type\":\"PanTool\"},{\"attributes\":{},\"id\":\"106661\",\"type\":\"Selection\"},{\"attributes\":{},\"id\":\"105461\",\"type\":\"SaveTool\"},{\"attributes\":{\"data_source\":{\"id\":\"105472\"},\"glyph\":{\"id\":\"105473\"},\"hover_glyph\":null,\"muted_glyph\":null,\"nonselection_glyph\":{\"id\":\"105474\"},\"view\":{\"id\":\"105476\"}},\"id\":\"105475\",\"type\":\"GlyphRenderer\"},{\"attributes\":{},\"id\":\"105463\",\"type\":\"HelpTool\"},{\"attributes\":{\"overlay\":{\"id\":\"105464\"}},\"id\":\"105460\",\"type\":\"BoxZoomTool\"},{\"attributes\":{},\"id\":\"105448\",\"type\":\"LinearScale\"},{\"attributes\":{},\"id\":\"105451\",\"type\":\"BasicTicker\"},{\"attributes\":{\"source\":{\"id\":\"105472\"}},\"id\":\"105476\",\"type\":\"CDSView\"},{\"attributes\":{},\"id\":\"105442\",\"type\":\"DataRange1d\"},{\"attributes\":{},\"id\":\"105446\",\"type\":\"LinearScale\"},{\"attributes\":{\"data\":{\"x\":[1,2,3,4,5],\"y\":[4,5,5,7,2]},\"selected\":{\"id\":\"106661\"},\"selection_policy\":{\"id\":\"106660\"}},\"id\":\"105472\",\"type\":\"ColumnDataSource\"},{\"attributes\":{},\"id\":\"105455\",\"type\":\"BasicTicker\"},{\"attributes\":{\"axis_label_standoff\":10,\"axis_label_text_color\":\"#E0E0E0\",\"axis_label_text_font\":\"Helvetica\",\"axis_label_text_font_size\":\"1.25em\",\"axis_label_text_font_style\":\"normal\",\"axis_line_alpha\":0,\"axis_line_color\":\"#E0E0E0\",\"formatter\":{\"id\":\"106657\"},\"major_label_policy\":{\"id\":\"106659\"},\"major_label_text_color\":\"#E0E0E0\",\"major_label_text_font\":\"Helvetica\",\"major_label_text_font_size\":\"1.025em\",\"major_tick_line_alpha\":0,\"major_tick_line_color\":\"#E0E0E0\",\"minor_tick_line_alpha\":0,\"minor_tick_line_color\":\"#E0E0E0\",\"ticker\":{\"id\":\"105451\"}},\"id\":\"105450\",\"type\":\"LinearAxis\"}],\"root_ids\":[\"105439\"]},\"title\":\"Bokeh Application\",\"version\":\"2.3.2\"}};\n",
       "  var render_items = [{\"docid\":\"da36f99b-0c3e-4d0c-8802-c1f8b6c22652\",\"root_ids\":[\"105439\"],\"roots\":{\"105439\":\"05519118-9223-44e1-9407-da5ba192633c\"}}];\n",
       "  root.Bokeh.embed.embed_items_notebook(docs_json, render_items);\n",
       "\n",
       "  }\n",
       "  if (root.Bokeh !== undefined) {\n",
       "    embed_document(root);\n",
       "  } else {\n",
       "    var attempts = 0;\n",
       "    var timer = setInterval(function(root) {\n",
       "      if (root.Bokeh !== undefined) {\n",
       "        clearInterval(timer);\n",
       "        embed_document(root);\n",
       "      } else {\n",
       "        attempts++;\n",
       "        if (attempts > 100) {\n",
       "          clearInterval(timer);\n",
       "          console.log(\"Bokeh: ERROR: Unable to run BokehJS code because BokehJS library is missing\");\n",
       "        }\n",
       "      }\n",
       "    }, 10, root)\n",
       "  }\n",
       "})(window);"
      ],
      "application/vnd.bokehjs_exec.v0+json": ""
     },
     "metadata": {
      "application/vnd.bokehjs_exec.v0+json": {
       "id": "105439"
      }
     },
     "output_type": "display_data"
    }
   ],
   "source": [
    "x = [1, 2, 3, 4, 5]\n",
    "y = [4, 5, 5, 7, 2]\n",
    "\n",
    "# create a plot\n",
    "p = figure(\n",
    "    title=\"Bands and bonds example\",\n",
    "    sizing_mode=\"stretch_width\",\n",
    "    max_width=500,\n",
    "    height=250,\n",
    ")\n",
    "\n",
    "# add a renderer\n",
    "p.line(x, y, line_color=\"green\", line_width=2)\n",
    "\n",
    "# add bands to the y-grid\n",
    "p.ygrid.band_fill_color = \"olive\"\n",
    "p.ygrid.band_fill_alpha = 0.1\n",
    "\n",
    "# define vertical bonds\n",
    "p.xgrid.bounds = (2, 4)\n",
    "\n",
    "# show the results\n",
    "show(p)"
   ]
  },
  {
   "cell_type": "markdown",
   "id": "3e6dbca1",
   "metadata": {},
   "source": [
    "## Background Colors"
   ]
  },
  {
   "cell_type": "code",
   "execution_count": 331,
   "id": "6350f089",
   "metadata": {},
   "outputs": [
    {
     "data": {
      "text/html": [
       "\n",
       "\n",
       "\n",
       "\n",
       "\n",
       "\n",
       "  <div class=\"bk-root\" id=\"34721716-3836-4ab5-af3a-c3009a19a336\" data-root-id=\"106824\"></div>\n"
      ]
     },
     "metadata": {},
     "output_type": "display_data"
    },
    {
     "data": {
      "application/javascript": [
       "(function(root) {\n",
       "  function embed_document(root) {\n",
       "    \n",
       "  var docs_json = {\"d65c85ff-3b46-4908-90c0-9d26cf8aaafa\":{\"defs\":[],\"roots\":{\"references\":[{\"attributes\":{\"background_fill_color\":\"rgb(204, 255, 255)\",\"below\":[{\"id\":\"106835\"}],\"border_fill_color\":\"rgb(102, 204, 255)\",\"center\":[{\"id\":\"106838\"},{\"id\":\"106842\"}],\"height\":250,\"left\":[{\"id\":\"106839\"}],\"max_width\":500,\"outline_line_alpha\":0.25,\"outline_line_color\":\"rgb(0, 0, 255)\",\"renderers\":[{\"id\":\"106860\"}],\"sizing_mode\":\"stretch_width\",\"title\":{\"id\":\"106825\"},\"toolbar\":{\"id\":\"106850\"},\"x_range\":{\"id\":\"106827\"},\"x_scale\":{\"id\":\"106831\"},\"y_range\":{\"id\":\"106829\"},\"y_scale\":{\"id\":\"106833\"}},\"id\":\"106824\",\"subtype\":\"Figure\",\"type\":\"Plot\"},{\"attributes\":{},\"id\":\"106846\",\"type\":\"SaveTool\"},{\"attributes\":{\"text\":\"Background colors example\",\"text_color\":\"#E0E0E0\",\"text_font\":\"Helvetica\",\"text_font_size\":\"1.15em\"},\"id\":\"106825\",\"type\":\"Title\"},{\"attributes\":{},\"id\":\"108052\",\"type\":\"BasicTickFormatter\"},{\"attributes\":{},\"id\":\"106831\",\"type\":\"LinearScale\"},{\"attributes\":{},\"id\":\"108051\",\"type\":\"AllLabels\"},{\"attributes\":{},\"id\":\"106843\",\"type\":\"PanTool\"},{\"attributes\":{},\"id\":\"106827\",\"type\":\"DataRange1d\"},{\"attributes\":{\"data\":{\"x\":[1,2,3,4,5],\"y\":[4,5,5,7,2]},\"selected\":{\"id\":\"108056\"},\"selection_policy\":{\"id\":\"108055\"}},\"id\":\"106857\",\"type\":\"ColumnDataSource\"},{\"attributes\":{},\"id\":\"106833\",\"type\":\"LinearScale\"},{\"attributes\":{},\"id\":\"106847\",\"type\":\"ResetTool\"},{\"attributes\":{\"overlay\":{\"id\":\"106849\"}},\"id\":\"106845\",\"type\":\"BoxZoomTool\"},{\"attributes\":{\"data_source\":{\"id\":\"106857\"},\"glyph\":{\"id\":\"106858\"},\"hover_glyph\":null,\"muted_glyph\":null,\"nonselection_glyph\":{\"id\":\"106859\"},\"view\":{\"id\":\"106861\"}},\"id\":\"106860\",\"type\":\"GlyphRenderer\"},{\"attributes\":{},\"id\":\"108056\",\"type\":\"Selection\"},{\"attributes\":{\"line_color\":\"green\",\"line_width\":2,\"x\":{\"field\":\"x\"},\"y\":{\"field\":\"y\"}},\"id\":\"106858\",\"type\":\"Line\"},{\"attributes\":{\"line_alpha\":0.1,\"line_color\":\"green\",\"line_width\":2,\"x\":{\"field\":\"x\"},\"y\":{\"field\":\"y\"}},\"id\":\"106859\",\"type\":\"Line\"},{\"attributes\":{\"active_multi\":null,\"tools\":[{\"id\":\"106843\"},{\"id\":\"106844\"},{\"id\":\"106845\"},{\"id\":\"106846\"},{\"id\":\"106847\"},{\"id\":\"106848\"}]},\"id\":\"106850\",\"type\":\"Toolbar\"},{\"attributes\":{\"axis\":{\"id\":\"106835\"},\"grid_line_alpha\":0.25,\"grid_line_color\":\"#E0E0E0\",\"ticker\":null},\"id\":\"106838\",\"type\":\"Grid\"},{\"attributes\":{},\"id\":\"106836\",\"type\":\"BasicTicker\"},{\"attributes\":{},\"id\":\"106829\",\"type\":\"DataRange1d\"},{\"attributes\":{},\"id\":\"108049\",\"type\":\"BasicTickFormatter\"},{\"attributes\":{\"bottom_units\":\"screen\",\"fill_alpha\":0.5,\"fill_color\":\"lightgrey\",\"left_units\":\"screen\",\"level\":\"overlay\",\"line_alpha\":1.0,\"line_color\":\"black\",\"line_dash\":[4,4],\"line_width\":2,\"right_units\":\"screen\",\"syncable\":false,\"top_units\":\"screen\"},\"id\":\"106849\",\"type\":\"BoxAnnotation\"},{\"attributes\":{},\"id\":\"106848\",\"type\":\"HelpTool\"},{\"attributes\":{},\"id\":\"106844\",\"type\":\"WheelZoomTool\"},{\"attributes\":{\"source\":{\"id\":\"106857\"}},\"id\":\"106861\",\"type\":\"CDSView\"},{\"attributes\":{\"axis\":{\"id\":\"106839\"},\"dimension\":1,\"grid_line_alpha\":0.25,\"grid_line_color\":\"#E0E0E0\",\"ticker\":null},\"id\":\"106842\",\"type\":\"Grid\"},{\"attributes\":{},\"id\":\"106840\",\"type\":\"BasicTicker\"},{\"attributes\":{},\"id\":\"108055\",\"type\":\"UnionRenderers\"},{\"attributes\":{\"axis_label_standoff\":10,\"axis_label_text_color\":\"#E0E0E0\",\"axis_label_text_font\":\"Helvetica\",\"axis_label_text_font_size\":\"1.25em\",\"axis_label_text_font_style\":\"normal\",\"axis_line_alpha\":0,\"axis_line_color\":\"#E0E0E0\",\"formatter\":{\"id\":\"108049\"},\"major_label_policy\":{\"id\":\"108051\"},\"major_label_text_color\":\"#E0E0E0\",\"major_label_text_font\":\"Helvetica\",\"major_label_text_font_size\":\"1.025em\",\"major_tick_line_alpha\":0,\"major_tick_line_color\":\"#E0E0E0\",\"minor_tick_line_alpha\":0,\"minor_tick_line_color\":\"#E0E0E0\",\"ticker\":{\"id\":\"106840\"}},\"id\":\"106839\",\"type\":\"LinearAxis\"},{\"attributes\":{\"axis_label_standoff\":10,\"axis_label_text_color\":\"#E0E0E0\",\"axis_label_text_font\":\"Helvetica\",\"axis_label_text_font_size\":\"1.25em\",\"axis_label_text_font_style\":\"normal\",\"axis_line_alpha\":0,\"axis_line_color\":\"#E0E0E0\",\"formatter\":{\"id\":\"108052\"},\"major_label_policy\":{\"id\":\"108054\"},\"major_label_text_color\":\"#E0E0E0\",\"major_label_text_font\":\"Helvetica\",\"major_label_text_font_size\":\"1.025em\",\"major_tick_line_alpha\":0,\"major_tick_line_color\":\"#E0E0E0\",\"minor_tick_line_alpha\":0,\"minor_tick_line_color\":\"#E0E0E0\",\"ticker\":{\"id\":\"106836\"}},\"id\":\"106835\",\"type\":\"LinearAxis\"},{\"attributes\":{},\"id\":\"108054\",\"type\":\"AllLabels\"}],\"root_ids\":[\"106824\"]},\"title\":\"Bokeh Application\",\"version\":\"2.3.2\"}};\n",
       "  var render_items = [{\"docid\":\"d65c85ff-3b46-4908-90c0-9d26cf8aaafa\",\"root_ids\":[\"106824\"],\"roots\":{\"106824\":\"34721716-3836-4ab5-af3a-c3009a19a336\"}}];\n",
       "  root.Bokeh.embed.embed_items_notebook(docs_json, render_items);\n",
       "\n",
       "  }\n",
       "  if (root.Bokeh !== undefined) {\n",
       "    embed_document(root);\n",
       "  } else {\n",
       "    var attempts = 0;\n",
       "    var timer = setInterval(function(root) {\n",
       "      if (root.Bokeh !== undefined) {\n",
       "        clearInterval(timer);\n",
       "        embed_document(root);\n",
       "      } else {\n",
       "        attempts++;\n",
       "        if (attempts > 100) {\n",
       "          clearInterval(timer);\n",
       "          console.log(\"Bokeh: ERROR: Unable to run BokehJS code because BokehJS library is missing\");\n",
       "        }\n",
       "      }\n",
       "    }, 10, root)\n",
       "  }\n",
       "})(window);"
      ],
      "application/vnd.bokehjs_exec.v0+json": ""
     },
     "metadata": {
      "application/vnd.bokehjs_exec.v0+json": {
       "id": "106824"
      }
     },
     "output_type": "display_data"
    }
   ],
   "source": [
    "# prepare some data\n",
    "x = [1, 2, 3, 4, 5]\n",
    "y = [4, 5, 5, 7, 2]\n",
    "\n",
    "# create a plot\n",
    "p = figure(\n",
    "    title=\"Background colors example\",\n",
    "    sizing_mode=\"stretch_width\",\n",
    "    max_width=500,\n",
    "    height=250,\n",
    ")\n",
    "\n",
    "# add a renderer\n",
    "p.line(x, y, line_color=\"green\", line_width=2)\n",
    "\n",
    "# change the fill colors\n",
    "p.background_fill_color = (204, 255, 255)\n",
    "p.border_fill_color = (102, 204, 255)\n",
    "p.outline_line_color = (0, 0, 255)\n",
    "\n",
    "# show the results\n",
    "show(p)"
   ]
  },
  {
   "cell_type": "markdown",
   "id": "14bef83b",
   "metadata": {},
   "source": [
    "## Toolbar"
   ]
  },
  {
   "cell_type": "code",
   "execution_count": 332,
   "id": "a13bfb9e",
   "metadata": {},
   "outputs": [],
   "source": [
    "p = figure(title=\"Toolbar positioning example\", toolbar_location=\"below\")"
   ]
  },
  {
   "cell_type": "code",
   "execution_count": 333,
   "id": "d2e2b022",
   "metadata": {},
   "outputs": [],
   "source": [
    "p.toolbar_location = \"below\""
   ]
  },
  {
   "cell_type": "code",
   "execution_count": 334,
   "id": "733b1979",
   "metadata": {},
   "outputs": [],
   "source": [
    "p.toolbar_location = None"
   ]
  },
  {
   "cell_type": "markdown",
   "id": "8ac73f93",
   "metadata": {},
   "source": [
    "#### Autohide toolbar"
   ]
  },
  {
   "cell_type": "code",
   "execution_count": 335,
   "id": "b469e2fe",
   "metadata": {},
   "outputs": [
    {
     "data": {
      "text/html": [
       "\n",
       "\n",
       "\n",
       "\n",
       "\n",
       "\n",
       "  <div class=\"bk-root\" id=\"3e151be1-4fd4-439b-926f-a5f934f54d92\" data-root-id=\"108252\"></div>\n"
      ]
     },
     "metadata": {},
     "output_type": "display_data"
    },
    {
     "data": {
      "application/javascript": [
       "(function(root) {\n",
       "  function embed_document(root) {\n",
       "    \n",
       "  var docs_json = {\"5ca482bd-2e11-4b98-ac6c-52b4490a49a4\":{\"defs\":[],\"roots\":{\"references\":[{\"attributes\":{\"background_fill_color\":\"#20262B\",\"below\":[{\"id\":\"108263\"}],\"border_fill_color\":\"#15191C\",\"center\":[{\"id\":\"108266\"},{\"id\":\"108270\"}],\"height\":250,\"left\":[{\"id\":\"108267\"}],\"max_width\":500,\"outline_line_alpha\":0.25,\"outline_line_color\":\"#E0E0E0\",\"renderers\":[{\"id\":\"108289\"}],\"sizing_mode\":\"stretch_width\",\"title\":{\"id\":\"108253\"},\"toolbar\":{\"id\":\"108278\"},\"x_range\":{\"id\":\"108255\"},\"x_scale\":{\"id\":\"108259\"},\"y_range\":{\"id\":\"108257\"},\"y_scale\":{\"id\":\"108261\"}},\"id\":\"108252\",\"subtype\":\"Figure\",\"type\":\"Plot\"},{\"attributes\":{},\"id\":\"108271\",\"type\":\"PanTool\"},{\"attributes\":{\"overlay\":{\"id\":\"108277\"}},\"id\":\"108273\",\"type\":\"BoxZoomTool\"},{\"attributes\":{},\"id\":\"108274\",\"type\":\"SaveTool\"},{\"attributes\":{},\"id\":\"108275\",\"type\":\"ResetTool\"},{\"attributes\":{\"source\":{\"id\":\"108286\"}},\"id\":\"108290\",\"type\":\"CDSView\"},{\"attributes\":{},\"id\":\"109495\",\"type\":\"UnionRenderers\"},{\"attributes\":{},\"id\":\"109496\",\"type\":\"Selection\"},{\"attributes\":{},\"id\":\"109494\",\"type\":\"AllLabels\"},{\"attributes\":{},\"id\":\"109489\",\"type\":\"BasicTickFormatter\"},{\"attributes\":{\"data_source\":{\"id\":\"108286\"},\"glyph\":{\"id\":\"108287\"},\"hover_glyph\":null,\"muted_glyph\":null,\"nonselection_glyph\":{\"id\":\"108288\"},\"view\":{\"id\":\"108290\"}},\"id\":\"108289\",\"type\":\"GlyphRenderer\"},{\"attributes\":{\"line_alpha\":0.1,\"line_color\":\"#1f77b4\",\"x\":{\"field\":\"x\"},\"y\":{\"field\":\"y\"}},\"id\":\"108288\",\"type\":\"Line\"},{\"attributes\":{},\"id\":\"109491\",\"type\":\"AllLabels\"},{\"attributes\":{\"data\":{\"x\":[1,2,3,4,5],\"y\":[4,5,5,7,2]},\"selected\":{\"id\":\"109496\"},\"selection_policy\":{\"id\":\"109495\"}},\"id\":\"108286\",\"type\":\"ColumnDataSource\"},{\"attributes\":{\"text\":\"Toolbar autohide example\",\"text_color\":\"#E0E0E0\",\"text_font\":\"Helvetica\",\"text_font_size\":\"1.15em\"},\"id\":\"108253\",\"type\":\"Title\"},{\"attributes\":{\"bottom_units\":\"screen\",\"fill_alpha\":0.5,\"fill_color\":\"lightgrey\",\"left_units\":\"screen\",\"level\":\"overlay\",\"line_alpha\":1.0,\"line_color\":\"black\",\"line_dash\":[4,4],\"line_width\":2,\"right_units\":\"screen\",\"syncable\":false,\"top_units\":\"screen\"},\"id\":\"108277\",\"type\":\"BoxAnnotation\"},{\"attributes\":{},\"id\":\"108255\",\"type\":\"DataRange1d\"},{\"attributes\":{},\"id\":\"108261\",\"type\":\"LinearScale\"},{\"attributes\":{},\"id\":\"108276\",\"type\":\"HelpTool\"},{\"attributes\":{},\"id\":\"108257\",\"type\":\"DataRange1d\"},{\"attributes\":{\"axis_label_standoff\":10,\"axis_label_text_color\":\"#E0E0E0\",\"axis_label_text_font\":\"Helvetica\",\"axis_label_text_font_size\":\"1.25em\",\"axis_label_text_font_style\":\"normal\",\"axis_line_alpha\":0,\"axis_line_color\":\"#E0E0E0\",\"formatter\":{\"id\":\"109489\"},\"major_label_policy\":{\"id\":\"109491\"},\"major_label_text_color\":\"#E0E0E0\",\"major_label_text_font\":\"Helvetica\",\"major_label_text_font_size\":\"1.025em\",\"major_tick_line_alpha\":0,\"major_tick_line_color\":\"#E0E0E0\",\"minor_tick_line_alpha\":0,\"minor_tick_line_color\":\"#E0E0E0\",\"ticker\":{\"id\":\"108268\"}},\"id\":\"108267\",\"type\":\"LinearAxis\"},{\"attributes\":{},\"id\":\"109492\",\"type\":\"BasicTickFormatter\"},{\"attributes\":{},\"id\":\"108259\",\"type\":\"LinearScale\"},{\"attributes\":{\"axis_label_standoff\":10,\"axis_label_text_color\":\"#E0E0E0\",\"axis_label_text_font\":\"Helvetica\",\"axis_label_text_font_size\":\"1.25em\",\"axis_label_text_font_style\":\"normal\",\"axis_line_alpha\":0,\"axis_line_color\":\"#E0E0E0\",\"formatter\":{\"id\":\"109492\"},\"major_label_policy\":{\"id\":\"109494\"},\"major_label_text_color\":\"#E0E0E0\",\"major_label_text_font\":\"Helvetica\",\"major_label_text_font_size\":\"1.025em\",\"major_tick_line_alpha\":0,\"major_tick_line_color\":\"#E0E0E0\",\"minor_tick_line_alpha\":0,\"minor_tick_line_color\":\"#E0E0E0\",\"ticker\":{\"id\":\"108264\"}},\"id\":\"108263\",\"type\":\"LinearAxis\"},{\"attributes\":{},\"id\":\"108264\",\"type\":\"BasicTicker\"},{\"attributes\":{\"axis\":{\"id\":\"108263\"},\"grid_line_alpha\":0.25,\"grid_line_color\":\"#E0E0E0\",\"ticker\":null},\"id\":\"108266\",\"type\":\"Grid\"},{\"attributes\":{\"axis\":{\"id\":\"108267\"},\"dimension\":1,\"grid_line_alpha\":0.25,\"grid_line_color\":\"#E0E0E0\",\"ticker\":null},\"id\":\"108270\",\"type\":\"Grid\"},{\"attributes\":{\"active_multi\":null,\"autohide\":true,\"logo\":null,\"tools\":[{\"id\":\"108271\"},{\"id\":\"108272\"},{\"id\":\"108273\"},{\"id\":\"108274\"},{\"id\":\"108275\"},{\"id\":\"108276\"}]},\"id\":\"108278\",\"type\":\"Toolbar\"},{\"attributes\":{},\"id\":\"108268\",\"type\":\"BasicTicker\"},{\"attributes\":{\"line_color\":\"#1f77b4\",\"x\":{\"field\":\"x\"},\"y\":{\"field\":\"y\"}},\"id\":\"108287\",\"type\":\"Line\"},{\"attributes\":{},\"id\":\"108272\",\"type\":\"WheelZoomTool\"}],\"root_ids\":[\"108252\"]},\"title\":\"Bokeh Application\",\"version\":\"2.3.2\"}};\n",
       "  var render_items = [{\"docid\":\"5ca482bd-2e11-4b98-ac6c-52b4490a49a4\",\"root_ids\":[\"108252\"],\"roots\":{\"108252\":\"3e151be1-4fd4-439b-926f-a5f934f54d92\"}}];\n",
       "  root.Bokeh.embed.embed_items_notebook(docs_json, render_items);\n",
       "\n",
       "  }\n",
       "  if (root.Bokeh !== undefined) {\n",
       "    embed_document(root);\n",
       "  } else {\n",
       "    var attempts = 0;\n",
       "    var timer = setInterval(function(root) {\n",
       "      if (root.Bokeh !== undefined) {\n",
       "        clearInterval(timer);\n",
       "        embed_document(root);\n",
       "      } else {\n",
       "        attempts++;\n",
       "        if (attempts > 100) {\n",
       "          clearInterval(timer);\n",
       "          console.log(\"Bokeh: ERROR: Unable to run BokehJS code because BokehJS library is missing\");\n",
       "        }\n",
       "      }\n",
       "    }, 10, root)\n",
       "  }\n",
       "})(window);"
      ],
      "application/vnd.bokehjs_exec.v0+json": ""
     },
     "metadata": {
      "application/vnd.bokehjs_exec.v0+json": {
       "id": "108252"
      }
     },
     "output_type": "display_data"
    }
   ],
   "source": [
    "# prepare some data\n",
    "x = [1, 2, 3, 4, 5]\n",
    "y = [4, 5, 5, 7, 2]\n",
    "\n",
    "# create a plot\n",
    "p = figure(\n",
    "    title=\"Toolbar autohide example\",\n",
    "    sizing_mode=\"stretch_width\",\n",
    "    max_width=500,\n",
    "    height=250,\n",
    ")\n",
    "\n",
    "# activate toolbar autohide\n",
    "p.toolbar.autohide = True\n",
    "\n",
    "# add a renderer\n",
    "p.line(x, y)\n",
    "\n",
    "p.toolbar.logo = None\n",
    "\n",
    "# show the results\n",
    "show(p)"
   ]
  },
  {
   "cell_type": "markdown",
   "id": "b4eb22c6",
   "metadata": {},
   "source": [
    "## Customizing tools"
   ]
  },
  {
   "cell_type": "code",
   "execution_count": 336,
   "id": "4eea741e",
   "metadata": {},
   "outputs": [],
   "source": [
    "from bokeh.models.tools import BoxZoomTool, ResetTool, PanTool"
   ]
  },
  {
   "cell_type": "code",
   "execution_count": 337,
   "id": "c7b5fc1f",
   "metadata": {},
   "outputs": [
    {
     "data": {
      "text/html": [
       "\n",
       "\n",
       "\n",
       "\n",
       "\n",
       "\n",
       "  <div class=\"bk-root\" id=\"0a8c989b-3a91-48b9-80e9-469c60eb4041\" data-root-id=\"109661\"></div>\n"
      ]
     },
     "metadata": {},
     "output_type": "display_data"
    },
    {
     "data": {
      "application/javascript": [
       "(function(root) {\n",
       "  function embed_document(root) {\n",
       "    \n",
       "  var docs_json = {\"182d0936-1c53-4d4c-b815-1ac2b688dbe5\":{\"defs\":[],\"roots\":{\"references\":[{\"attributes\":{\"background_fill_color\":\"#20262B\",\"below\":[{\"id\":\"109672\"}],\"border_fill_color\":\"#15191C\",\"center\":[{\"id\":\"109675\"},{\"id\":\"109679\"}],\"height\":250,\"left\":[{\"id\":\"109676\"}],\"max_width\":500,\"outline_line_alpha\":0.25,\"outline_line_color\":\"#E0E0E0\",\"renderers\":[{\"id\":\"109689\"}],\"sizing_mode\":\"stretch_width\",\"title\":{\"id\":\"109662\"},\"toolbar\":{\"id\":\"109681\"},\"x_range\":{\"id\":\"109664\"},\"x_scale\":{\"id\":\"109668\"},\"y_range\":{\"id\":\"109666\"},\"y_scale\":{\"id\":\"109670\"}},\"id\":\"109661\",\"subtype\":\"Figure\",\"type\":\"Plot\"},{\"attributes\":{\"bottom_units\":\"screen\",\"fill_alpha\":0.5,\"fill_color\":\"lightgrey\",\"left_units\":\"screen\",\"level\":\"overlay\",\"line_alpha\":1.0,\"line_color\":\"black\",\"line_dash\":[4,4],\"line_width\":2,\"right_units\":\"screen\",\"syncable\":false,\"top_units\":\"screen\"},\"id\":\"109680\",\"type\":\"BoxAnnotation\"},{\"attributes\":{\"axis\":{\"id\":\"109672\"},\"grid_line_alpha\":0.25,\"grid_line_color\":\"#E0E0E0\",\"ticker\":null},\"id\":\"109675\",\"type\":\"Grid\"},{\"attributes\":{\"fill_alpha\":{\"value\":0.1},\"fill_color\":{\"value\":\"#1f77b4\"},\"line_alpha\":{\"value\":0.1},\"line_color\":{\"value\":\"#1f77b4\"},\"size\":{\"value\":10},\"x\":{\"field\":\"x\"},\"y\":{\"field\":\"y\"}},\"id\":\"109688\",\"type\":\"Circle\"},{\"attributes\":{},\"id\":\"110898\",\"type\":\"BasicTickFormatter\"},{\"attributes\":{\"data\":{\"x\":[1,2,3,4,5],\"y\":[4,5,5,7,2]},\"selected\":{\"id\":\"110905\"},\"selection_policy\":{\"id\":\"110904\"}},\"id\":\"109686\",\"type\":\"ColumnDataSource\"},{\"attributes\":{\"data_source\":{\"id\":\"109686\"},\"glyph\":{\"id\":\"109687\"},\"hover_glyph\":null,\"muted_glyph\":null,\"nonselection_glyph\":{\"id\":\"109688\"},\"view\":{\"id\":\"109690\"}},\"id\":\"109689\",\"type\":\"GlyphRenderer\"},{\"attributes\":{\"source\":{\"id\":\"109686\"}},\"id\":\"109690\",\"type\":\"CDSView\"},{\"attributes\":{},\"id\":\"109673\",\"type\":\"BasicTicker\"},{\"attributes\":{},\"id\":\"110900\",\"type\":\"AllLabels\"},{\"attributes\":{},\"id\":\"109666\",\"type\":\"DataRange1d\"},{\"attributes\":{},\"id\":\"110905\",\"type\":\"Selection\"},{\"attributes\":{\"active_multi\":null,\"tools\":[{\"id\":\"109659\"},{\"id\":\"109660\"},{\"id\":\"109684\"}]},\"id\":\"109681\",\"type\":\"Toolbar\"},{\"attributes\":{},\"id\":\"110901\",\"type\":\"BasicTickFormatter\"},{\"attributes\":{},\"id\":\"109670\",\"type\":\"LinearScale\"},{\"attributes\":{},\"id\":\"109668\",\"type\":\"LinearScale\"},{\"attributes\":{},\"id\":\"110903\",\"type\":\"AllLabels\"},{\"attributes\":{\"fill_color\":{\"value\":\"#1f77b4\"},\"line_color\":{\"value\":\"#1f77b4\"},\"size\":{\"value\":10},\"x\":{\"field\":\"x\"},\"y\":{\"field\":\"y\"}},\"id\":\"109687\",\"type\":\"Circle\"},{\"attributes\":{\"axis\":{\"id\":\"109676\"},\"dimension\":1,\"grid_line_alpha\":0.25,\"grid_line_color\":\"#E0E0E0\",\"ticker\":null},\"id\":\"109679\",\"type\":\"Grid\"},{\"attributes\":{\"text\":\"Modifying tools example\",\"text_color\":\"#E0E0E0\",\"text_font\":\"Helvetica\",\"text_font_size\":\"1.15em\"},\"id\":\"109662\",\"type\":\"Title\"},{\"attributes\":{},\"id\":\"109664\",\"type\":\"DataRange1d\"},{\"attributes\":{},\"id\":\"110904\",\"type\":\"UnionRenderers\"},{\"attributes\":{\"dimensions\":\"width\"},\"id\":\"109684\",\"type\":\"PanTool\"},{\"attributes\":{},\"id\":\"109677\",\"type\":\"BasicTicker\"},{\"attributes\":{\"overlay\":{\"id\":\"109680\"}},\"id\":\"109659\",\"type\":\"BoxZoomTool\"},{\"attributes\":{},\"id\":\"109660\",\"type\":\"ResetTool\"},{\"attributes\":{\"axis_label_standoff\":10,\"axis_label_text_color\":\"#E0E0E0\",\"axis_label_text_font\":\"Helvetica\",\"axis_label_text_font_size\":\"1.25em\",\"axis_label_text_font_style\":\"normal\",\"axis_line_alpha\":0,\"axis_line_color\":\"#E0E0E0\",\"formatter\":{\"id\":\"110898\"},\"major_label_policy\":{\"id\":\"110900\"},\"major_label_text_color\":\"#E0E0E0\",\"major_label_text_font\":\"Helvetica\",\"major_label_text_font_size\":\"1.025em\",\"major_tick_line_alpha\":0,\"major_tick_line_color\":\"#E0E0E0\",\"minor_tick_line_alpha\":0,\"minor_tick_line_color\":\"#E0E0E0\",\"ticker\":{\"id\":\"109677\"}},\"id\":\"109676\",\"type\":\"LinearAxis\"},{\"attributes\":{\"axis_label_standoff\":10,\"axis_label_text_color\":\"#E0E0E0\",\"axis_label_text_font\":\"Helvetica\",\"axis_label_text_font_size\":\"1.25em\",\"axis_label_text_font_style\":\"normal\",\"axis_line_alpha\":0,\"axis_line_color\":\"#E0E0E0\",\"formatter\":{\"id\":\"110901\"},\"major_label_policy\":{\"id\":\"110903\"},\"major_label_text_color\":\"#E0E0E0\",\"major_label_text_font\":\"Helvetica\",\"major_label_text_font_size\":\"1.025em\",\"major_tick_line_alpha\":0,\"major_tick_line_color\":\"#E0E0E0\",\"minor_tick_line_alpha\":0,\"minor_tick_line_color\":\"#E0E0E0\",\"ticker\":{\"id\":\"109673\"}},\"id\":\"109672\",\"type\":\"LinearAxis\"}],\"root_ids\":[\"109661\"]},\"title\":\"Bokeh Application\",\"version\":\"2.3.2\"}};\n",
       "  var render_items = [{\"docid\":\"182d0936-1c53-4d4c-b815-1ac2b688dbe5\",\"root_ids\":[\"109661\"],\"roots\":{\"109661\":\"0a8c989b-3a91-48b9-80e9-469c60eb4041\"}}];\n",
       "  root.Bokeh.embed.embed_items_notebook(docs_json, render_items);\n",
       "\n",
       "  }\n",
       "  if (root.Bokeh !== undefined) {\n",
       "    embed_document(root);\n",
       "  } else {\n",
       "    var attempts = 0;\n",
       "    var timer = setInterval(function(root) {\n",
       "      if (root.Bokeh !== undefined) {\n",
       "        clearInterval(timer);\n",
       "        embed_document(root);\n",
       "      } else {\n",
       "        attempts++;\n",
       "        if (attempts > 100) {\n",
       "          clearInterval(timer);\n",
       "          console.log(\"Bokeh: ERROR: Unable to run BokehJS code because BokehJS library is missing\");\n",
       "        }\n",
       "      }\n",
       "    }, 10, root)\n",
       "  }\n",
       "})(window);"
      ],
      "application/vnd.bokehjs_exec.v0+json": ""
     },
     "metadata": {
      "application/vnd.bokehjs_exec.v0+json": {
       "id": "109661"
      }
     },
     "output_type": "display_data"
    }
   ],
   "source": [
    "# prepare some data\n",
    "x = [1, 2, 3, 4, 5]\n",
    "y = [4, 5, 5, 7, 2]\n",
    "\n",
    "# create a plot\n",
    "p = figure(\n",
    "    title=\"Modifying tools example\",\n",
    "    tools=[BoxZoomTool(), ResetTool()],\n",
    "    sizing_mode=\"stretch_width\",\n",
    "    max_width=500,\n",
    "    height=250,\n",
    ")\n",
    "\n",
    "# add an additional pan tool\n",
    "# only vertical panning is allowed\n",
    "p.add_tools(PanTool(dimensions=\"width\"))\n",
    "\n",
    "# add a renderer\n",
    "p.circle(x, y, size=10)\n",
    "\n",
    "# show the results\n",
    "show(p)"
   ]
  },
  {
   "cell_type": "markdown",
   "id": "5be8f58c",
   "metadata": {},
   "source": [
    "## Tooltips"
   ]
  },
  {
   "cell_type": "code",
   "execution_count": 338,
   "id": "b6dc92b2",
   "metadata": {},
   "outputs": [
    {
     "data": {
      "text/html": [
       "\n",
       "\n",
       "\n",
       "\n",
       "\n",
       "\n",
       "  <div class=\"bk-root\" id=\"7b7ccac4-0456-4463-b08c-03a2010d4ade\" data-root-id=\"111069\"></div>\n"
      ]
     },
     "metadata": {},
     "output_type": "display_data"
    },
    {
     "data": {
      "application/javascript": [
       "(function(root) {\n",
       "  function embed_document(root) {\n",
       "    \n",
       "  var docs_json = {\"a2b46b5e-fe56-4cac-96ae-5730413f6c2f\":{\"defs\":[],\"roots\":{\"references\":[{\"attributes\":{\"background_fill_color\":\"#20262B\",\"below\":[{\"id\":\"111078\"}],\"border_fill_color\":\"#15191C\",\"center\":[{\"id\":\"111081\"},{\"id\":\"111085\"}],\"height\":250,\"left\":[{\"id\":\"111082\"}],\"max_width\":500,\"outline_line_alpha\":0.25,\"outline_line_color\":\"#E0E0E0\",\"renderers\":[{\"id\":\"111091\"},{\"id\":\"111096\"}],\"sizing_mode\":\"stretch_width\",\"title\":{\"id\":\"112315\"},\"toolbar\":{\"id\":\"111086\"},\"toolbar_location\":null,\"x_range\":{\"id\":\"111070\"},\"x_scale\":{\"id\":\"111074\"},\"y_range\":{\"id\":\"111072\"},\"y_scale\":{\"id\":\"111076\"}},\"id\":\"111069\",\"subtype\":\"Figure\",\"type\":\"Plot\"},{\"attributes\":{},\"id\":\"112319\",\"type\":\"BasicTickFormatter\"},{\"attributes\":{},\"id\":\"112316\",\"type\":\"BasicTickFormatter\"},{\"attributes\":{},\"id\":\"112323\",\"type\":\"Selection\"},{\"attributes\":{\"callback\":null,\"tooltips\":\"Data point @x has the value @y\"},\"id\":\"111068\",\"type\":\"HoverTool\"},{\"attributes\":{},\"id\":\"112318\",\"type\":\"AllLabels\"},{\"attributes\":{\"fill_color\":{\"value\":\"#1f77b4\"},\"line_color\":{\"value\":\"#1f77b4\"},\"size\":{\"value\":10},\"x\":{\"field\":\"x\"},\"y\":{\"field\":\"y\"}},\"id\":\"111089\",\"type\":\"Circle\"},{\"attributes\":{},\"id\":\"111070\",\"type\":\"DataRange1d\"},{\"attributes\":{\"data_source\":{\"id\":\"111093\"},\"glyph\":{\"id\":\"111094\"},\"hover_glyph\":null,\"muted_glyph\":null,\"nonselection_glyph\":{\"id\":\"111095\"},\"view\":{\"id\":\"111097\"}},\"id\":\"111096\",\"type\":\"GlyphRenderer\"},{\"attributes\":{\"source\":{\"id\":\"111088\"}},\"id\":\"111092\",\"type\":\"CDSView\"},{\"attributes\":{\"end\":10},\"id\":\"111072\",\"type\":\"Range1d\"},{\"attributes\":{},\"id\":\"111074\",\"type\":\"LinearScale\"},{\"attributes\":{},\"id\":\"111079\",\"type\":\"BasicTicker\"},{\"attributes\":{\"data_source\":{\"id\":\"111088\"},\"glyph\":{\"id\":\"111089\"},\"hover_glyph\":null,\"muted_glyph\":null,\"nonselection_glyph\":{\"id\":\"111090\"},\"view\":{\"id\":\"111092\"}},\"id\":\"111091\",\"type\":\"GlyphRenderer\"},{\"attributes\":{},\"id\":\"111076\",\"type\":\"LinearScale\"},{\"attributes\":{\"data\":{\"x\":[1,2,3,4,5],\"y\":[4,5,5,7,2]},\"selected\":{\"id\":\"112325\"},\"selection_policy\":{\"id\":\"112324\"}},\"id\":\"111093\",\"type\":\"ColumnDataSource\"},{\"attributes\":{},\"id\":\"112324\",\"type\":\"UnionRenderers\"},{\"attributes\":{\"axis_label_standoff\":10,\"axis_label_text_color\":\"#E0E0E0\",\"axis_label_text_font\":\"Helvetica\",\"axis_label_text_font_size\":\"1.25em\",\"axis_label_text_font_style\":\"normal\",\"axis_line_alpha\":0,\"axis_line_color\":\"#E0E0E0\",\"formatter\":{\"id\":\"112319\"},\"major_label_policy\":{\"id\":\"112321\"},\"major_label_text_color\":\"#E0E0E0\",\"major_label_text_font\":\"Helvetica\",\"major_label_text_font_size\":\"1.025em\",\"major_tick_line_alpha\":0,\"major_tick_line_color\":\"#E0E0E0\",\"minor_tick_line_alpha\":0,\"minor_tick_line_color\":\"#E0E0E0\",\"ticker\":{\"id\":\"111079\"}},\"id\":\"111078\",\"type\":\"LinearAxis\"},{\"attributes\":{\"axis_label_standoff\":10,\"axis_label_text_color\":\"#E0E0E0\",\"axis_label_text_font\":\"Helvetica\",\"axis_label_text_font_size\":\"1.25em\",\"axis_label_text_font_style\":\"normal\",\"axis_line_alpha\":0,\"axis_line_color\":\"#E0E0E0\",\"formatter\":{\"id\":\"112316\"},\"major_label_policy\":{\"id\":\"112318\"},\"major_label_text_color\":\"#E0E0E0\",\"major_label_text_font\":\"Helvetica\",\"major_label_text_font_size\":\"1.025em\",\"major_tick_line_alpha\":0,\"major_tick_line_color\":\"#E0E0E0\",\"minor_tick_line_alpha\":0,\"minor_tick_line_color\":\"#E0E0E0\",\"ticker\":{\"id\":\"111083\"}},\"id\":\"111082\",\"type\":\"LinearAxis\"},{\"attributes\":{\"source\":{\"id\":\"111093\"}},\"id\":\"111097\",\"type\":\"CDSView\"},{\"attributes\":{\"axis\":{\"id\":\"111078\"},\"grid_line_alpha\":0.25,\"grid_line_color\":\"#E0E0E0\",\"ticker\":null},\"id\":\"111081\",\"type\":\"Grid\"},{\"attributes\":{\"line_color\":\"#1f77b4\",\"line_width\":2,\"x\":{\"field\":\"x\"},\"y\":{\"field\":\"y\"}},\"id\":\"111094\",\"type\":\"Line\"},{\"attributes\":{},\"id\":\"112325\",\"type\":\"Selection\"},{\"attributes\":{\"line_alpha\":0.1,\"line_color\":\"#1f77b4\",\"line_width\":2,\"x\":{\"field\":\"x\"},\"y\":{\"field\":\"y\"}},\"id\":\"111095\",\"type\":\"Line\"},{\"attributes\":{\"axis\":{\"id\":\"111082\"},\"dimension\":1,\"grid_line_alpha\":0.25,\"grid_line_color\":\"#E0E0E0\",\"ticker\":null},\"id\":\"111085\",\"type\":\"Grid\"},{\"attributes\":{},\"id\":\"111083\",\"type\":\"BasicTicker\"},{\"attributes\":{\"data\":{\"x\":[1,2,3,4,5],\"y\":[4,5,5,7,2]},\"selected\":{\"id\":\"112323\"},\"selection_policy\":{\"id\":\"112322\"}},\"id\":\"111088\",\"type\":\"ColumnDataSource\"},{\"attributes\":{\"text_color\":\"#E0E0E0\",\"text_font\":\"Helvetica\",\"text_font_size\":\"1.15em\"},\"id\":\"112315\",\"type\":\"Title\"},{\"attributes\":{\"active_multi\":null,\"tools\":[{\"id\":\"111068\"}]},\"id\":\"111086\",\"type\":\"Toolbar\"},{\"attributes\":{\"fill_alpha\":{\"value\":0.1},\"fill_color\":{\"value\":\"#1f77b4\"},\"line_alpha\":{\"value\":0.1},\"line_color\":{\"value\":\"#1f77b4\"},\"size\":{\"value\":10},\"x\":{\"field\":\"x\"},\"y\":{\"field\":\"y\"}},\"id\":\"111090\",\"type\":\"Circle\"},{\"attributes\":{},\"id\":\"112322\",\"type\":\"UnionRenderers\"},{\"attributes\":{},\"id\":\"112321\",\"type\":\"AllLabels\"}],\"root_ids\":[\"111069\"]},\"title\":\"Bokeh Application\",\"version\":\"2.3.2\"}};\n",
       "  var render_items = [{\"docid\":\"a2b46b5e-fe56-4cac-96ae-5730413f6c2f\",\"root_ids\":[\"111069\"],\"roots\":{\"111069\":\"7b7ccac4-0456-4463-b08c-03a2010d4ade\"}}];\n",
       "  root.Bokeh.embed.embed_items_notebook(docs_json, render_items);\n",
       "\n",
       "  }\n",
       "  if (root.Bokeh !== undefined) {\n",
       "    embed_document(root);\n",
       "  } else {\n",
       "    var attempts = 0;\n",
       "    var timer = setInterval(function(root) {\n",
       "      if (root.Bokeh !== undefined) {\n",
       "        clearInterval(timer);\n",
       "        embed_document(root);\n",
       "      } else {\n",
       "        attempts++;\n",
       "        if (attempts > 100) {\n",
       "          clearInterval(timer);\n",
       "          console.log(\"Bokeh: ERROR: Unable to run BokehJS code because BokehJS library is missing\");\n",
       "        }\n",
       "      }\n",
       "    }, 10, root)\n",
       "  }\n",
       "})(window);"
      ],
      "application/vnd.bokehjs_exec.v0+json": ""
     },
     "metadata": {
      "application/vnd.bokehjs_exec.v0+json": {
       "id": "111069"
      }
     },
     "output_type": "display_data"
    }
   ],
   "source": [
    "from bokeh.models import HoverTool\n",
    "from bokeh.plotting import figure, show\n",
    "\n",
    "# prepare some data\n",
    "x = [1, 2, 3, 4, 5]\n",
    "y = [4, 5, 5, 7, 2]\n",
    "\n",
    "p = figure(\n",
    "    y_range=(0, 10),\n",
    "    toolbar_location=None,\n",
    "    tools=[HoverTool()],\n",
    "    tooltips=\"Data point @x has the value @y\",\n",
    "    sizing_mode=\"stretch_width\",\n",
    "    max_width=500,\n",
    "    height=250,\n",
    ")\n",
    "\n",
    "# add renderers\n",
    "p.circle(x, y, size=10)\n",
    "p.line(x, y, line_width=2)\n",
    "\n",
    "# show the results\n",
    "show(p)"
   ]
  },
  {
   "cell_type": "markdown",
   "id": "2cd5acf9",
   "metadata": {},
   "source": [
    "## Vectorizing colors"
   ]
  },
  {
   "cell_type": "code",
   "execution_count": 339,
   "id": "9d07aa33",
   "metadata": {},
   "outputs": [
    {
     "data": {
      "text/html": [
       "\n",
       "\n",
       "\n",
       "\n",
       "\n",
       "\n",
       "  <div class=\"bk-root\" id=\"8e654e9d-3ba5-48af-9537-c2b52771b4a4\" data-root-id=\"112519\"></div>\n"
      ]
     },
     "metadata": {},
     "output_type": "display_data"
    },
    {
     "data": {
      "application/javascript": [
       "(function(root) {\n",
       "  function embed_document(root) {\n",
       "    \n",
       "  var docs_json = {\"2d7f76a1-1ba5-45b3-8b4b-f98b65827803\":{\"defs\":[],\"roots\":{\"references\":[{\"attributes\":{\"background_fill_color\":\"#20262B\",\"below\":[{\"id\":\"112530\"}],\"border_fill_color\":\"#15191C\",\"center\":[{\"id\":\"112533\"},{\"id\":\"112537\"}],\"height\":250,\"left\":[{\"id\":\"112534\"}],\"max_width\":500,\"outline_line_alpha\":0.25,\"outline_line_color\":\"#E0E0E0\",\"renderers\":[{\"id\":\"112555\"},{\"id\":\"112560\"}],\"sizing_mode\":\"stretch_width\",\"title\":{\"id\":\"112520\"},\"toolbar\":{\"id\":\"112545\"},\"x_range\":{\"id\":\"112522\"},\"x_scale\":{\"id\":\"112526\"},\"y_range\":{\"id\":\"112524\"},\"y_scale\":{\"id\":\"112528\"}},\"id\":\"112519\",\"subtype\":\"Figure\",\"type\":\"Plot\"},{\"attributes\":{\"text\":\"Vectorized colors example\",\"text_color\":\"#E0E0E0\",\"text_font\":\"Helvetica\",\"text_font_size\":\"1.15em\"},\"id\":\"112520\",\"type\":\"Title\"},{\"attributes\":{\"bottom_units\":\"screen\",\"fill_alpha\":0.5,\"fill_color\":\"lightgrey\",\"left_units\":\"screen\",\"level\":\"overlay\",\"line_alpha\":1.0,\"line_color\":\"black\",\"line_dash\":[4,4],\"line_width\":2,\"right_units\":\"screen\",\"syncable\":false,\"top_units\":\"screen\"},\"id\":\"112544\",\"type\":\"BoxAnnotation\"},{\"attributes\":{\"data\":{\"x\":[0,1,2,3,4,5,6,7,8,9,10,11,12,13,14,15,16,17,18,19,20,21,22,23,24,25],\"y\":[85,63,60,5,17,32,26,64,25,83,79,97,16,89,3,36,31,9,71,10,19,74,59,55,93,4]},\"selected\":{\"id\":\"113798\"},\"selection_policy\":{\"id\":\"113797\"}},\"id\":\"112552\",\"type\":\"ColumnDataSource\"},{\"attributes\":{},\"id\":\"113796\",\"type\":\"AllLabels\"},{\"attributes\":{\"data\":{\"fill_color\":[\"#ffd8ff\",\"#ffa0ff\",\"#ff99ff\",\"#ff0cff\",\"#ff2bff\",\"#ff51ff\",\"#ff42ff\",\"#ffa3ff\",\"#ff3fff\",\"#ffd3ff\",\"#ffc9ff\",\"#fff7ff\",\"#ff28ff\",\"#ffe2ff\",\"#ff07ff\",\"#ff5bff\",\"#ff4fff\",\"#ff16ff\",\"#ffb5ff\",\"#ff19ff\",\"#ff30ff\",\"#ffbcff\",\"#ff96ff\",\"#ff8cff\",\"#ffedff\",\"#ff0aff\"],\"x\":[0,1,2,3,4,5,6,7,8,9,10,11,12,13,14,15,16,17,18,19,20,21,22,23,24,25],\"y\":[85,63,60,5,17,32,26,64,25,83,79,97,16,89,3,36,31,9,71,10,19,74,59,55,93,4]},\"selected\":{\"id\":\"113800\"},\"selection_policy\":{\"id\":\"113799\"}},\"id\":\"112557\",\"type\":\"ColumnDataSource\"},{\"attributes\":{\"data_source\":{\"id\":\"112552\"},\"glyph\":{\"id\":\"112553\"},\"hover_glyph\":null,\"muted_glyph\":null,\"nonselection_glyph\":{\"id\":\"112554\"},\"view\":{\"id\":\"112556\"}},\"id\":\"112555\",\"type\":\"GlyphRenderer\"},{\"attributes\":{},\"id\":\"112522\",\"type\":\"DataRange1d\"},{\"attributes\":{\"axis_label_standoff\":10,\"axis_label_text_color\":\"#E0E0E0\",\"axis_label_text_font\":\"Helvetica\",\"axis_label_text_font_size\":\"1.25em\",\"axis_label_text_font_style\":\"normal\",\"axis_line_alpha\":0,\"axis_line_color\":\"#E0E0E0\",\"formatter\":{\"id\":\"113791\"},\"major_label_policy\":{\"id\":\"113793\"},\"major_label_text_color\":\"#E0E0E0\",\"major_label_text_font\":\"Helvetica\",\"major_label_text_font_size\":\"1.025em\",\"major_tick_line_alpha\":0,\"major_tick_line_color\":\"#E0E0E0\",\"minor_tick_line_alpha\":0,\"minor_tick_line_color\":\"#E0E0E0\",\"ticker\":{\"id\":\"112535\"}},\"id\":\"112534\",\"type\":\"LinearAxis\"},{\"attributes\":{\"axis\":{\"id\":\"112530\"},\"grid_line_alpha\":0.25,\"grid_line_color\":\"#E0E0E0\",\"ticker\":null},\"id\":\"112533\",\"type\":\"Grid\"},{\"attributes\":{\"fill_alpha\":{\"value\":0.1},\"fill_color\":{\"field\":\"fill_color\"},\"line_alpha\":{\"value\":0.1},\"line_color\":{\"value\":\"blue\"},\"size\":{\"value\":15},\"x\":{\"field\":\"x\"},\"y\":{\"field\":\"y\"}},\"id\":\"112559\",\"type\":\"Circle\"},{\"attributes\":{},\"id\":\"112531\",\"type\":\"BasicTicker\"},{\"attributes\":{\"source\":{\"id\":\"112552\"}},\"id\":\"112556\",\"type\":\"CDSView\"},{\"attributes\":{},\"id\":\"112526\",\"type\":\"LinearScale\"},{\"attributes\":{\"line_alpha\":0.1,\"line_color\":\"blue\",\"x\":{\"field\":\"x\"},\"y\":{\"field\":\"y\"}},\"id\":\"112554\",\"type\":\"Line\"},{\"attributes\":{\"axis_label_standoff\":10,\"axis_label_text_color\":\"#E0E0E0\",\"axis_label_text_font\":\"Helvetica\",\"axis_label_text_font_size\":\"1.25em\",\"axis_label_text_font_style\":\"normal\",\"axis_line_alpha\":0,\"axis_line_color\":\"#E0E0E0\",\"formatter\":{\"id\":\"113794\"},\"major_label_policy\":{\"id\":\"113796\"},\"major_label_text_color\":\"#E0E0E0\",\"major_label_text_font\":\"Helvetica\",\"major_label_text_font_size\":\"1.025em\",\"major_tick_line_alpha\":0,\"major_tick_line_color\":\"#E0E0E0\",\"minor_tick_line_alpha\":0,\"minor_tick_line_color\":\"#E0E0E0\",\"ticker\":{\"id\":\"112531\"}},\"id\":\"112530\",\"type\":\"LinearAxis\"},{\"attributes\":{},\"id\":\"112543\",\"type\":\"HelpTool\"},{\"attributes\":{},\"id\":\"112528\",\"type\":\"LinearScale\"},{\"attributes\":{},\"id\":\"113791\",\"type\":\"BasicTickFormatter\"},{\"attributes\":{\"data_source\":{\"id\":\"112557\"},\"glyph\":{\"id\":\"112558\"},\"hover_glyph\":null,\"muted_glyph\":null,\"nonselection_glyph\":{\"id\":\"112559\"},\"view\":{\"id\":\"112561\"}},\"id\":\"112560\",\"type\":\"GlyphRenderer\"},{\"attributes\":{\"axis\":{\"id\":\"112534\"},\"dimension\":1,\"grid_line_alpha\":0.25,\"grid_line_color\":\"#E0E0E0\",\"ticker\":null},\"id\":\"112537\",\"type\":\"Grid\"},{\"attributes\":{},\"id\":\"113797\",\"type\":\"UnionRenderers\"},{\"attributes\":{},\"id\":\"113798\",\"type\":\"Selection\"},{\"attributes\":{\"source\":{\"id\":\"112557\"}},\"id\":\"112561\",\"type\":\"CDSView\"},{\"attributes\":{},\"id\":\"112539\",\"type\":\"WheelZoomTool\"},{\"attributes\":{\"overlay\":{\"id\":\"112544\"}},\"id\":\"112540\",\"type\":\"BoxZoomTool\"},{\"attributes\":{},\"id\":\"112542\",\"type\":\"ResetTool\"},{\"attributes\":{\"line_color\":\"blue\",\"x\":{\"field\":\"x\"},\"y\":{\"field\":\"y\"}},\"id\":\"112553\",\"type\":\"Line\"},{\"attributes\":{},\"id\":\"112538\",\"type\":\"PanTool\"},{\"attributes\":{},\"id\":\"113793\",\"type\":\"AllLabels\"},{\"attributes\":{},\"id\":\"112541\",\"type\":\"SaveTool\"},{\"attributes\":{},\"id\":\"113799\",\"type\":\"UnionRenderers\"},{\"attributes\":{},\"id\":\"112524\",\"type\":\"DataRange1d\"},{\"attributes\":{},\"id\":\"113800\",\"type\":\"Selection\"},{\"attributes\":{\"active_multi\":null,\"tools\":[{\"id\":\"112538\"},{\"id\":\"112539\"},{\"id\":\"112540\"},{\"id\":\"112541\"},{\"id\":\"112542\"},{\"id\":\"112543\"}]},\"id\":\"112545\",\"type\":\"Toolbar\"},{\"attributes\":{},\"id\":\"113794\",\"type\":\"BasicTickFormatter\"},{\"attributes\":{},\"id\":\"112535\",\"type\":\"BasicTicker\"},{\"attributes\":{\"fill_color\":{\"field\":\"fill_color\"},\"line_color\":{\"value\":\"blue\"},\"size\":{\"value\":15},\"x\":{\"field\":\"x\"},\"y\":{\"field\":\"y\"}},\"id\":\"112558\",\"type\":\"Circle\"}],\"root_ids\":[\"112519\"]},\"title\":\"Bokeh Application\",\"version\":\"2.3.2\"}};\n",
       "  var render_items = [{\"docid\":\"2d7f76a1-1ba5-45b3-8b4b-f98b65827803\",\"root_ids\":[\"112519\"],\"roots\":{\"112519\":\"8e654e9d-3ba5-48af-9537-c2b52771b4a4\"}}];\n",
       "  root.Bokeh.embed.embed_items_notebook(docs_json, render_items);\n",
       "\n",
       "  }\n",
       "  if (root.Bokeh !== undefined) {\n",
       "    embed_document(root);\n",
       "  } else {\n",
       "    var attempts = 0;\n",
       "    var timer = setInterval(function(root) {\n",
       "      if (root.Bokeh !== undefined) {\n",
       "        clearInterval(timer);\n",
       "        embed_document(root);\n",
       "      } else {\n",
       "        attempts++;\n",
       "        if (attempts > 100) {\n",
       "          clearInterval(timer);\n",
       "          console.log(\"Bokeh: ERROR: Unable to run BokehJS code because BokehJS library is missing\");\n",
       "        }\n",
       "      }\n",
       "    }, 10, root)\n",
       "  }\n",
       "})(window);"
      ],
      "application/vnd.bokehjs_exec.v0+json": ""
     },
     "metadata": {
      "application/vnd.bokehjs_exec.v0+json": {
       "id": "112519"
      }
     },
     "output_type": "display_data"
    }
   ],
   "source": [
    "# generate some data (1-10 for x, random values for y)\n",
    "x = list(range(0, 26))\n",
    "y = random.sample(range(0, 100), 26)\n",
    "\n",
    "# generate list of rgb hex colors in relation to y\n",
    "colors = [f\"#{255:02x}{int((value * 255) / 100):02x}{255:02x}\" for value in y]\n",
    "\n",
    "# create new plot\n",
    "p = figure(\n",
    "    title=\"Vectorized colors example\",\n",
    "    sizing_mode=\"stretch_width\",\n",
    "    max_width=500,\n",
    "    height=250,\n",
    ")\n",
    "\n",
    "# add circle and line renderers\n",
    "line = p.line(x, y, line_color=\"blue\", line_width=1)\n",
    "circle = p.circle(x, y, fill_color=colors, line_color=\"blue\", size=15)\n",
    "\n",
    "# show the results\n",
    "show(p)"
   ]
  },
  {
   "cell_type": "markdown",
   "id": "77ad973d",
   "metadata": {},
   "source": [
    "## Vectorizing colors and sizes"
   ]
  },
  {
   "cell_type": "code",
   "execution_count": 340,
   "id": "db580134",
   "metadata": {},
   "outputs": [
    {
     "data": {
      "text/html": [
       "\n",
       "\n",
       "\n",
       "\n",
       "\n",
       "\n",
       "  <div class=\"bk-root\" id=\"d5d09004-33a4-4baf-ba05-b57f0a1b8088\" data-root-id=\"113995\"></div>\n"
      ]
     },
     "metadata": {},
     "output_type": "display_data"
    },
    {
     "data": {
      "application/javascript": [
       "(function(root) {\n",
       "  function embed_document(root) {\n",
       "    \n",
       "  var docs_json = {\"ddd186ee-1372-43c3-b527-626112f106cd\":{\"defs\":[],\"roots\":{\"references\":[{\"attributes\":{\"background_fill_color\":\"#20262B\",\"below\":[{\"id\":\"114006\"}],\"border_fill_color\":\"#15191C\",\"center\":[{\"id\":\"114009\"},{\"id\":\"114013\"}],\"height\":250,\"left\":[{\"id\":\"114010\"}],\"max_width\":500,\"outline_line_alpha\":0.25,\"outline_line_color\":\"#E0E0E0\",\"renderers\":[{\"id\":\"114031\"}],\"sizing_mode\":\"stretch_width\",\"title\":{\"id\":\"113996\"},\"toolbar\":{\"id\":\"114021\"},\"x_range\":{\"id\":\"113998\"},\"x_scale\":{\"id\":\"114002\"},\"y_range\":{\"id\":\"114000\"},\"y_scale\":{\"id\":\"114004\"}},\"id\":\"113995\",\"subtype\":\"Figure\",\"type\":\"Plot\"},{\"attributes\":{},\"id\":\"115277\",\"type\":\"BasicTickFormatter\"},{\"attributes\":{\"axis_label_standoff\":10,\"axis_label_text_color\":\"#E0E0E0\",\"axis_label_text_font\":\"Helvetica\",\"axis_label_text_font_size\":\"1.25em\",\"axis_label_text_font_style\":\"normal\",\"axis_line_alpha\":0,\"axis_line_color\":\"#E0E0E0\",\"formatter\":{\"id\":\"115274\"},\"major_label_policy\":{\"id\":\"115276\"},\"major_label_text_color\":\"#E0E0E0\",\"major_label_text_font\":\"Helvetica\",\"major_label_text_font_size\":\"1.025em\",\"major_tick_line_alpha\":0,\"major_tick_line_color\":\"#E0E0E0\",\"minor_tick_line_alpha\":0,\"minor_tick_line_color\":\"#E0E0E0\",\"ticker\":{\"id\":\"114011\"}},\"id\":\"114010\",\"type\":\"LinearAxis\"},{\"attributes\":{\"axis\":{\"id\":\"114010\"},\"dimension\":1,\"grid_line_alpha\":0.25,\"grid_line_color\":\"#E0E0E0\",\"ticker\":null},\"id\":\"114013\",\"type\":\"Grid\"},{\"attributes\":{},\"id\":\"114002\",\"type\":\"LinearScale\"},{\"attributes\":{},\"id\":\"114019\",\"type\":\"HelpTool\"},{\"attributes\":{},\"id\":\"115279\",\"type\":\"AllLabels\"},{\"attributes\":{},\"id\":\"115281\",\"type\":\"Selection\"},{\"attributes\":{},\"id\":\"114011\",\"type\":\"BasicTicker\"},{\"attributes\":{\"fill_alpha\":{\"value\":0.6},\"fill_color\":{\"field\":\"fill_color\"},\"line_color\":{\"value\":\"lightgrey\"},\"radius\":{\"field\":\"radius\"},\"x\":{\"field\":\"x\"},\"y\":{\"field\":\"y\"}},\"id\":\"114029\",\"type\":\"Circle\"},{\"attributes\":{},\"id\":\"114015\",\"type\":\"WheelZoomTool\"},{\"attributes\":{},\"id\":\"114014\",\"type\":\"PanTool\"},{\"attributes\":{\"overlay\":{\"id\":\"114020\"}},\"id\":\"114016\",\"type\":\"BoxZoomTool\"},{\"attributes\":{},\"id\":\"114017\",\"type\":\"SaveTool\"},{\"attributes\":{},\"id\":\"114018\",\"type\":\"ResetTool\"},{\"attributes\":{\"active_multi\":null,\"tools\":[{\"id\":\"114014\"},{\"id\":\"114015\"},{\"id\":\"114016\"},{\"id\":\"114017\"},{\"id\":\"114018\"},{\"id\":\"114019\"}]},\"id\":\"114021\",\"type\":\"Toolbar\"},{\"attributes\":{},\"id\":\"114007\",\"type\":\"BasicTicker\"},{\"attributes\":{\"data\":{\"fill_color\":[\"#ff9bff\",\"#ffceff\",\"#ffc0ff\",\"#ffc0ff\",\"#ff6bff\",\"#ff22ff\",\"#ff1aff\",\"#ff10ff\",\"#ffaaff\",\"#fff7ff\",\"#ff36ff\",\"#ff21ff\",\"#fff1ff\",\"#ff0cff\",\"#ff26ff\",\"#ffc3ff\",\"#ffaeff\",\"#ff0bff\",\"#ff13ff\",\"#fff0ff\",\"#ff9fff\",\"#ffacff\",\"#ffd4ff\",\"#ffe9ff\",\"#ff9dff\",\"#ff49ff\",\"#ffceff\",\"#ff1aff\",\"#ffd8ff\",\"#ffc2ff\",\"#ffd7ff\",\"#ff4eff\",\"#ff0dff\",\"#ff4fff\",\"#ff59ff\",\"#ff2cff\",\"#ff1aff\",\"#ffe9ff\",\"#ffacff\",\"#ffbbff\",\"#ffc6ff\",\"#ffc2ff\",\"#ff52ff\",\"#ffdeff\",\"#ff58ff\",\"#ffc7ff\",\"#ff25ff\",\"#ffdbff\",\"#ffdeff\",\"#ffb7ff\",\"#ff0eff\",\"#ff18ff\",\"#ff8fff\",\"#ff2cff\",\"#ff77ff\",\"#ffbaff\",\"#ff95ff\",\"#ffb7ff\",\"#ff97ff\",\"#ffd2ff\",\"#ffd6ff\",\"#ffdfff\",\"#fffcff\",\"#ffb5ff\",\"#ff89ff\",\"#ffaeff\",\"#ff13ff\",\"#ffa1ff\",\"#ff0fff\",\"#ffd2ff\",\"#ff7fff\",\"#ffccff\",\"#ff4eff\",\"#ff0bff\",\"#ffadff\",\"#ffc2ff\",\"#ffd1ff\",\"#ff7fff\",\"#ff02ff\",\"#ff70ff\",\"#ff3bff\",\"#ff51ff\",\"#ff25ff\",\"#ff00ff\",\"#ffc1ff\",\"#ffc3ff\",\"#ff3fff\",\"#fffeff\",\"#ff1fff\",\"#ff6cff\",\"#ff00ff\",\"#ff1fff\",\"#ff87ff\",\"#ff75ff\",\"#ffc7ff\",\"#ff8cff\",\"#ffbaff\",\"#ffe1ff\",\"#ffaaff\",\"#ffc9ff\",\"#ff76ff\",\"#ff54ff\",\"#ff7bff\",\"#ffa5ff\",\"#ff06ff\",\"#ff48ff\",\"#ff43ff\",\"#fffaff\",\"#ff81ff\",\"#ff81ff\",\"#ff73ff\",\"#ff56ff\",\"#ff8fff\",\"#ff9cff\",\"#ff78ff\",\"#ffd0ff\",\"#ffb1ff\",\"#ffbdff\",\"#ffb4ff\",\"#ff6eff\",\"#ff11ff\",\"#ff8cff\",\"#ff2aff\",\"#ffa0ff\",\"#ff7cff\",\"#fff1ff\",\"#ff12ff\",\"#ff57ff\",\"#ffadff\",\"#ff00ff\",\"#ff4cff\",\"#ff1cff\",\"#ff15ff\",\"#ff45ff\",\"#ffdfff\",\"#ff62ff\",\"#ff88ff\",\"#ff4eff\",\"#ff90ff\",\"#fff2ff\",\"#ff84ff\",\"#ff4cff\",\"#ff06ff\",\"#ff7aff\",\"#ff6dff\",\"#ff94ff\",\"#ffedff\",\"#ffb4ff\",\"#ff3aff\",\"#ff50ff\",\"#ff77ff\",\"#ff98ff\",\"#ff3aff\",\"#ff41ff\",\"#ff8cff\",\"#ff3eff\",\"#ff8dff\",\"#ff11ff\",\"#ff05ff\",\"#ffc5ff\",\"#ff38ff\",\"#ff39ff\",\"#fff6ff\",\"#ff27ff\",\"#ffa0ff\",\"#ffdeff\",\"#ff4bff\",\"#ffe1ff\",\"#ff53ff\",\"#fffbff\",\"#ffa5ff\",\"#ffe2ff\",\"#ff94ff\",\"#ffa3ff\",\"#ff33ff\",\"#ff44ff\",\"#ff67ff\",\"#ff49ff\",\"#ffe7ff\",\"#ff40ff\",\"#ff78ff\",\"#ff19ff\",\"#ff41ff\",\"#ff31ff\",\"#fff5ff\",\"#ff64ff\",\"#ff1eff\",\"#fffbff\",\"#ff8fff\",\"#ffa3ff\",\"#ffa9ff\",\"#ffc8ff\",\"#fffbff\",\"#ff11ff\",\"#ff00ff\",\"#ff8cff\",\"#ff9bff\",\"#ffe2ff\",\"#ff1fff\",\"#ff27ff\",\"#ff9eff\",\"#ffdeff\",\"#ff80ff\",\"#ffc2ff\",\"#ffcdff\",\"#ff19ff\",\"#ff2fff\",\"#ffb7ff\",\"#ff01ff\",\"#ff4fff\",\"#fff4ff\",\"#ff12ff\",\"#ffa4ff\",\"#ffa0ff\",\"#ffe6ff\",\"#ff52ff\",\"#ff06ff\",\"#ff68ff\",\"#ff1dff\",\"#ffd0ff\",\"#ff74ff\",\"#ff68ff\",\"#ff0fff\",\"#ff0aff\",\"#ffa5ff\",\"#ff8bff\",\"#ff63ff\",\"#fffcff\",\"#ffc6ff\",\"#ffa9ff\",\"#ff5aff\",\"#ffc4ff\",\"#ff27ff\",\"#ffc2ff\",\"#ffa2ff\",\"#ff32ff\",\"#ffc1ff\",\"#ff3aff\",\"#ff2aff\",\"#ffa8ff\",\"#ff95ff\",\"#ff50ff\",\"#ffb5ff\",\"#ff8bff\",\"#ff50ff\",\"#ff69ff\",\"#ffd3ff\",\"#ff14ff\",\"#ff9fff\",\"#ff91ff\",\"#fff8ff\",\"#ff56ff\",\"#ff72ff\",\"#ff8fff\",\"#ffafff\",\"#ffedff\",\"#ffdeff\",\"#ffc7ff\",\"#ffdeff\",\"#ffb8ff\",\"#fff5ff\",\"#ff6bff\",\"#ffe3ff\",\"#ffe3ff\",\"#ff02ff\",\"#ff57ff\",\"#ffbaff\",\"#ff99ff\",\"#ff76ff\",\"#ff44ff\",\"#ff81ff\",\"#ffa3ff\",\"#ff8fff\",\"#ff46ff\",\"#ff12ff\",\"#ff2fff\",\"#ffcfff\",\"#ffbfff\",\"#fff8ff\",\"#ffcaff\",\"#ffd7ff\",\"#ff18ff\",\"#ff98ff\",\"#fff2ff\",\"#ffceff\",\"#ff6eff\",\"#ff41ff\",\"#ffd3ff\",\"#ff9fff\",\"#ffa7ff\",\"#ff08ff\",\"#ffcdff\",\"#fffbff\",\"#ffdeff\",\"#ff06ff\",\"#ffbcff\",\"#ff90ff\",\"#ffd2ff\",\"#ff6cff\",\"#ffc1ff\",\"#fff9ff\",\"#ff1dff\",\"#ff20ff\",\"#ffb8ff\",\"#fff7ff\",\"#ffb2ff\",\"#ffe9ff\",\"#ffe1ff\",\"#ffa0ff\",\"#ffadff\",\"#fff6ff\",\"#ffa1ff\",\"#ff9cff\",\"#ffb1ff\",\"#ffa3ff\",\"#ffa2ff\",\"#ff37ff\",\"#ffacff\",\"#ff1bff\",\"#ff9fff\",\"#ff69ff\",\"#ffacff\",\"#ff7bff\",\"#ff7eff\",\"#ff87ff\",\"#fffdff\",\"#ff2cff\",\"#ff64ff\",\"#ff62ff\",\"#ff11ff\",\"#ffc4ff\",\"#ff07ff\",\"#ff0eff\",\"#ff4aff\",\"#ff1fff\",\"#ffd7ff\",\"#ff0bff\",\"#ff8eff\",\"#ff29ff\",\"#ff00ff\",\"#ff24ff\",\"#ff0cff\",\"#ff80ff\",\"#ff97ff\",\"#ff1cff\",\"#ff23ff\",\"#ffd5ff\",\"#ff7aff\",\"#ff1dff\",\"#ffe0ff\",\"#ff8cff\",\"#ffeaff\",\"#ffdeff\",\"#ff06ff\",\"#ff4aff\",\"#ff05ff\",\"#ff1fff\",\"#ff1aff\",\"#ff4eff\",\"#ffc3ff\",\"#ff13ff\",\"#ff22ff\",\"#ffc1ff\",\"#ffc4ff\",\"#ff61ff\",\"#ffacff\",\"#ff07ff\",\"#ff35ff\",\"#ff3cff\",\"#ffc1ff\",\"#ff58ff\",\"#ffdaff\",\"#ff4aff\",\"#ff99ff\",\"#ff77ff\",\"#ffc3ff\",\"#fffdff\",\"#ffeaff\",\"#ffc5ff\",\"#ff5fff\",\"#ff16ff\",\"#ff05ff\",\"#ff66ff\",\"#ffc1ff\",\"#ffb4ff\",\"#ff29ff\",\"#ff6aff\",\"#ff20ff\",\"#ff5aff\",\"#ffe3ff\",\"#ff54ff\",\"#ff89ff\",\"#ff71ff\",\"#ff76ff\",\"#ffe7ff\",\"#ff9cff\",\"#ff09ff\",\"#ffa7ff\",\"#ff4aff\",\"#ff70ff\",\"#ffc4ff\",\"#ff12ff\",\"#ffe0ff\",\"#ff95ff\",\"#ff75ff\",\"#fff1ff\",\"#ff31ff\",\"#ff83ff\",\"#fffbff\",\"#ff3fff\",\"#ffe8ff\",\"#ff01ff\",\"#ff4dff\",\"#ff1eff\",\"#ff8aff\",\"#ffa3ff\",\"#ffbdff\",\"#ff24ff\",\"#ff74ff\",\"#ff34ff\",\"#ffd3ff\",\"#ffdeff\",\"#ff20ff\",\"#ff18ff\",\"#ffd6ff\",\"#ffb7ff\",\"#ffb9ff\",\"#ffc8ff\",\"#ff73ff\",\"#fffdff\",\"#ff60ff\",\"#ff60ff\",\"#ff9eff\",\"#ff30ff\",\"#ff04ff\",\"#ff04ff\",\"#ffe2ff\",\"#ffe1ff\",\"#ff1dff\",\"#ff9fff\",\"#ffdeff\",\"#ff76ff\",\"#ffd8ff\",\"#ffa5ff\",\"#ff7eff\",\"#ff9cff\",\"#ffc8ff\",\"#ffc7ff\",\"#ff1eff\",\"#ff79ff\",\"#ff60ff\",\"#ffa4ff\",\"#ffd6ff\",\"#ffbfff\",\"#ff3cff\",\"#ff57ff\",\"#ff59ff\",\"#ff1fff\",\"#ff56ff\",\"#ffc4ff\",\"#ff3eff\",\"#ff63ff\",\"#ff42ff\",\"#ff49ff\",\"#ff8eff\",\"#ffc1ff\",\"#ffe6ff\",\"#ffc7ff\",\"#ff2eff\",\"#fffaff\",\"#ffdaff\",\"#ffdfff\",\"#ffaaff\",\"#ff2dff\",\"#ff22ff\",\"#ff80ff\",\"#ffb4ff\",\"#ff9aff\",\"#ff68ff\",\"#ff82ff\",\"#ff46ff\",\"#ffb6ff\",\"#fffbff\",\"#ffe4ff\",\"#ff03ff\",\"#ff98ff\",\"#ff6aff\",\"#ff8cff\",\"#ffa5ff\",\"#ff9eff\",\"#ffbaff\",\"#ff8aff\",\"#ffc6ff\",\"#ffcbff\",\"#ff8bff\",\"#ff9aff\",\"#ffcaff\",\"#ff1cff\",\"#ff12ff\",\"#ffd2ff\",\"#ffdcff\",\"#ffc0ff\",\"#ff8dff\",\"#ff0cff\",\"#fff7ff\",\"#ff5fff\",\"#ff3aff\",\"#ffb3ff\",\"#ff64ff\",\"#ffc2ff\",\"#ff02ff\",\"#ffb1ff\",\"#ffc2ff\",\"#ff61ff\",\"#ff45ff\",\"#ffc4ff\",\"#ffd0ff\",\"#ff78ff\",\"#ff04ff\",\"#ffc5ff\",\"#ffc0ff\",\"#ffcaff\",\"#ff22ff\",\"#ffbaff\",\"#ffa7ff\",\"#ff1eff\",\"#ff66ff\",\"#fff3ff\",\"#ff30ff\",\"#ff3dff\",\"#ffe1ff\",\"#fff7ff\",\"#ffcdff\",\"#ff40ff\",\"#ff08ff\",\"#ff52ff\",\"#ffb9ff\",\"#ffc9ff\",\"#fff6ff\",\"#ff65ff\",\"#ff33ff\",\"#fffaff\",\"#ff66ff\",\"#ffd6ff\",\"#ffe8ff\",\"#ffdeff\",\"#ff8cff\",\"#ff2eff\",\"#ffc5ff\",\"#ffdaff\",\"#ff99ff\",\"#ff26ff\",\"#ff55ff\",\"#fffcff\",\"#ff0fff\",\"#ff56ff\",\"#ff68ff\",\"#ff76ff\",\"#ffbeff\",\"#ffdaff\",\"#ff3aff\",\"#ff01ff\",\"#ffd0ff\",\"#ff9aff\",\"#ff4fff\",\"#ffddff\",\"#ffcdff\",\"#ff63ff\",\"#ff71ff\",\"#ffd0ff\",\"#fffaff\",\"#ff15ff\",\"#ff41ff\",\"#fff6ff\",\"#ffe7ff\",\"#ff55ff\",\"#ff9aff\",\"#ff49ff\",\"#ff73ff\",\"#ffcaff\",\"#ff3cff\",\"#ff05ff\",\"#ffb3ff\",\"#fff2ff\",\"#ff86ff\",\"#ffc7ff\",\"#ffe3ff\",\"#ff7aff\",\"#ff7eff\",\"#ff8aff\",\"#ff0cff\",\"#ff76ff\",\"#ff35ff\",\"#ff63ff\",\"#ffddff\",\"#ff75ff\",\"#ff4fff\",\"#ff86ff\",\"#ff53ff\",\"#ff8cff\",\"#ff02ff\",\"#ff06ff\",\"#fff9ff\",\"#ff7fff\",\"#ff76ff\",\"#ff86ff\",\"#ff0cff\",\"#ff0fff\",\"#fff9ff\",\"#ffdaff\",\"#ffbcff\",\"#ff20ff\",\"#ff66ff\",\"#fff1ff\",\"#ffe3ff\",\"#ff13ff\",\"#ff24ff\",\"#ff85ff\",\"#ff59ff\",\"#ff41ff\",\"#ff98ff\",\"#ff70ff\",\"#ff22ff\",\"#ffe4ff\",\"#ff8bff\",\"#ff5cff\",\"#ff10ff\",\"#ffc3ff\",\"#ff10ff\",\"#ff9cff\",\"#ff9cff\",\"#ffd5ff\",\"#ffe7ff\",\"#ff88ff\",\"#ffa9ff\",\"#ff4dff\",\"#ffcdff\",\"#ff0cff\",\"#ff10ff\",\"#ff09ff\",\"#ff8cff\",\"#ff41ff\",\"#fffcff\",\"#ff60ff\",\"#ff8fff\",\"#ffa9ff\",\"#ffd7ff\",\"#ffc7ff\",\"#ff24ff\",\"#ff5eff\",\"#ff92ff\",\"#ffcbff\",\"#ff04ff\",\"#ffb4ff\",\"#ff25ff\",\"#ff6fff\",\"#ffd6ff\",\"#ff1eff\",\"#ffd5ff\",\"#fffbff\",\"#ff57ff\",\"#ff86ff\",\"#ffa5ff\",\"#ff6aff\",\"#fff2ff\",\"#ff86ff\",\"#ff4dff\",\"#ff2aff\",\"#ffbaff\",\"#ff03ff\",\"#ffc7ff\",\"#ff5cff\",\"#ff46ff\",\"#ff9dff\",\"#ff81ff\",\"#ff49ff\",\"#ff30ff\",\"#ffcdff\",\"#ffb5ff\",\"#ff8eff\",\"#ffa2ff\",\"#ffd5ff\",\"#ff67ff\",\"#ffa6ff\",\"#ff17ff\",\"#ff20ff\",\"#ff5bff\",\"#ffa8ff\",\"#ff0aff\",\"#ff61ff\",\"#ff99ff\",\"#ff65ff\",\"#ff98ff\",\"#ffd5ff\",\"#ff93ff\",\"#ff64ff\",\"#ffb6ff\",\"#ff37ff\",\"#ff4dff\",\"#ff80ff\",\"#ffbcff\",\"#ff9fff\",\"#ff7cff\",\"#ff2cff\",\"#ff62ff\",\"#ffe0ff\",\"#ff68ff\",\"#ff1dff\",\"#ffa7ff\",\"#fff7ff\",\"#ff4fff\",\"#ff2aff\",\"#ff82ff\",\"#ff8eff\",\"#ff73ff\",\"#ffa9ff\",\"#fffcff\",\"#fffcff\",\"#ff7cff\",\"#ff6cff\",\"#ff16ff\",\"#ff55ff\",\"#ff52ff\",\"#ffa8ff\",\"#ff2eff\",\"#ff82ff\",\"#ff98ff\",\"#ffcfff\",\"#ffb7ff\",\"#ff2fff\",\"#ff9bff\",\"#fff3ff\",\"#ff42ff\",\"#ff77ff\",\"#ff34ff\",\"#ffa4ff\",\"#ff5bff\",\"#ffe9ff\",\"#ff05ff\",\"#ffa4ff\",\"#ffc9ff\",\"#ffc2ff\",\"#ffddff\",\"#ffd6ff\",\"#ff58ff\",\"#ff3cff\",\"#ff4dff\",\"#ff9dff\",\"#fff3ff\",\"#ff2dff\",\"#ffbdff\",\"#ff79ff\",\"#ff72ff\",\"#ff53ff\",\"#ffafff\",\"#fffbff\",\"#ffbfff\",\"#ffe3ff\",\"#ff4eff\",\"#ff57ff\",\"#ffacff\",\"#ff9aff\",\"#ff4fff\",\"#fff2ff\",\"#ff8aff\",\"#ff06ff\",\"#ff33ff\",\"#ff89ff\",\"#ff53ff\",\"#ff6aff\",\"#ff31ff\",\"#ffe8ff\",\"#ff2bff\",\"#ff19ff\",\"#ff58ff\",\"#ff73ff\",\"#ff72ff\",\"#ff3dff\",\"#ff2dff\",\"#ffaeff\",\"#fff7ff\",\"#ff47ff\",\"#ffc7ff\",\"#ff7eff\",\"#ff98ff\",\"#ffc7ff\",\"#ff9dff\",\"#ffe9ff\",\"#ff30ff\",\"#ffa0ff\",\"#ff2aff\",\"#ffd8ff\",\"#ffb0ff\",\"#ff42ff\",\"#ff23ff\",\"#ff52ff\",\"#ff53ff\",\"#ffc4ff\",\"#ffa1ff\",\"#ffacff\",\"#ff95ff\",\"#ffd7ff\",\"#ffdeff\",\"#ff0dff\",\"#ff65ff\",\"#ffa5ff\",\"#ffecff\",\"#ffe1ff\",\"#ff33ff\",\"#fff9ff\",\"#ff8cff\",\"#fff9ff\",\"#ff4eff\",\"#ff36ff\",\"#ff05ff\",\"#ff26ff\",\"#ff85ff\",\"#ffe8ff\",\"#ffbaff\",\"#ffddff\",\"#ff8cff\",\"#ffdfff\",\"#ffcdff\",\"#ff49ff\",\"#ff1fff\",\"#ffadff\",\"#ffbdff\",\"#ff0cff\",\"#ff53ff\",\"#ffa1ff\",\"#ffa1ff\",\"#ffc0ff\",\"#ffbfff\",\"#ff6eff\",\"#ff20ff\",\"#ffbeff\",\"#ffd2ff\",\"#fff7ff\",\"#ff70ff\",\"#ff65ff\",\"#ffc3ff\",\"#ff32ff\",\"#fffeff\",\"#ff39ff\",\"#ffe1ff\",\"#ff3fff\",\"#ffbfff\",\"#ff92ff\",\"#fffaff\",\"#ff19ff\",\"#ff61ff\",\"#ff96ff\",\"#ff7dff\",\"#ff39ff\",\"#ff41ff\",\"#ffd1ff\",\"#ff78ff\",\"#ff98ff\",\"#ff87ff\",\"#ff96ff\",\"#ffabff\",\"#ff58ff\",\"#ff82ff\",\"#ff63ff\",\"#fff7ff\",\"#ffa7ff\",\"#ff61ff\",\"#ffeaff\",\"#ff8cff\",\"#ffb9ff\",\"#ff05ff\",\"#ffdaff\",\"#fffbff\",\"#ff18ff\",\"#fffcff\",\"#ffa5ff\",\"#ffefff\",\"#ff50ff\",\"#ff34ff\",\"#ff1aff\",\"#ff31ff\",\"#ff82ff\",\"#ff34ff\",\"#ff2fff\",\"#fff0ff\",\"#ff9bff\",\"#ffa3ff\",\"#ff4cff\",\"#ffd2ff\",\"#ff7fff\",\"#ff3bff\",\"#ff56ff\",\"#ffccff\",\"#ff1eff\",\"#ffd0ff\",\"#ffeaff\",\"#ff13ff\",\"#ff84ff\",\"#ff52ff\",\"#ffa9ff\",\"#ffdfff\",\"#ff33ff\",\"#ff31ff\",\"#ff65ff\",\"#ff8cff\",\"#ff97ff\",\"#ff3bff\",\"#ff64ff\",\"#ff2dff\",\"#ff08ff\",\"#ff35ff\",\"#ff41ff\",\"#ff31ff\",\"#ff22ff\",\"#ffd9ff\",\"#fffaff\",\"#ffc1ff\",\"#ff89ff\",\"#ffd0ff\",\"#ff4eff\",\"#ff75ff\",\"#ffa8ff\",\"#ff1dff\",\"#ff66ff\",\"#ff31ff\",\"#ff0aff\",\"#ff5eff\",\"#ffa5ff\",\"#ff56ff\",\"#ff43ff\",\"#ffbcff\",\"#ffbcff\",\"#ff99ff\",\"#ff1dff\",\"#ff1aff\",\"#ff49ff\",\"#ff53ff\",\"#ffdbff\",\"#ff42ff\",\"#ffccff\",\"#ff97ff\",\"#ffd3ff\",\"#ff3fff\",\"#ff60ff\",\"#ff2eff\",\"#ff6eff\",\"#ff40ff\",\"#ff78ff\",\"#ff2eff\",\"#ffd9ff\",\"#ffc7ff\",\"#ff9cff\",\"#ffafff\",\"#ff25ff\",\"#ff23ff\",\"#ffdbff\",\"#fff3ff\",\"#ffcaff\",\"#ff9dff\",\"#ff11ff\",\"#ff6dff\",\"#ff59ff\",\"#ffccff\",\"#ff17ff\",\"#ff63ff\",\"#ff70ff\",\"#fffeff\",\"#ff70ff\",\"#ff2aff\",\"#ff2dff\",\"#ff25ff\",\"#fff9ff\",\"#ffedff\",\"#ff2aff\",\"#fff9ff\",\"#ffc7ff\",\"#ff67ff\",\"#ffdeff\",\"#ffc3ff\",\"#ff9cff\",\"#ffb0ff\",\"#ff24ff\",\"#ff54ff\",\"#ff9dff\",\"#ff6aff\",\"#ff30ff\",\"#ff08ff\",\"#ffb2ff\",\"#ff4fff\",\"#ffd7ff\",\"#ffcdff\",\"#ffa8ff\",\"#ff85ff\",\"#ff3dff\",\"#ffa9ff\",\"#ffd2ff\",\"#ffa0ff\",\"#ffb3ff\",\"#ff30ff\",\"#ff4eff\"],\"radius\":{\"__ndarray__\":\"zhfEpcZz8z8q4CzAiuT5P7qM5W2GKPg/OzxCV+MY+D+GcuQzw/TqP1RDpMcqeNE/sbn9zsXcyj/A/RM3BT7APxJCbBvcXfU/G7Y+jyQA/z/U2XRvJHrbP4Sri8WOn9A/Y3vVysRG/j9PTaNienG4P6gkeVgsdNM/4Ot98+WW+D8B935yU+b1P+AIVxAlqbc/2KzUi6ekwz9sqU3nLjT+P43sbKQ7EvQ//xtvGC6i9T9orWjJGLX6P22/Og3YTv0/TKGeXMHN8z+gpFPEhXLiP5agX9376fk/4M5bzazIyj9Av2Zepjr7P3y6bzX9cvg/ap64MboQ+z9UAotc7LnjP4AGnkCsX7o/uJq3+I314z8MH10SEYDmPxj1DVcgftY/zxJfqFIPyz99wkFMqkD9P3Il3ImAnfU/IW5KuV+U9z+jcGS1dO34Pyb/RMfYW/g/va/C2oGk5D/OTpJGlfP7P7TzNypDIOY/ugO4UKkM+T/Q/wBCErzSPyicizDxjvs/oadM6y35+z/dF4U10f32P890Rlngg70/sUSYW7rEyD+i/EJv3w3yP0Q+LCAoR9Y/yDFt9WTz7T+arLqXvnT3P/qo5A/qxfI/I8/kqUb89j/WMvcT0wrzP1LGiEjfafo/Mrs5YE3i+j9jOCX20Af8P/oiW52Mq/8/ClcMK9bU9j+0E7fgJz/xP8G4oqSF9fU/IFXVYiCbwz+sSG3JCjz0PzGD1bwVkb4/6WBc8sNg+j+khfOuDwPwPwmelyxGrvk//rJ3aR2z4z9gBtoi4eO3P52To+xVxfU/o0E5fPJj+D8D6xhnF036P3X85p8/DPA/wOsYpZN9kD+DYPDA31XsP88yardNGd4/rmbvtJGS5D/Yh/pkOOXSPwAAJLPO8x4/caL4H8s5+D+7ylBR64b4P4Dfru20ud8/zRuCegTv/z/xeWMJquPPP9xnTt49KOs/AHBZo09xWT/gmYMPzTfPPzfCD0m1B/E/HCRrhDCY7T8jRcS7wBb5P4JeIhYmqPE/VnkeZn5p9z9dK4JmAUT8P4z8h3QnWvU/NB26P3FB+T/EhmBSbcbtPw7c3y9hVOU/PYTVQpTl7j90BOtu0bb0P8A7XkqsZqk/vJ3HzKch4j/YZ/u7ABHhP26hD1cDbv8/HlBIALM98D8fn1If4kfwP8Z2O8qS+uw/7oikdnS55T9iWLlq/ATyPwfJxmvZq/M/UuvxWz9R7j8dHNKn0SH6P8rnOYM/TPY/KDB6xdbW9z9cf6WfsKb2P2pGpsyxves/GCI5GMZmwT8HUO/TAKTxP1ixYV9vjdU/PklU7roY9D8SN01C4SnvP/MXK9KnRv4/4DOPGNCZwj8WmBxDVPvlP9MenUX/0fU/ABMsNRkAej8+8hIP9TXjPw/iSZq2jcw/aCCwhJt2xT+0IY1rf1vhP2xF4hzrFvw/FiK6J9+j6D9c9KfUAyjxP/xg4JH4mOM/npITSGcW8j/cDW1OJHb+P4aC95VUo/A/3KETXDsx4z9gREI4XWSoP3ie/6tCou4/sXVMUUZ96z/Ju3g7CZ/yP3HU7djA3f0/T4ikhW6e9j+Pputshz/dP4DRlk5vOOQ/ffZEuTMZ7j/ZqvatYSDzP1gFKezeYd0/WE3YpkWO4D+/3oQN2JvxP+j7HJYUNt8/CbXXj/vP8T9QzLZZPPnBP0BDaQpxwKQ/cd3dmQHF+D8Achg9oHPcPyA93Nui5tw/9L/fWPXx/j/MVMpPi+LTPx8gr501GvQ/lMGWfqP5+z/k3VO7kAPjPxQ5PxAcQvw/iqTpakvn5D9YBy0npI7/P48xnMCw0/Q/nYpv5fxp/D8qdYoWw6XyP/Lp7MsNfvQ/fIVjoAzE2T8e8CFWADDhPwYYjycYAOo/3rx+uWeA4j9kQEV1dAb9Pw5z0/O0HOA/A8WnJFQ37j9o5FjHP5zJP8CCv65KXuA/GFwH7cPw2D8UrKAwY8P+P1zB7GF2IOk/sfZOvl46zj8d0hhnUZH/PxiwrkEqA/I/PbTRyV6K9D83DXby7T31P+NjeC7kHPk/XD1Rl1+L/z84lt5JCEDBPwDonzqsOn8/EPOI0zui8T+mokdi84bzP6PR6ziUd/w/yIhQ/9lIzz8E58IDGdbTP/uv5eyH1vM/5QZ7HB/r+z+ryKaM4iHwP9StxBJjYvg/e7OqPJPN+T8YsntlzOnJPzFptwu+w9c/JqqYWDYP9z8A4MTvTsyKPyomZeMz9uM/DV509a+z/j9o2dIPqRHDPwMClvtmofQ/UZgpVTMc9D/04vWV9vL8PzSDbiFOwuQ/4Dx8UgwGqz9WaQSXA1rqP8CqCGjGes0/uve7dvMu+j+o1rrXZR7tP1rtuie0Seo/saDoxeSIvz+PvulAyhS2P9Y1T9VpvvQ/5GYqKqyI8T/AFMvvcQnpPyRm28JUvf8/zWu8x9nd+D/JDRM+H0j1P6hrLa+greY/XV7zmnG4+D/Eaz6sVdjTP6MRNmEYWfg/87OkCI5e9D8YFkwrVoDZP7Tj318GUPg/vNneLWVb3T/8PU0plkDVP1efwT4xK/U/LltWjezJ8j/Uosx9RU/kPzR2rmQav/Y/gXIwg4978T/u+SpnBh/kPz0sa8uuguo/GqcLpk2W+j9IsuDEzerEP55UiZKnEfQ/liBe8xA88j9EC3B4/TL/PyjcDBBduOU/3MbjjEbZ7D8JhYBUwgbyP6/Jb2Yk+/U/7CAuT0HB/T9sfUG3/ub7P7SmP06+GPk/kUu6Yl3p+z+A+Jbg3iv3PzrtStmOzv4/VjOwLTj/6j+pNk0ERof8P0YeCdV6k/w/QKYX7M/Dlz/2vnhtQ/blP52dK0uDWvc/ltvhs21C8z9KeDeq5bPtP4i17lonH+E/bJamJaY48D+prnwciJD0P9b1lvoL8/E/Csw0xCO44T/IG9KYeBHDPw/rJNOd6tc/DecXUg8U+j+zaBQrTPn3P53PulLHJv8/sZt8uHdo+T+ErYVmpQ77PyBJMhkRUsg/oGUcvdQo8z8dkxsNemv+P9x23vdM6vk/YEsRSWPF6z96iw6tK3LgP1MXzdK8i/o/0Bh2tnT78z+d++eLJfv0P3C2DbhZxrA/ZZcmGifQ+T9NVsAawY3/P4zoplUx8/s/QAu8VzKMqz9KBQ12xbP3P38YN9QrGvI/u2rmkidy+j9aJo7NshvrP/SakZ/dRvg//OvYb7NZ/z8Ab/08xs/NP0CFg8zmZNA/d2Y+HbAt9z+7fWW26Af/P3+H0sYDc/Y/IPgZC9VH/T/mO92Wi0z8P/cZYL3JK/Q/OOtiwOHU9T+vNeH0kOP+P9qFUshOQvQ/OTZirmWx8z+OPTFxjVX2P85xwwISePQ/FsV/aodm9D8xl3f/ugncP5ylWtpGpPU/4NeGfg8/yz/PPMHTywz0P6AGhbEGhOo/ZEUsE6ab9T+sBsuc3/TuP6D1dadVsO8/CvSLxmv38D8J3Uip+cf/PwAQMGUHgNY/siBzVLcx6T/Pu0ZcP8zoP5DSR23wxME/w/BdBC+m+D9gs6G5kqivPw/tV2bVbr0/yNrYgnuo4j+Y95HpYa3PP3PrJo0PGPs/IMMMFTuztj/moER9tdnxP1yejGYnttQ/AEA3+6a2Iz8snPSdIobSP6Djjn+cRrg/7Zfdm/It8D8+QIvuiwnzP+hPR2C6Ncw/APegh5oB0j86Fp8F49j6PzZWp/3fte4/sQGksJZszT/GxZ6vsS/8P2vuuMp+nPE/6Sy1MWxu/T9M8LXlANz7P6BrFv4O1qs/jlfzDxK84j8gqOWFkQWmP7hiQoEu5c8/wM7U/Frjyj9mm18iarnjPx23oK+/jfg/uLO0O920wz9EZQbaGlrRP1qnI8v+Vvg/v3CXp9+b+D/yQMkF2HnoP8+8nBCSl/U/YO9HabGvrD8PAd9z0PfaP5wDRVOvRd4/7FpmYmdJ+D8A+0teN07mP5+cB13qcfs/EJ6Wnf2W4j8svwRJP07zP2OTvzKqDe4/sSdiYzN/+D9huFbJJMH/PxRoucEMaf0/NMwtdmTL+D+PmHjsKwboPyiemVWRH8Y/QICh2sIWpj8d0n7yHtXpP/S8u+s9Qfg/F2aMztar9j/Prqyvd8jUP45RbD7lnuo/+Ipa+uBz0D9c/78VMZ7mP+iuESergvw/w1LR/CZK5T+mDbab0z/xPzILo1hscOw/pFOh45bH7T+97PEBcQf9P5Vxd0bTpPM/sIi5H/+Asj/olJpUpPX0PxRi+50dvOI/JIarCOVQ7D/jmsm2Iq/4P4iDmg0xOsI/IyeX2a0h/D8GIOOSE7nyP/YvwcV+e+0/xV5QfytQ/j+xeOjM8LPYP+VJbYfldvA/ZZnCuESM/z/8mGr3t+XfP6aeUGx9Nv0/AJN34ryThj/GWz4yQIHjP+jBpMLk+84/RdYLMCBY8T/tnLYCDob0P3dJGIYT0/c/ZFMmP5Ea0j/xwcOUBivtP5Qmyj/JI9o/9+uGvfd++j8YCJTvAPn7PzTzJ+/bZNA/OMPfiJ4GyT8oI3cV5N76P7wr3si+Cvc/D04AnTNN9z/G/kx3AiP5P+Tof8Qy4Ow/O0CFZ/nB/z8OEm5efBvoP1IK49oxT+g/AnxbL8PU8z+kRkL2LHHYP+A8ofCFzaA/QFC/Q77poD/0fxfD12H8P+6OLh7JPfw/cSuc+fKrzT++TmLQOwz0P3RgVKEX6fs/A4Xjpo6+7T/mGZuZ4S37P5oAALt9wfQ/nF66+x7I7z+jXA8tTpXzP9LGc/gXMPk/jqlh7MAU+T9g4d7+j/jOPwCmgCuKl+4/WFgT/aE36D+Gvra8Gqz0P6hSgCLw5vo/5of8jh4J+D/gvWJX1iPeP3JX0JjdEuY/nTIC4NJl5j/o4Mjk7pHPPxQn1Y51reU/sZJZZ9i1+D+gjZyqMF7fP/q2yFtL7ug/tiz1xT/N4D/s0iG9JVfiP/ivLA4i3PE/xpMeX0tC+D+h/lpl1e38P3RYHrXnA/k//ALbOh9B1z80qfSMXGz/P5G0Zo2ebPs/+yR1bzUX/D8t+3H0OFf1P4C2uezU3tY/cOBJx8WM0T/zM5yvyBnwP3TSO28vmfY/3XC557hw8z+M10xgyFnqP0nYKtVfVPA/bPHUONCt4T+qf08MYfL2P2ruOUICkv8/AGKMHi2u/D8AbBobeC+bP/reh6m6JfM/WBDGorGl6j9+ZhC3wKvxPzwJsuEY1PQ/CS7vp0Pz8z9u2jAuUHD3P48upWW0Z/E/JLy8Ixre+D8yBNapJ4r5P3D3DtWNefE/00NfEExe8z+pQMkNTFr5P/HiYB73zcw/eEy2dNwLwz94jPWeF3f6P2zonuUetPs/O6M3+8Ax+D8h9Qk28cPxP3EkoZfFhLk/CVmmBJsZ/z8M6Mw+SeLnP9TcOcF8eN0/3Gm2U7x+9j+sA5CDslDpP4ZD+LROdfg/wE4Ih8U5lD+DTp00dD72P595GBPPWvg/LvRxrjpn6D+UW39iWHbhP5d/ptT+mfg/Py1g1Y0k+j/8z+gZP1PuP4A1mE5dc6A/X7LSMd+9+D8TtaHnvRj4P2VSI2M6dPk/3OGNq7El0T99LkBBh3b3P24oj+5KDvU/qBJuuuT9zj/mQ5tnw9LpP4zcwSWLlv4/LFUN+LqR2D/42hyFOQffPzs2udY4R/w/G+tDxSkW/z+MZMp1N9n5P4TQjR5pR+A/cFH/XtqFsT+PlNLLIabkP5irs5mdO/c/ap+GYM1E+T/aP/jbkPn+PwNENFmDbuk/NK3ZRG0O2j9SxZd37HP/P4x8RThvyek/e8aqSsfj+j/sXAZkwB79P0O3uFqE+Ps/dJzdjQyq8T/89Ke+6R3XP63bpKBlvvg/07iRk7Ng+z95b2FBIEzzPziClhIahdM/8qYqwvdb5T+DKx8Y6b3/P6DLiLvosL4/vMVXp+bF5T8YF24nyETqP87aN34zru0/HD/e/Ubi9z+bo9XhK3j7P/ifjEW5bN0/ADZUh4UYhj+dP40pkjD6PwB0WToNZ/M/FN6mne3z4z+l28CrX8b7P/uJ+NDbxvk/unyN50UO6T+dU042inXsPxqPSMEhNvo/BhhN2i5x/z9YMnLwZkvFP+IKRyYrZeA/styoRlr2/j/dxQO6ggX9P1bVMjXjk+U/4McYtVtb8z/ex3szd1LiP3LSGMK+FO0/ZbiyRBth+T9sSJgYF5XeP6CJ31drDqg/pBo9N1eB9j+AmweDZ3X+P8Y/FrIx6/A/E9IqxR4J+T/SLKxb4H/8P9R0c4KV3u4/YOpMKLfQ7z8t0ri/r17xP2CYcIPWjrg/APeKa7yw7T/86uXXAf7aPx0ibDer3+g/hripHBvP+z+k11k/bHPtP46UXRJrCOQ/sBqX7FnW8D8KZMYxU97kPyY3BCmwlPE/gPOK/ow1kj+AMjuSbtKpP80nXlcoSP8/D3jM7jHs7z8kL/KHgdLtP08IzA9A2PA/MX2u3eQ4uT+PsSX31cS/P7icHzpgRv8/yD8LbTB7+z8owozan6v3P3RqD0vWIdA/LrGV5zG86T8EIfug2kb+P07Ashyfh/w/eLbMnOfVwz84i/77GnXSP4VVrmYpufA/DtAnlX1z5j+26nFRmXTgP4w8bEOUJvM/hLTFFEdb7D+AVaRxq2TRP71iL3/7nvw/Btd3GpWH8T8Wnm/XSTXnPyAqtM/FyMA/EuUCdGGR+D/4zQT7JqPAP+UyrTwzr/M/qHAsdtmm8z+ITB9t/Mr6P/iHJEAYGf0/SyWKKRIx8T+YR7yx9Ur1PybkC8xlhOM/zMTnnyzN+T8ginXTjE+4P7Bwrnysa8A/gDtCcWFisz9kwzdJxqLxPwDTiTbTdeA/MYg87WWu/z9IYP+8hT/oP1i+Tl+y+/E/jjeK9vtK9T+dtWf56hH7PzE11DP1Dfk/VNX99N0t0j/6VvI7wp7nPz2ZgMjRYvI/+BL8TS6M+T8gdzTqjgKhP9vc+aWHpvY/LIyCQge20j9dHpbvvxPsP5wCNzVC8vo/6CM+4iAYzz/UnwyGlcz6PxjGTZiiif8/6v3pbLMQ5j8BnrUgmdzwP6C25zAWyfQ/OiHD//jV6j+sHCsg3XT+P1KoZygp6vA/jNwDmhZU4z+cJ7J8yYLVPwHgWi8jZfc/gG3By5FZnD/P65hmi/z4P2QOKkf5Kuc/fgkOv87C4T9afkjhwcjzP173g3v/SvA/PDbhnrhv4j8oF1fz90/YP6pkjy1g1vk/JRZaZh6/9j83HM4Q4unxPzP0bP/PZvQ/SqSkmlXT+j+kXS1ncezpP6mJwi1/9PQ/MbEMSNf9xz+Qv5TiaRXQP9hDqkPD6uY/Y2u8sOIy9T+gmdRwdHq1P6QSaTHclug/DTzuip818z9y38p88nTpP0QmDAhhIfM/kzQXBZ29+j8lG847bo3yPzR84pKdL+k/WleKNQHf9j8siUDlEObbPx58+6APWeM/CTlDIpws8D99mLJ9v6L3PyQiGhL6D/Q/7igUwmsq7z+YnPw8/UfWPwzYQMWtr+g/6gjHlbMd/D8KtUDOPx/qP3h1nbWD5c0/qQUgG2j79D827XIMehD/P4C3+bYC9uM/TCHn1CFY1T+2XA8yJVnwP3bbMD/x7vE/Dv1MF9IL7T8MSgovXT/1P7G/JLq/oP8/LKppM5qs/z+IHNVg8FXvPxw66t1VV+s/+NvQU5J+xj9stNhLMlvlP4QagAf6mOQ/l3zEbjEo9T8I3zFrLiPXP9IUb2kOZvA/QpJc17Ab8z9kwxxQIQP6P9xwi4vmDvc/DDiHFPLf1z+7OHP6iYPzP7tO/afWkv4/gBoI4z7P4D+Sp6QgigruP+g52+UfKNo/e5rkenGo9D/EDkvenPfmP+jhCN3mQf0/QL+ehejhpT8IZxR/q7D0P/1oPkyWSvk/eJ4GffZd+D9ULYHdkLz7P5prDxaR3Po/eGJgBvo55j/0B5Sr1i3eP3SL3Y9qi+M/U0MEgOvR8z+RGonr+5H+P9gxfkELrdY/72wVSq3P9z9ycEIoJYDuP4zdpFmc2uw/mDxySz8R5T+0jiBg3gL2P7bIYqzuhv8/cdjFHuQX+D8MAZ76MJD8P9AzolY9wuM/MolkYmHW5T9aVrKzXa31P97q7pUCZPM/Fp1gJ5T34z9PPkq8YGn+Pwq0kDV6cPE/AH6epa2aqD8MJVUuRRXaP1oYY0f3RvE/THXZPaHq5D+87fyOn8HqP+CLa1Fr89g/un3fLPgg/T+A3X+bMRLWPzGG6gyhR8k//PQqO3c05j8kKgheq+LsP7zO3kzYrew/YJioWE+m3j9ki06dvsDWP/HUvnfi2vU/o6sRJakI/z9Wsjbe3drhP1rFkciMFPk/bqG4fB2j7z+F277DLyfzPwaO+1fLBfk/06HzDSLD8z//1r5gTUT9P2D7yuUghdg/sANkz1kt9D/k1bTp0lPVP07DRrRjLPs/bJ+gqx4q9j8iKJPdQMfgP4B1IPHT9dE/I/VGFW7N5D8SfX4n2gLlPx15OiqVuPg/p9edUSBB9D/u7vjk+5v1P8ePLBENuvI/j5i+9icG+z+xLIAawvv7P/Entll7hLs/3bwLHdBd6T+gzEMjOMb0P+5sk7mPu/0/ZKJIPiJA/D9kmB/Ok6zZP7jb93y2W/8/UZKLjgKk8T8dAeMhK03/P6gU2KAepeM/vC6mvFRT2z+gylvIUrWlP7yTApv9ddM/9gdehgTQ8D8PobBInh39P9qV3JYPavc/LMgvQADR+z8fgxo/PaPxP1cQSmO/Efw/0crAl7jI+T9YKVM7jVziPxiZfQwDK88/lBbNZi249T/Ba5jCg8X3P8BvlssG8bk/SozRwqr85D/T/pTYEFD0Pxw2FaFBT/Q/RjIetQEc+D8DeFkRvgT4P45cYcKe0es/5Kwt0cgs0D9lPWWzod33Px1oLadGZ/o/ieT3o8H//j+6je08zFjsP6gNmTYvlek/PPv8tcOE+D/PTUSFVI/ZP/jm3UUM4f8/Mfi1OuLn3D8c/oJWx0f8P2j9urK09N8/ToiJQvD89z/8xhg7LFbyP2TkbJBuf/8/aO4jw7vryT94zw7D54voP6+J8f8Q3PI/KkwGtUCQ7z+xMR7x8wrdPxye1ByXc+A/oXddvE9a+j8PqY7pUSbuP2w+5AYyLfM/vxGWoaP48D/xdyZmCe/yP7H1Klw2gvU/xhucLWYy5j+Jjt6+iVLwP4+lyVBSDuk/43Ya1Z4A/z/sl9B3xQH1P6P1V+Pag+g/N66zKJZr/T8XSGkTQJfxPxygcxOVQ/c/gDaJfZXLpD+l0pYsk1z7P9QJCj7Hf/8/2D7RlVLyyD8J9mWQJ7H/P8+TA/BxzPQ/HU6k3V0F/j9wiUeXLErkP+D/jFFHM9o/4OtWb1gUyz/8P4fNkKnYP/efCzWhUfA/pCuQAYBv2j+YuicU1d/XP+5sJwtFM/4/6g9P/MeR8z/jKD7U3on0P+Be2qVAMOM/curr29p5+j+s6Bw03wPwP1wAFHp+/d0//MCsPKjF5T+one9hfKX5Pw8lEU5FW84/zGuELAww+j9ugZcPgnj9P9gCcLtSpcM/7Aw3wBGc8D+UImF5X7nkP3ZgOAPSTvU/RiXiABgM/D/8wNOkBrDZP0CKb62uFtk/ONXZEyqW6T+NuiZkGKLxP3NL5Wrj+vI/8SbjBqWs3T8ICk6oJTTpP6w/KmVR2NY/8HtrPk8ZsT8Y9U/wuaTaPybY5HL7VeA/RBVU1KGo2D/QEdJFR0vRPwYSHHIZTvs/ZmUz5uht/z8STaiJjVP4P0OQRPalQfE/r1o9x98w+j9c437WCMHjP3SNJ09GkO0//OOZwugw9T/xikx0COvNPyQkBRQGqOk/YDkzxWIS2T8PkXTVEKG0P6M3LzUpyec/felKiGXG9D/86hLBPsjlPwYeArNy8OA/jDaTyyCb9z9DhxkG6Jf3P+K61N4rOPM/+JO8jVktzT/4QobIVrnKPw4RVBLLkOI/9G2op6oD5T+dOKzTCZn7PxSAZ6HUzOA/zUlkL12d+T8qEtZSCgzzPwybZ7N2ffo/gLZC9S6n3z/GfQ0TkBroPzQB0A5XHNc/+to3x8Kj6z8WKzT3IDXgP91dt9iFUe4/wCsAaPNV1z8BmMij40H7P70RY9bm/Pg/rJq6Hxqa8z8aFFmk+Q/2P5xWbJXbsNI/qEdwP1Wo0T8TfwaivpP7P2MVEdi1lf4/FxOnasNv+T8BQ/We9NHzP/hK463ct8E/xErsp9Zb6z+GMG1dzYTmP9Z9T1W1r/k/WKFaQnGUxz/Ao92v9OfoPyYNyl+iNew/7N/jXHn6/z/9TKpMXznsP7QxJfPCIdU/rHnWvJXT1j84RlZ0tgrTP9PjkuVPXP8/EVAhibXV/T8UwWmdKELVP1dr9GEpX/8/bH1PQDkO+T9xPs3Vb+npPyr648q35vs/1PQRhoaP+D9GygIjC5fzPzHg/KD4MPY/LE4fBLqK0j92vKmhHSrlP6yQPB+zwPM/Y2zhjqqi6j/o60aRzE7YPzAM9NnAzbE/iloNFC9x9j90uYZQI97jP0+Wj29TE/s/HH2MIBfZ+T84qLrJAS/1P9uSkAqy0PA/j83OOfcK3z86KLA7VT71P2aMV+ogXPo/MJJAs70X9D+2w5coQ4b2P/HSB1iFPdg/5hPhIw/P4z8=\",\"dtype\":\"float64\",\"order\":\"little\",\"shape\":[1000]},\"x\":{\"__ndarray__\":\"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\",\"dtype\":\"float64\",\"order\":\"little\",\"shape\":[1000]},\"y\":{\"__ndarray__\":\"MmUCY+ZkTkAhDyNmjDpUQPFV2wWp31JADr8rnHHTUkB5eYqAOA9FQDOp8NfCSytAEjm2iXr8JEB8PA8m6GAZQJ6TbPVTsVBARf7ojxw4WEAuShN3bHc1QP47qhRP+SlAZch2vkmnV0BmlA+dpxgTQEZJPUqFZS5AR2A6puM1U0D5MHMx8RtRQO/+w/QkfBJAEk58ykWxHkBcrLSkxJhXQJwx6jB9XE9A380WA7TmUEB5x1lde91UQI3lVcqY5VZAB9y3IH7xTkA6scIC8dI8QHW18sTMPlRAn7lvAMfsJEBqRcD50UVVQLFJv9HVGVNAwzvYdhElVUCjM5lQgdI+QBR1e5K+mhRAwOGe1K0vP0BBwFhWDZRBQHvnAkSJkjFAskaKk/gjJUDyX5MLhdpWQEH9s2sM41BACibCyOprUkD/d7Ytg3lTQFbnrVvBB1NATBnocoUgQECRTSKfTNZVQGW2+3g0SUFA6cIPR+SRU0C1jyGH3EUtQP8R7W2sh1VA9uLT36vaVUCl+s9xS/ZRQEILv0UHDxdAqvWOl7FZI0C9qtgdrTVMQKWQIlmXZzFA5E693yZmR0DY1onmNFNSQAdI1bg9VU1A08G6NBf1UUBuPzLP6cBNQPDaqnC2olRAPxotc8wAVUANFE1AG+ZVQFMz79oFvlhAAKShUUfWUUDJDh5PrvJKQFcgn2jQJ1FAAlVtmmKiHkCNwbra0J1PQH7OhvtY4RdAtitYFZmbVEDQgFyByARJQHdz1tImEFRArQfL9N3HPkD7VDrjB6oSQFPL3yArAlFAR7sMcRUOU0Cad4tIOoxUQHfq2GkjE0lAXPD2sTbE6T9my7vOFiNGQLL3SrfEgzdAOAhb1YESQEBCdMcdKIYtQAAg9Ht5Lng/6D76sCbtUkBiHofXZylTQJyesFkVyThAuKW1f7vyWEBEt1XX3OkoQCRBrVVwN0VAgN+dN4bgsz830B40mGMoQHafKEILnEpANrRz5+UeR0ADVrGSxplTQKuzlYK7lktAy87Hv2pKUkDhsRUYIRVWQE09CtNurlBA0WbJeSC7U0BJaVtoBUNHQOvjZu3rqUBAUM821FsjSEB7m6ee0y5QQK6eGZo22ANAdub3L5ZUPEBC0rglkao6QB42BJzyjVhAL/1wsGdgSUCgGPFQUXBJQMt0/q3Co0ZA+oqw/OL4QEAZmsFmyidMQBuaZriDvE5A2P/Uf3mvR0D3JRzLa2pUQBY9hZ6Ra1FAn3VHytefUkCAS7n8ObJRQAPn4ecyrEVARkXZhZUwG0AL7SVLQZBLQI1ShAJ/1jBAcbJjFKRmT0AGU8z7t1hIQLaqMRwzp1dADsFfJlUQHUDRVm7UWSxBQBXAYm4PDFFA2G6KsRNQ1D+Bmo3nTgQ+QJy4iai2TiZAUZmpf6nEIECphAwY9x47QDzGkK7n8VVAoWoJVwZAQ0DQbUb8hc5KQIqX7mMEnz5AF5WeYAFDTEDUMkVdTMxXQPG7Uio0/0lA6Kzev+z8PUBrxfPTaA4DQM6zXxbE7kdA8ruD7955RUBqpexsfhhNQPjNeak+VVdAfopoWMarUUAgGhjNodk2QFiny+otmD9AkuC9aLCDR0DzatGfmOJNQC0MgCh29DZA2vix1EzeOUAKnB+VgYNLQM2kRhVAYjhA3grBEPnUS0A9ny1MbhUcQIo8IlBYNgBAAFU1QOlZU0AQGbsvVTo2QMEPxDsvlDZA981urQctWEB/JKys+REvQDCiYcbzaE9APMflugfbVUC0CrMkkrU9QJhkseylE1ZAjIiG67JUQEC9LZs+cKdYQLgGehZiRVBASyQ/k80yVkASVzjTACNNQMUWUcd6AlBAScBN3SkhNEAvB5WGANs6QMXK594SUERAGwfWEaLoPEBOGp77Cq1WQMZj+rzaLDlA6hGjvDmbR0Bxcr3TEQIkQEw8C7FUkzlA878tERl8M0Bwhv19pQhYQBD3gHxcoUNAurCtBJqdJ0AnZIuYh6lYQCbzoAbyJExA0NSrDRoMUEBTOmzlYZhQQAkOTkSSnlNA8Hc3ruKkWEC4ymvzDPQaQEDtzI3WZdg/yfuFen2NS0Aj7o9J3IJOQMc7eMxrPVZA3Op2T+pwKED2iOAVh/4uQPjiJmI0/05AYx1ATrDPVUCLmcT78TRJQM6nqWbdDFNAOFxlB5soVEAjo0ivpz4kQC5KJ3nskDJA7kQ3deIDUkAAz1Grne/kP6ILThOxMD9AeunCd2H8V0Cyc7komMsdQJIxjXQYHlBA//0QNRBsT0BPGSil0J1WQIFWHgrNN0BAjw9xoLkcBUBLcvvNUpZEQGbFRgHrBydAidnCNK50VECz94mQv79GQG4JCr+UiURAir2duvKiGEDgnLYCPkARQA/ipa7CNFBAxEDiAY1lS0A2qFYDYY9DQMxnOzjqy1hAODQLJFJtU0DF4n5oWKBQQBt824ilt0FAuSEOwRhQU0BiiCHdBQIvQMc98gubBVNALFmB7b3TT0BDcdNRQ+wzQOXp5vqE/lJAGxrWC2fvNkBtWERQdZowQHxEB3m+iVBAeO7WnIFbTUBrvo+U3Ls/QFlMqJ5MxVFA6rL7PBBRS0CEJjMBenA/QJC6644YtkRAjBq5qWzFVEBIi8/BcFcgQDeU9tSVW09A6hJDfNp9TEDNiBcG1l9YQP8LirQI+EBAXPMRHr+JRkDezwikjypMQJFVB3A0LFFAuAncBfs+V0D8KSv/dsxVQD26Ia1Um1NACYsh9VDOVUAk8nUfRhpSQFWJwplfEVhAG6ix42MXRUC0UlyzrklWQKcfb/Y3U1ZA4nlycPqQ8j8wVYatZChBQCMTupK2PlJAGucQacsXTkD6VftsizRHQKT7FH6twDpACUvUmoNYSUB0aEFW6hBQQB7gi7fCC0xA0H6S4revO0BoS8huTMsdQKTX9ExLrzJAgqwi+KtfVEDM8aeBw7pSQDPyobhLVlhAolkhiJ3ZU0CPbxg4cSNVQCFJr1sdACNAyl58Z8zvTUDvij1a98NXQNzMpSEMP1RA44IVkTWyRUDvuWY+ZLI5QDk6sIQrvVRAxYYYXeY4T0CTPE1VNWRQQA9tlS/sNQpARyZujJ4qVEBsQ+bcvqZYQK1l6or+1VVAyuiKVIeFBUAiLDpEcoRSQEYWlnvkSExAYgPE6i6pVED2DZewoy1FQA/BqSRd91JAXXhhLxR+WEC4/qXfUkonQDSAjZ+onSlADcDYlrEbUkA6Sn/OLT5YQNt5VPPaiVFA2UmscB7gVkDM1twNzRtWQJIo5jdrhE9AxEdNXlAOUUDx8U8/ySFYQCXxABmbp09AuXR54C7FTkAXeG6A1nJRQNJhUSSc+09A8qNnljPgT0AebpUXmuc1QGLRllpX6FBAp1jZGkRJJUAD7916/lNPQC3trzolt0RANpb6vpnhUEA2nX6yTi9IQOUn1OrCwUhAUK06ZpiCSkCv7EAMO9RYQICMDccFlDFAi/H5OdeuQ0C6QheAkV9DQAE5wKq3wxtAGGRpu9RBU0AjVAahsrsIQDSx9LeW/hZA2NVy/EAnPUBvCXp+dL8oQPJnRibMKlVAcfhxKAa8EUBnO7uTK+RLQLjbHchOLjBAAFSG6GTNfj8FNM4WlvEsQNWhp0Mq9xJAYj2KE8tHSUBhlLmk6r5NQG22N5v5CSZA8IHrc4EiLEBdSWRccflUQFq7Kv4W/kdAUiEAutX8JkCDCjTRQgVWQIf0wByGhEtAFovVhkT+VkC7I3az4MNVQBWEgbY7vwVAzjjsONxFPUBZa5uwWTQBQCDd+1QM6yhAhkGGFZ8BJUDPYrXVtdE+QA+PNcG9LlNA0FhKrZnKHkA6/qn0yRwrQL7asw73A1NAFVDuusY5U0C9OoXEMB9DQIJz+hxq3lBAAzNAmkJpBkDUOIbamhE1QNLqDflwpjdACPffxFj5UkAYXKtBG21BQFzyrRj/cFVA+VY7RuwLPUC1ahfiQipOQCWrpfesekdAAq+kJWAjU0AMwEu95M5YQFDZWPcR+lZAicdTfOZeU0AwN75Q0sRCQI8D4IqpSCFAMizOOshBAUAnFHMtgC5EQJ+rKmD48lJAwq9d0T+2UUCS6D6BnTwwQLefxBgjzERAJHkthw+1KUCA//1YlqtBQKXQhbYVRlZAqIiDde6hQEBTdUyjuvNKQL9gP6XUN0ZAWAnW4e1DR0D0AIVJ0K1WQHmhGh6KsU5Ak+WRoY7pDEBVxBhi6F9QQD/J2EbuRT1AzADG7jIfRkABgc0e00hTQIRtQaXsehxAkxb+0U/6VUAJ4oKVLkFNQHjtfgp7CEdACsp2+6GuV0BKnhUglEwzQHbDmqPGuUlA1wdYsJWlWECFR0u5d+s4QPL7nvyR0lZA2GrtkGuj4T9lb4FO9Hk+QH23ELjKNChAzH4SS7IZS0CZqh7yughQQGX5wkDnnFJATOKr8oJJLECE7zgknclGQCTu1Tn1azRAWWgRjDGzVEBTpiu7iNpVQAFsrqWXnSlAhNDu2iuNI0B3E8UwIv5UQCuS7QxlAFJA/DyoUlA0UkALJzTtWaNTQPLtg6knj0ZALhrg2IrPWEAb/sUpedVCQBBgAfPe/UJAw/H++XD8TkAwx2MgaxgzQB7v+0chQfo/ZO3aSTlt+j/3W2qQcCxWQKpflB9FEFZA8AEC01UuJ0AJm5l1HVNPQFvrCXYazlVA6r9hct88R0A8LAFA2DtVQHgAGDoqN1BA6pmpNFjUSEC/AGgmSplOQFRzGrqSrVNAd0ysuDaYU0ATIB5/MDIoQLCB/PFj5kdABR23jXbrQkDZxG7jdCZQQJNA9JprBFVALEq13x/HUkBXJEV0/4s3QFHEYh+9PkFAi7cBv4x/QUC177yiAqooQIiGlteD70BAmvq9EBFOU0ClTkoFloE4QPPOtN8qekNA3BVPpbNAOkCR2YT3Kqg8QPTSJTb150tAc+NP4srzUkDuFi+3zplWQBu1fwUNi1NAVRr7ZeAqMkAxJB9OqIxYQBE9eN7bbFVA5IQTvyHyVUA7DPl+JKxQQJQW8VgW3jFAr25jB/VrK0AsEWSSSShJQGu85g6tp1FAWcAR6iBgTkBlCDyLJJZEQPLxEr3Vg0lAObnMWJWfO0C9G57RW+1RQENCvcMRqlhAkKzdPxNoVkBgpCzVFT31P2dM5Kjz6k1Axbwqx3LRREAloAkeXZxLQDcXU3CzRVBA7rdlthksT0CmKhakvk9SQL8Y0t4JMktA/HLra4RtU0BHM6/87vNTQJ9i55ztTUtA+tmU2VZDTkCEOsVqi85TQEyxuw/pgCZAfNdcdojCHUC+1S90Cq1UQJQlZCO4pFVAhndDxN7mUkAEj2/kKMJLQHjkdV667xNAj/WhGwFMWEBJFRA5yahCQIY09XYhBjdAtIJmIQOTUUDegsh2C8dDQMH0YX2lG1NADPv8okSa7z9W5RrJymBRQAQf68bxBlNAxAZJ2KUQQ0AX/+YZ6kg7QK4TIhZPOFNAWSOzzo5sVEB94j1MCbFHQJjTzcpBtPk/WpvsXlZUU0B3VfZcVNNSQF+Yc53N4lNA6LANnOXKKkBSJPqqmVRSQJbXX4oqc1BAk/6lsVo2KEAMTfGoqCxEQE10f7Wc5VdAimrKEdoxM0ASi/7vpD04QF6ywGekF1ZArQ8dolBJWECNHgZUszFUQM6VvT+UbzlAP+9uNCVhC0AQhDxnyiFAQA9eFCCTJlJAiyxpc8C9U0Di8dkr+TJYQCLVsJ1W3kNAUQ/KXUVbNEAokm69kJJYQE1J9uNeJURAEGtVsvMBVUCY+CROBsBWQCxP4GYn2lVAdUSqnbOZS0BlN/OcXg8yQJ/LgGW/VFNAZdhJS4xjVUAtPihm8iZOQHgrC734fy5AbVKxj9mvQED+WdgaXsxYQBXfgtI1+hdAe5K8MpwCQUALAs5evIVEQPGimzoYMEdATqFVdseoUkDR525I4nVVQPrcVb7w/DZAMMq5UShD4T+zWXYw8nVUQEDFK6sEUU5A/7pURiMtP0CZqy6++rJVQMwrQrtbI1RAcYnmnCaTQ0BTMW360ztGQMyvAF9KelRAxTqMmmyQWEBVN9lr6KIgQAEBz2sTnjlAa+wzh3YwWECV8lIhTqxWQKu2j4GJ20BATrj2Sr8+TkBLaHFA2qA8QGlkowc1uEZAD6CrTd3TU0CU+DYLeuQ3QIWjptxDywJA0LwnIwyVUUB88V3euMtXQKXDQqZ9b0pAH3QJCiCPU0AEg55H50NWQEYz6s3kHUhAGxd8Fw/bSEBmyJCb8iNLQAv3r5aXLxNA+JAENBMyR0CVn6twcRY1QKd6TMO9bkNAKZhkLs25VUB4MH6RLAJHQB44skwnTT9AsxmsgexOSkAo/uL+sE1AQCuWFkBTeEtAeBy5Taxz7D90Pz5iZiwEQBiPQYRfcFhAzL2PAofwSEDUNDUydUxHQPvMrhjkUUpAzlEwzXK0E0C4chUpx9EYQHCyaC37blhA1Mkw1T14VUCv973iFH5SQFUWSNXeNClAbPLs/AYbREDLMcTNWqdXQD2ma070SVZAHN3/5Dn+HkCIub0p+tYsQKBlcLBQIUpAixqHHDqKQUC8/kGPL7Y5QJseWalH7E1AB3U6iE8nRkCYxZDhSy0rQCQFXXs0XFZA+T9b+dhjS0CBM0+woSFCQNKBiRS1ORpA9kKiIpQxU0DUgTfo7P4ZQIafzg7AwU5ABnClyLO0TkDKc0A1le5UQDqKHPKau1ZARdrnYKzcSkDvF9vyj6JQQHuU0g7ffj5AvxHt3EooVEDp0zMFJv4SQBOQ0II9qBlA+Hz3QLhJDkBMIWfSVY5LQLBZNwUauDlAZkpXoT/AWEA4g6d7oPFCQGoJ67RGGUxAZ/ub2JSiUEDjBdmS/yVVQI7JfZDnklNAU53MzqpnLEDzU9W+B3RCQG/vSMlnukxA0u7sLIT1U0Ai+vFN/5P6P4s0q/kZslFABfvrV2s8LUC5Ry3zbe9FQAr6krlDDVVADYzAsNlKKEDe3LnQ1O9UQMPC/AaHo1hAX84WLQw9QUDixhtDr1hKQK0GNVYZPVBA9XHQhyr3REBmriHBTMtXQAD3IU/gbUpAmwimUGMzPkDyLmtpLc4wQAH//nwDR1JAjB0v5/kl9j86eCfoTIVTQD7bmL+SGUJA1e6FCmPAO0BtRQHwrulOQIMy/jAvdUlAvuQ/eJDOPEAXChy2ef4yQKUGmCN7L1RATWH2v0/FUUAWDEI6cf1LQJA9Gv+k4E9AWqDQ4Br1VEAocZuYuEBEQIz7v1sDX1BAbupJMFC+IkBRawhydSEpQAEF3Yxo50FA5TMTGsGPUEAFGCb4qscQQJAWmgbcNUNA1D0USckDTkCRfn5xXeNDQMr7kpwn5E1AEyH6qyLkVEBqCnI9/PxMQAnxwBozrUNAPhTU8TjeUUAqaxozvcs1QO/xiGsoOz5AHgmJ9bNFSUAihzOaJXdSQFjVSLz2WE9A+r+fLyRZSEBXWqXXPWgxQMmoGsI/SUNA934DTTT3VUBwjSLZaWhEQMYD4+VOWydAbAQxVWlkUEBSyblZ30RYQLgu5j1kMD9AA5JUbtqsMEDcADgeSotJQOhWvPJYBUxAsyU0IjyxRkDZCcDMgJlQQMK1bMmVtVhA8owqeNi+WEBKfqbLI3tIQGb9XhU7XEVA2it7UeKSIUD0TEFLP69AQLcU3FWDF0BAVoGJnmaHUEA+9r5DfBMyQIiQvYR2n0lAh6SAUETbTUCmeJYGclJUQCzwBB2kA1JAyaMJIPWmMkCkCFSXh31OQILlPbO34ldAaKm8QtJDOkDqooDpO3hHQD1Fk+tYbzRAsJgCqJgjUECJo6qNcvFBQH3wrlx821ZAagVkqH0YAUB+8Ef7BSpQQAbCkGtFwlNAziutkWgJU0Bq6wwtUatVQBAMPFlR/FRA7kz7VEtdQUA3pgu2z5M3QOUpyoDWiT5AMqkG+P/3TkDBHAPQDOJXQPGWKsswtzFAG73gYT+aUkDZ53MHHdRHQBXNCCbKikZAVz/xcnl1QEB9bxm7PTJRQM4srXZqoVhAGJEKOKrSUkDRcMtDplBWQPVwXdd/3z5AL4veFHwPQUB2U2M0ce9QQPtORQpETE5AcvWGfdcyP0CuABqTU8JXQFAZsvO+P0tAcNJjqdc4A0DxhDIMnmA0QA3Wil/i/kpAo+NR+E1XQEC7mbWnROdEQEcFnNcrfjNAOZoO48HBVkAM5XvBNj4xQNY4F9L1vyNAZY85Jv1YQUDsYHbhFZFGQIMRDvzQZ0ZAC7dD/e3xN0DmXOXqlMYxQFwWje0AE1FAF871JMQ+WECmdjWr+uU7QC7isfwNmFNAHj5wCW+3SEAAN9qhOu1NQPWGvNyGjFNA2qzMNeXgTkD3F5VzXN1WQGOUhrMBKDNAw0UMVNyGT0AaR5XGfKkwQJVI1+StOlVAjHwV9udQUUC17jVaVTc6QJi3wigbECxAg2+fAH5AQEC20dpuOmpAQJ+u/Yg0UFNA9aCGf8KlT0CqeuLK3OFQQKeg1Wq0Qk1AMOfEOM8cVUDqIrSkr9xVQDRPFl6AfxVAjSuxlkrRQ0Dd94zb2zpQQBot+0iIOldA3r6owBoSVkAOrwh50w40QKijoZGmf1hAnxS6/kOQS0DfWHmySXRYQEagUdv/sT5Ag9RhMxpZNUBNtoesqPUAQNYGNEJcaC5AcOzyEQdFSkDU/cmoI79WQBJV3C3cSlJAYlQlMki7VUDgbJmyD49LQMTckYXd7VVAc56ONtAkVECa8LGsnLA8QJsfwmGaWShApDlQeOP3UEAvFAfwTpJSQE6HDU9NRBRAmrUzaGVlQEAqzmhSGr1PQIwksYvWu09AR5d/VeHVUkDC5Y19tMNSQE8Q3AfEu0VAJF7XxvlFKUD3FydUJqVSQFd5mzKvoFRAi6oZSM83WEC5lpmPXyVGQKuSp+KM/ENAR6Qt5rgnU0DKXB0I+vczQHJclZbR51hA5inevSiVNkCGVpa7ExhWQPkVoist9zhAfXL7s5u9UkDqtlYcpaZMQG4S1WCOm1hAQRJ0sCpAJEAWkmMQTS1DQCFn6Y/ad01AgetsjbKoSEDSll+UjrA2QAw3DB2ctDlAdgUpS46WVEAUdHf+741HQImhxCqe9k1Aunt6rH+ESkBpG5yvfpVNQPKPAXi6zVBAs/Wh019XQUC2vjs694BJQFiJHU8wk0NA4ax8Fnw4WECw9ppFYmlQQOe3nAEDJ0NAG2DMTw38VkCkgFQeVHxLQBZVMnfMLFJAlDITygw/AECR1NX6UmBVQK7Xd6jTm1hAGXkLhVB9I0A3qM/oZsJYQHrLggO5P1BAB10oVTF0V0C/xl+s5bM/QOcntrcPeDRAR+j7FuUnJUD9qZEgeUQzQPIp4uKLf0lAGKI4ARynNEDHCb933qYyQBrNtvANmFdA3og7esiTTkDxj9AVtgtQQD40JQNl+z1AKU/Q+zKvVECNK23BDAZJQEigX88KbjdAxfZmb2sCQUArM4MsSQlUQPRk/SROtydAN3THgol1VEAeXS6cJQZXQHIE30RRsh5AMQRWvNvzSUAE49OW0jBAQFwLhBKUpVBAH62wwHLpVUDFbsUwhRE0QAIkf3e4mTNAlC6C31D9Q0B8g3wcRo1LQORFBlcDqE1AbHZh7eAuN0DW93xrvbBDQL4BCZf/2DFAp/GH0Yu3CkB7d75DsdA0QLuRheNYhjlAnbDhbb5DM0DVOxhdnwUrQBXuJeEDVVVAOCfY892NWEA2fIuTRgFTQGkhy1CT9kpA2e6n0y52VEBAQybPnd0+QIPm1u22GEdAHToI2DWOUECMzNuanl8nQDwEpL9EC0RA0wQQKl2WM0BUEcMm1R0QQHfjjDEolUJAaoZ6Uv86UECVx9YGcQRBQOlOszezdzpAnQILnzFxUkCs8cNErW5SQAFkLIzEB05AmlO79m3LJkBS5KjMy+AkQKZao0w9Aj1A55X7Ut1qQEA7jF6tj49VQB+4MTwMQDpAqFkGzfACVEBifG4h0MJNQCHxKLwEslRAlB6cr5y6OEBDiuKOwNRCQPGAkgMkDjJAE6OjK/CXRUBSg0GCA1M5QFVBT5Gwr0dALiJAKSY7MkDBtvTXeUtVQNxlfVeUhVNArZGT0cigTkC0l2UIezxRQFRHeRlXNC1A9m8fMwWXK0BHE5XubItVQLVYzRD25FdA6oZSq1DfU0CyOF84DvhOQCQls89IrxtAaZows79fRUDpTf1wwJdBQE8apqpFEVRADc7We/hrIkDuJ2UpN3VDQEba1drmCUZA8AaS0K77WEAmDOVz0gxGQNUO9U1ggjBADo+H+0zVMUC4zcYVvcAtQP3BWmsegFhAjQYi0/VOV0DYnvq6r5swQNzzhlRYglhA/Bk+uhyTU0DIWAhfXz5EQHEbgpY/zFVARge+GCEwU0ANXLRmAZxOQCaPxT1CVlFAJepwpsL4LEA8m0wm54hAQA2izuAX3U5ArRygPxXPREBNaH/Rj/0yQAtTjVR90QtAvG6qx2yIUUDFgdItFws/QG4tKC8ZJ1VAvsFtEZoxVEBs05lluYxQQHblgTAWRkpAmJApJZFAOEBtn6GWsphQQLBlFLf5l1RAa+QUaBhlT0DmkLZ35JhRQMwcxiwQ8DJAF68PqIfzPkA=\",\"dtype\":\"float64\",\"order\":\"little\",\"shape\":[1000]}},\"selected\":{\"id\":\"115281\"},\"selection_policy\":{\"id\":\"115280\"}},\"id\":\"114028\",\"type\":\"ColumnDataSource\"},{\"attributes\":{\"data_source\":{\"id\":\"114028\"},\"glyph\":{\"id\":\"114029\"},\"hover_glyph\":null,\"muted_glyph\":null,\"nonselection_glyph\":{\"id\":\"114030\"},\"view\":{\"id\":\"114032\"}},\"id\":\"114031\",\"type\":\"GlyphRenderer\"},{\"attributes\":{\"source\":{\"id\":\"114028\"}},\"id\":\"114032\",\"type\":\"CDSView\"},{\"attributes\":{},\"id\":\"115274\",\"type\":\"BasicTickFormatter\"},{\"attributes\":{},\"id\":\"115276\",\"type\":\"AllLabels\"},{\"attributes\":{},\"id\":\"114000\",\"type\":\"DataRange1d\"},{\"attributes\":{},\"id\":\"115280\",\"type\":\"UnionRenderers\"},{\"attributes\":{\"fill_alpha\":{\"value\":0.1},\"fill_color\":{\"field\":\"fill_color\"},\"line_alpha\":{\"value\":0.1},\"line_color\":{\"value\":\"lightgrey\"},\"radius\":{\"field\":\"radius\"},\"x\":{\"field\":\"x\"},\"y\":{\"field\":\"y\"}},\"id\":\"114030\",\"type\":\"Circle\"},{\"attributes\":{\"text\":\"Vectorized colors and radii example\",\"text_color\":\"#E0E0E0\",\"text_font\":\"Helvetica\",\"text_font_size\":\"1.15em\"},\"id\":\"113996\",\"type\":\"Title\"},{\"attributes\":{},\"id\":\"113998\",\"type\":\"DataRange1d\"},{\"attributes\":{},\"id\":\"114004\",\"type\":\"LinearScale\"},{\"attributes\":{\"axis\":{\"id\":\"114006\"},\"grid_line_alpha\":0.25,\"grid_line_color\":\"#E0E0E0\",\"ticker\":null},\"id\":\"114009\",\"type\":\"Grid\"},{\"attributes\":{\"bottom_units\":\"screen\",\"fill_alpha\":0.5,\"fill_color\":\"lightgrey\",\"left_units\":\"screen\",\"level\":\"overlay\",\"line_alpha\":1.0,\"line_color\":\"black\",\"line_dash\":[4,4],\"line_width\":2,\"right_units\":\"screen\",\"syncable\":false,\"top_units\":\"screen\"},\"id\":\"114020\",\"type\":\"BoxAnnotation\"},{\"attributes\":{\"axis_label_standoff\":10,\"axis_label_text_color\":\"#E0E0E0\",\"axis_label_text_font\":\"Helvetica\",\"axis_label_text_font_size\":\"1.25em\",\"axis_label_text_font_style\":\"normal\",\"axis_line_alpha\":0,\"axis_line_color\":\"#E0E0E0\",\"formatter\":{\"id\":\"115277\"},\"major_label_policy\":{\"id\":\"115279\"},\"major_label_text_color\":\"#E0E0E0\",\"major_label_text_font\":\"Helvetica\",\"major_label_text_font_size\":\"1.025em\",\"major_tick_line_alpha\":0,\"major_tick_line_color\":\"#E0E0E0\",\"minor_tick_line_alpha\":0,\"minor_tick_line_color\":\"#E0E0E0\",\"ticker\":{\"id\":\"114007\"}},\"id\":\"114006\",\"type\":\"LinearAxis\"}],\"root_ids\":[\"113995\"]},\"title\":\"Bokeh Application\",\"version\":\"2.3.2\"}};\n",
       "  var render_items = [{\"docid\":\"ddd186ee-1372-43c3-b527-626112f106cd\",\"root_ids\":[\"113995\"],\"roots\":{\"113995\":\"d5d09004-33a4-4baf-ba05-b57f0a1b8088\"}}];\n",
       "  root.Bokeh.embed.embed_items_notebook(docs_json, render_items);\n",
       "\n",
       "  }\n",
       "  if (root.Bokeh !== undefined) {\n",
       "    embed_document(root);\n",
       "  } else {\n",
       "    var attempts = 0;\n",
       "    var timer = setInterval(function(root) {\n",
       "      if (root.Bokeh !== undefined) {\n",
       "        clearInterval(timer);\n",
       "        embed_document(root);\n",
       "      } else {\n",
       "        attempts++;\n",
       "        if (attempts > 100) {\n",
       "          clearInterval(timer);\n",
       "          console.log(\"Bokeh: ERROR: Unable to run BokehJS code because BokehJS library is missing\");\n",
       "        }\n",
       "      }\n",
       "    }, 10, root)\n",
       "  }\n",
       "})(window);"
      ],
      "application/vnd.bokehjs_exec.v0+json": ""
     },
     "metadata": {
      "application/vnd.bokehjs_exec.v0+json": {
       "id": "113995"
      }
     },
     "output_type": "display_data"
    }
   ],
   "source": [
    "import numpy as np\n",
    "\n",
    "# generate some data\n",
    "N = 1000\n",
    "x = np.random.random(size=N) * 100\n",
    "y = np.random.random(size=N) * 100\n",
    "\n",
    "# generate radii and colors based on data\n",
    "radii = y / 100 * 2\n",
    "colors = [f\"#{255:02x}{int((value * 255) / 100):02x}{255:02x}\" for value in y]\n",
    "\n",
    "# create a new plot with a specific size\n",
    "p = figure(\n",
    "    title=\"Vectorized colors and radii example\",\n",
    "    sizing_mode=\"stretch_width\",\n",
    "    max_width=500,\n",
    "    height=250,\n",
    ")\n",
    "\n",
    "# add circle renderer\n",
    "p.circle(\n",
    "    x,\n",
    "    y,\n",
    "    radius=radii,\n",
    "    fill_color=colors,\n",
    "    fill_alpha=0.6,\n",
    "    line_color=\"lightgrey\",\n",
    ")\n",
    "\n",
    "# show the results\n",
    "show(p)"
   ]
  },
  {
   "cell_type": "markdown",
   "id": "bd84a007",
   "metadata": {},
   "source": [
    "## Color mapping with palettes"
   ]
  },
  {
   "cell_type": "code",
   "execution_count": 341,
   "id": "f2eaa0af",
   "metadata": {},
   "outputs": [
    {
     "data": {
      "text/html": [
       "\n",
       "\n",
       "\n",
       "\n",
       "\n",
       "\n",
       "  <div class=\"bk-root\" id=\"fc0d550f-0979-419c-b953-6d40bd0c91ca\" data-root-id=\"115445\"></div>\n"
      ]
     },
     "metadata": {},
     "output_type": "display_data"
    },
    {
     "data": {
      "application/javascript": [
       "(function(root) {\n",
       "  function embed_document(root) {\n",
       "    \n",
       "  var docs_json = {\"b6e5b5a2-ca6a-4aca-83de-29a42d4d2a10\":{\"defs\":[],\"roots\":{\"references\":[{\"attributes\":{\"background_fill_color\":\"#20262B\",\"below\":[{\"id\":\"115454\"}],\"border_fill_color\":\"#15191C\",\"center\":[{\"id\":\"115457\"},{\"id\":\"115461\"}],\"height\":250,\"left\":[{\"id\":\"115458\"}],\"outline_line_alpha\":0.25,\"outline_line_color\":\"#E0E0E0\",\"renderers\":[{\"id\":\"115479\"}],\"title\":{\"id\":\"116732\"},\"toolbar\":{\"id\":\"115469\"},\"width\":500,\"x_range\":{\"id\":\"115446\"},\"x_scale\":{\"id\":\"115450\"},\"y_range\":{\"id\":\"115448\"},\"y_scale\":{\"id\":\"115452\"}},\"id\":\"115445\",\"subtype\":\"Figure\",\"type\":\"Plot\"},{\"attributes\":{},\"id\":\"115455\",\"type\":\"BasicTicker\"},{\"attributes\":{\"text_color\":\"#E0E0E0\",\"text_font\":\"Helvetica\",\"text_font_size\":\"1.15em\"},\"id\":\"116732\",\"type\":\"Title\"},{\"attributes\":{},\"id\":\"115452\",\"type\":\"LinearScale\"},{\"attributes\":{\"axis\":{\"id\":\"115458\"},\"dimension\":1,\"grid_line_alpha\":0.25,\"grid_line_color\":\"#E0E0E0\",\"ticker\":null},\"id\":\"115461\",\"type\":\"Grid\"},{\"attributes\":{},\"id\":\"115446\",\"type\":\"DataRange1d\"},{\"attributes\":{},\"id\":\"115463\",\"type\":\"WheelZoomTool\"},{\"attributes\":{},\"id\":\"116740\",\"type\":\"Selection\"},{\"attributes\":{\"data\":{\"x\":[-32,-31,-30,-29,-28,-27,-26,-25,-24,-23,-22,-21,-20,-19,-18,-17,-16,-15,-14,-13,-12,-11,-10,-9,-8,-7,-6,-5,-4,-3,-2,-1,0,1,2,3,4,5,6,7,8,9,10,11,12,13,14,15,16,17,18,19,20,21,22,23,24,25,26,27,28,29,30,31,32],\"y\":[1024,961,900,841,784,729,676,625,576,529,484,441,400,361,324,289,256,225,196,169,144,121,100,81,64,49,36,25,16,9,4,1,0,1,4,9,16,25,36,49,64,81,100,121,144,169,196,225,256,289,324,361,400,441,484,529,576,625,676,729,784,841,900,961,1024]},\"selected\":{\"id\":\"116740\"},\"selection_policy\":{\"id\":\"116739\"}},\"id\":\"115476\",\"type\":\"ColumnDataSource\"},{\"attributes\":{},\"id\":\"116738\",\"type\":\"AllLabels\"},{\"attributes\":{\"active_multi\":null,\"tools\":[{\"id\":\"115462\"},{\"id\":\"115463\"},{\"id\":\"115464\"},{\"id\":\"115465\"},{\"id\":\"115466\"},{\"id\":\"115467\"}]},\"id\":\"115469\",\"type\":\"Toolbar\"},{\"attributes\":{\"axis_label_standoff\":10,\"axis_label_text_color\":\"#E0E0E0\",\"axis_label_text_font\":\"Helvetica\",\"axis_label_text_font_size\":\"1.25em\",\"axis_label_text_font_style\":\"normal\",\"axis_line_alpha\":0,\"axis_line_color\":\"#E0E0E0\",\"formatter\":{\"id\":\"116736\"},\"major_label_policy\":{\"id\":\"116738\"},\"major_label_text_color\":\"#E0E0E0\",\"major_label_text_font\":\"Helvetica\",\"major_label_text_font_size\":\"1.025em\",\"major_tick_line_alpha\":0,\"major_tick_line_color\":\"#E0E0E0\",\"minor_tick_line_alpha\":0,\"minor_tick_line_color\":\"#E0E0E0\",\"ticker\":{\"id\":\"115455\"}},\"id\":\"115454\",\"type\":\"LinearAxis\"},{\"attributes\":{\"high\":1024,\"low\":0,\"palette\":[\"#30123b\",\"#311542\",\"#32184a\",\"#341b51\",\"#351e58\",\"#36215f\",\"#372365\",\"#38266c\",\"#392972\",\"#3a2c79\",\"#3b2f7f\",\"#3c3285\",\"#3c358b\",\"#3d3791\",\"#3e3a96\",\"#3f3d9c\",\"#4040a1\",\"#4043a6\",\"#4145ab\",\"#4148b0\",\"#424bb5\",\"#434eba\",\"#4350be\",\"#4353c2\",\"#4456c7\",\"#4458cb\",\"#455bce\",\"#455ed2\",\"#4560d6\",\"#4563d9\",\"#4666dd\",\"#4668e0\",\"#466be3\",\"#466de6\",\"#4670e8\",\"#4673eb\",\"#4675ed\",\"#4678f0\",\"#467af2\",\"#467df4\",\"#467ff6\",\"#4682f8\",\"#4584f9\",\"#4587fb\",\"#4589fc\",\"#448cfd\",\"#438efd\",\"#4291fe\",\"#4193fe\",\"#4096fe\",\"#3f98fe\",\"#3e9bfe\",\"#3c9dfd\",\"#3ba0fc\",\"#39a2fc\",\"#38a5fb\",\"#36a8f9\",\"#34aaf8\",\"#33acf6\",\"#31aff5\",\"#2fb1f3\",\"#2db4f1\",\"#2bb6ef\",\"#2ab9ed\",\"#28bbeb\",\"#26bde9\",\"#25c0e6\",\"#23c2e4\",\"#21c4e1\",\"#20c6df\",\"#1ec9dc\",\"#1dcbda\",\"#1ccdd7\",\"#1bcfd4\",\"#1ad1d2\",\"#19d3cf\",\"#18d5cc\",\"#18d7ca\",\"#17d9c7\",\"#17dac4\",\"#17dcc2\",\"#17debf\",\"#18e0bd\",\"#18e1ba\",\"#19e3b8\",\"#1ae4b6\",\"#1be5b4\",\"#1de7b1\",\"#1ee8af\",\"#20e9ac\",\"#22eba9\",\"#24eca6\",\"#27eda3\",\"#29eea0\",\"#2cef9d\",\"#2ff09a\",\"#32f197\",\"#35f394\",\"#38f491\",\"#3bf48d\",\"#3ff58a\",\"#42f687\",\"#46f783\",\"#4af880\",\"#4df97c\",\"#51f979\",\"#55fa76\",\"#59fb72\",\"#5dfb6f\",\"#61fc6c\",\"#65fc68\",\"#69fd65\",\"#6dfd62\",\"#71fd5f\",\"#74fe5c\",\"#78fe59\",\"#7cfe56\",\"#80fe53\",\"#84fe50\",\"#87fe4d\",\"#8bfe4b\",\"#8efe48\",\"#92fe46\",\"#95fe44\",\"#98fe42\",\"#9bfd40\",\"#9efd3e\",\"#a1fc3d\",\"#a4fc3b\",\"#a6fb3a\",\"#a9fb39\",\"#acfa37\",\"#aef937\",\"#b1f836\",\"#b3f835\",\"#b6f735\",\"#b9f534\",\"#bbf434\",\"#bef334\",\"#c0f233\",\"#c3f133\",\"#c5ef33\",\"#c8ee33\",\"#caed33\",\"#cdeb34\",\"#cfea34\",\"#d1e834\",\"#d4e735\",\"#d6e535\",\"#d8e335\",\"#dae236\",\"#dde036\",\"#dfde36\",\"#e1dc37\",\"#e3da37\",\"#e5d838\",\"#e7d738\",\"#e8d538\",\"#ead339\",\"#ecd139\",\"#edcf39\",\"#efcd39\",\"#f0cb3a\",\"#f2c83a\",\"#f3c63a\",\"#f4c43a\",\"#f6c23a\",\"#f7c039\",\"#f8be39\",\"#f9bc39\",\"#f9ba38\",\"#fab737\",\"#fbb537\",\"#fbb336\",\"#fcb035\",\"#fcae34\",\"#fdab33\",\"#fda932\",\"#fda631\",\"#fda330\",\"#fea12f\",\"#fe9e2e\",\"#fe9b2d\",\"#fe982c\",\"#fd952b\",\"#fd9229\",\"#fd8f28\",\"#fd8c27\",\"#fc8926\",\"#fc8624\",\"#fb8323\",\"#fb8022\",\"#fa7d20\",\"#fa7a1f\",\"#f9771e\",\"#f8741c\",\"#f7711b\",\"#f76e1a\",\"#f66b18\",\"#f56817\",\"#f46516\",\"#f36315\",\"#f26014\",\"#f15d13\",\"#ef5a11\",\"#ee5810\",\"#ed550f\",\"#ec520e\",\"#ea500d\",\"#e94d0d\",\"#e84b0c\",\"#e6490b\",\"#e5460a\",\"#e3440a\",\"#e24209\",\"#e04008\",\"#de3e08\",\"#dd3c07\",\"#db3a07\",\"#d93806\",\"#d73606\",\"#d63405\",\"#d43205\",\"#d23005\",\"#d02f04\",\"#ce2d04\",\"#cb2b03\",\"#c92903\",\"#c72803\",\"#c52602\",\"#c32402\",\"#c02302\",\"#be2102\",\"#bb1f01\",\"#b91e01\",\"#b61c01\",\"#b41b01\",\"#b11901\",\"#ae1801\",\"#ac1601\",\"#a91501\",\"#a61401\",\"#a31201\",\"#a01101\",\"#9d1001\",\"#9a0e01\",\"#970d01\",\"#940c01\",\"#910b01\",\"#8e0a01\",\"#8b0901\",\"#870801\",\"#840701\",\"#810602\",\"#7d0502\",\"#7a0402\"]},\"id\":\"115444\",\"type\":\"LinearColorMapper\"},{\"attributes\":{},\"id\":\"115459\",\"type\":\"BasicTicker\"},{\"attributes\":{\"source\":{\"id\":\"115476\"}},\"id\":\"115480\",\"type\":\"CDSView\"},{\"attributes\":{\"axis_label_standoff\":10,\"axis_label_text_color\":\"#E0E0E0\",\"axis_label_text_font\":\"Helvetica\",\"axis_label_text_font_size\":\"1.25em\",\"axis_label_text_font_style\":\"normal\",\"axis_line_alpha\":0,\"axis_line_color\":\"#E0E0E0\",\"formatter\":{\"id\":\"116733\"},\"major_label_policy\":{\"id\":\"116735\"},\"major_label_text_color\":\"#E0E0E0\",\"major_label_text_font\":\"Helvetica\",\"major_label_text_font_size\":\"1.025em\",\"major_tick_line_alpha\":0,\"major_tick_line_color\":\"#E0E0E0\",\"minor_tick_line_alpha\":0,\"minor_tick_line_color\":\"#E0E0E0\",\"ticker\":{\"id\":\"115459\"}},\"id\":\"115458\",\"type\":\"LinearAxis\"},{\"attributes\":{},\"id\":\"115465\",\"type\":\"SaveTool\"},{\"attributes\":{\"fill_alpha\":{\"value\":0.1},\"fill_color\":{\"field\":\"y\",\"transform\":{\"id\":\"115444\"}},\"line_alpha\":{\"value\":0.1},\"line_color\":{\"field\":\"y\",\"transform\":{\"id\":\"115444\"}},\"size\":{\"value\":10},\"x\":{\"field\":\"x\"},\"y\":{\"field\":\"y\"}},\"id\":\"115478\",\"type\":\"Circle\"},{\"attributes\":{\"fill_color\":{\"field\":\"y\",\"transform\":{\"id\":\"115444\"}},\"line_color\":{\"field\":\"y\",\"transform\":{\"id\":\"115444\"}},\"size\":{\"value\":10},\"x\":{\"field\":\"x\"},\"y\":{\"field\":\"y\"}},\"id\":\"115477\",\"type\":\"Circle\"},{\"attributes\":{\"overlay\":{\"id\":\"115468\"}},\"id\":\"115464\",\"type\":\"BoxZoomTool\"},{\"attributes\":{\"data_source\":{\"id\":\"115476\"},\"glyph\":{\"id\":\"115477\"},\"hover_glyph\":null,\"muted_glyph\":null,\"nonselection_glyph\":{\"id\":\"115478\"},\"view\":{\"id\":\"115480\"}},\"id\":\"115479\",\"type\":\"GlyphRenderer\"},{\"attributes\":{},\"id\":\"115467\",\"type\":\"HelpTool\"},{\"attributes\":{},\"id\":\"115450\",\"type\":\"LinearScale\"},{\"attributes\":{},\"id\":\"116736\",\"type\":\"BasicTickFormatter\"},{\"attributes\":{},\"id\":\"115462\",\"type\":\"PanTool\"},{\"attributes\":{\"axis\":{\"id\":\"115454\"},\"grid_line_alpha\":0.25,\"grid_line_color\":\"#E0E0E0\",\"ticker\":null},\"id\":\"115457\",\"type\":\"Grid\"},{\"attributes\":{},\"id\":\"115448\",\"type\":\"DataRange1d\"},{\"attributes\":{},\"id\":\"115466\",\"type\":\"ResetTool\"},{\"attributes\":{},\"id\":\"116733\",\"type\":\"BasicTickFormatter\"},{\"attributes\":{\"bottom_units\":\"screen\",\"fill_alpha\":0.5,\"fill_color\":\"lightgrey\",\"left_units\":\"screen\",\"level\":\"overlay\",\"line_alpha\":1.0,\"line_color\":\"black\",\"line_dash\":[4,4],\"line_width\":2,\"right_units\":\"screen\",\"syncable\":false,\"top_units\":\"screen\"},\"id\":\"115468\",\"type\":\"BoxAnnotation\"},{\"attributes\":{},\"id\":\"116735\",\"type\":\"AllLabels\"},{\"attributes\":{},\"id\":\"116739\",\"type\":\"UnionRenderers\"}],\"root_ids\":[\"115445\"]},\"title\":\"Bokeh Application\",\"version\":\"2.3.2\"}};\n",
       "  var render_items = [{\"docid\":\"b6e5b5a2-ca6a-4aca-83de-29a42d4d2a10\",\"root_ids\":[\"115445\"],\"roots\":{\"115445\":\"fc0d550f-0979-419c-b953-6d40bd0c91ca\"}}];\n",
       "  root.Bokeh.embed.embed_items_notebook(docs_json, render_items);\n",
       "\n",
       "  }\n",
       "  if (root.Bokeh !== undefined) {\n",
       "    embed_document(root);\n",
       "  } else {\n",
       "    var attempts = 0;\n",
       "    var timer = setInterval(function(root) {\n",
       "      if (root.Bokeh !== undefined) {\n",
       "        clearInterval(timer);\n",
       "        embed_document(root);\n",
       "      } else {\n",
       "        attempts++;\n",
       "        if (attempts > 100) {\n",
       "          clearInterval(timer);\n",
       "          console.log(\"Bokeh: ERROR: Unable to run BokehJS code because BokehJS library is missing\");\n",
       "        }\n",
       "      }\n",
       "    }, 10, root)\n",
       "  }\n",
       "})(window);"
      ],
      "application/vnd.bokehjs_exec.v0+json": ""
     },
     "metadata": {
      "application/vnd.bokehjs_exec.v0+json": {
       "id": "115445"
      }
     },
     "output_type": "display_data"
    }
   ],
   "source": [
    "from bokeh.palettes import Turbo256\n",
    "from bokeh.transform import linear_cmap\n",
    "\n",
    "# generate data\n",
    "x = list(range(-32, 33))\n",
    "y = [i**2 for i in x]\n",
    "\n",
    "# create linear color mapper\n",
    "mapper = linear_cmap(field_name=\"y\", palette=Turbo256, low=min(y), high=max(y))\n",
    "\n",
    "# create plot\n",
    "p = figure(width=500, height=250)\n",
    "\n",
    "# create circle renderer with color mapper\n",
    "p.circle(x, y, color=mapper, size=10)\n",
    "\n",
    "show(p)"
   ]
  },
  {
   "cell_type": "markdown",
   "id": "67e9aa0e",
   "metadata": {},
   "source": [
    "## Creating rows, columns, and grids"
   ]
  },
  {
   "cell_type": "code",
   "execution_count": 342,
   "id": "33fe13c7",
   "metadata": {},
   "outputs": [
    {
     "data": {
      "text/html": [
       "\n",
       "\n",
       "\n",
       "\n",
       "\n",
       "\n",
       "  <div class=\"bk-root\" id=\"63107bb0-da4c-4a72-bf1c-ff1e1d4ae81d\" data-root-id=\"117027\"></div>\n"
      ]
     },
     "metadata": {},
     "output_type": "display_data"
    },
    {
     "data": {
      "application/javascript": [
       "(function(root) {\n",
       "  function embed_document(root) {\n",
       "    \n",
       "  var docs_json = {\"15113d30-e92f-4b4a-9fce-f89e4bb59744\":{\"defs\":[],\"roots\":{\"references\":[{\"attributes\":{\"children\":[{\"id\":\"116919\"},{\"id\":\"116955\"},{\"id\":\"116991\"}]},\"id\":\"117027\",\"type\":\"Row\"},{\"attributes\":{\"axis\":{\"id\":\"116968\"},\"dimension\":1,\"grid_line_alpha\":0.25,\"grid_line_color\":\"#E0E0E0\",\"ticker\":null},\"id\":\"116971\",\"type\":\"Grid\"},{\"attributes\":{\"axis_label_standoff\":10,\"axis_label_text_color\":\"#E0E0E0\",\"axis_label_text_font\":\"Helvetica\",\"axis_label_text_font_size\":\"1.25em\",\"axis_label_text_font_style\":\"normal\",\"axis_line_alpha\":0,\"axis_line_color\":\"#E0E0E0\",\"formatter\":{\"id\":\"118301\"},\"major_label_policy\":{\"id\":\"118303\"},\"major_label_text_color\":\"#E0E0E0\",\"major_label_text_font\":\"Helvetica\",\"major_label_text_font_size\":\"1.025em\",\"major_tick_line_alpha\":0,\"major_tick_line_color\":\"#E0E0E0\",\"minor_tick_line_alpha\":0,\"minor_tick_line_color\":\"#E0E0E0\",\"ticker\":{\"id\":\"116969\"}},\"id\":\"116968\",\"type\":\"LinearAxis\"},{\"attributes\":{\"background_fill_color\":\"#fafafa\",\"below\":[{\"id\":\"116928\"}],\"border_fill_color\":\"#15191C\",\"center\":[{\"id\":\"116931\"},{\"id\":\"116935\"}],\"height\":250,\"left\":[{\"id\":\"116932\"}],\"outline_line_alpha\":0.25,\"outline_line_color\":\"#E0E0E0\",\"renderers\":[{\"id\":\"116953\"}],\"title\":{\"id\":\"118290\"},\"toolbar\":{\"id\":\"116943\"},\"width\":250,\"x_range\":{\"id\":\"116920\"},\"x_scale\":{\"id\":\"116924\"},\"y_range\":{\"id\":\"116922\"},\"y_scale\":{\"id\":\"116926\"}},\"id\":\"116919\",\"subtype\":\"Figure\",\"type\":\"Plot\"},{\"attributes\":{},\"id\":\"116969\",\"type\":\"BasicTicker\"},{\"attributes\":{},\"id\":\"116922\",\"type\":\"DataRange1d\"},{\"attributes\":{\"fill_alpha\":{\"value\":0.1},\"fill_color\":{\"value\":\"#c02942\"},\"line_alpha\":{\"value\":0.1},\"line_color\":{\"value\":\"#c02942\"},\"marker\":{\"value\":\"triangle\"},\"size\":{\"value\":12},\"x\":{\"field\":\"x\"},\"y\":{\"field\":\"y\"}},\"id\":\"116988\",\"type\":\"Scatter\"},{\"attributes\":{\"fill_alpha\":{\"value\":0.8},\"fill_color\":{\"value\":\"#53777a\"},\"line_alpha\":{\"value\":0.8},\"line_color\":{\"value\":\"#53777a\"},\"size\":{\"value\":12},\"x\":{\"field\":\"x\"},\"y\":{\"field\":\"y\"}},\"id\":\"116951\",\"type\":\"Circle\"},{\"attributes\":{},\"id\":\"116973\",\"type\":\"WheelZoomTool\"},{\"attributes\":{\"background_fill_color\":\"#fafafa\",\"below\":[{\"id\":\"117000\"}],\"border_fill_color\":\"#15191C\",\"center\":[{\"id\":\"117003\"},{\"id\":\"117007\"}],\"height\":250,\"left\":[{\"id\":\"117004\"}],\"outline_line_alpha\":0.25,\"outline_line_color\":\"#E0E0E0\",\"renderers\":[{\"id\":\"117025\"}],\"title\":{\"id\":\"118294\"},\"toolbar\":{\"id\":\"117015\"},\"width\":250,\"x_range\":{\"id\":\"116992\"},\"x_scale\":{\"id\":\"116996\"},\"y_range\":{\"id\":\"116994\"},\"y_scale\":{\"id\":\"116998\"}},\"id\":\"116991\",\"subtype\":\"Figure\",\"type\":\"Plot\"},{\"attributes\":{},\"id\":\"116972\",\"type\":\"PanTool\"},{\"attributes\":{},\"id\":\"116926\",\"type\":\"LinearScale\"},{\"attributes\":{},\"id\":\"116977\",\"type\":\"HelpTool\"},{\"attributes\":{\"overlay\":{\"id\":\"116978\"}},\"id\":\"116974\",\"type\":\"BoxZoomTool\"},{\"attributes\":{\"axis_label_standoff\":10,\"axis_label_text_color\":\"#E0E0E0\",\"axis_label_text_font\":\"Helvetica\",\"axis_label_text_font_size\":\"1.25em\",\"axis_label_text_font_style\":\"normal\",\"axis_line_alpha\":0,\"axis_line_color\":\"#E0E0E0\",\"formatter\":{\"id\":\"118298\"},\"major_label_policy\":{\"id\":\"118300\"},\"major_label_text_color\":\"#E0E0E0\",\"major_label_text_font\":\"Helvetica\",\"major_label_text_font_size\":\"1.025em\",\"major_tick_line_alpha\":0,\"major_tick_line_color\":\"#E0E0E0\",\"minor_tick_line_alpha\":0,\"minor_tick_line_color\":\"#E0E0E0\",\"ticker\":{\"id\":\"116929\"}},\"id\":\"116928\",\"type\":\"LinearAxis\"},{\"attributes\":{},\"id\":\"116929\",\"type\":\"BasicTicker\"},{\"attributes\":{},\"id\":\"116975\",\"type\":\"SaveTool\"},{\"attributes\":{},\"id\":\"116920\",\"type\":\"DataRange1d\"},{\"attributes\":{},\"id\":\"116976\",\"type\":\"ResetTool\"},{\"attributes\":{},\"id\":\"116924\",\"type\":\"LinearScale\"},{\"attributes\":{\"axis\":{\"id\":\"116928\"},\"grid_line_alpha\":0.25,\"grid_line_color\":\"#E0E0E0\",\"ticker\":null},\"id\":\"116931\",\"type\":\"Grid\"},{\"attributes\":{},\"id\":\"116936\",\"type\":\"PanTool\"},{\"attributes\":{},\"id\":\"116941\",\"type\":\"HelpTool\"},{\"attributes\":{\"fill_alpha\":{\"value\":0.1},\"fill_color\":{\"value\":\"#53777a\"},\"line_alpha\":{\"value\":0.1},\"line_color\":{\"value\":\"#53777a\"},\"size\":{\"value\":12},\"x\":{\"field\":\"x\"},\"y\":{\"field\":\"y\"}},\"id\":\"116952\",\"type\":\"Circle\"},{\"attributes\":{},\"id\":\"117013\",\"type\":\"HelpTool\"},{\"attributes\":{\"background_fill_color\":\"#fafafa\",\"below\":[{\"id\":\"116964\"}],\"border_fill_color\":\"#15191C\",\"center\":[{\"id\":\"116967\"},{\"id\":\"116971\"}],\"height\":250,\"left\":[{\"id\":\"116968\"}],\"outline_line_alpha\":0.25,\"outline_line_color\":\"#E0E0E0\",\"renderers\":[{\"id\":\"116989\"}],\"title\":{\"id\":\"118292\"},\"toolbar\":{\"id\":\"116979\"},\"width\":250,\"x_range\":{\"id\":\"116956\"},\"x_scale\":{\"id\":\"116960\"},\"y_range\":{\"id\":\"116958\"},\"y_scale\":{\"id\":\"116962\"}},\"id\":\"116955\",\"subtype\":\"Figure\",\"type\":\"Plot\"},{\"attributes\":{\"data\":{\"x\":[0,1,2,3,4,5,6,7,8,9,10],\"y\":[0,1,2,3,4,5,6,7,8,9,10]},\"selected\":{\"id\":\"118314\"},\"selection_policy\":{\"id\":\"118313\"}},\"id\":\"116950\",\"type\":\"ColumnDataSource\"},{\"attributes\":{},\"id\":\"116937\",\"type\":\"WheelZoomTool\"},{\"attributes\":{\"overlay\":{\"id\":\"116942\"}},\"id\":\"116938\",\"type\":\"BoxZoomTool\"},{\"attributes\":{},\"id\":\"116939\",\"type\":\"SaveTool\"},{\"attributes\":{},\"id\":\"116940\",\"type\":\"ResetTool\"},{\"attributes\":{\"active_multi\":null,\"tools\":[{\"id\":\"117008\"},{\"id\":\"117009\"},{\"id\":\"117010\"},{\"id\":\"117011\"},{\"id\":\"117012\"},{\"id\":\"117013\"}]},\"id\":\"117015\",\"type\":\"Toolbar\"},{\"attributes\":{\"bottom_units\":\"screen\",\"fill_alpha\":0.5,\"fill_color\":\"lightgrey\",\"left_units\":\"screen\",\"level\":\"overlay\",\"line_alpha\":1.0,\"line_color\":\"black\",\"line_dash\":[4,4],\"line_width\":2,\"right_units\":\"screen\",\"syncable\":false,\"top_units\":\"screen\"},\"id\":\"117014\",\"type\":\"BoxAnnotation\"},{\"attributes\":{},\"id\":\"117011\",\"type\":\"SaveTool\"},{\"attributes\":{\"bottom_units\":\"screen\",\"fill_alpha\":0.5,\"fill_color\":\"lightgrey\",\"left_units\":\"screen\",\"level\":\"overlay\",\"line_alpha\":1.0,\"line_color\":\"black\",\"line_dash\":[4,4],\"line_width\":2,\"right_units\":\"screen\",\"syncable\":false,\"top_units\":\"screen\"},\"id\":\"116978\",\"type\":\"BoxAnnotation\"},{\"attributes\":{\"bottom_units\":\"screen\",\"fill_alpha\":0.5,\"fill_color\":\"lightgrey\",\"left_units\":\"screen\",\"level\":\"overlay\",\"line_alpha\":1.0,\"line_color\":\"black\",\"line_dash\":[4,4],\"line_width\":2,\"right_units\":\"screen\",\"syncable\":false,\"top_units\":\"screen\"},\"id\":\"116942\",\"type\":\"BoxAnnotation\"},{\"attributes\":{\"source\":{\"id\":\"116986\"}},\"id\":\"116990\",\"type\":\"CDSView\"},{\"attributes\":{},\"id\":\"116965\",\"type\":\"BasicTicker\"},{\"attributes\":{\"data\":{\"x\":[0,1,2,3,4,5,6,7,8,9,10],\"y\":[5,4,3,2,1,0,1,2,3,4,5]},\"selected\":{\"id\":\"118320\"},\"selection_policy\":{\"id\":\"118319\"}},\"id\":\"117022\",\"type\":\"ColumnDataSource\"},{\"attributes\":{\"source\":{\"id\":\"116950\"}},\"id\":\"116954\",\"type\":\"CDSView\"},{\"attributes\":{\"axis\":{\"id\":\"116964\"},\"grid_line_alpha\":0.25,\"grid_line_color\":\"#E0E0E0\",\"ticker\":null},\"id\":\"116967\",\"type\":\"Grid\"},{\"attributes\":{\"active_multi\":null,\"tools\":[{\"id\":\"116972\"},{\"id\":\"116973\"},{\"id\":\"116974\"},{\"id\":\"116975\"},{\"id\":\"116976\"},{\"id\":\"116977\"}]},\"id\":\"116979\",\"type\":\"Toolbar\"},{\"attributes\":{\"data_source\":{\"id\":\"116986\"},\"glyph\":{\"id\":\"116987\"},\"hover_glyph\":null,\"muted_glyph\":null,\"nonselection_glyph\":{\"id\":\"116988\"},\"view\":{\"id\":\"116990\"}},\"id\":\"116989\",\"type\":\"GlyphRenderer\"},{\"attributes\":{},\"id\":\"116998\",\"type\":\"LinearScale\"},{\"attributes\":{\"active_multi\":null,\"tools\":[{\"id\":\"116936\"},{\"id\":\"116937\"},{\"id\":\"116938\"},{\"id\":\"116939\"},{\"id\":\"116940\"},{\"id\":\"116941\"}]},\"id\":\"116943\",\"type\":\"Toolbar\"},{\"attributes\":{\"fill_alpha\":{\"value\":0.8},\"fill_color\":{\"value\":\"#d95b43\"},\"line_alpha\":{\"value\":0.8},\"line_color\":{\"value\":\"#d95b43\"},\"marker\":{\"value\":\"square\"},\"size\":{\"value\":12},\"x\":{\"field\":\"x\"},\"y\":{\"field\":\"y\"}},\"id\":\"117023\",\"type\":\"Scatter\"},{\"attributes\":{\"overlay\":{\"id\":\"117014\"}},\"id\":\"117010\",\"type\":\"BoxZoomTool\"},{\"attributes\":{},\"id\":\"116994\",\"type\":\"DataRange1d\"},{\"attributes\":{},\"id\":\"116992\",\"type\":\"DataRange1d\"},{\"attributes\":{\"axis_label_standoff\":10,\"axis_label_text_color\":\"#E0E0E0\",\"axis_label_text_font\":\"Helvetica\",\"axis_label_text_font_size\":\"1.25em\",\"axis_label_text_font_style\":\"normal\",\"axis_line_alpha\":0,\"axis_line_color\":\"#E0E0E0\",\"formatter\":{\"id\":\"118310\"},\"major_label_policy\":{\"id\":\"118312\"},\"major_label_text_color\":\"#E0E0E0\",\"major_label_text_font\":\"Helvetica\",\"major_label_text_font_size\":\"1.025em\",\"major_tick_line_alpha\":0,\"major_tick_line_color\":\"#E0E0E0\",\"minor_tick_line_alpha\":0,\"minor_tick_line_color\":\"#E0E0E0\",\"ticker\":{\"id\":\"117001\"}},\"id\":\"117000\",\"type\":\"LinearAxis\"},{\"attributes\":{\"axis_label_standoff\":10,\"axis_label_text_color\":\"#E0E0E0\",\"axis_label_text_font\":\"Helvetica\",\"axis_label_text_font_size\":\"1.25em\",\"axis_label_text_font_style\":\"normal\",\"axis_line_alpha\":0,\"axis_line_color\":\"#E0E0E0\",\"formatter\":{\"id\":\"118307\"},\"major_label_policy\":{\"id\":\"118309\"},\"major_label_text_color\":\"#E0E0E0\",\"major_label_text_font\":\"Helvetica\",\"major_label_text_font_size\":\"1.025em\",\"major_tick_line_alpha\":0,\"major_tick_line_color\":\"#E0E0E0\",\"minor_tick_line_alpha\":0,\"minor_tick_line_color\":\"#E0E0E0\",\"ticker\":{\"id\":\"117005\"}},\"id\":\"117004\",\"type\":\"LinearAxis\"},{\"attributes\":{\"data\":{\"x\":[0,1,2,3,4,5,6,7,8,9,10],\"y\":[10,9,8,7,6,5,4,3,2,1,0]},\"selected\":{\"id\":\"118317\"},\"selection_policy\":{\"id\":\"118316\"}},\"id\":\"116986\",\"type\":\"ColumnDataSource\"},{\"attributes\":{\"data_source\":{\"id\":\"116950\"},\"glyph\":{\"id\":\"116951\"},\"hover_glyph\":null,\"muted_glyph\":null,\"nonselection_glyph\":{\"id\":\"116952\"},\"view\":{\"id\":\"116954\"}},\"id\":\"116953\",\"type\":\"GlyphRenderer\"},{\"attributes\":{},\"id\":\"116996\",\"type\":\"LinearScale\"},{\"attributes\":{\"fill_alpha\":{\"value\":0.8},\"fill_color\":{\"value\":\"#c02942\"},\"line_alpha\":{\"value\":0.8},\"line_color\":{\"value\":\"#c02942\"},\"marker\":{\"value\":\"triangle\"},\"size\":{\"value\":12},\"x\":{\"field\":\"x\"},\"y\":{\"field\":\"y\"}},\"id\":\"116987\",\"type\":\"Scatter\"},{\"attributes\":{},\"id\":\"117012\",\"type\":\"ResetTool\"},{\"attributes\":{},\"id\":\"117001\",\"type\":\"BasicTicker\"},{\"attributes\":{},\"id\":\"116956\",\"type\":\"DataRange1d\"},{\"attributes\":{\"axis\":{\"id\":\"117000\"},\"grid_line_alpha\":0.25,\"grid_line_color\":\"#E0E0E0\",\"ticker\":null},\"id\":\"117003\",\"type\":\"Grid\"},{\"attributes\":{\"text_color\":\"#E0E0E0\",\"text_font\":\"Helvetica\",\"text_font_size\":\"1.15em\"},\"id\":\"118290\",\"type\":\"Title\"},{\"attributes\":{},\"id\":\"116958\",\"type\":\"DataRange1d\"},{\"attributes\":{},\"id\":\"117008\",\"type\":\"PanTool\"},{\"attributes\":{},\"id\":\"116962\",\"type\":\"LinearScale\"},{\"attributes\":{\"axis_label_standoff\":10,\"axis_label_text_color\":\"#E0E0E0\",\"axis_label_text_font\":\"Helvetica\",\"axis_label_text_font_size\":\"1.25em\",\"axis_label_text_font_style\":\"normal\",\"axis_line_alpha\":0,\"axis_line_color\":\"#E0E0E0\",\"formatter\":{\"id\":\"118304\"},\"major_label_policy\":{\"id\":\"118306\"},\"major_label_text_color\":\"#E0E0E0\",\"major_label_text_font\":\"Helvetica\",\"major_label_text_font_size\":\"1.025em\",\"major_tick_line_alpha\":0,\"major_tick_line_color\":\"#E0E0E0\",\"minor_tick_line_alpha\":0,\"minor_tick_line_color\":\"#E0E0E0\",\"ticker\":{\"id\":\"116965\"}},\"id\":\"116964\",\"type\":\"LinearAxis\"},{\"attributes\":{},\"id\":\"117009\",\"type\":\"WheelZoomTool\"},{\"attributes\":{\"axis\":{\"id\":\"117004\"},\"dimension\":1,\"grid_line_alpha\":0.25,\"grid_line_color\":\"#E0E0E0\",\"ticker\":null},\"id\":\"117007\",\"type\":\"Grid\"},{\"attributes\":{},\"id\":\"116960\",\"type\":\"LinearScale\"},{\"attributes\":{},\"id\":\"117005\",\"type\":\"BasicTicker\"},{\"attributes\":{},\"id\":\"118303\",\"type\":\"AllLabels\"},{\"attributes\":{},\"id\":\"118316\",\"type\":\"UnionRenderers\"},{\"attributes\":{},\"id\":\"118304\",\"type\":\"BasicTickFormatter\"},{\"attributes\":{},\"id\":\"118317\",\"type\":\"Selection\"},{\"attributes\":{\"axis_label_standoff\":10,\"axis_label_text_color\":\"#E0E0E0\",\"axis_label_text_font\":\"Helvetica\",\"axis_label_text_font_size\":\"1.25em\",\"axis_label_text_font_style\":\"normal\",\"axis_line_alpha\":0,\"axis_line_color\":\"#E0E0E0\",\"formatter\":{\"id\":\"118295\"},\"major_label_policy\":{\"id\":\"118297\"},\"major_label_text_color\":\"#E0E0E0\",\"major_label_text_font\":\"Helvetica\",\"major_label_text_font_size\":\"1.025em\",\"major_tick_line_alpha\":0,\"major_tick_line_color\":\"#E0E0E0\",\"minor_tick_line_alpha\":0,\"minor_tick_line_color\":\"#E0E0E0\",\"ticker\":{\"id\":\"116933\"}},\"id\":\"116932\",\"type\":\"LinearAxis\"},{\"attributes\":{\"data_source\":{\"id\":\"117022\"},\"glyph\":{\"id\":\"117023\"},\"hover_glyph\":null,\"muted_glyph\":null,\"nonselection_glyph\":{\"id\":\"117024\"},\"view\":{\"id\":\"117026\"}},\"id\":\"117025\",\"type\":\"GlyphRenderer\"},{\"attributes\":{},\"id\":\"118306\",\"type\":\"AllLabels\"},{\"attributes\":{\"source\":{\"id\":\"117022\"}},\"id\":\"117026\",\"type\":\"CDSView\"},{\"attributes\":{},\"id\":\"116933\",\"type\":\"BasicTicker\"},{\"attributes\":{\"fill_alpha\":{\"value\":0.1},\"fill_color\":{\"value\":\"#d95b43\"},\"line_alpha\":{\"value\":0.1},\"line_color\":{\"value\":\"#d95b43\"},\"marker\":{\"value\":\"square\"},\"size\":{\"value\":12},\"x\":{\"field\":\"x\"},\"y\":{\"field\":\"y\"}},\"id\":\"117024\",\"type\":\"Scatter\"},{\"attributes\":{\"axis\":{\"id\":\"116932\"},\"dimension\":1,\"grid_line_alpha\":0.25,\"grid_line_color\":\"#E0E0E0\",\"ticker\":null},\"id\":\"116935\",\"type\":\"Grid\"},{\"attributes\":{\"text_color\":\"#E0E0E0\",\"text_font\":\"Helvetica\",\"text_font_size\":\"1.15em\"},\"id\":\"118292\",\"type\":\"Title\"},{\"attributes\":{\"text_color\":\"#E0E0E0\",\"text_font\":\"Helvetica\",\"text_font_size\":\"1.15em\"},\"id\":\"118294\",\"type\":\"Title\"},{\"attributes\":{},\"id\":\"118307\",\"type\":\"BasicTickFormatter\"},{\"attributes\":{},\"id\":\"118298\",\"type\":\"BasicTickFormatter\"},{\"attributes\":{},\"id\":\"118309\",\"type\":\"AllLabels\"},{\"attributes\":{},\"id\":\"118319\",\"type\":\"UnionRenderers\"},{\"attributes\":{},\"id\":\"118295\",\"type\":\"BasicTickFormatter\"},{\"attributes\":{},\"id\":\"118320\",\"type\":\"Selection\"},{\"attributes\":{},\"id\":\"118297\",\"type\":\"AllLabels\"},{\"attributes\":{},\"id\":\"118310\",\"type\":\"BasicTickFormatter\"},{\"attributes\":{},\"id\":\"118312\",\"type\":\"AllLabels\"},{\"attributes\":{},\"id\":\"118300\",\"type\":\"AllLabels\"},{\"attributes\":{},\"id\":\"118313\",\"type\":\"UnionRenderers\"},{\"attributes\":{},\"id\":\"118314\",\"type\":\"Selection\"},{\"attributes\":{},\"id\":\"118301\",\"type\":\"BasicTickFormatter\"}],\"root_ids\":[\"117027\"]},\"title\":\"Bokeh Application\",\"version\":\"2.3.2\"}};\n",
       "  var render_items = [{\"docid\":\"15113d30-e92f-4b4a-9fce-f89e4bb59744\",\"root_ids\":[\"117027\"],\"roots\":{\"117027\":\"63107bb0-da4c-4a72-bf1c-ff1e1d4ae81d\"}}];\n",
       "  root.Bokeh.embed.embed_items_notebook(docs_json, render_items);\n",
       "\n",
       "  }\n",
       "  if (root.Bokeh !== undefined) {\n",
       "    embed_document(root);\n",
       "  } else {\n",
       "    var attempts = 0;\n",
       "    var timer = setInterval(function(root) {\n",
       "      if (root.Bokeh !== undefined) {\n",
       "        clearInterval(timer);\n",
       "        embed_document(root);\n",
       "      } else {\n",
       "        attempts++;\n",
       "        if (attempts > 100) {\n",
       "          clearInterval(timer);\n",
       "          console.log(\"Bokeh: ERROR: Unable to run BokehJS code because BokehJS library is missing\");\n",
       "        }\n",
       "      }\n",
       "    }, 10, root)\n",
       "  }\n",
       "})(window);"
      ],
      "application/vnd.bokehjs_exec.v0+json": ""
     },
     "metadata": {
      "application/vnd.bokehjs_exec.v0+json": {
       "id": "117027"
      }
     },
     "output_type": "display_data"
    }
   ],
   "source": [
    "from bokeh.layouts import row\n",
    "\n",
    "# prepare some data\n",
    "x = list(range(11))\n",
    "y0 = x\n",
    "y1 = [10 - i for i in x]\n",
    "y2 = [abs(i - 5) for i in x]\n",
    "\n",
    "# create three plots with one renderer each\n",
    "s1 = figure(width=250, height=250, background_fill_color=\"#fafafa\")\n",
    "s1.circle(x, y0, size=12, color=\"#53777a\", alpha=0.8)\n",
    "\n",
    "s2 = figure(width=250, height=250, background_fill_color=\"#fafafa\")\n",
    "s2.triangle(x, y1, size=12, color=\"#c02942\", alpha=0.8)\n",
    "\n",
    "s3 = figure(width=250, height=250, background_fill_color=\"#fafafa\")\n",
    "s3.square(x, y2, size=12, color=\"#d95b43\", alpha=0.8)\n",
    "\n",
    "# put the results in a row and show\n",
    "show(row(s1, s2, s3))"
   ]
  },
  {
   "cell_type": "markdown",
   "id": "2b2064df",
   "metadata": {},
   "source": [
    "## Defining sizing behavior"
   ]
  },
  {
   "cell_type": "code",
   "execution_count": 343,
   "id": "55190c2f",
   "metadata": {},
   "outputs": [
    {
     "data": {
      "text/html": [
       "\n",
       "\n",
       "\n",
       "\n",
       "\n",
       "\n",
       "  <div class=\"bk-root\" id=\"be6105f8-0828-40b1-87f5-7c14ec8cc56f\" data-root-id=\"118959\"></div>\n"
      ]
     },
     "metadata": {},
     "output_type": "display_data"
    },
    {
     "data": {
      "application/javascript": [
       "(function(root) {\n",
       "  function embed_document(root) {\n",
       "    \n",
       "  var docs_json = {\"1be37f0b-dbee-49f0-8057-36cca7dc98c0\":{\"defs\":[],\"roots\":{\"references\":[{\"attributes\":{\"children\":[{\"id\":\"118851\"},{\"id\":\"118887\"},{\"id\":\"118923\"}],\"sizing_mode\":\"scale_width\"},\"id\":\"118959\",\"type\":\"Row\"},{\"attributes\":{\"source\":{\"id\":\"118882\"}},\"id\":\"118886\",\"type\":\"CDSView\"},{\"attributes\":{\"fill_alpha\":{\"value\":0.1},\"fill_color\":{\"value\":\"#53777a\"},\"line_alpha\":{\"value\":0.1},\"line_color\":{\"value\":\"#53777a\"},\"size\":{\"value\":12},\"x\":{\"field\":\"x\"},\"y\":{\"field\":\"y\"}},\"id\":\"118884\",\"type\":\"Circle\"},{\"attributes\":{\"data\":{\"x\":[0,1,2,3,4,5,6,7,8,9,10],\"y\":[10,9,8,7,6,5,4,3,2,1,0]},\"selected\":{\"id\":\"120282\"},\"selection_policy\":{\"id\":\"120281\"}},\"id\":\"118918\",\"type\":\"ColumnDataSource\"},{\"attributes\":{\"data_source\":{\"id\":\"118882\"},\"glyph\":{\"id\":\"118883\"},\"hover_glyph\":null,\"muted_glyph\":null,\"nonselection_glyph\":{\"id\":\"118884\"},\"view\":{\"id\":\"118886\"}},\"id\":\"118885\",\"type\":\"GlyphRenderer\"},{\"attributes\":{\"fill_alpha\":{\"value\":0.8},\"fill_color\":{\"value\":\"#c02942\"},\"line_alpha\":{\"value\":0.8},\"line_color\":{\"value\":\"#c02942\"},\"marker\":{\"value\":\"triangle\"},\"size\":{\"value\":12},\"x\":{\"field\":\"x\"},\"y\":{\"field\":\"y\"}},\"id\":\"118919\",\"type\":\"Scatter\"},{\"attributes\":{\"fill_alpha\":{\"value\":0.1},\"fill_color\":{\"value\":\"#c02942\"},\"line_alpha\":{\"value\":0.1},\"line_color\":{\"value\":\"#c02942\"},\"marker\":{\"value\":\"triangle\"},\"size\":{\"value\":12},\"x\":{\"field\":\"x\"},\"y\":{\"field\":\"y\"}},\"id\":\"118920\",\"type\":\"Scatter\"},{\"attributes\":{},\"id\":\"118888\",\"type\":\"DataRange1d\"},{\"attributes\":{\"text_color\":\"#E0E0E0\",\"text_font\":\"Helvetica\",\"text_font_size\":\"1.15em\"},\"id\":\"120255\",\"type\":\"Title\"},{\"attributes\":{},\"id\":\"118909\",\"type\":\"HelpTool\"},{\"attributes\":{},\"id\":\"118890\",\"type\":\"DataRange1d\"},{\"attributes\":{\"data\":{\"x\":[0,1,2,3,4,5,6,7,8,9,10],\"y\":[0,1,2,3,4,5,6,7,8,9,10]},\"selected\":{\"id\":\"120279\"},\"selection_policy\":{\"id\":\"120278\"}},\"id\":\"118882\",\"type\":\"ColumnDataSource\"},{\"attributes\":{},\"id\":\"118908\",\"type\":\"ResetTool\"},{\"attributes\":{},\"id\":\"118907\",\"type\":\"SaveTool\"},{\"attributes\":{},\"id\":\"120281\",\"type\":\"UnionRenderers\"},{\"attributes\":{},\"id\":\"120282\",\"type\":\"Selection\"},{\"attributes\":{},\"id\":\"120265\",\"type\":\"AllLabels\"},{\"attributes\":{\"background_fill_color\":\"#fafafa\",\"below\":[{\"id\":\"118896\"}],\"border_fill_color\":\"#15191C\",\"center\":[{\"id\":\"118899\"},{\"id\":\"118903\"}],\"height\":250,\"left\":[{\"id\":\"118900\"}],\"outline_line_alpha\":0.25,\"outline_line_color\":\"#E0E0E0\",\"renderers\":[{\"id\":\"118921\"}],\"sizing_mode\":\"scale_width\",\"title\":{\"id\":\"120257\"},\"toolbar\":{\"id\":\"118911\"},\"width\":250,\"x_range\":{\"id\":\"118888\"},\"x_scale\":{\"id\":\"118892\"},\"y_range\":{\"id\":\"118890\"},\"y_scale\":{\"id\":\"118894\"}},\"id\":\"118887\",\"subtype\":\"Figure\",\"type\":\"Plot\"},{\"attributes\":{},\"id\":\"118937\",\"type\":\"BasicTicker\"},{\"attributes\":{\"bottom_units\":\"screen\",\"fill_alpha\":0.5,\"fill_color\":\"lightgrey\",\"left_units\":\"screen\",\"level\":\"overlay\",\"line_alpha\":1.0,\"line_color\":\"black\",\"line_dash\":[4,4],\"line_width\":2,\"right_units\":\"screen\",\"syncable\":false,\"top_units\":\"screen\"},\"id\":\"118910\",\"type\":\"BoxAnnotation\"},{\"attributes\":{\"axis_label_standoff\":10,\"axis_label_text_color\":\"#E0E0E0\",\"axis_label_text_font\":\"Helvetica\",\"axis_label_text_font_size\":\"1.25em\",\"axis_label_text_font_style\":\"normal\",\"axis_line_alpha\":0,\"axis_line_color\":\"#E0E0E0\",\"formatter\":{\"id\":\"120272\"},\"major_label_policy\":{\"id\":\"120274\"},\"major_label_text_color\":\"#E0E0E0\",\"major_label_text_font\":\"Helvetica\",\"major_label_text_font_size\":\"1.025em\",\"major_tick_line_alpha\":0,\"major_tick_line_color\":\"#E0E0E0\",\"minor_tick_line_alpha\":0,\"minor_tick_line_color\":\"#E0E0E0\",\"ticker\":{\"id\":\"118937\"}},\"id\":\"118936\",\"type\":\"LinearAxis\"},{\"attributes\":{\"active_multi\":null,\"tools\":[{\"id\":\"118904\"},{\"id\":\"118905\"},{\"id\":\"118906\"},{\"id\":\"118907\"},{\"id\":\"118908\"},{\"id\":\"118909\"}]},\"id\":\"118911\",\"type\":\"Toolbar\"},{\"attributes\":{},\"id\":\"120284\",\"type\":\"UnionRenderers\"},{\"attributes\":{\"data_source\":{\"id\":\"118918\"},\"glyph\":{\"id\":\"118919\"},\"hover_glyph\":null,\"muted_glyph\":null,\"nonselection_glyph\":{\"id\":\"118920\"},\"view\":{\"id\":\"118922\"}},\"id\":\"118921\",\"type\":\"GlyphRenderer\"},{\"attributes\":{},\"id\":\"118930\",\"type\":\"LinearScale\"},{\"attributes\":{\"source\":{\"id\":\"118918\"}},\"id\":\"118922\",\"type\":\"CDSView\"},{\"attributes\":{},\"id\":\"120285\",\"type\":\"Selection\"},{\"attributes\":{\"fill_alpha\":{\"value\":0.8},\"fill_color\":{\"value\":\"#d95b43\"},\"line_alpha\":{\"value\":0.8},\"line_color\":{\"value\":\"#d95b43\"},\"marker\":{\"value\":\"square\"},\"size\":{\"value\":12},\"x\":{\"field\":\"x\"},\"y\":{\"field\":\"y\"}},\"id\":\"118955\",\"type\":\"Scatter\"},{\"attributes\":{\"data\":{\"x\":[0,1,2,3,4,5,6,7,8,9,10],\"y\":[5,4,3,2,1,0,1,2,3,4,5]},\"selected\":{\"id\":\"120285\"},\"selection_policy\":{\"id\":\"120284\"}},\"id\":\"118954\",\"type\":\"ColumnDataSource\"},{\"attributes\":{},\"id\":\"118926\",\"type\":\"DataRange1d\"},{\"attributes\":{},\"id\":\"118924\",\"type\":\"DataRange1d\"},{\"attributes\":{\"axis_label_standoff\":10,\"axis_label_text_color\":\"#E0E0E0\",\"axis_label_text_font\":\"Helvetica\",\"axis_label_text_font_size\":\"1.25em\",\"axis_label_text_font_style\":\"normal\",\"axis_line_alpha\":0,\"axis_line_color\":\"#E0E0E0\",\"formatter\":{\"id\":\"120275\"},\"major_label_policy\":{\"id\":\"120277\"},\"major_label_text_color\":\"#E0E0E0\",\"major_label_text_font\":\"Helvetica\",\"major_label_text_font_size\":\"1.025em\",\"major_tick_line_alpha\":0,\"major_tick_line_color\":\"#E0E0E0\",\"minor_tick_line_alpha\":0,\"minor_tick_line_color\":\"#E0E0E0\",\"ticker\":{\"id\":\"118933\"}},\"id\":\"118932\",\"type\":\"LinearAxis\"},{\"attributes\":{},\"id\":\"118928\",\"type\":\"LinearScale\"},{\"attributes\":{},\"id\":\"118933\",\"type\":\"BasicTicker\"},{\"attributes\":{\"axis\":{\"id\":\"118932\"},\"grid_line_alpha\":0.25,\"grid_line_color\":\"#E0E0E0\",\"ticker\":null},\"id\":\"118935\",\"type\":\"Grid\"},{\"attributes\":{\"background_fill_color\":\"#fafafa\",\"below\":[{\"id\":\"118860\"}],\"border_fill_color\":\"#15191C\",\"center\":[{\"id\":\"118863\"},{\"id\":\"118867\"}],\"height\":250,\"left\":[{\"id\":\"118864\"}],\"outline_line_alpha\":0.25,\"outline_line_color\":\"#E0E0E0\",\"renderers\":[{\"id\":\"118885\"}],\"sizing_mode\":\"scale_width\",\"title\":{\"id\":\"120255\"},\"toolbar\":{\"id\":\"118875\"},\"width\":250,\"x_range\":{\"id\":\"118852\"},\"x_scale\":{\"id\":\"118856\"},\"y_range\":{\"id\":\"118854\"},\"y_scale\":{\"id\":\"118858\"}},\"id\":\"118851\",\"subtype\":\"Figure\",\"type\":\"Plot\"},{\"attributes\":{\"axis\":{\"id\":\"118936\"},\"dimension\":1,\"grid_line_alpha\":0.25,\"grid_line_color\":\"#E0E0E0\",\"ticker\":null},\"id\":\"118939\",\"type\":\"Grid\"},{\"attributes\":{\"fill_alpha\":{\"value\":0.8},\"fill_color\":{\"value\":\"#53777a\"},\"line_alpha\":{\"value\":0.8},\"line_color\":{\"value\":\"#53777a\"},\"size\":{\"value\":12},\"x\":{\"field\":\"x\"},\"y\":{\"field\":\"y\"}},\"id\":\"118883\",\"type\":\"Circle\"},{\"attributes\":{},\"id\":\"118941\",\"type\":\"WheelZoomTool\"},{\"attributes\":{},\"id\":\"118945\",\"type\":\"HelpTool\"},{\"attributes\":{\"fill_alpha\":{\"value\":0.1},\"fill_color\":{\"value\":\"#d95b43\"},\"line_alpha\":{\"value\":0.1},\"line_color\":{\"value\":\"#d95b43\"},\"marker\":{\"value\":\"square\"},\"size\":{\"value\":12},\"x\":{\"field\":\"x\"},\"y\":{\"field\":\"y\"}},\"id\":\"118956\",\"type\":\"Scatter\"},{\"attributes\":{},\"id\":\"118940\",\"type\":\"PanTool\"},{\"attributes\":{\"overlay\":{\"id\":\"118946\"}},\"id\":\"118942\",\"type\":\"BoxZoomTool\"},{\"attributes\":{},\"id\":\"118943\",\"type\":\"SaveTool\"},{\"attributes\":{},\"id\":\"120266\",\"type\":\"BasicTickFormatter\"},{\"attributes\":{},\"id\":\"118944\",\"type\":\"ResetTool\"},{\"attributes\":{},\"id\":\"120268\",\"type\":\"AllLabels\"},{\"attributes\":{},\"id\":\"120263\",\"type\":\"BasicTickFormatter\"},{\"attributes\":{},\"id\":\"120262\",\"type\":\"AllLabels\"},{\"attributes\":{},\"id\":\"120269\",\"type\":\"BasicTickFormatter\"},{\"attributes\":{},\"id\":\"118869\",\"type\":\"WheelZoomTool\"},{\"attributes\":{},\"id\":\"118856\",\"type\":\"LinearScale\"},{\"attributes\":{},\"id\":\"120271\",\"type\":\"AllLabels\"},{\"attributes\":{\"axis\":{\"id\":\"118860\"},\"grid_line_alpha\":0.25,\"grid_line_color\":\"#E0E0E0\",\"ticker\":null},\"id\":\"118863\",\"type\":\"Grid\"},{\"attributes\":{\"bottom_units\":\"screen\",\"fill_alpha\":0.5,\"fill_color\":\"lightgrey\",\"left_units\":\"screen\",\"level\":\"overlay\",\"line_alpha\":1.0,\"line_color\":\"black\",\"line_dash\":[4,4],\"line_width\":2,\"right_units\":\"screen\",\"syncable\":false,\"top_units\":\"screen\"},\"id\":\"118946\",\"type\":\"BoxAnnotation\"},{\"attributes\":{\"axis_label_standoff\":10,\"axis_label_text_color\":\"#E0E0E0\",\"axis_label_text_font\":\"Helvetica\",\"axis_label_text_font_size\":\"1.25em\",\"axis_label_text_font_style\":\"normal\",\"axis_line_alpha\":0,\"axis_line_color\":\"#E0E0E0\",\"formatter\":{\"id\":\"120260\"},\"major_label_policy\":{\"id\":\"120262\"},\"major_label_text_color\":\"#E0E0E0\",\"major_label_text_font\":\"Helvetica\",\"major_label_text_font_size\":\"1.025em\",\"major_tick_line_alpha\":0,\"major_tick_line_color\":\"#E0E0E0\",\"minor_tick_line_alpha\":0,\"minor_tick_line_color\":\"#E0E0E0\",\"ticker\":{\"id\":\"118865\"}},\"id\":\"118864\",\"type\":\"LinearAxis\"},{\"attributes\":{},\"id\":\"118861\",\"type\":\"BasicTicker\"},{\"attributes\":{},\"id\":\"118873\",\"type\":\"HelpTool\"},{\"attributes\":{},\"id\":\"118854\",\"type\":\"DataRange1d\"},{\"attributes\":{\"active_multi\":null,\"tools\":[{\"id\":\"118868\"},{\"id\":\"118869\"},{\"id\":\"118870\"},{\"id\":\"118871\"},{\"id\":\"118872\"},{\"id\":\"118873\"}]},\"id\":\"118875\",\"type\":\"Toolbar\"},{\"attributes\":{},\"id\":\"118865\",\"type\":\"BasicTicker\"},{\"attributes\":{\"background_fill_color\":\"#fafafa\",\"below\":[{\"id\":\"118932\"}],\"border_fill_color\":\"#15191C\",\"center\":[{\"id\":\"118935\"},{\"id\":\"118939\"}],\"height\":250,\"left\":[{\"id\":\"118936\"}],\"outline_line_alpha\":0.25,\"outline_line_color\":\"#E0E0E0\",\"renderers\":[{\"id\":\"118957\"}],\"sizing_mode\":\"scale_width\",\"title\":{\"id\":\"120259\"},\"toolbar\":{\"id\":\"118947\"},\"width\":250,\"x_range\":{\"id\":\"118924\"},\"x_scale\":{\"id\":\"118928\"},\"y_range\":{\"id\":\"118926\"},\"y_scale\":{\"id\":\"118930\"}},\"id\":\"118923\",\"subtype\":\"Figure\",\"type\":\"Plot\"},{\"attributes\":{\"axis_label_standoff\":10,\"axis_label_text_color\":\"#E0E0E0\",\"axis_label_text_font\":\"Helvetica\",\"axis_label_text_font_size\":\"1.25em\",\"axis_label_text_font_style\":\"normal\",\"axis_line_alpha\":0,\"axis_line_color\":\"#E0E0E0\",\"formatter\":{\"id\":\"120263\"},\"major_label_policy\":{\"id\":\"120265\"},\"major_label_text_color\":\"#E0E0E0\",\"major_label_text_font\":\"Helvetica\",\"major_label_text_font_size\":\"1.025em\",\"major_tick_line_alpha\":0,\"major_tick_line_color\":\"#E0E0E0\",\"minor_tick_line_alpha\":0,\"minor_tick_line_color\":\"#E0E0E0\",\"ticker\":{\"id\":\"118861\"}},\"id\":\"118860\",\"type\":\"LinearAxis\"},{\"attributes\":{},\"id\":\"118852\",\"type\":\"DataRange1d\"},{\"attributes\":{},\"id\":\"118858\",\"type\":\"LinearScale\"},{\"attributes\":{\"text_color\":\"#E0E0E0\",\"text_font\":\"Helvetica\",\"text_font_size\":\"1.15em\"},\"id\":\"120257\",\"type\":\"Title\"},{\"attributes\":{},\"id\":\"118868\",\"type\":\"PanTool\"},{\"attributes\":{\"axis\":{\"id\":\"118864\"},\"dimension\":1,\"grid_line_alpha\":0.25,\"grid_line_color\":\"#E0E0E0\",\"ticker\":null},\"id\":\"118867\",\"type\":\"Grid\"},{\"attributes\":{},\"id\":\"120272\",\"type\":\"BasicTickFormatter\"},{\"attributes\":{\"active_multi\":null,\"tools\":[{\"id\":\"118940\"},{\"id\":\"118941\"},{\"id\":\"118942\"},{\"id\":\"118943\"},{\"id\":\"118944\"},{\"id\":\"118945\"}]},\"id\":\"118947\",\"type\":\"Toolbar\"},{\"attributes\":{\"overlay\":{\"id\":\"118874\"}},\"id\":\"118870\",\"type\":\"BoxZoomTool\"},{\"attributes\":{},\"id\":\"118871\",\"type\":\"SaveTool\"},{\"attributes\":{},\"id\":\"118872\",\"type\":\"ResetTool\"},{\"attributes\":{},\"id\":\"120274\",\"type\":\"AllLabels\"},{\"attributes\":{\"data_source\":{\"id\":\"118954\"},\"glyph\":{\"id\":\"118955\"},\"hover_glyph\":null,\"muted_glyph\":null,\"nonselection_glyph\":{\"id\":\"118956\"},\"view\":{\"id\":\"118958\"}},\"id\":\"118957\",\"type\":\"GlyphRenderer\"},{\"attributes\":{},\"id\":\"118897\",\"type\":\"BasicTicker\"},{\"attributes\":{\"axis\":{\"id\":\"118900\"},\"dimension\":1,\"grid_line_alpha\":0.25,\"grid_line_color\":\"#E0E0E0\",\"ticker\":null},\"id\":\"118903\",\"type\":\"Grid\"},{\"attributes\":{},\"id\":\"118904\",\"type\":\"PanTool\"},{\"attributes\":{\"source\":{\"id\":\"118954\"}},\"id\":\"118958\",\"type\":\"CDSView\"},{\"attributes\":{},\"id\":\"118894\",\"type\":\"LinearScale\"},{\"attributes\":{},\"id\":\"118901\",\"type\":\"BasicTicker\"},{\"attributes\":{\"overlay\":{\"id\":\"118910\"}},\"id\":\"118906\",\"type\":\"BoxZoomTool\"},{\"attributes\":{},\"id\":\"120275\",\"type\":\"BasicTickFormatter\"},{\"attributes\":{\"axis_label_standoff\":10,\"axis_label_text_color\":\"#E0E0E0\",\"axis_label_text_font\":\"Helvetica\",\"axis_label_text_font_size\":\"1.25em\",\"axis_label_text_font_style\":\"normal\",\"axis_line_alpha\":0,\"axis_line_color\":\"#E0E0E0\",\"formatter\":{\"id\":\"120269\"},\"major_label_policy\":{\"id\":\"120271\"},\"major_label_text_color\":\"#E0E0E0\",\"major_label_text_font\":\"Helvetica\",\"major_label_text_font_size\":\"1.025em\",\"major_tick_line_alpha\":0,\"major_tick_line_color\":\"#E0E0E0\",\"minor_tick_line_alpha\":0,\"minor_tick_line_color\":\"#E0E0E0\",\"ticker\":{\"id\":\"118897\"}},\"id\":\"118896\",\"type\":\"LinearAxis\"},{\"attributes\":{\"axis\":{\"id\":\"118896\"},\"grid_line_alpha\":0.25,\"grid_line_color\":\"#E0E0E0\",\"ticker\":null},\"id\":\"118899\",\"type\":\"Grid\"},{\"attributes\":{\"axis_label_standoff\":10,\"axis_label_text_color\":\"#E0E0E0\",\"axis_label_text_font\":\"Helvetica\",\"axis_label_text_font_size\":\"1.25em\",\"axis_label_text_font_style\":\"normal\",\"axis_line_alpha\":0,\"axis_line_color\":\"#E0E0E0\",\"formatter\":{\"id\":\"120266\"},\"major_label_policy\":{\"id\":\"120268\"},\"major_label_text_color\":\"#E0E0E0\",\"major_label_text_font\":\"Helvetica\",\"major_label_text_font_size\":\"1.025em\",\"major_tick_line_alpha\":0,\"major_tick_line_color\":\"#E0E0E0\",\"minor_tick_line_alpha\":0,\"minor_tick_line_color\":\"#E0E0E0\",\"ticker\":{\"id\":\"118901\"}},\"id\":\"118900\",\"type\":\"LinearAxis\"},{\"attributes\":{},\"id\":\"120277\",\"type\":\"AllLabels\"},{\"attributes\":{},\"id\":\"118892\",\"type\":\"LinearScale\"},{\"attributes\":{\"text_color\":\"#E0E0E0\",\"text_font\":\"Helvetica\",\"text_font_size\":\"1.15em\"},\"id\":\"120259\",\"type\":\"Title\"},{\"attributes\":{},\"id\":\"118905\",\"type\":\"WheelZoomTool\"},{\"attributes\":{\"bottom_units\":\"screen\",\"fill_alpha\":0.5,\"fill_color\":\"lightgrey\",\"left_units\":\"screen\",\"level\":\"overlay\",\"line_alpha\":1.0,\"line_color\":\"black\",\"line_dash\":[4,4],\"line_width\":2,\"right_units\":\"screen\",\"syncable\":false,\"top_units\":\"screen\"},\"id\":\"118874\",\"type\":\"BoxAnnotation\"},{\"attributes\":{},\"id\":\"120278\",\"type\":\"UnionRenderers\"},{\"attributes\":{},\"id\":\"120260\",\"type\":\"BasicTickFormatter\"},{\"attributes\":{},\"id\":\"120279\",\"type\":\"Selection\"}],\"root_ids\":[\"118959\"]},\"title\":\"Bokeh Application\",\"version\":\"2.3.2\"}};\n",
       "  var render_items = [{\"docid\":\"1be37f0b-dbee-49f0-8057-36cca7dc98c0\",\"root_ids\":[\"118959\"],\"roots\":{\"118959\":\"be6105f8-0828-40b1-87f5-7c14ec8cc56f\"}}];\n",
       "  root.Bokeh.embed.embed_items_notebook(docs_json, render_items);\n",
       "\n",
       "  }\n",
       "  if (root.Bokeh !== undefined) {\n",
       "    embed_document(root);\n",
       "  } else {\n",
       "    var attempts = 0;\n",
       "    var timer = setInterval(function(root) {\n",
       "      if (root.Bokeh !== undefined) {\n",
       "        clearInterval(timer);\n",
       "        embed_document(root);\n",
       "      } else {\n",
       "        attempts++;\n",
       "        if (attempts > 100) {\n",
       "          clearInterval(timer);\n",
       "          console.log(\"Bokeh: ERROR: Unable to run BokehJS code because BokehJS library is missing\");\n",
       "        }\n",
       "      }\n",
       "    }, 10, root)\n",
       "  }\n",
       "})(window);"
      ],
      "application/vnd.bokehjs_exec.v0+json": ""
     },
     "metadata": {
      "application/vnd.bokehjs_exec.v0+json": {
       "id": "118959"
      }
     },
     "output_type": "display_data"
    }
   ],
   "source": [
    "# prepare some data\n",
    "x = list(range(11))\n",
    "y0 = x\n",
    "y1 = [10 - i for i in x]\n",
    "y2 = [abs(i - 5) for i in x]\n",
    "\n",
    "# create three plots with one renderer each\n",
    "s1 = figure(width=250, height=250, background_fill_color=\"#fafafa\")\n",
    "s1.circle(x, y0, size=12, color=\"#53777a\", alpha=0.8)\n",
    "\n",
    "s2 = figure(width=250, height=250, background_fill_color=\"#fafafa\")\n",
    "s2.triangle(x, y1, size=12, color=\"#c02942\", alpha=0.8)\n",
    "\n",
    "s3 = figure(width=250, height=250, background_fill_color=\"#fafafa\")\n",
    "s3.square(x, y2, size=12, color=\"#d95b43\", alpha=0.8)\n",
    "\n",
    "# put the results in a row that automatically adjusts\n",
    "# to the browser window's width\n",
    "show(row(children=[s1, s2, s3], sizing_mode=\"scale_width\"))"
   ]
  },
  {
   "cell_type": "markdown",
   "id": "c4584863",
   "metadata": {},
   "source": [
    "## Creating a standalone HTML file"
   ]
  },
  {
   "cell_type": "code",
   "execution_count": 344,
   "id": "3753832d",
   "metadata": {},
   "outputs": [
    {
     "data": {
      "text/plain": [
       "'/Users/kelsey/custom_filename.html'"
      ]
     },
     "execution_count": 344,
     "metadata": {},
     "output_type": "execute_result"
    }
   ],
   "source": [
    "from bokeh.plotting import figure, output_file, save, output_notebook\n",
    "\n",
    "# prepare some data\n",
    "x = [1, 2, 3, 4, 5]\n",
    "y = [4, 5, 5, 7, 2]\n",
    "\n",
    "# set output to static HTML file\n",
    "output_file(filename=\"custom_filename.html\", title=\"Static HTML file\")\n",
    "\n",
    "# create a new plot with a specific size\n",
    "p = figure(sizing_mode=\"stretch_width\", max_width=500, height=250)\n",
    "\n",
    "# add a circle renderer\n",
    "circle = p.circle(x, y, fill_color=\"red\", size=15)\n",
    "\n",
    "# save the results to a file\n",
    "save(p)"
   ]
  },
  {
   "cell_type": "markdown",
   "id": "0a5cf049",
   "metadata": {},
   "source": [
    "## Exporting to PNG"
   ]
  },
  {
   "cell_type": "markdown",
   "id": "cb28ff2e",
   "metadata": {},
   "source": [
    "from bokeh.io import export_png\n",
    "\n",
    "x = [1, 2, 3, 4, 5]\n",
    "y = [4, 5, 5, 7, 2]\n",
    "\n",
    "p = figure(width=350, height=250)\n",
    "\n",
    "circle = p.circle(x, y, fill_color=\"red\", size=15)\n",
    "\n",
    "export_png(p, filename=\"plot.png\")"
   ]
  },
  {
   "cell_type": "markdown",
   "id": "510d768a",
   "metadata": {},
   "source": [
    "## Using ColumnDataSource"
   ]
  },
  {
   "cell_type": "code",
   "execution_count": 347,
   "id": "bffb82ee",
   "metadata": {},
   "outputs": [
    {
     "data": {
      "text/html": [
       "\n",
       "\n",
       "\n",
       "\n",
       "\n",
       "\n",
       "  <div class=\"bk-root\" id=\"1bd28065-59d6-48e4-a8fa-2ae94827d41d\" data-root-id=\"121039\"></div>\n"
      ]
     },
     "metadata": {},
     "output_type": "display_data"
    },
    {
     "data": {
      "application/javascript": [
       "(function(root) {\n",
       "  function embed_document(root) {\n",
       "    \n",
       "  var docs_json = {\"fe9278f8-c9ba-422b-9715-7af3c82073f9\":{\"defs\":[],\"roots\":{\"references\":[{\"attributes\":{\"background_fill_color\":\"#20262B\",\"below\":[{\"id\":\"121048\"}],\"border_fill_color\":\"#15191C\",\"center\":[{\"id\":\"121051\"},{\"id\":\"121055\"}],\"left\":[{\"id\":\"121052\"}],\"outline_line_alpha\":0.25,\"outline_line_color\":\"#E0E0E0\",\"renderers\":[{\"id\":\"121073\"}],\"title\":{\"id\":\"122403\"},\"toolbar\":{\"id\":\"121063\"},\"x_range\":{\"id\":\"121040\"},\"x_scale\":{\"id\":\"121044\"},\"y_range\":{\"id\":\"121042\"},\"y_scale\":{\"id\":\"121046\"}},\"id\":\"121039\",\"subtype\":\"Figure\",\"type\":\"Plot\"},{\"attributes\":{},\"id\":\"121046\",\"type\":\"LinearScale\"},{\"attributes\":{},\"id\":\"122406\",\"type\":\"AllLabels\"},{\"attributes\":{},\"id\":\"122404\",\"type\":\"BasicTickFormatter\"},{\"attributes\":{},\"id\":\"121061\",\"type\":\"HelpTool\"},{\"attributes\":{\"active_multi\":null,\"tools\":[{\"id\":\"121056\"},{\"id\":\"121057\"},{\"id\":\"121058\"},{\"id\":\"121059\"},{\"id\":\"121060\"},{\"id\":\"121061\"}]},\"id\":\"121063\",\"type\":\"Toolbar\"},{\"attributes\":{},\"id\":\"121059\",\"type\":\"SaveTool\"},{\"attributes\":{},\"id\":\"121044\",\"type\":\"LinearScale\"},{\"attributes\":{\"axis\":{\"id\":\"121048\"},\"grid_line_alpha\":0.25,\"grid_line_color\":\"#E0E0E0\",\"ticker\":null},\"id\":\"121051\",\"type\":\"Grid\"},{\"attributes\":{},\"id\":\"122407\",\"type\":\"BasicTickFormatter\"},{\"attributes\":{},\"id\":\"121049\",\"type\":\"BasicTicker\"},{\"attributes\":{},\"id\":\"122409\",\"type\":\"AllLabels\"},{\"attributes\":{\"fill_alpha\":{\"value\":0.1},\"fill_color\":{\"value\":\"#1f77b4\"},\"line_alpha\":{\"value\":0.1},\"line_color\":{\"value\":\"#1f77b4\"},\"x\":{\"field\":\"x_values\"},\"y\":{\"field\":\"y_values\"}},\"id\":\"121072\",\"type\":\"Circle\"},{\"attributes\":{\"fill_color\":{\"value\":\"#1f77b4\"},\"line_color\":{\"value\":\"#1f77b4\"},\"x\":{\"field\":\"x_values\"},\"y\":{\"field\":\"y_values\"}},\"id\":\"121071\",\"type\":\"Circle\"},{\"attributes\":{},\"id\":\"121057\",\"type\":\"WheelZoomTool\"},{\"attributes\":{},\"id\":\"121053\",\"type\":\"BasicTicker\"},{\"attributes\":{\"axis_label_standoff\":10,\"axis_label_text_color\":\"#E0E0E0\",\"axis_label_text_font\":\"Helvetica\",\"axis_label_text_font_size\":\"1.25em\",\"axis_label_text_font_style\":\"normal\",\"axis_line_alpha\":0,\"axis_line_color\":\"#E0E0E0\",\"formatter\":{\"id\":\"122404\"},\"major_label_policy\":{\"id\":\"122406\"},\"major_label_text_color\":\"#E0E0E0\",\"major_label_text_font\":\"Helvetica\",\"major_label_text_font_size\":\"1.025em\",\"major_tick_line_alpha\":0,\"major_tick_line_color\":\"#E0E0E0\",\"minor_tick_line_alpha\":0,\"minor_tick_line_color\":\"#E0E0E0\",\"ticker\":{\"id\":\"121053\"}},\"id\":\"121052\",\"type\":\"LinearAxis\"},{\"attributes\":{\"bottom_units\":\"screen\",\"fill_alpha\":0.5,\"fill_color\":\"lightgrey\",\"left_units\":\"screen\",\"level\":\"overlay\",\"line_alpha\":1.0,\"line_color\":\"black\",\"line_dash\":[4,4],\"line_width\":2,\"right_units\":\"screen\",\"syncable\":false,\"top_units\":\"screen\"},\"id\":\"121062\",\"type\":\"BoxAnnotation\"},{\"attributes\":{},\"id\":\"121056\",\"type\":\"PanTool\"},{\"attributes\":{\"axis_label_standoff\":10,\"axis_label_text_color\":\"#E0E0E0\",\"axis_label_text_font\":\"Helvetica\",\"axis_label_text_font_size\":\"1.25em\",\"axis_label_text_font_style\":\"normal\",\"axis_line_alpha\":0,\"axis_line_color\":\"#E0E0E0\",\"formatter\":{\"id\":\"122407\"},\"major_label_policy\":{\"id\":\"122409\"},\"major_label_text_color\":\"#E0E0E0\",\"major_label_text_font\":\"Helvetica\",\"major_label_text_font_size\":\"1.025em\",\"major_tick_line_alpha\":0,\"major_tick_line_color\":\"#E0E0E0\",\"minor_tick_line_alpha\":0,\"minor_tick_line_color\":\"#E0E0E0\",\"ticker\":{\"id\":\"121049\"}},\"id\":\"121048\",\"type\":\"LinearAxis\"},{\"attributes\":{\"overlay\":{\"id\":\"121062\"}},\"id\":\"121058\",\"type\":\"BoxZoomTool\"},{\"attributes\":{\"data_source\":{\"id\":\"121038\"},\"glyph\":{\"id\":\"121071\"},\"hover_glyph\":null,\"muted_glyph\":null,\"nonselection_glyph\":{\"id\":\"121072\"},\"view\":{\"id\":\"121074\"}},\"id\":\"121073\",\"type\":\"GlyphRenderer\"},{\"attributes\":{},\"id\":\"122410\",\"type\":\"UnionRenderers\"},{\"attributes\":{\"text_color\":\"#E0E0E0\",\"text_font\":\"Helvetica\",\"text_font_size\":\"1.15em\"},\"id\":\"122403\",\"type\":\"Title\"},{\"attributes\":{\"axis\":{\"id\":\"121052\"},\"dimension\":1,\"grid_line_alpha\":0.25,\"grid_line_color\":\"#E0E0E0\",\"ticker\":null},\"id\":\"121055\",\"type\":\"Grid\"},{\"attributes\":{},\"id\":\"121042\",\"type\":\"DataRange1d\"},{\"attributes\":{\"data\":{\"x_values\":[1,2,3,4,5],\"y_values\":[6,7,2,3,6]},\"selected\":{\"id\":\"122411\"},\"selection_policy\":{\"id\":\"122410\"}},\"id\":\"121038\",\"type\":\"ColumnDataSource\"},{\"attributes\":{\"source\":{\"id\":\"121038\"}},\"id\":\"121074\",\"type\":\"CDSView\"},{\"attributes\":{},\"id\":\"122411\",\"type\":\"Selection\"},{\"attributes\":{},\"id\":\"121060\",\"type\":\"ResetTool\"},{\"attributes\":{},\"id\":\"121040\",\"type\":\"DataRange1d\"}],\"root_ids\":[\"121039\"]},\"title\":\"Bokeh Application\",\"version\":\"2.3.2\"}};\n",
       "  var render_items = [{\"docid\":\"fe9278f8-c9ba-422b-9715-7af3c82073f9\",\"root_ids\":[\"121039\"],\"roots\":{\"121039\":\"1bd28065-59d6-48e4-a8fa-2ae94827d41d\"}}];\n",
       "  root.Bokeh.embed.embed_items_notebook(docs_json, render_items);\n",
       "\n",
       "  }\n",
       "  if (root.Bokeh !== undefined) {\n",
       "    embed_document(root);\n",
       "  } else {\n",
       "    var attempts = 0;\n",
       "    var timer = setInterval(function(root) {\n",
       "      if (root.Bokeh !== undefined) {\n",
       "        clearInterval(timer);\n",
       "        embed_document(root);\n",
       "      } else {\n",
       "        attempts++;\n",
       "        if (attempts > 100) {\n",
       "          clearInterval(timer);\n",
       "          console.log(\"Bokeh: ERROR: Unable to run BokehJS code because BokehJS library is missing\");\n",
       "        }\n",
       "      }\n",
       "    }, 10, root)\n",
       "  }\n",
       "})(window);"
      ],
      "application/vnd.bokehjs_exec.v0+json": ""
     },
     "metadata": {
      "application/vnd.bokehjs_exec.v0+json": {
       "id": "121039"
      }
     },
     "output_type": "display_data"
    }
   ],
   "source": [
    "from bokeh.plotting import figure\n",
    "from bokeh.models import ColumnDataSource\n",
    "\n",
    "# create dict as basis for ColumnDataSource\n",
    "data = {'x_values': [1, 2, 3, 4, 5],\n",
    "        'y_values': [6, 7, 2, 3, 6]}\n",
    "\n",
    "# create ColumnDataSource based on dict\n",
    "source = ColumnDataSource(data=data)\n",
    "\n",
    "# create a plot and renderer with ColumnDataSource data\n",
    "p = figure()\n",
    "p.circle(x='x_values', y='y_values', source=source)\n",
    "show(p)"
   ]
  },
  {
   "cell_type": "markdown",
   "id": "29edafd3",
   "metadata": {},
   "source": [
    "## Converting pandas data"
   ]
  },
  {
   "cell_type": "code",
   "execution_count": 348,
   "id": "d60e5dfb",
   "metadata": {},
   "outputs": [],
   "source": [
    "source = ColumnDataSource(data)"
   ]
  },
  {
   "cell_type": "markdown",
   "id": "ab22e67d",
   "metadata": {},
   "source": [
    "## Filtering data"
   ]
  },
  {
   "cell_type": "code",
   "execution_count": 349,
   "id": "28b398e1",
   "metadata": {},
   "outputs": [],
   "source": [
    "from bokeh.layouts import gridplot\n",
    "from bokeh.models import ColumnDataSource, CDSView, IndexFilter, GroupFilter\n",
    "from bokeh.plotting import figure, show"
   ]
  },
  {
   "cell_type": "code",
   "execution_count": 350,
   "id": "ad5c199f",
   "metadata": {},
   "outputs": [
    {
     "data": {
      "text/html": [
       "\n",
       "\n",
       "\n",
       "\n",
       "\n",
       "\n",
       "  <div class=\"bk-root\" id=\"1c05d44e-16e2-40bc-a3a2-f65de347282c\" data-root-id=\"122682\"></div>\n"
      ]
     },
     "metadata": {},
     "output_type": "display_data"
    },
    {
     "data": {
      "application/javascript": [
       "(function(root) {\n",
       "  function embed_document(root) {\n",
       "    \n",
       "  var docs_json = {\"9e2356ba-f135-4493-bc13-ded5e691e221\":{\"defs\":[],\"roots\":{\"references\":[{\"attributes\":{\"children\":[{\"id\":\"122681\"},{\"id\":\"122679\"}]},\"id\":\"122682\",\"type\":\"Column\"},{\"attributes\":{\"data\":{\"x\":[1,2,3,4,5],\"y\":[1,2,3,4,5]},\"selected\":{\"id\":\"122664\"},\"selection_policy\":{\"id\":\"122663\"}},\"id\":\"122591\",\"type\":\"ColumnDataSource\"},{\"attributes\":{\"bottom_units\":\"screen\",\"fill_alpha\":0.5,\"fill_color\":\"lightgrey\",\"left_units\":\"screen\",\"level\":\"overlay\",\"line_alpha\":1.0,\"line_color\":\"black\",\"line_dash\":[4,4],\"line_width\":2,\"right_units\":\"screen\",\"syncable\":false,\"top_units\":\"screen\"},\"id\":\"122645\",\"type\":\"BoxAnnotation\"},{\"attributes\":{\"fill_color\":{\"value\":\"#1f77b4\"},\"line_color\":{\"value\":\"#1f77b4\"},\"size\":{\"value\":10},\"x\":{\"field\":\"x\"},\"y\":{\"field\":\"y\"}},\"id\":\"122620\",\"type\":\"Circle\"},{\"attributes\":{\"source\":{\"id\":\"122591\"}},\"id\":\"122624\",\"type\":\"CDSView\"},{\"attributes\":{},\"id\":\"122669\",\"type\":\"BasicTickFormatter\"},{\"attributes\":{\"background_fill_color\":\"#20262B\",\"below\":[{\"id\":\"122603\"}],\"border_fill_color\":\"#15191C\",\"center\":[{\"id\":\"122606\"},{\"id\":\"122610\"}],\"height\":300,\"left\":[{\"id\":\"122607\"}],\"outline_line_alpha\":0.25,\"outline_line_color\":\"#E0E0E0\",\"renderers\":[{\"id\":\"122623\"}],\"title\":{\"id\":\"122656\"},\"toolbar\":{\"id\":\"122615\"},\"toolbar_location\":null,\"width\":300,\"x_range\":{\"id\":\"122595\"},\"x_scale\":{\"id\":\"122599\"},\"y_range\":{\"id\":\"122597\"},\"y_scale\":{\"id\":\"122601\"}},\"id\":\"122594\",\"subtype\":\"Figure\",\"type\":\"Plot\"},{\"attributes\":{},\"id\":\"122660\",\"type\":\"BasicTickFormatter\"},{\"attributes\":{\"children\":[[{\"id\":\"122594\"},0,0],[{\"id\":\"122625\"},0,1]]},\"id\":\"122679\",\"type\":\"GridBox\"},{\"attributes\":{\"bottom_units\":\"screen\",\"fill_alpha\":0.5,\"fill_color\":\"lightgrey\",\"left_units\":\"screen\",\"level\":\"overlay\",\"line_alpha\":1.0,\"line_color\":\"black\",\"line_dash\":[4,4],\"line_width\":2,\"right_units\":\"screen\",\"syncable\":false,\"top_units\":\"screen\"},\"id\":\"122614\",\"type\":\"BoxAnnotation\"},{\"attributes\":{},\"id\":\"122599\",\"type\":\"LinearScale\"},{\"attributes\":{},\"id\":\"122671\",\"type\":\"AllLabels\"},{\"attributes\":{\"active_multi\":null,\"tools\":[{\"id\":\"122642\"},{\"id\":\"122643\"},{\"id\":\"122644\"}]},\"id\":\"122646\",\"type\":\"Toolbar\"},{\"attributes\":{\"axis_label_standoff\":10,\"axis_label_text_color\":\"#E0E0E0\",\"axis_label_text_font\":\"Helvetica\",\"axis_label_text_font_size\":\"1.25em\",\"axis_label_text_font_style\":\"normal\",\"axis_line_alpha\":0,\"axis_line_color\":\"#E0E0E0\",\"formatter\":{\"id\":\"122660\"},\"major_label_policy\":{\"id\":\"122662\"},\"major_label_text_color\":\"#E0E0E0\",\"major_label_text_font\":\"Helvetica\",\"major_label_text_font_size\":\"1.025em\",\"major_tick_line_alpha\":0,\"major_tick_line_color\":\"#E0E0E0\",\"minor_tick_line_alpha\":0,\"minor_tick_line_color\":\"#E0E0E0\",\"ticker\":{\"id\":\"122604\"}},\"id\":\"122603\",\"type\":\"LinearAxis\"},{\"attributes\":{},\"id\":\"122662\",\"type\":\"AllLabels\"},{\"attributes\":{},\"id\":\"122595\",\"type\":\"DataRange1d\"},{\"attributes\":{\"background_fill_color\":\"#20262B\",\"below\":[{\"id\":\"122634\"}],\"border_fill_color\":\"#15191C\",\"center\":[{\"id\":\"122637\"},{\"id\":\"122641\"}],\"height\":300,\"left\":[{\"id\":\"122638\"}],\"outline_line_alpha\":0.25,\"outline_line_color\":\"#E0E0E0\",\"renderers\":[{\"id\":\"122654\"}],\"title\":{\"id\":\"122668\"},\"toolbar\":{\"id\":\"122646\"},\"toolbar_location\":null,\"width\":300,\"x_range\":{\"id\":\"122626\"},\"x_scale\":{\"id\":\"122630\"},\"y_range\":{\"id\":\"122628\"},\"y_scale\":{\"id\":\"122632\"}},\"id\":\"122625\",\"subtype\":\"Figure\",\"type\":\"Plot\"},{\"attributes\":{\"axis_label_standoff\":10,\"axis_label_text_color\":\"#E0E0E0\",\"axis_label_text_font\":\"Helvetica\",\"axis_label_text_font_size\":\"1.25em\",\"axis_label_text_font_style\":\"normal\",\"axis_line_alpha\":0,\"axis_line_color\":\"#E0E0E0\",\"formatter\":{\"id\":\"122657\"},\"major_label_policy\":{\"id\":\"122659\"},\"major_label_text_color\":\"#E0E0E0\",\"major_label_text_font\":\"Helvetica\",\"major_label_text_font_size\":\"1.025em\",\"major_tick_line_alpha\":0,\"major_tick_line_color\":\"#E0E0E0\",\"minor_tick_line_alpha\":0,\"minor_tick_line_color\":\"#E0E0E0\",\"ticker\":{\"id\":\"122608\"}},\"id\":\"122607\",\"type\":\"LinearAxis\"},{\"attributes\":{\"data_source\":{\"id\":\"122591\"},\"glyph\":{\"id\":\"122651\"},\"hover_glyph\":{\"id\":\"122653\"},\"muted_glyph\":null,\"nonselection_glyph\":{\"id\":\"122652\"},\"view\":{\"id\":\"122593\"}},\"id\":\"122654\",\"type\":\"GlyphRenderer\"},{\"attributes\":{},\"id\":\"122659\",\"type\":\"AllLabels\"},{\"attributes\":{},\"id\":\"122597\",\"type\":\"DataRange1d\"},{\"attributes\":{\"fill_alpha\":{\"value\":0.1},\"fill_color\":{\"value\":\"#1f77b4\"},\"line_alpha\":{\"value\":0.1},\"line_color\":{\"value\":\"#1f77b4\"},\"size\":{\"value\":10},\"x\":{\"field\":\"x\"},\"y\":{\"field\":\"y\"}},\"id\":\"122621\",\"type\":\"Circle\"},{\"attributes\":{},\"id\":\"122601\",\"type\":\"LinearScale\"},{\"attributes\":{},\"id\":\"122604\",\"type\":\"BasicTicker\"},{\"attributes\":{},\"id\":\"122672\",\"type\":\"BasicTickFormatter\"},{\"attributes\":{\"axis\":{\"id\":\"122603\"},\"grid_line_alpha\":0.25,\"grid_line_color\":\"#E0E0E0\",\"ticker\":null},\"id\":\"122606\",\"type\":\"Grid\"},{\"attributes\":{\"fill_alpha\":{\"value\":0.1},\"fill_color\":{\"value\":\"#1f77b4\"},\"line_alpha\":{\"value\":0.1},\"line_color\":{\"value\":\"#1f77b4\"},\"size\":{\"value\":10},\"x\":{\"field\":\"x\"},\"y\":{\"field\":\"y\"}},\"id\":\"122652\",\"type\":\"Circle\"},{\"attributes\":{\"fill_color\":{\"value\":\"red\"},\"line_color\":{\"value\":\"red\"},\"size\":{\"value\":10},\"x\":{\"field\":\"x\"},\"y\":{\"field\":\"y\"}},\"id\":\"122653\",\"type\":\"Circle\"},{\"attributes\":{\"toolbar\":{\"id\":\"122680\"},\"toolbar_location\":\"above\"},\"id\":\"122681\",\"type\":\"ToolbarBox\"},{\"attributes\":{\"overlay\":{\"id\":\"122645\"}},\"id\":\"122642\",\"type\":\"BoxSelectTool\"},{\"attributes\":{\"axis\":{\"id\":\"122607\"},\"dimension\":1,\"grid_line_alpha\":0.25,\"grid_line_color\":\"#E0E0E0\",\"ticker\":null},\"id\":\"122610\",\"type\":\"Grid\"},{\"attributes\":{},\"id\":\"122644\",\"type\":\"ResetTool\"},{\"attributes\":{},\"id\":\"122608\",\"type\":\"BasicTicker\"},{\"attributes\":{},\"id\":\"122674\",\"type\":\"AllLabels\"},{\"attributes\":{\"callback\":null},\"id\":\"122643\",\"type\":\"HoverTool\"},{\"attributes\":{},\"id\":\"122626\",\"type\":\"DataRange1d\"},{\"attributes\":{},\"id\":\"122630\",\"type\":\"LinearScale\"},{\"attributes\":{},\"id\":\"122663\",\"type\":\"UnionRenderers\"},{\"attributes\":{},\"id\":\"122613\",\"type\":\"ResetTool\"},{\"attributes\":{},\"id\":\"122635\",\"type\":\"BasicTicker\"},{\"attributes\":{\"indices\":[0,2,4]},\"id\":\"122592\",\"type\":\"IndexFilter\"},{\"attributes\":{\"callback\":null},\"id\":\"122612\",\"type\":\"HoverTool\"},{\"attributes\":{\"overlay\":{\"id\":\"122614\"}},\"id\":\"122611\",\"type\":\"BoxSelectTool\"},{\"attributes\":{\"text_color\":\"#E0E0E0\",\"text_font\":\"Helvetica\",\"text_font_size\":\"1.15em\"},\"id\":\"122656\",\"type\":\"Title\"},{\"attributes\":{\"active_multi\":null,\"tools\":[{\"id\":\"122611\"},{\"id\":\"122612\"},{\"id\":\"122613\"}]},\"id\":\"122615\",\"type\":\"Toolbar\"},{\"attributes\":{},\"id\":\"122664\",\"type\":\"Selection\"},{\"attributes\":{\"axis\":{\"id\":\"122634\"},\"grid_line_alpha\":0.25,\"grid_line_color\":\"#E0E0E0\",\"ticker\":null},\"id\":\"122637\",\"type\":\"Grid\"},{\"attributes\":{},\"id\":\"122639\",\"type\":\"BasicTicker\"},{\"attributes\":{},\"id\":\"122628\",\"type\":\"DataRange1d\"},{\"attributes\":{\"axis_label_standoff\":10,\"axis_label_text_color\":\"#E0E0E0\",\"axis_label_text_font\":\"Helvetica\",\"axis_label_text_font_size\":\"1.25em\",\"axis_label_text_font_style\":\"normal\",\"axis_line_alpha\":0,\"axis_line_color\":\"#E0E0E0\",\"formatter\":{\"id\":\"122672\"},\"major_label_policy\":{\"id\":\"122674\"},\"major_label_text_color\":\"#E0E0E0\",\"major_label_text_font\":\"Helvetica\",\"major_label_text_font_size\":\"1.025em\",\"major_tick_line_alpha\":0,\"major_tick_line_color\":\"#E0E0E0\",\"minor_tick_line_alpha\":0,\"minor_tick_line_color\":\"#E0E0E0\",\"ticker\":{\"id\":\"122635\"}},\"id\":\"122634\",\"type\":\"LinearAxis\"},{\"attributes\":{\"axis_label_standoff\":10,\"axis_label_text_color\":\"#E0E0E0\",\"axis_label_text_font\":\"Helvetica\",\"axis_label_text_font_size\":\"1.25em\",\"axis_label_text_font_style\":\"normal\",\"axis_line_alpha\":0,\"axis_line_color\":\"#E0E0E0\",\"formatter\":{\"id\":\"122669\"},\"major_label_policy\":{\"id\":\"122671\"},\"major_label_text_color\":\"#E0E0E0\",\"major_label_text_font\":\"Helvetica\",\"major_label_text_font_size\":\"1.025em\",\"major_tick_line_alpha\":0,\"major_tick_line_color\":\"#E0E0E0\",\"minor_tick_line_alpha\":0,\"minor_tick_line_color\":\"#E0E0E0\",\"ticker\":{\"id\":\"122639\"}},\"id\":\"122638\",\"type\":\"LinearAxis\"},{\"attributes\":{},\"id\":\"122657\",\"type\":\"BasicTickFormatter\"},{\"attributes\":{},\"id\":\"122632\",\"type\":\"LinearScale\"},{\"attributes\":{\"text_color\":\"#E0E0E0\",\"text_font\":\"Helvetica\",\"text_font_size\":\"1.15em\"},\"id\":\"122668\",\"type\":\"Title\"},{\"attributes\":{\"axis\":{\"id\":\"122638\"},\"dimension\":1,\"grid_line_alpha\":0.25,\"grid_line_color\":\"#E0E0E0\",\"ticker\":null},\"id\":\"122641\",\"type\":\"Grid\"},{\"attributes\":{\"fill_color\":{\"value\":\"#1f77b4\"},\"line_color\":{\"value\":\"#1f77b4\"},\"size\":{\"value\":10},\"x\":{\"field\":\"x\"},\"y\":{\"field\":\"y\"}},\"id\":\"122651\",\"type\":\"Circle\"},{\"attributes\":{\"fill_color\":{\"value\":\"red\"},\"line_color\":{\"value\":\"red\"},\"size\":{\"value\":10},\"x\":{\"field\":\"x\"},\"y\":{\"field\":\"y\"}},\"id\":\"122622\",\"type\":\"Circle\"},{\"attributes\":{\"toolbars\":[{\"id\":\"122615\"},{\"id\":\"122646\"}],\"tools\":[{\"id\":\"122611\"},{\"id\":\"122612\"},{\"id\":\"122613\"},{\"id\":\"122642\"},{\"id\":\"122643\"},{\"id\":\"122644\"}]},\"id\":\"122680\",\"type\":\"ProxyToolbar\"},{\"attributes\":{\"filters\":[{\"id\":\"122592\"}],\"source\":{\"id\":\"122591\"}},\"id\":\"122593\",\"type\":\"CDSView\"},{\"attributes\":{\"data_source\":{\"id\":\"122591\"},\"glyph\":{\"id\":\"122620\"},\"hover_glyph\":{\"id\":\"122622\"},\"muted_glyph\":null,\"nonselection_glyph\":{\"id\":\"122621\"},\"view\":{\"id\":\"122624\"}},\"id\":\"122623\",\"type\":\"GlyphRenderer\"}],\"root_ids\":[\"122682\"]},\"title\":\"Bokeh Application\",\"version\":\"2.3.2\"}};\n",
       "  var render_items = [{\"docid\":\"9e2356ba-f135-4493-bc13-ded5e691e221\",\"root_ids\":[\"122682\"],\"roots\":{\"122682\":\"1c05d44e-16e2-40bc-a3a2-f65de347282c\"}}];\n",
       "  root.Bokeh.embed.embed_items_notebook(docs_json, render_items);\n",
       "\n",
       "  }\n",
       "  if (root.Bokeh !== undefined) {\n",
       "    embed_document(root);\n",
       "  } else {\n",
       "    var attempts = 0;\n",
       "    var timer = setInterval(function(root) {\n",
       "      if (root.Bokeh !== undefined) {\n",
       "        clearInterval(timer);\n",
       "        embed_document(root);\n",
       "      } else {\n",
       "        attempts++;\n",
       "        if (attempts > 100) {\n",
       "          clearInterval(timer);\n",
       "          console.log(\"Bokeh: ERROR: Unable to run BokehJS code because BokehJS library is missing\");\n",
       "        }\n",
       "      }\n",
       "    }, 10, root)\n",
       "  }\n",
       "})(window);"
      ],
      "application/vnd.bokehjs_exec.v0+json": ""
     },
     "metadata": {
      "application/vnd.bokehjs_exec.v0+json": {
       "id": "122682"
      }
     },
     "output_type": "display_data"
    }
   ],
   "source": [
    "# create ColumnDataSource from a dict\n",
    "source = ColumnDataSource(data=dict(x=[1, 2, 3, 4, 5], y=[1, 2, 3, 4, 5]))\n",
    "\n",
    "# create a view using an IndexFilter with the index positions [0, 2, 4]\n",
    "view = CDSView(source = source, filters = [IndexFilter([0, 2, 4])])\n",
    "\n",
    "# setup tools\n",
    "tools = [\"box_select\", \"hover\", \"reset\"]\n",
    "\n",
    "# create a first plot with all data in the ColumnDataSource\n",
    "p = figure(height=300, width=300, tools=tools)\n",
    "p.circle(x=\"x\", y=\"y\", size=10, hover_color=\"red\", source=source)\n",
    "\n",
    "# create a second plot with a subset of ColumnDataSource, based on view\n",
    "p_filtered = figure(height=300, width=300, tools=tools)\n",
    "p_filtered.circle(x=\"x\", y=\"y\", size=10, hover_color=\"red\", source=source, view=view)\n",
    "\n",
    "# show both plots next to each other in a gridplot layout\n",
    "show(gridplot([[p, p_filtered]]))"
   ]
  },
  {
   "cell_type": "markdown",
   "id": "85b66a6e",
   "metadata": {},
   "source": [
    "## Using Widgets"
   ]
  },
  {
   "cell_type": "code",
   "execution_count": 351,
   "id": "8096d337",
   "metadata": {},
   "outputs": [],
   "source": [
    "from bokeh.models import Div, RangeSlider, Spinner\n",
    "from bokeh.layouts import layout"
   ]
  },
  {
   "cell_type": "code",
   "execution_count": 352,
   "id": "e89099bb",
   "metadata": {},
   "outputs": [],
   "source": [
    "x = [1, 2, 3, 4, 5, 6, 7, 8, 9, 10]\n",
    "y = [4, 5, 5, 7, 2, 6, 4, 9, 1, 3]\n",
    "\n",
    "p = figure(x_range=(1,9), width=500, height=250)\n",
    "points = p.circle(x=x, y=y, size=30, fill_color=\"#21a7df\")"
   ]
  },
  {
   "cell_type": "code",
   "execution_count": 353,
   "id": "ee62a1a5",
   "metadata": {},
   "outputs": [],
   "source": [
    "div = Div(\n",
    "    text=\"\"\"\n",
    "        <p>Select the circle's size using this control element:</p>\n",
    "        \"\"\",\n",
    "    width=200,\n",
    "    height=30,\n",
    ")"
   ]
  },
  {
   "cell_type": "code",
   "execution_count": 354,
   "id": "d25dc705",
   "metadata": {},
   "outputs": [],
   "source": [
    "spinner = Spinner(\n",
    "    title=\"Circle size\",  # a string to display above the widget\n",
    "    low=0,  # the lowest possible number to pick\n",
    "    high=60,  # the highest possible number to pick\n",
    "    step=5,  # the increments by which the number can be adjusted\n",
    "    value=points.glyph.size,  # the initial value to display in the widget\n",
    "    width=200,  #  the width of the widget in pixels\n",
    "    )"
   ]
  },
  {
   "cell_type": "code",
   "execution_count": 355,
   "id": "a6fe5d5e",
   "metadata": {},
   "outputs": [],
   "source": [
    "spinner.js_link(\"value\", points.glyph, \"size\")"
   ]
  },
  {
   "cell_type": "code",
   "execution_count": 356,
   "id": "fe3e38da",
   "metadata": {},
   "outputs": [],
   "source": [
    "range_slider = RangeSlider(\n",
    "    title=\"Adjust x-axis range\", # a title to display above the slider\n",
    "    start=0,  # set the minimum value for the slider\n",
    "    end=10,  # set the maximum value for the slider\n",
    "    step=1,  # increments for the slider\n",
    "    value=(p.x_range.start, p.x_range.end),  # initial values for slider\n",
    "    )"
   ]
  },
  {
   "cell_type": "code",
   "execution_count": 357,
   "id": "35d8ab04",
   "metadata": {},
   "outputs": [],
   "source": [
    "range_slider.js_link(\"value\", p.x_range, \"start\", attr_selector=0)\n",
    "range_slider.js_link(\"value\", p.x_range, \"end\", attr_selector=1)"
   ]
  },
  {
   "cell_type": "code",
   "execution_count": 358,
   "id": "1488ccea",
   "metadata": {},
   "outputs": [
    {
     "data": {
      "text/html": [
       "\n",
       "\n",
       "\n",
       "\n",
       "\n",
       "\n",
       "  <div class=\"bk-root\" id=\"3cd170f8-344e-43e1-b34d-b0cddc119d0a\" data-root-id=\"124407\"></div>\n"
      ]
     },
     "metadata": {},
     "output_type": "display_data"
    },
    {
     "data": {
      "application/javascript": [
       "(function(root) {\n",
       "  function embed_document(root) {\n",
       "    \n",
       "  var docs_json = {\"3550f1cc-6843-4dbf-a69a-5bc600869642\":{\"defs\":[],\"roots\":{\"references\":[{\"attributes\":{\"children\":[{\"id\":\"124404\"},{\"id\":\"124405\"},{\"id\":\"124406\"}]},\"id\":\"124407\",\"type\":\"Column\"},{\"attributes\":{\"background_fill_color\":\"#20262B\",\"below\":[{\"id\":\"124371\"}],\"border_fill_color\":\"#15191C\",\"center\":[{\"id\":\"124374\"},{\"id\":\"124378\"}],\"height\":250,\"left\":[{\"id\":\"124375\"}],\"outline_line_alpha\":0.25,\"outline_line_color\":\"#E0E0E0\",\"renderers\":[{\"id\":\"124396\"}],\"title\":{\"id\":\"125767\"},\"toolbar\":{\"id\":\"124386\"},\"width\":500,\"x_range\":{\"id\":\"124363\"},\"x_scale\":{\"id\":\"124367\"},\"y_range\":{\"id\":\"124365\"},\"y_scale\":{\"id\":\"124369\"}},\"id\":\"124362\",\"subtype\":\"Figure\",\"type\":\"Plot\"},{\"attributes\":{\"source\":{\"id\":\"124393\"}},\"id\":\"124397\",\"type\":\"CDSView\"},{\"attributes\":{\"end\":9,\"start\":1},\"id\":\"124363\",\"type\":\"Range1d\"},{\"attributes\":{},\"id\":\"124369\",\"type\":\"LinearScale\"},{\"attributes\":{},\"id\":\"124380\",\"type\":\"WheelZoomTool\"},{\"attributes\":{},\"id\":\"124379\",\"type\":\"PanTool\"},{\"attributes\":{},\"id\":\"125773\",\"type\":\"AllLabels\"},{\"attributes\":{\"axis_label_standoff\":10,\"axis_label_text_color\":\"#E0E0E0\",\"axis_label_text_font\":\"Helvetica\",\"axis_label_text_font_size\":\"1.25em\",\"axis_label_text_font_style\":\"normal\",\"axis_line_alpha\":0,\"axis_line_color\":\"#E0E0E0\",\"formatter\":{\"id\":\"125768\"},\"major_label_policy\":{\"id\":\"125770\"},\"major_label_text_color\":\"#E0E0E0\",\"major_label_text_font\":\"Helvetica\",\"major_label_text_font_size\":\"1.025em\",\"major_tick_line_alpha\":0,\"major_tick_line_color\":\"#E0E0E0\",\"minor_tick_line_alpha\":0,\"minor_tick_line_color\":\"#E0E0E0\",\"ticker\":{\"id\":\"124376\"}},\"id\":\"124375\",\"type\":\"LinearAxis\"},{\"attributes\":{},\"id\":\"125768\",\"type\":\"BasicTickFormatter\"},{\"attributes\":{\"axis_label_standoff\":10,\"axis_label_text_color\":\"#E0E0E0\",\"axis_label_text_font\":\"Helvetica\",\"axis_label_text_font_size\":\"1.25em\",\"axis_label_text_font_style\":\"normal\",\"axis_line_alpha\":0,\"axis_line_color\":\"#E0E0E0\",\"formatter\":{\"id\":\"125771\"},\"major_label_policy\":{\"id\":\"125773\"},\"major_label_text_color\":\"#E0E0E0\",\"major_label_text_font\":\"Helvetica\",\"major_label_text_font_size\":\"1.025em\",\"major_tick_line_alpha\":0,\"major_tick_line_color\":\"#E0E0E0\",\"minor_tick_line_alpha\":0,\"minor_tick_line_color\":\"#E0E0E0\",\"ticker\":{\"id\":\"124372\"}},\"id\":\"124371\",\"type\":\"LinearAxis\"},{\"attributes\":{\"data_source\":{\"id\":\"124393\"},\"glyph\":{\"id\":\"124394\"},\"hover_glyph\":null,\"muted_glyph\":null,\"nonselection_glyph\":{\"id\":\"124395\"},\"view\":{\"id\":\"124397\"}},\"id\":\"124396\",\"type\":\"GlyphRenderer\"},{\"attributes\":{\"fill_alpha\":{\"value\":0.1},\"fill_color\":{\"value\":\"#21a7df\"},\"line_alpha\":{\"value\":0.1},\"line_color\":{\"value\":\"#1f77b4\"},\"size\":{\"value\":30},\"x\":{\"field\":\"x\"},\"y\":{\"field\":\"y\"}},\"id\":\"124395\",\"type\":\"Circle\"},{\"attributes\":{\"children\":[{\"id\":\"124362\"}]},\"id\":\"124406\",\"type\":\"Row\"},{\"attributes\":{\"args\":{\"other\":{\"id\":\"124394\"}},\"code\":\"other.size = this.value\"},\"id\":\"124400\",\"type\":\"CustomJS\"},{\"attributes\":{},\"id\":\"124365\",\"type\":\"DataRange1d\"},{\"attributes\":{},\"id\":\"124367\",\"type\":\"LinearScale\"},{\"attributes\":{},\"id\":\"124384\",\"type\":\"HelpTool\"},{\"attributes\":{},\"id\":\"124372\",\"type\":\"BasicTicker\"},{\"attributes\":{\"axis\":{\"id\":\"124371\"},\"grid_line_alpha\":0.25,\"grid_line_color\":\"#E0E0E0\",\"ticker\":null},\"id\":\"124374\",\"type\":\"Grid\"},{\"attributes\":{\"args\":{\"other\":{\"id\":\"124363\"}},\"code\":\"other.end = this.value[1]\"},\"id\":\"124403\",\"type\":\"CustomJS\"},{\"attributes\":{\"data\":{\"x\":[1,2,3,4,5,6,7,8,9,10],\"y\":[4,5,5,7,2,6,4,9,1,3]},\"selected\":{\"id\":\"125775\"},\"selection_policy\":{\"id\":\"125774\"}},\"id\":\"124393\",\"type\":\"ColumnDataSource\"},{\"attributes\":{\"end\":10,\"js_property_callbacks\":{\"change:value\":[{\"id\":\"124402\"},{\"id\":\"124403\"}]},\"start\":0,\"title\":\"Adjust x-axis range\",\"value\":[1,9]},\"id\":\"124401\",\"type\":\"RangeSlider\"},{\"attributes\":{\"axis\":{\"id\":\"124375\"},\"dimension\":1,\"grid_line_alpha\":0.25,\"grid_line_color\":\"#E0E0E0\",\"ticker\":null},\"id\":\"124378\",\"type\":\"Grid\"},{\"attributes\":{},\"id\":\"125770\",\"type\":\"AllLabels\"},{\"attributes\":{},\"id\":\"124376\",\"type\":\"BasicTicker\"},{\"attributes\":{\"children\":[{\"id\":\"124401\"}]},\"id\":\"124405\",\"type\":\"Row\"},{\"attributes\":{\"active_multi\":null,\"tools\":[{\"id\":\"124379\"},{\"id\":\"124380\"},{\"id\":\"124381\"},{\"id\":\"124382\"},{\"id\":\"124383\"},{\"id\":\"124384\"}]},\"id\":\"124386\",\"type\":\"Toolbar\"},{\"attributes\":{},\"id\":\"125771\",\"type\":\"BasicTickFormatter\"},{\"attributes\":{\"overlay\":{\"id\":\"124385\"}},\"id\":\"124381\",\"type\":\"BoxZoomTool\"},{\"attributes\":{},\"id\":\"125774\",\"type\":\"UnionRenderers\"},{\"attributes\":{},\"id\":\"124383\",\"type\":\"ResetTool\"},{\"attributes\":{\"args\":{\"other\":{\"id\":\"124363\"}},\"code\":\"other.start = this.value[0]\"},\"id\":\"124402\",\"type\":\"CustomJS\"},{\"attributes\":{},\"id\":\"125775\",\"type\":\"Selection\"},{\"attributes\":{\"height\":30,\"text\":\"\\n        <p>Select the circle's size using this control element:</p>\\n        \",\"width\":200},\"id\":\"124398\",\"type\":\"Div\"},{\"attributes\":{\"children\":[{\"id\":\"124398\"},{\"id\":\"124399\"}]},\"id\":\"124404\",\"type\":\"Row\"},{\"attributes\":{},\"id\":\"124382\",\"type\":\"SaveTool\"},{\"attributes\":{\"fill_color\":{\"value\":\"#21a7df\"},\"line_color\":{\"value\":\"#1f77b4\"},\"size\":{\"value\":30},\"x\":{\"field\":\"x\"},\"y\":{\"field\":\"y\"}},\"id\":\"124394\",\"type\":\"Circle\"},{\"attributes\":{\"text_color\":\"#E0E0E0\",\"text_font\":\"Helvetica\",\"text_font_size\":\"1.15em\"},\"id\":\"125767\",\"type\":\"Title\"},{\"attributes\":{\"high\":60,\"js_property_callbacks\":{\"change:value\":[{\"id\":\"124400\"}]},\"low\":0,\"step\":5,\"title\":\"Circle size\",\"value\":30,\"value_throttled\":30,\"width\":200},\"id\":\"124399\",\"type\":\"Spinner\"},{\"attributes\":{\"bottom_units\":\"screen\",\"fill_alpha\":0.5,\"fill_color\":\"lightgrey\",\"left_units\":\"screen\",\"level\":\"overlay\",\"line_alpha\":1.0,\"line_color\":\"black\",\"line_dash\":[4,4],\"line_width\":2,\"right_units\":\"screen\",\"syncable\":false,\"top_units\":\"screen\"},\"id\":\"124385\",\"type\":\"BoxAnnotation\"}],\"root_ids\":[\"124407\"]},\"title\":\"Bokeh Application\",\"version\":\"2.3.2\"}};\n",
       "  var render_items = [{\"docid\":\"3550f1cc-6843-4dbf-a69a-5bc600869642\",\"root_ids\":[\"124407\"],\"roots\":{\"124407\":\"3cd170f8-344e-43e1-b34d-b0cddc119d0a\"}}];\n",
       "  root.Bokeh.embed.embed_items_notebook(docs_json, render_items);\n",
       "\n",
       "  }\n",
       "  if (root.Bokeh !== undefined) {\n",
       "    embed_document(root);\n",
       "  } else {\n",
       "    var attempts = 0;\n",
       "    var timer = setInterval(function(root) {\n",
       "      if (root.Bokeh !== undefined) {\n",
       "        clearInterval(timer);\n",
       "        embed_document(root);\n",
       "      } else {\n",
       "        attempts++;\n",
       "        if (attempts > 100) {\n",
       "          clearInterval(timer);\n",
       "          console.log(\"Bokeh: ERROR: Unable to run BokehJS code because BokehJS library is missing\");\n",
       "        }\n",
       "      }\n",
       "    }, 10, root)\n",
       "  }\n",
       "})(window);"
      ],
      "application/vnd.bokehjs_exec.v0+json": ""
     },
     "metadata": {
      "application/vnd.bokehjs_exec.v0+json": {
       "id": "124407"
      }
     },
     "output_type": "display_data"
    }
   ],
   "source": [
    "layout = layout([\n",
    "    [div, spinner],\n",
    "    [range_slider],\n",
    "    [p],\n",
    "])\n",
    "\n",
    "show(layout)"
   ]
  },
  {
   "cell_type": "markdown",
   "id": "3d96c9b4",
   "metadata": {},
   "source": [
    "## Using widgets with a Bokeh server"
   ]
  },
  {
   "cell_type": "markdown",
   "id": "fd3d3bf6",
   "metadata": {},
   "source": []
  },
  {
   "cell_type": "code",
   "execution_count": null,
   "id": "a98b66e4",
   "metadata": {},
   "outputs": [],
   "source": []
  }
 ],
 "metadata": {
  "kernelspec": {
   "display_name": "Python 3",
   "language": "python",
   "name": "python3"
  },
  "language_info": {
   "codemirror_mode": {
    "name": "ipython",
    "version": 3
   },
   "file_extension": ".py",
   "mimetype": "text/x-python",
   "name": "python",
   "nbconvert_exporter": "python",
   "pygments_lexer": "ipython3",
   "version": "3.8.8"
  }
 },
 "nbformat": 4,
 "nbformat_minor": 5
}
