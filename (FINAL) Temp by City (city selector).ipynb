{
 "cells": [
  {
   "cell_type": "code",
   "execution_count": 1,
   "id": "510bd80b",
   "metadata": {},
   "outputs": [],
   "source": [
    "import pandas as pd\n",
    "import numpy as np\n",
    "import bokeh.sampledata\n",
    "import matplotlib.pyplot as plt\n",
    "import seaborn as sns\n",
    "from datetime import datetime, timedelta, date\n",
    "import datetime\n",
    "\n",
    "from bokeh.plotting import figure, show, output_file, save, output_notebook\n",
    "from bokeh.models import Div, RangeSlider, Spinner, BoxAnnotation, NumeralTickFormatter, DatetimeTickFormatter\n",
    "from bokeh.layouts import layout, row, gridplot, column\n",
    "from bokeh.io import curdoc\n",
    "from bokeh.models.tools import BoxZoomTool, ResetTool, PanTool\n",
    "from bokeh.palettes import Turbo256, Blues4\n",
    "from bokeh.transform import linear_cmap\n",
    "from bokeh.models import ColumnDataSource, CDSView, IndexFilter, GroupFilter, HoverTool, DataRange1d, Select\n",
    "from os.path import dirname, join\n",
    "from scipy.signal import savgol_filter\n",
    "import os\n",
    "from bokeh.models.widgets import DateSlider, Slider, RangeSlider\n",
    "from bokeh.models import CustomJS\n"
   ]
  },
  {
   "cell_type": "markdown",
   "id": "86d0e24e",
   "metadata": {},
   "source": [
    "# Temp by City (City Dropdown)"
   ]
  },
  {
   "cell_type": "code",
   "execution_count": 2,
   "id": "a33ff7b3",
   "metadata": {},
   "outputs": [],
   "source": [
    "city = 'Albury'\n",
    "\n",
    "cities = {'Albury': {'Location': 'Albury','title': 'Albury, AUS'},\n",
    "    'Uluru': {'Location': 'Uluru','title': 'Uluru, AUS'},\n",
    "    'Darwin': {'Location': 'Darwin','title': 'Darwin, AUS'},\n",
    "    'Perth': {'Location': 'Perth','title': 'Perth, AUS'},\n",
    "    'SalmonGums': {'Location': 'SalmonGums','title': 'SalmonGums, AUS'},\n",
    "    'MountGinini': {'Location': 'MountGinini','title': 'MountGinini, AUS'},\n",
    "    'Albany': {'Location': 'Albany','title': 'Albany, AUS'},\n",
    "    'Wollongong': {'Location': 'Wollongong','title': 'Wollongong, AUS'},\n",
    "    'WaggaWagga': {'Location': 'WaggaWagga','title': 'WaggaWagga, AUS'},\n",
    "    'AliceSprings': {'Location': 'AliceSprings','title': 'AliceSprings, AUS'},\n",
    "    'Townsville': {'Location': 'Townsville','title': 'Townsville, AUS'},\n",
    "    'Cairns': {'Location': 'Cairns','title': 'Cairns, AUS'},\n",
    "    'Mildura': {'Location': 'Mildura','title': 'Mildura, AUS'},\n",
    "    'Sydney': {'Location': 'Sydney','title': 'Sydney, AUS'}}       \n",
    "        "
   ]
  },
  {
   "cell_type": "code",
   "execution_count": 3,
   "id": "f79c838a",
   "metadata": {},
   "outputs": [],
   "source": [
    "df = pd.read_csv('/Users/kelsey/Desktop/mastersDataSci/Data Science Practicum II - MSDS696/data/raindata.csv')"
   ]
  },
  {
   "cell_type": "code",
   "execution_count": 4,
   "id": "2e037519",
   "metadata": {},
   "outputs": [],
   "source": [
    "Statistics = ['MaxTemp', 'MinTemp', 'Temp3pm', 'Temp9am', 'Humidity3pm', 'Humidity9am']"
   ]
  },
  {
   "cell_type": "code",
   "execution_count": 5,
   "id": "72c04ce2",
   "metadata": {},
   "outputs": [],
   "source": [
    "def get_dataset(src, name):\n",
    "    df = src[src.Location == name].copy()\n",
    "    df['Date'] = pd.to_datetime(df[['Year', 'Month']].assign(DAY=1))\n",
    "    df['Date'] = df['Date'].astype(object)\n",
    "    df['Date'] = pd.to_datetime(df['Date'])\n",
    "    df['left'] = df['Date'] - datetime.timedelta(days=30)\n",
    "    df['right'] = df['Date'] + datetime.timedelta(days=30)\n",
    "    df = df.set_index(['Date'])\n",
    "    df.sort_index(inplace=True)\n",
    "   \n",
    "    return ColumnDataSource(data = df)"
   ]
  },
  {
   "cell_type": "code",
   "execution_count": 6,
   "id": "87b2f8d3",
   "metadata": {},
   "outputs": [],
   "source": [
    "source = get_dataset(df, cities[city]['Location'])\n",
    "\n",
    "plot = figure(x_axis_type = \"datetime\", width = 800, toolbar_location = \"below\", \n",
    "              x_range = (2008,2018), y_range = (0, 55), sizing_mode=\"stretch_width\")\n",
    "\n",
    "plot.quad(top = 'MaxTemp', bottom = 'MinTemp', left = 'left', right = 'right', alpha = 0.5, \n",
    "          source = source, legend_label = \"Max and Min Temp\", color =  \"maroon\")\n",
    "\n",
    "plot.quad(top = 'Temp3pm', bottom = 'Temp9am', left = 'left', right = 'right', alpha = 0.5, \n",
    "          source = source, legend_label = \"Morning and Afternoon Temp\", color = \"mediumpurple\")\n",
    "\n",
    "plot.xaxis.axis_label = None\n",
    "plot.yaxis.axis_label = \"Tempurature (°C)\"\n",
    "plot.axis.axis_label_text_font_style = \"bold\"\n",
    "plot.x_range = DataRange1d(range_padding=0.0)\n",
    "plot.grid.grid_line_alpha = 0.3\n",
    "\n",
    "low_box = BoxAnnotation(top=20, fill_alpha=0.2, fill_color=\"dimgray\")\n",
    "mid_box = BoxAnnotation(bottom=20, top=40, fill_alpha=0.2, fill_color=\"silver\")\n",
    "high_box = BoxAnnotation(bottom=40, fill_alpha=0.2, fill_color=\"dimgray\")\n",
    "\n",
    "plot.add_layout(low_box)\n",
    "plot.add_layout(mid_box)\n",
    "plot.add_layout(high_box)\n",
    "\n",
    "city_select = Select(value=city, title='City', options=sorted(cities.keys()))"
   ]
  },
  {
   "cell_type": "code",
   "execution_count": 7,
   "id": "2e8b3b68",
   "metadata": {},
   "outputs": [],
   "source": [
    "def update_plot(attrname, old, new):\n",
    "    city = city_select.value\n",
    "    src = get_dataset(df, cities[city]['Location'])\n",
    "    source.data.update(src.data)\n",
    "\n",
    "date_slider = DateSlider(title=\"Date\", value=date(2014, 1, 1), start=date(2008, 1, 1), \n",
    "                         end=date(2018, 1, 1), step=365)\n",
    "rel_date = date_slider.value\n",
    "date_slider.on_change('value', update_plot)\n",
    "\n",
    "city_select.on_change('value', update_plot)\n",
    "\n",
    "layout = column(plot, city_select, date_slider)\n",
    "\n",
    "sizing_mode = \"strech_width\"\n",
    "curdoc().add_root(layout, sizing_mode)"
   ]
  },
  {
   "cell_type": "code",
   "execution_count": null,
   "id": "744da7a8",
   "metadata": {},
   "outputs": [],
   "source": []
  }
 ],
 "metadata": {
  "kernelspec": {
   "display_name": "Python 3",
   "language": "python",
   "name": "python3"
  },
  "language_info": {
   "codemirror_mode": {
    "name": "ipython",
    "version": 3
   },
   "file_extension": ".py",
   "mimetype": "text/x-python",
   "name": "python",
   "nbconvert_exporter": "python",
   "pygments_lexer": "ipython3",
   "version": "3.8.8"
  }
 },
 "nbformat": 4,
 "nbformat_minor": 5
}
