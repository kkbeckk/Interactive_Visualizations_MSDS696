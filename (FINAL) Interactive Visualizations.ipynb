{
 "cells": [
  {
   "cell_type": "markdown",
   "id": "822ef6fd",
   "metadata": {},
   "source": [
    "# Measurements for Weather in Australia"
   ]
  },
  {
   "cell_type": "code",
   "execution_count": 1,
   "id": "a426594b",
   "metadata": {},
   "outputs": [],
   "source": [
    "from bokeh.plotting import figure, show, output_file, save, output_notebook\n",
    "from bokeh.models import Div, RangeSlider, Spinner, BoxAnnotation, NumeralTickFormatter, DatetimeTickFormatter\n",
    "from bokeh.layouts import layout, row, gridplot, column\n",
    "from bokeh.io import curdoc\n",
    "from bokeh.models.tools import BoxZoomTool, ResetTool, PanTool\n",
    "from bokeh.palettes import Turbo256, Blues4, Cividis, Blues3\n",
    "from bokeh.transform import linear_cmap, factor_cmap\n",
    "from bokeh.models import ColumnDataSource, CDSView, IndexFilter, GroupFilter, HoverTool, DataRange1d, Select\n",
    "import pandas as pd\n",
    "from bokeh.models import Panel, Tabs, CustomJS, Dropdown\n",
    "\n",
    "from datetime import datetime, timedelta, date\n",
    "import datetime\n",
    "from os.path import dirname, join\n",
    "import os\n",
    "from bokeh.models.widgets import DateSlider, Slider, RangeSlider\n",
    "import numpy as np"
   ]
  },
  {
   "cell_type": "code",
   "execution_count": 2,
   "id": "143a64fa",
   "metadata": {},
   "outputs": [],
   "source": [
    "df = pd.read_csv('/Users/kelsey/Desktop/raindata2.csv')"
   ]
  },
  {
   "cell_type": "code",
   "execution_count": 3,
   "id": "55486c52",
   "metadata": {},
   "outputs": [],
   "source": [
    "monthly = df.groupby(['Month'])['Rainfall'].sum().reset_index()\n",
    "evapor = df.groupby(['Month'])['Evaporation'].sum().reset_index()"
   ]
  },
  {
   "cell_type": "code",
   "execution_count": 4,
   "id": "26795991",
   "metadata": {},
   "outputs": [],
   "source": [
    "TOOLS = \"hover,crosshair,pan,wheel_zoom,zoom_in,zoom_out,box_zoom,undo,redo,reset,save,box_select,poly_select,lasso_select\""
   ]
  },
  {
   "cell_type": "markdown",
   "id": "97348240",
   "metadata": {},
   "source": [
    "# Monthly Rain & Evaporation"
   ]
  },
  {
   "cell_type": "code",
   "execution_count": 5,
   "id": "483baff1",
   "metadata": {},
   "outputs": [],
   "source": [
    "month = monthly.Month\n",
    "rain = monthly.Rainfall\n",
    "evapo = evapor.Evaporation\n",
    "\n",
    "source = ColumnDataSource(data= {'x' : month, 'y' : rain})\n",
    "\n",
    "p = figure(x_axis_type='auto', title = 'Total Monthly Rainfall in Australia', x_axis_label='Month',\n",
    "           y_axis_label='(mm)', sizing_mode=\"stretch_width\",\n",
    "           tooltips=\"The @x month of the year had a total rainfall of @y mm\", tools = TOOLS)\n",
    "p.line('x',\n",
    "       'y',\n",
    "       source=source,\n",
    "       color='green',\n",
    "       width=3)\n",
    "\n",
    "source2 = ColumnDataSource(data={'x' : month, 'y' : evapo})\n",
    "p2= figure(x_axis_type='auto', title = 'Total Monthly Evaporation in Australia', x_axis_label='Month', \n",
    "           y_axis_label='(mm)', sizing_mode=\"stretch_width\", tools=[HoverTool()], \n",
    "           tooltips=\"The @x month of the year had a total evaporation of @y mm\")\n",
    "p2.line('x',\n",
    "       'y',\n",
    "       source=source2,\n",
    "       color='green',\n",
    "       width=3)\n",
    "\n",
    "layout1 = row(children=[p, p2], sizing_mode=\"scale_width\")\n",
    "\n",
    "\n",
    "tab1 = Panel(child = layout1, title = \"Monthly\")"
   ]
  },
  {
   "cell_type": "markdown",
   "id": "39783154",
   "metadata": {},
   "source": [
    "# Annual Rain & Evaporation"
   ]
  },
  {
   "cell_type": "code",
   "execution_count": 6,
   "id": "3f5c79d6",
   "metadata": {},
   "outputs": [],
   "source": [
    "yearly = df.groupby(['Year'])['Rainfall'].sum().reset_index()\n",
    "evapo = df.groupby(['Year'])['Evaporation'].sum().reset_index()"
   ]
  },
  {
   "cell_type": "code",
   "execution_count": 7,
   "id": "a530a282",
   "metadata": {},
   "outputs": [],
   "source": [
    "year = yearly.Year\n",
    "yrain = yearly.Rainfall\n",
    "yevapo = evapo.Evaporation\n",
    "\n",
    "source = ColumnDataSource(data= {'x' : year, 'y' : yrain})\n",
    "\n",
    "Yearly_Rain = figure(x_range = (2006,2018), width = 900, height = 500, \n",
    "                     title = \"Total Yearly Rainfall & Evaporation in Australia\", sizing_mode=\"stretch_width\",\n",
    "                     x_axis_label='Year', y_axis_label='Rainfall (mm)',\n",
    "                     tooltips=\"Measured in millimeters\", tools = TOOLS)\n",
    "\n",
    "points = Yearly_Rain.circle(x = year, y = yevapo, size = 20, fill_color = \"#21a7df\", legend_label = \"Evaporation\",\n",
    "                             fill_alpha=0.5)\n",
    "line = Yearly_Rain.line(x = year, y = yrain, color = \"#040252\", line_width = 3, legend_label = \"Rainfall\")\n",
    "\n",
    "div = Div(text = \"\"\"<p>Select the circle's size using this control element:</p>\"\"\", width = 200, height = 30)\n",
    "\n",
    "spinner = Spinner(title = \"Circle Size\", low = 15, high = 45, step = 5, value = points.glyph.size, width = 200)\n",
    "spinner.js_link(\"value\", points.glyph, \"size\")\n",
    "\n",
    "\n",
    "#range_slider = RangeSlider(title = \"Adjust x-axis range\", start = 0, end = 13, step = 1, \n",
    "#                           value=(Yearly_Rain.x_range.start, Yearly_Rain.x_range.end))\n",
    "\n",
    "#range_slider.js_link(\"value\", Yearly_Rain.x_range, \"start\", attr_selector = 0)\n",
    "#range_slider.js_link(\"value\", Yearly_Rain.x_range, \"end\", attr_selector = 1)\n",
    "\n",
    "layout2 = layout([[div, spinner], [Yearly_Rain]], sizing_mode='stretch_width')\n",
    "\n",
    "tab2 = Panel(child = layout2, title = \"Yearly\")"
   ]
  },
  {
   "cell_type": "markdown",
   "id": "a16808de",
   "metadata": {},
   "source": [
    "# Total Yearly Rain (Stacked)"
   ]
  },
  {
   "cell_type": "code",
   "execution_count": 8,
   "id": "516e7a79",
   "metadata": {},
   "outputs": [],
   "source": [
    "df4 = pd.read_csv('/Users/kelsey/Desktop/rain_by_year(2).csv')"
   ]
  },
  {
   "cell_type": "code",
   "execution_count": 9,
   "id": "c3136dff",
   "metadata": {},
   "outputs": [],
   "source": [
    "total_year = figure(x_range=(2013, 2017), y_range=(0, 2000), sizing_mode=\"stretch_width\", tools= TOOLS)\n",
    "\n",
    "names = ['Albany', 'AliceSprings', 'Cairns', 'Darwin', 'Melbourne', 'Mildura', 'MountGinini', \n",
    "         'NorfolkIsland','Perth', 'Sydney']\n",
    "total_year.varea_stack(stackers=names, x='Unnamed: 0', color=Cividis[10], legend_label=names, source=df4)\n",
    "\n",
    "total_year.yaxis.axis_label = \"Total Rainfall (mm)\"\n",
    "total_year.legend.orientation = \"horizontal\"\n",
    "total_year.legend.background_fill_color = \"#fafafa\""
   ]
  },
  {
   "cell_type": "code",
   "execution_count": 10,
   "id": "f663aac8",
   "metadata": {},
   "outputs": [],
   "source": [
    "tab3 = Panel(child = total_year, title = \"Yearly Rain (stacked)\")"
   ]
  },
  {
   "cell_type": "markdown",
   "id": "2c5ccb48",
   "metadata": {},
   "source": [
    "# Yearly Rainfall"
   ]
  },
  {
   "cell_type": "code",
   "execution_count": 11,
   "id": "14b98418",
   "metadata": {},
   "outputs": [],
   "source": [
    "totalRain = pd.read_csv('/Users/kelsey/Desktop/raindata.csv')"
   ]
  },
  {
   "cell_type": "code",
   "execution_count": 12,
   "id": "f172f4e7",
   "metadata": {},
   "outputs": [],
   "source": [
    "total_rain_year = df.groupby(['Year'])['Rainfall'].sum().reset_index()\n",
    "\n",
    "x = totalRain.Year.unique()\n",
    "y = total_rain_year"
   ]
  },
  {
   "cell_type": "code",
   "execution_count": 13,
   "id": "fa4bdf53",
   "metadata": {},
   "outputs": [],
   "source": [
    "source = ColumnDataSource(total_rain_year)\n",
    "\n",
    "p = figure(plot_width=400, plot_height=400, sizing_mode=\"stretch_width\", \n",
    "           tooltips=\"In the year @x Australia had a total of @y mm in rain\", tools = TOOLS)\n",
    "\n",
    "p.vbar(x = 'Year', top = 'Rainfall', source = source, width = .4, bottom = 0, color = 'cadetblue')\n",
    "p.y_range.start = 0\n",
    "p.yaxis.axis_label = \"Rainfall (mm)\"\n",
    "p.yaxis[0].formatter = NumeralTickFormatter(format=\"0000\")\n",
    "\n",
    "tab4 = Panel(child = p, title = \"Australia's Yearly Rainfall\")"
   ]
  },
  {
   "cell_type": "markdown",
   "id": "51f29556",
   "metadata": {},
   "source": [
    "# Pressure vs Temp"
   ]
  },
  {
   "cell_type": "code",
   "execution_count": 14,
   "id": "9e6f949f",
   "metadata": {},
   "outputs": [],
   "source": [
    "df5 = pd.read_csv('/Users/kelsey/Desktop/raindata.csv')"
   ]
  },
  {
   "cell_type": "code",
   "execution_count": 15,
   "id": "5aa886d4",
   "metadata": {},
   "outputs": [],
   "source": [
    "x= df5['Temp9am']\n",
    "y= df5['Pressure9am']"
   ]
  },
  {
   "cell_type": "code",
   "execution_count": 16,
   "id": "51c591af",
   "metadata": {},
   "outputs": [
    {
     "data": {
      "text/html": [
       "<div style=\"display: table;\"><div style=\"display: table-row;\"><div style=\"display: table-cell;\"><b title=\"bokeh.models.renderers.GlyphRenderer\">GlyphRenderer</b>(</div><div style=\"display: table-cell;\">id&nbsp;=&nbsp;'1679', <span id=\"1682\" style=\"cursor: pointer;\">&hellip;)</span></div></div><div class=\"1681\" style=\"display: none;\"><div style=\"display: table-cell;\"></div><div style=\"display: table-cell;\">data_source&nbsp;=&nbsp;ColumnDataSource(id='1676', ...),</div></div><div class=\"1681\" style=\"display: none;\"><div style=\"display: table-cell;\"></div><div style=\"display: table-cell;\">glyph&nbsp;=&nbsp;Circle(id='1677', ...),</div></div><div class=\"1681\" style=\"display: none;\"><div style=\"display: table-cell;\"></div><div style=\"display: table-cell;\">hover_glyph&nbsp;=&nbsp;None,</div></div><div class=\"1681\" style=\"display: none;\"><div style=\"display: table-cell;\"></div><div style=\"display: table-cell;\">js_event_callbacks&nbsp;=&nbsp;{},</div></div><div class=\"1681\" style=\"display: none;\"><div style=\"display: table-cell;\"></div><div style=\"display: table-cell;\">js_property_callbacks&nbsp;=&nbsp;{},</div></div><div class=\"1681\" style=\"display: none;\"><div style=\"display: table-cell;\"></div><div style=\"display: table-cell;\">level&nbsp;=&nbsp;'glyph',</div></div><div class=\"1681\" style=\"display: none;\"><div style=\"display: table-cell;\"></div><div style=\"display: table-cell;\">muted&nbsp;=&nbsp;False,</div></div><div class=\"1681\" style=\"display: none;\"><div style=\"display: table-cell;\"></div><div style=\"display: table-cell;\">muted_glyph&nbsp;=&nbsp;None,</div></div><div class=\"1681\" style=\"display: none;\"><div style=\"display: table-cell;\"></div><div style=\"display: table-cell;\">name&nbsp;=&nbsp;None,</div></div><div class=\"1681\" style=\"display: none;\"><div style=\"display: table-cell;\"></div><div style=\"display: table-cell;\">nonselection_glyph&nbsp;=&nbsp;Circle(id='1678', ...),</div></div><div class=\"1681\" style=\"display: none;\"><div style=\"display: table-cell;\"></div><div style=\"display: table-cell;\">selection_glyph&nbsp;=&nbsp;'auto',</div></div><div class=\"1681\" style=\"display: none;\"><div style=\"display: table-cell;\"></div><div style=\"display: table-cell;\">subscribed_events&nbsp;=&nbsp;[],</div></div><div class=\"1681\" style=\"display: none;\"><div style=\"display: table-cell;\"></div><div style=\"display: table-cell;\">syncable&nbsp;=&nbsp;True,</div></div><div class=\"1681\" style=\"display: none;\"><div style=\"display: table-cell;\"></div><div style=\"display: table-cell;\">tags&nbsp;=&nbsp;[],</div></div><div class=\"1681\" style=\"display: none;\"><div style=\"display: table-cell;\"></div><div style=\"display: table-cell;\">view&nbsp;=&nbsp;CDSView(id='1680', ...),</div></div><div class=\"1681\" style=\"display: none;\"><div style=\"display: table-cell;\"></div><div style=\"display: table-cell;\">visible&nbsp;=&nbsp;True,</div></div><div class=\"1681\" style=\"display: none;\"><div style=\"display: table-cell;\"></div><div style=\"display: table-cell;\">x_range_name&nbsp;=&nbsp;'default',</div></div><div class=\"1681\" style=\"display: none;\"><div style=\"display: table-cell;\"></div><div style=\"display: table-cell;\">y_range_name&nbsp;=&nbsp;'default')</div></div></div>\n",
       "<script>\n",
       "(function() {\n",
       "  var expanded = false;\n",
       "  var ellipsis = document.getElementById(\"1682\");\n",
       "  ellipsis.addEventListener(\"click\", function() {\n",
       "    var rows = document.getElementsByClassName(\"1681\");\n",
       "    for (var i = 0; i < rows.length; i++) {\n",
       "      var el = rows[i];\n",
       "      el.style.display = expanded ? \"none\" : \"table-row\";\n",
       "    }\n",
       "    ellipsis.innerHTML = expanded ? \"&hellip;)\" : \"&lsaquo;&lsaquo;&lsaquo;\";\n",
       "    expanded = !expanded;\n",
       "  });\n",
       "})();\n",
       "</script>\n"
      ],
      "text/plain": [
       "GlyphRenderer(id='1679', ...)"
      ]
     },
     "execution_count": 16,
     "metadata": {},
     "output_type": "execute_result"
    }
   ],
   "source": [
    "press = figure(plot_width=500,plot_height=800,tools=TOOLS, sizing_mode='stretch_width')\n",
    "press.title.text= 'Temperature and Air Pressure'\n",
    "press.title.text_color= 'Gray'\n",
    "press.title.text_font= 'arial'\n",
    "press.title.text_font_style= 'bold'\n",
    "press.xaxis.minor_tick_line_color= None\n",
    "press.yaxis.minor_tick_line_color= None\n",
    "press.xaxis.axis_label='Temperature (°C)'\n",
    "press.yaxis.axis_label='Pressure (hPa)' \n",
    "\n",
    "press.circle(df5['Temp9am'],df5['Pressure9am'],size=0.7, color = 'cadetblue')"
   ]
  },
  {
   "cell_type": "code",
   "execution_count": 17,
   "id": "dafce450",
   "metadata": {},
   "outputs": [],
   "source": [
    "tab5 = Panel(child = press, title = 'Pressure V. Temp')"
   ]
  },
  {
   "cell_type": "code",
   "execution_count": null,
   "id": "28de0f9e",
   "metadata": {},
   "outputs": [],
   "source": []
  },
  {
   "cell_type": "code",
   "execution_count": 18,
   "id": "da35b68a",
   "metadata": {},
   "outputs": [],
   "source": [
    "tabs = Tabs(tabs=[tab1, tab2, tab3, tab4, tab5], sizing_mode='stretch_width')\n",
    "\n",
    "curdoc().theme = 'light_minimal'\n",
    "curdoc().add_root(column(tabs))\n",
    "curdoc().title = \"Australia Weather\""
   ]
  },
  {
   "cell_type": "code",
   "execution_count": null,
   "id": "ed71dce8",
   "metadata": {},
   "outputs": [],
   "source": []
  },
  {
   "cell_type": "code",
   "execution_count": null,
   "id": "1ff44477",
   "metadata": {},
   "outputs": [],
   "source": []
  }
 ],
 "metadata": {
  "kernelspec": {
   "display_name": "Python 3",
   "language": "python",
   "name": "python3"
  },
  "language_info": {
   "codemirror_mode": {
    "name": "ipython",
    "version": 3
   },
   "file_extension": ".py",
   "mimetype": "text/x-python",
   "name": "python",
   "nbconvert_exporter": "python",
   "pygments_lexer": "ipython3",
   "version": "3.8.8"
  }
 },
 "nbformat": 4,
 "nbformat_minor": 5
}
